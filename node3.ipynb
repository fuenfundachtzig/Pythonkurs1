{
 "cells": [
  {
   "cell_type": "markdown",
   "metadata": {},
   "source": [
    "[Node 3: Literatur und Links](http://www-static.etp.physik.uni-muenchen.de/kurs/Computing/python2/node3.html)"
   ]
  },
  {
   "cell_type": "markdown",
   "metadata": {},
   "source": [
    "Navigation:\n",
    "\n",
    "**Next:** [Computing Kenntnisse für Physiker](node4.ipynb) \n",
    "**Up:** [PYTHON2 Kurs](node0.ipynb) \n",
    "**Previous:** [Allgemeines](node2.ipynb)"
   ]
  },
  {
   "cell_type": "markdown",
   "metadata": {},
   "source": [
    "# Literatur und Links\n",
    "\n",
    "Zu Python  gibt es ein großes Angebot an Lehrbüchern,  sowie Online Kurse und Tutorials, FAQs und Diskussionsforen im Web. Hier eine kleine Auswahl:\n",
    "\n",
    "* [Learning Python](http://shop.oreilly.com/product/0636920028154.do)\n",
    "  * Mark Lutz, 5. Auflage, O'Reilly Series, 2013. Gute, ausführliche Einführung in Python.\n",
    "* Python Essential Reference\n",
    "  * David Beazley,  4. Auflage 2009, übersichtliche, komplette Referenz auf aktuellem Stand der Python Versionen.\n",
    "* [http://www.python.org](http://www.python.org)\n",
    "  * Offizielle Python Homepage. Unerschöpfliche Quelle für Downloads, Dokumentation, Tutorials, Links.\n",
    "* How to Think Like a Computer Scientist (Python)\n",
    "  * erhältlich als Buch und  [online](http://openbookproject.net/thinkcs/python/english2e/). Gute konzeptionelle Einführung ins Programmieren.  \n",
    "  * [Äquivalente Versionen](http://openbookproject.net/thinkcs/) für  JAVA und  C++.\n",
    "* [Python 3.6 Documentation](https://docs.python.org/3.6/index.html)\n",
    "  * Dokumentation zu Python 3.6\n",
    "* [Python 3.6 Library Reference](https://docs.python.org/3.6/library/index.html)\n",
    "  * Dokumentation der Python Standard Library\n",
    "* [Python-2 vs Python-3 compatibility](http://python-future.org/index.html)\n",
    "  *\n",
    "* [Python Cookbook](http://aspn.activestate.com/ASPN/Python/Cookbook/)\n",
    "  * Umfangreiche Sammlung  von Rezepten zur Problemlösung in Python, allerdings eher auf fortgeschrittenem Niveau ...\n",
    "* [Software Carpentry](http://software-carpentry.org/index.html)\n",
    "  * Handwerkszeug zum Programmieren für Naturwissenschaftler. Nicht nur Python sondern Rundumschlag von Shells, Programmiertechniken, XML, Spreadsheets, Databases, Web-Programming, u.v.m.  Python als Glue-language, das die verschiedenen Bereiche verknüpft.\n",
    "* [Test-Driven Development  for the Web, with Python](http://www.obeythetestinggoat.com/)\n",
    "  * O'Reilly, Praktische Einführung  in das Programmieren mit Tests\n",
    "* [Python for Data Analysis: Data Wrangling with Pandas, NumPy, and IPython](http://shop.oreilly.com/product/0636920023784.do)\n",
    "  * O'Reilly, Praktische Einführung in pandas und Datenanalyse\n",
    "* [Das Python-Praxisbuch - Der große Profi-Leitfaden für Programmierer](http://pythonbook.hajji.name/de/index.html)\n",
    "  * Addison-Wesley Verlag (vergriffen), aber als Google book verfügbar\n",
    "* [Computational Statistics in Python](http://people.duke.edu/~ccc14/sta-663-2016/index.html)\n",
    "  * Gut gemachter Online Kurs zu Mathematik und Statistik mit Python\n",
    "* [Django](https://www.djangoproject.com/)\n",
    "  * Django-Homepage mit ausführlicher Dokumentation    \n",
    "\n"
   ]
  },
  {
   "cell_type": "code",
   "execution_count": null,
   "metadata": {},
   "outputs": [],
   "source": []
  }
 ],
 "metadata": {
  "kernelspec": {
   "display_name": "Python 2",
   "language": "python",
   "name": "python2"
  },
  "language_info": {
   "codemirror_mode": {
    "name": "ipython",
    "version": 2
   },
   "file_extension": ".py",
   "mimetype": "text/x-python",
   "name": "python",
   "nbconvert_exporter": "python",
   "pygments_lexer": "ipython2",
   "version": "2.7.12"
  }
 },
 "nbformat": 4,
 "nbformat_minor": 3
}