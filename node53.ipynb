{
 "cells": [
  {
   "cell_type": "markdown",
   "metadata": {},
   "source": [
    "[Node 53: Datenformate II – XML und JSON](http://www-static.etp.physik.uni-muenchen.de/kurs/Computing/python2/node53.html)"
   ]
  },
  {
   "cell_type": "markdown",
   "metadata": {},
   "source": [
    "Navigation:\n",
    "\n",
    "**Next:** [HTML](node54.ipynb) **Up:** [PYTHON2 Kurs](python2.html) **Previous:** [Aufgaben](node52.ipynb)"
   ]
  },
  {
   "cell_type": "markdown",
   "metadata": {},
   "source": [
    "#  Datenformate II – XML und JSON\n",
    "\n",
    "* Einführung und HTML \n",
    "* XML Basics  \n",
    "* XML Prozessieren mit SAX \n",
    "* JSON – Lightweight Alternative \n",
    "* ... und  Aufgaben ... \n",
    "\n",
    "\n",
    "## Unterkapitel\n",
    "* [HTML](node54.ipynb)\n",
    "* [XML Basics](node55.ipynb)\n",
    "* [XML Struktur im Detail](node56.ipynb)\n",
    "* [SAX Parser](node57.ipynb)\n",
    "* [JSON – Lightweight Alternative](node58.ipynb)\n",
    "* [Daten I/O – Summary](node59.ipynb)\n",
    "* [Aufgaben](node60.ipynb)\n"
   ]
  }
 ],
 "metadata": {
  "kernelspec": {
   "display_name": "Python 3",
   "language": "python",
   "name": "python3"
  },
  "language_info": {
   "codemirror_mode": {
    "name": "ipython",
    "version": 3
   },
   "file_extension": ".py",
   "mimetype": "text/x-python",
   "name": "python",
   "nbconvert_exporter": "python",
   "pygments_lexer": "ipython3",
   "version": "3.6.9"
  }
 },
 "nbformat": 4,
 "nbformat_minor": 3
}