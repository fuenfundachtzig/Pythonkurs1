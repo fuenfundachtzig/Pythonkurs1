{
 "cells": [
  {
   "cell_type": "markdown",
   "metadata": {},
   "source": [
    "[Node 4: Computing Kenntnisse für Physiker – eine Wunschliste](http://www-static.etp.physik.uni-muenchen.de/kurs/Computing/python2/node4.html)"
   ]
  },
  {
   "cell_type": "markdown",
   "metadata": {},
   "source": [
    "Navigation:\n",
    "\n",
    "**Next:** [Python Features](node5.ipynb) **Up:** [PYTHON2 Kurs](python2.html) **Previous:** [Literatur und Links](node3.ipynb)"
   ]
  },
  {
   "cell_type": "markdown",
   "metadata": {},
   "source": [
    "#  Computing Kenntnisse für Physiker – eine Wunschliste\n",
    "\n",
    "*  <font color=#ff0000> **Alltag:**</font>  Textverarbeitung (Office, Latex), Präsentationen (PPT, TeX), WWW Nutzung, E-Mail $\\Rightarrow$ <font color=#008000> *Selbststudium*</font> \n",
    "*  <font color=#ff0000> **Datenanalyse/Statistik:**</font>  Tabellenkalkulation (Excel), SAS, ROOT $\\Rightarrow$ <font color=#008000> *(Selbst/Kurs)*</font> \n",
    "*  <font color=#ff0000> **Mathematik/symbolische Algebra:**</font>  Maple, Mathematica, ... $\\Rightarrow$ <font color=#008000> *(Selbst/Kurs)*</font> \n",
    "*  <font color=#ff0000> **Höhere Programmiersprache:**</font>  Fortran, C/C++, Java, ...$\\Rightarrow$ <font color=#008000> *Kurse*</font> \n",
    "*  <font color=#ff0000> **Numerik**</font> : Algorithmen (Fortran/C++) $\\Rightarrow$ <font color=#008000> *Vorlesung (Schein)*</font> \n",
    "*  <font color=#ff0000> **Advanced concepts:**</font>  OO–Programmieren und –Design,  GUI, Threads, Container $\\Rightarrow$ <font color=#008000> *Kurse*</font> \n",
    "*  <font color=#ff0000> **Hardware Programmierung**</font> $\\Rightarrow$ <font color=#008000> *(Kurs)*</font> \n",
    "*  <font color=#ff0000> **High Level IT Anwendungen:**</font>  Databases, XML, Skript-Sprachen, Web-Programmierung, Grid, ... $\\Rightarrow$ <font color=#008000> *Python Kurse*</font> \n",
    "\n",
    "\n",
    "\n",
    "---"
   ]
  }
 ],
 "metadata": {
  "kernelspec": {
   "display_name": "Python 2",
   "language": "python",
   "name": "python2"
  },
  "language_info": {
   "codemirror_mode": {
    "name": "ipython",
    "version": 2
   },
   "file_extension": ".py",
   "mimetype": "text/x-python",
   "name": "python",
   "nbconvert_exporter": "python",
   "pygments_lexer": "ipython2",
   "version": "2.7.12"
  }
 },
 "nbformat": 4,
 "nbformat_minor": 3
}