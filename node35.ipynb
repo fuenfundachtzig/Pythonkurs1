{
 "cells": [
  {
   "cell_type": "markdown",
   "metadata": {},
   "source": [
    "[Node 35: Aufgaben](http://www-static.etp.physik.uni-muenchen.de/kurs/Computing/python2/node35.html)"
   ]
  },
  {
   "cell_type": "markdown",
   "metadata": {},
   "source": [
    "Navigation:\n",
    "\n",
    " **Next:** [Software Testen](node36.ipynb) **Up:** [Objektorientiertes Programmieren – Allgemeines](node23.ipynb) **Previous:** [Grundlegende (Objekt–Orientierte) Design –](node34.ipynb)"
   ]
  },
  {
   "cell_type": "markdown",
   "metadata": {},
   "source": [
    "##  Aufgaben\n",
    "\n",
    "1.  **<font color=#0000ff>umbrello</font>-Programm** \n",
    " \n",
    "    Unter Linux gibt es das Open–Source Programm   <font color=#0000ff>umbrello</font>  zum Zeichnen von UML–Diagrammen.    <font color=#008000> *( Applications $\\Rightarrow$  Programming $\\Rightarrow$   Umbrello )*</font>\n",
    "    Sie können damit Diagramme für neue Klasen erstellen und über den  Source–Code Generator das Programmgerüst ausgeben lassen.  \n",
    "    Oder man kann existierenden Source–Code importieren und UML Klassendiagramme  dazu erzeugen. Probieren Sie es aus für unsere Beispiele zu      <font color=#008000> *ThreeVector*</font>  und   <font color=#008000> *LorentzVector*</font> \n",
    "\n",
    "1.  **Fahrkartenautomat** \n",
    "\n",
    " Analysieren Sie die Funktion eines    <font color=#0000ff> **DB–Fahrkartenautomates**</font> , d.h entwerfen Sie typische    <font color=#008000> *use-cases*</font> , definieren Sie   <font color=#008000> *Komponenten*</font>  und   <font color=#008000> *Operationen*</font> , erstellen Sie Sequenz–Diagramme.\n",
    " (Am besten als Teamarbeit von 2-3 Personen).  \n",
    "\n"
   ]
  }
 ],
 "metadata": {
  "kernelspec": {
   "display_name": "Python 3",
   "language": "python",
   "name": "python3"
  },
  "language_info": {
   "codemirror_mode": {
    "name": "ipython",
    "version": 3
   },
   "file_extension": ".py",
   "mimetype": "text/x-python",
   "name": "python",
   "nbconvert_exporter": "python",
   "pygments_lexer": "ipython3",
   "version": "3.6.9"
  }
 },
 "nbformat": 4,
 "nbformat_minor": 3
}