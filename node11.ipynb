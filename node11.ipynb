{
 "cells": [
  {
   "cell_type": "markdown",
   "metadata": {},
   "source": [
    "[Node 11: Reguläre Ausdrücke ](http://www-static.etp.physik.uni-muenchen.de/kurs/Computing/python2/node11.html)"
   ]
  },
  {
   "cell_type": "markdown",
   "metadata": {},
   "source": [
    "Navigation:\n",
    "\n",
    "**Next:** [Aufgaben](node12.ipynb) **Up:** [Weitergehende und häufig verwendete](node7.ipynb) **Previous:** [Funktionsaufrufe](node10.ipynb)"
   ]
  },
  {
   "cell_type": "markdown",
   "metadata": {},
   "source": [
    "##   Reguläre Ausdrücke \n",
    " In Strings kann man meist einfache Teil-Strings suchen und evt. ersetzen. Hierzu kann man die einfachen String-Methoden    <font color=#0000e6> ``index, rindex, find, rfind, replace``</font>  und deb Operator   <font color=#0000e6> ``in``</font>  verwenden.   \n",
    "\n",
    "Mit Hilfe von regulären Ausdrücken kann man in Strings nach komplizierten Mustern suchen und Teile des Strings ersetzen. Eine ausführliche  Beschreibung mit Beispielen zu regulären Ausdrücken gibt es unter:   <font color=#0000ff>[Regular Expressions](http://docs.python.org/howto/regex.html)</font>  \n",
    "\n",
    "Das Python-Modul   <font color=#0000ff> **re**</font>  stellt zahlreiche Funktionen zur Verwendung von regulären Ausdrücken zur Verfügung.   \n",
    "\n",
    "<font color=#0000e6> ``re.search``</font>  im Vergleich zu   <font color=#0000e6> ``in``</font> :"
   ]
  },
  {
   "cell_type": "code",
   "execution_count": null,
   "metadata": {},
   "outputs": [],
   "source": [
    "import re\n",
    "input = 'Franz jagt im komplett verwahrlosten Taxi quer durch Bayern'\n",
    "re.search(r'Taxi', input)"
   ]
  },
  {
   "cell_type": "code",
   "execution_count": null,
   "metadata": {},
   "outputs": [],
   "source": [
    "'Taxi' in input\n",
    "True\n",
    "re.search(r'Bus', input)\n",
    "'Bus' in input\n",
    "False"
   ]
  },
  {
   "cell_type": "markdown",
   "metadata": {},
   "source": [
    "Ein String, der mit   <font color=#0000e6> ``r``</font>  eingeleitet wird, heisst ,roher' String. In diesem müssen keine backslashes entwertet werden, d.h. man gibt in Folgendem  Beispiel entweder  ``r'\\bTaxi\\b'``  oder  ``'\\\\bTaxi\\\\b'``  an.   \n",
    "\n",
    "Falls nach einzelnen Wörtern gesucht werden soll, zeigt   <font color=#0000e6> ``re.search``</font>  mit  dem Extra Parameter  ``\\b``  seinen Vorteil (  ``\\b``  ist “Wild-card” für Wort-Grenze):"
   ]
  },
  {
   "cell_type": "code",
   "execution_count": null,
   "metadata": {},
   "outputs": [],
   "source": [
    "input1 = 'Franz jagt im komplett verwahrlosten Taxi quer durch Bayern'\n",
    "input2 = 'Der Taxibus ist zu spaet'\n",
    "'Taxi' in input1, 'Taxi' in input2"
   ]
  },
  {
   "cell_type": "code",
   "execution_count": null,
   "metadata": {},
   "outputs": [],
   "source": [
    "re.search(r'\\bTaxi\\b', input1), re.search(r'\\bTaxi\\b', input2)"
   ]
  },
  {
   "cell_type": "markdown",
   "metadata": {},
   "source": [
    " Zum Ersetzen benutzt man   <font color=#0000e6> ``re.sub``</font> :"
   ]
  },
  {
   "cell_type": "code",
   "execution_count": null,
   "metadata": {},
   "outputs": [],
   "source": [
    "input1 = 'Franz jagt im komplett verwahrlosten Taxi quer durch Bayern'\n",
    "output=re.sub(r'Taxi','Bus',input)\n",
    "output"
   ]
  },
  {
   "cell_type": "markdown",
   "metadata": {},
   "source": [
    "Mit dem   <font color=#0000e6> ``match``</font>  Objekt kann man auf Teile des String zurückgreifen, die zu regulären Ausdrücken passen. Mit\n",
    "```python\n",
    "r'(\\b\\w+\\b)\\s+\\1'\n",
    "```\n",
    "lässt sich nach einem doppelt vorkommendem Wort suchen:"
   ]
  },
  {
   "cell_type": "code",
   "execution_count": null,
   "metadata": {},
   "outputs": [],
   "source": [
    "input = 'Franz jagt im komplett verwahrlosten Taxi quer quer durch Bayern'\n",
    "mo=re.search(r'(\\b\\w+\\b)\\s+\\1',input)\n",
    "mo"
   ]
  },
  {
   "cell_type": "code",
   "execution_count": null,
   "metadata": {},
   "outputs": [],
   "source": [
    "mo.group(0)"
   ]
  },
  {
   "cell_type": "code",
   "execution_count": null,
   "metadata": {},
   "outputs": [],
   "source": [
    "mo.group(1)"
   ]
  },
  {
   "cell_type": "code",
   "execution_count": null,
   "metadata": {},
   "outputs": [],
   "source": [
    "mo.start()"
   ]
  },
  {
   "cell_type": "code",
   "execution_count": null,
   "metadata": {},
   "outputs": [],
   "source": [
    "mo.span()"
   ]
  },
  {
   "cell_type": "code",
   "execution_count": null,
   "metadata": {},
   "outputs": [],
   "source": [
    "input[42: 51]"
   ]
  },
  {
   "cell_type": "markdown",
   "metadata": {},
   "source": [
    " <font color=#0000e6> ``re.search``</font>  liefert nur das   <font color=#0000ff> **erste**</font>  Vorkommen eines Such-Musters. Alle Vorkommen erhält man mit   <font color=#0000e6> ``re.findall``</font>  oder   <font color=#0000e6> ``re.finditer``</font> .   \n",
    " \n",
    "Ein schnelleren Zugriff auf Suchergebnisse vorallem bei grösseren Strings oder dem zeilenweisen Lesen/Suchen durch eine Datei erhält man mit    <font color=#0000e6> ``re.compile``</font> . Der Such-Begriff wird einmal “kompiliert” und kann  anschliessend wiederverwendet werden.:"
   ]
  },
  {
   "cell_type": "code",
   "execution_count": null,
   "metadata": {},
   "outputs": [],
   "source": [
    "input3 = 'Franz jagt im komplett verwahrlosten Taxi quer durch Bayern'\n",
    "input4 = 'Franz jagt im komplett verwahrlosten Taxi quer quer durch Bayern'\n",
    "regdoub = re.compile(r'(\\b\\w+\\b)\\s+\\1')\n",
    "regdoub"
   ]
  },
  {
   "cell_type": "code",
   "execution_count": null,
   "metadata": {},
   "outputs": [],
   "source": [
    "regdoub.search(input3)\n",
    "regdoub.search(input4)"
   ]
  },
  {
   "cell_type": "code",
   "execution_count": null,
   "metadata": {},
   "outputs": [],
   "source": [
    "regdoub.sub(r'\\1',input3)"
   ]
  },
  {
   "cell_type": "code",
   "execution_count": null,
   "metadata": {},
   "outputs": [],
   "source": [
    "regdoub.sub(r'\\1',input4)"
   ]
  },
  {
   "cell_type": "markdown",
   "metadata": {},
   "source": [
    " Mit dem Python Modul   <font color=#0000e6> ``fnmatch``</font>  kann mit der Unix Dateiname-Suche Konvention in   <font color=#0000e6> ``strings``</font>  gesucht werden. Hierbei werden die von der bash-Kommandozeile bekannten Regeln verwendet:"
   ]
  },
  {
   "cell_type": "markdown",
   "metadata": {},
   "source": [
    "* \\* entspricht allem\n",
    "* ? entpricht einem Buchstaben\n",
    "* [seq] \tentspricht einem Buchstaben in seq\n",
    "* [!seq] \tentspricht einem Buchstaben nicht in seq"
   ]
  },
  {
   "cell_type": "markdown",
   "metadata": {},
   "source": [
    " Folgendes Beispiel zeigt alle Dateinamen im aktuellen Verzeichnis mit der Endung   <font color=#0000e6> ``.txt``</font> :"
   ]
  },
  {
   "cell_type": "code",
   "execution_count": null,
   "metadata": {},
   "outputs": [],
   "source": [
    "import fnmatch\n",
    "import os\n",
    "for file in os.listdir('.'):\n",
    "    if fnmatch.fnmatch(file, '*.txt'):\n",
    "        print(file)"
   ]
  }
 ],
 "metadata": {
  "kernelspec": {
   "display_name": "Python 3",
   "language": "python",
   "name": "python3"
  },
  "language_info": {
   "codemirror_mode": {
    "name": "ipython",
    "version": 3
   },
   "file_extension": ".py",
   "mimetype": "text/x-python",
   "name": "python",
   "nbconvert_exporter": "python",
   "pygments_lexer": "ipython3",
   "version": "3.5.2"
  }
 },
 "nbformat": 4,
 "nbformat_minor": 3
}