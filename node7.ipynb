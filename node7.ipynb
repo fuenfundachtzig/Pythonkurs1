{
 "cells": [
  {
   "cell_type": "markdown",
   "metadata": {},
   "source": [
    "[Node 7: Weitergehende und häufig verwendete Python Features](http://www-static.etp.physik.uni-muenchen.de/kurs/Computing/python2/node7.html)"
   ]
  },
  {
   "cell_type": "markdown",
   "metadata": {},
   "source": [
    "Navigation:\n",
    "\n",
    "**Next:** [Tools für Listen und](node8.ipynb) **Up:** [PYTHON2 Kurs](python2.html) **Previous:** [Python Grundlagen](node6.ipynb)"
   ]
  },
  {
   "cell_type": "markdown",
   "metadata": {},
   "source": [
    "#  Weitergehende und häufig verwendete Python-Features\n",
    " Python bietet etliche sehr nützliche weitergehende Features, die über das Standard-Repertoire gängiger  Programmiersprachen hinausgehen und die in Python häufig verwendet werden. Wir behandeln hier kurz   <font color=#008000>*Tools für Listen und Dicts, Generators, flexible Funktionsaufrufe, reguläre Ausdrücke*</font> \n",
    "\n",
    "---\n",
    "\n",
    " **Subsections** \n",
    "* [Tools für Listen und Dicts](node8.ipynb)\n",
    "* [Iterables und Generatoren (yield)](node9.ipynb)\n",
    "* [Funktionsaufrufe ](node10.ipynb)\n",
    "* [Reguläre Ausdrücke ](node11.ipynb)\n",
    "* [Aufgaben](node12.ipynb)\n",
    "\n",
    "\n",
    "\n",
    "---"
   ]
  }
 ],
 "metadata": {
  "kernelspec": {
   "display_name": "Python 2",
   "language": "python",
   "name": "python2"
  },
  "language_info": {
   "codemirror_mode": {
    "name": "ipython",
    "version": 2
   },
   "file_extension": ".py",
   "mimetype": "text/x-python",
   "name": "python",
   "nbconvert_exporter": "python",
   "pygments_lexer": "ipython2",
   "version": "2.7.12"
  }
 },
 "nbformat": 4,
 "nbformat_minor": 3
}