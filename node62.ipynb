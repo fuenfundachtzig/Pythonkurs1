{
 "cells": [
  {
   "cell_type": "markdown",
   "metadata": {},
   "source": [
    "[Node 62: Netzwerk Programmierung](http://www-static.etp.physik.uni-muenchen.de/kurs/Computing/python2/node62.html)"
   ]
  },
  {
   "cell_type": "markdown",
   "metadata": {},
   "source": [
    "Navigation:\n",
    "\n",
    "[](node63.ipynb)[](node0.ipynb)[](node61.ipynb)\n",
    "\n",
    " **Next:** [Überblick Netzwerkprogrammierung](node63.ipynb) **Up:** [PYTHON2 Kurs](node0.ipynb) **Previous:** [Pandas – Datenanalyse mit](node61.ipynb)"
   ]
  },
  {
   "cell_type": "markdown",
   "metadata": {},
   "source": [
    "#  Netzwerkprogrammierung\n",
    "\n",
    "Inhalte:\n",
    "* Module der Python Standard Library \n",
    "* Verteilte Programme mit XML-RPC \n",
    "\n",
    "\n",
    "## Unterkapitel\n",
    "* [Überblick Netzwerkprogrammierung ](node63.ipynb)\n",
    "* [Programme der Python Standard Library](node64.ipynb)\n",
    "* [Verteilte Programme mit XML-RPC](node65.ipynb)\n",
    "* [Aufgaben](node66.ipynb)\n"
   ]
  }
 ],
 "metadata": {
  "kernelspec": {
   "display_name": "Python 2",
   "language": "python",
   "name": "python2"
  },
  "language_info": {
   "codemirror_mode": {
    "name": "ipython",
    "version": 2
   },
   "file_extension": ".py",
   "mimetype": "text/x-python",
   "name": "python",
   "nbconvert_exporter": "python",
   "pygments_lexer": "ipython2",
   "version": "2.7.12"
  }
 },
 "nbformat": 4,
 "nbformat_minor": 3
}