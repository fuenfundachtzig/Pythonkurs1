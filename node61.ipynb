{
 "cells": [
  {
   "cell_type": "markdown",
   "metadata": {},
   "source": [
    "[Node 61: Pandas – Datenanalyse mit Python](http://www-static.etp.physik.uni-muenchen.de/kurs/Computing/python2/node61.html)"
   ]
  },
  {
   "cell_type": "markdown",
   "metadata": {},
   "source": [
    "Navigation:\n",
    "\n",
    "**Next:** [Netzwerk Programmierung](node62.ipynb) **Up:** [PYTHON2 Kurs](node0.ipynb) **Previous:** [Aufgaben](node60.ipynb)"
   ]
  },
  {
   "cell_type": "markdown",
   "metadata": {},
   "source": [
    "# TODO: Notebooks müssen noch kopiert / verlinkt werden"
   ]
  },
  {
   "cell_type": "markdown",
   "metadata": {},
   "source": [
    "#  Pandas – Datenanalyse mit Python\n",
    "\n",
    "*  <font color=#0000ff> **Pandas**</font>  ([html](nb/PandasIntro.html),  [ipynb](nb/PandasIntro.ipynb))  \n",
    "*  <font color=#0000ff> **Übungen**</font>  ([html](nb/PandasExercises.html),  [ipynb](nb/PandasExercises.ipynb))  \n",
    "\n",
    "\n",
    "\n",
    "---"
   ]
  }
 ],
 "metadata": {
  "kernelspec": {
   "display_name": "Python 2",
   "language": "python",
   "name": "python2"
  },
  "language_info": {
   "codemirror_mode": {
    "name": "ipython",
    "version": 2
   },
   "file_extension": ".py",
   "mimetype": "text/x-python",
   "name": "python",
   "nbconvert_exporter": "python",
   "pygments_lexer": "ipython2",
   "version": "2.7.12"
  }
 },
 "nbformat": 4,
 "nbformat_minor": 3
}