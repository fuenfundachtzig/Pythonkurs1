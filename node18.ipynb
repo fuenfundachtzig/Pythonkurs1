{
 "cells": [
  {
   "cell_type": "markdown",
   "metadata": {},
   "source": [
    "[Node 18: Synchronisation](http://www-static.etp.physik.uni-muenchen.de/kurs/Computing/python2/node18.html)"
   ]
  },
  {
   "cell_type": "markdown",
   "metadata": {},
   "source": [
    "Navigation:\n",
    "\n",
    " **Next:** [Python Threads und GIL](node19.ipynb) **Up:** [Threads and Multi–Processing](node16.ipynb) **Previous:** [Die Thread Klasse](node17.ipynb)"
   ]
  },
  {
   "cell_type": "markdown",
   "metadata": {},
   "source": [
    "##  Synchronisation\n",
    " In den bisherigen Beispielen laufen die Threads unabhängig  voneinander. Komplizierter wird es wenn sie auf gemeinsame Datenbereiche zugreifen, insbesondere wenn ein Thread schreibt und ein anderes liest.   Das folgende –etwas konstruierte– Beispiel illustriert das Problem  \n",
    "\n",
    "---"
   ]
  },
  {
   "cell_type": "code",
   "execution_count": null,
   "metadata": {
    "scrolled": false
   },
   "outputs": [],
   "source": [
    "import threading \n",
    "  \n",
    "class Counter(object):\n",
    "    def __init__(self):\n",
    "        self.num = 0\n",
    "    def inc(self):\n",
    "        self.num += 1\n",
    "\n",
    "def thread_task(counter):\n",
    "    for _ in range(100000):\n",
    "        counter.inc()\n",
    "  \n",
    "# global counter\n",
    "counter = Counter()\n",
    "\n",
    "# create two threads \n",
    "t1 = threading.Thread(target = thread_task, args = (counter,))\n",
    "t2 = threading.Thread(target = thread_task, args = (counter,))\n",
    "  \n",
    "# start threads \n",
    "t1.start() \n",
    "t2.start() \n",
    "  \n",
    "# wait until threads finish their job \n",
    "t1.join() \n",
    "t2.join() \n",
    "  \n",
    "# print result\n",
    "print(counter.num) \n"
   ]
  },
  {
   "cell_type": "markdown",
   "metadata": {},
   "source": [
    "\n",
    " Beide Threads greifen auf dasselbe   <font color=#008000> *Counter–Objekt*</font>  zu, d.h. sie benutzen diesselbe   <font color=#ff0000> **Member-variable**</font>  **self.num**.  \n",
    " \n",
    "Abhängig vom zufälligen Ablauf erhalten wir das erwartete Ergebnis (200000) oder aber eine andere Zahl zwischen 100000 und 200000. Das Programm ist nicht–deterministisch, obwohl keine Zufallszahlen benutzt  werden... \n",
    "\n",
    " <font color=#ff0000> **Probieren Sie's aus !**</font>  \n",
    " \n",
    "Man kann im Beispiel die Variablen anders definieren/einsetzen und das spezifische Problem damit beheben, z.B. jeden Thread einen eigenen Counter geben. Das ist aber keine Lösung für den allgemeinen Fall.   \n",
    "\n",
    "Echte Abhilfe bietet in Python (u.a.) der    <font color=#ff0000> **Locking**</font>  Mechanismus:  \n",
    "*  <font color=#0000e6> ``lck=threading.Lock()``</font>  Objekt wird erzeugt \n",
    "* Aufruf von   <font color=#0000e6> ``lck.acquire()``</font>  bevor kritischer Bereich ausgeführt wird \n",
    "* 1. Thread der   <font color=#0000e6> ``lck.acquire()``</font>  ruft läuft weiter \n",
    "* Nächster Thread, der   <font color=#0000e6> ``lck.acquire()``</font>  muss warten  \n",
    "* bis 1. Thread   <font color=#0000e6> ``lck.release()``</font>  ruft \n",
    "* usw.  \n",
    "\n",
    "Damit wird sichergestellt, dass die Methode <font color=#008000> *inc()*</font>  nur von   <font color=#ff0000> **einem**</font>  Thread gleichzeitig durchlaufen wird, alle anderen sind solange blockiert.\n"
   ]
  },
  {
   "cell_type": "code",
   "execution_count": null,
   "metadata": {
    "scrolled": false
   },
   "outputs": [],
   "source": [
    "import threading \n",
    "  \n",
    "class Counter(object):\n",
    "    def __init__(self):\n",
    "        self.num = 0\n",
    "    def inc(self):\n",
    "        self.num += 1\n",
    "\n",
    "def thread_task(counter, lock):\n",
    "    for _ in range(100000):\n",
    "        lock.acquire()\n",
    "        counter.inc()\n",
    "        lock.release()\n",
    "  \n",
    "# global counter\n",
    "counter = Counter()\n",
    "\n",
    "# lock\n",
    "lock    = threading.Lock() \n",
    "\n",
    "# create two threads \n",
    "t1 = threading.Thread(target = thread_task, args = (counter,lock))\n",
    "t2 = threading.Thread(target = thread_task, args = (counter,lock))\n",
    "  \n",
    "# start threads \n",
    "t1.start() \n",
    "t2.start() \n",
    "  \n",
    "# wait until threads finish their job \n",
    "t1.join() \n",
    "t2.join() \n",
    "  \n",
    "# print result\n",
    "print(counter.num) \n"
   ]
  },
  {
   "cell_type": "markdown",
   "metadata": {},
   "source": [
    "Jetzt ist das Ergebnis richtig, aber das `locking` führt zu Geschwindigkeitseinbußen.\n",
    "\n",
    "**Aufgabe**: Überlegen sie, wie sie die relative Ausführungsgeschwindigkeit der falschen und richtigen Variante einschätzen, aber auch im Vergleich zu einer Variante mit nur einem Thread. Messen sie die Geschwindigkeit der verschiedenen Optionen (Hinweis: `%%time`) und vergleichen sie. Erklären Sie das Ergebnis."
   ]
  },
  {
   "cell_type": "markdown",
   "metadata": {},
   "source": [
    "In diesem Fall werden die beiden Threads zusammen sogar deutlich langsamer sein als ein einzelner. Programmierung mit parallelen Threads braucht also offensichtlich große Sorgfalt und Planung, um wirklich einen Geschwindigkeitsgewinn mit sich zu bringen."
   ]
  },
  {
   "cell_type": "code",
   "execution_count": null,
   "metadata": {},
   "outputs": [],
   "source": []
  }
 ],
 "metadata": {
  "kernelspec": {
   "display_name": "Python 3",
   "language": "python",
   "name": "python3"
  },
  "language_info": {
   "codemirror_mode": {
    "name": "ipython",
    "version": 3
   },
   "file_extension": ".py",
   "mimetype": "text/x-python",
   "name": "python",
   "nbconvert_exporter": "python",
   "pygments_lexer": "ipython3",
   "version": "3.5.2"
  }
 },
 "nbformat": 4,
 "nbformat_minor": 3
}