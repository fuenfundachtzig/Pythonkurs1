{
 "cells": [
  {
   "cell_type": "markdown",
   "metadata": {},
   "source": [
    "[Node 66: Aufgaben](http://www-static.etp.physik.uni-muenchen.de/kurs/Computing/python2/node66.html)"
   ]
  },
  {
   "cell_type": "markdown",
   "metadata": {},
   "source": [
    "Navigation:\n",
    "\n",
    "**Next:** [Webprogrammierung und Django](node67.ipynb) **Up:** [Netzwerk Programmierung](node62.ipynb) **Previous:** [Verteilte Programme mit XML-RPC](node65.ipynb)"
   ]
  },
  {
   "cell_type": "markdown",
   "metadata": {},
   "source": [
    "##  Aufgaben\n",
    "\n",
    "* Erweitern Sie den Echo-Server aus dem SockerServer-Abschnitt, so dass  dieser als Taschenrechner benutzt werden kann, d.h. Eingaben von z.B.       '1+1' mit dem richtigen Ergebnis beantwortet.        Prinzipiell kann die gewünschte Funktionalität mit nur einem        zusätzlichen Befehl zum existierenden Code erreicht werden - aber       dies kann zu einer erheblichen Sicherheitslücke führen. Warum?       Wie sollte der Taschenrechner statt dessen realisiert werden?  \n",
    "\n",
    " Lösung: [xmlrpc_calculator.py](source/xmlrpc_calculator.py)\n",
    " \n",
    "* Schreiben Sie ein verteiltes Programm, dass Ihnen die Zahl $\\pi$ mithilfe der in den vorigem Kapitel vorgestellten Methoden auf mehreren Rechnern       berechnet. Ist die gewählte Methode sinnvoll, um die Genauigkeit der Zahl $\\pi$ zu erhöhen ?   \n",
    "\n",
    " Lösung: [xmlrpc_pi_server.py](source/xmlrpc_pi_server.py), [xmlrpc_pi_client.py](source/xmlrpc_pi_client.py)\n",
    "\n"
   ]
  }
 ],
 "metadata": {
  "kernelspec": {
   "display_name": "Python 2",
   "language": "python",
   "name": "python2"
  },
  "language_info": {
   "codemirror_mode": {
    "name": "ipython",
    "version": 2
   },
   "file_extension": ".py",
   "mimetype": "text/x-python",
   "name": "python",
   "nbconvert_exporter": "python",
   "pygments_lexer": "ipython2",
   "version": "2.7.12"
  }
 },
 "nbformat": 4,
 "nbformat_minor": 3
}