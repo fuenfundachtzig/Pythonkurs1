{
 "cells": [
  {
   "cell_type": "markdown",
   "metadata": {},
   "source": [
    "[Node 36: Entwicklung mit Tests](http://www-static.etp.physik.uni-muenchen.de/kurs/Computing/python2/node36.html)"
   ]
  },
  {
   "cell_type": "markdown",
   "metadata": {},
   "source": [
    "Navigation:\n",
    "\n",
    "**Next:** [TDD Beispiel](node37.ipynb) **Up:** [PYTHON2 Kurs](node0.ipynb) **Previous:** [Aufgaben](node35.ipynb)"
   ]
  },
  {
   "cell_type": "markdown",
   "metadata": {},
   "source": [
    "#  Entwicklung mit Tests\n",
    " Test-Driven Development (TDD) ist ein Programmierstil, bei dem zunächst ein Test geschrieben wird, der fehlschlägt, anschließend wird der eigentliche Programmcode implementiert, mit dem der Test dann funktioniert. Der somit entwickelte Programmcode dient dann als Grundlage für einen neuen erweiterten Test der neue Funktionalität prüft und anschließend mit dem wiederum erweiterten Programmcode funktioniert. \n",
    "![Image tdd](figures/tdd.svg \"Image tdd\") \n",
    "Die Programmentwicklung ist somit ein iterativer Prozess, der einen zwingt, über das Programmverhalten   <font color=#ff0000> **vor**</font>  der Implementierung nachzudenken und zusätzlich verschiedene Fälle und Verzweigungen im Programm überprüft.   \n",
    "\n",
    "Grundlegender Befehl für Tests ist   <font color=#0000e6> ``assert``</font> : damit werden Bedingungen  im Programm getestet und gegebenfalls eine exception ausgelöst:"
   ]
  },
  {
   "cell_type": "code",
   "execution_count": null,
   "metadata": {},
   "outputs": [],
   "source": [
    "assert 42==42"
   ]
  },
  {
   "cell_type": "code",
   "execution_count": null,
   "metadata": {},
   "outputs": [],
   "source": [
    "assert 2==1"
   ]
  },
  {
   "cell_type": "markdown",
   "metadata": {},
   "source": [
    "Konkret werden sog. Unit Tests bzw. in Python das Modul   <font color=#0000e6> ``unittest``</font>   verwendet, um Programmcode zu überprüfen. Die am meisten gebrauchten Methoden sind:  \n",
    "*  <font color=#0000e6> ``assert``</font> : Basis assert, das eigene assertions erlaubt \n",
    "*  <font color=#0000e6> ``assertEqual(a, b)``</font> : überprüfe, ob a und b gleich sind \n",
    "*  <font color=#0000e6> ``assertNotEqual(a, b)``</font> : überprüfe, ob a und b nicht gleich sind \n",
    "*  <font color=#0000e6> ``assertIn(a, b)``</font> : überprüfe, ob a in b ist \n",
    "*  <font color=#0000e6> ``assertNotIn(a, b)``</font> : überprüfe, ob a nicht in b ist \n",
    "*  <font color=#0000e6> ``assertFalse(a)``</font> : überprüfe, ob der Wert von a False ist \n",
    "*  <font color=#0000e6> ``assertTrue(a)``</font> : überprüfe, ob der Wert von a True ist \n",
    "*  <font color=#0000e6> ``assertIsInstance(a, TYPE)``</font> : überprüfe, ob a vom Typ \"TYPE\" ist \n",
    "*  <font color=#0000e6> ``assertRaises(ERROR, a, args)``</font> : überprüfe, ob a mit dem Werte args ausgerufen einen ERROR Exception erzeugt  "
   ]
  },
  {
   "cell_type": "markdown",
   "metadata": {},
   "source": [
    "Als Test-Umgebung kann entweder direkt das Modul   <font color=#0000e6> ``unittest``</font>  bzw. das Paket   <font color=#0000e6> ``nosetests``</font>  verwendet werden:\n",
    "```bash\n",
    "nosetests beispiel_unit_test.py\n",
    "```"
   ]
  },
  {
   "cell_type": "markdown",
   "metadata": {},
   "source": [
    "---\n",
    "\n",
    " **Subsections** \n",
    "* [TDD Beispiel](node37.ipynb)\n",
    "* [Mit PDB debuggen](node38.ipynb)\n",
    "* [Aufgaben](node39.ipynb)\n",
    "\n",
    "---"
   ]
  }
 ],
 "metadata": {
  "kernelspec": {
   "display_name": "Python 2",
   "language": "python",
   "name": "python2"
  },
  "language_info": {
   "codemirror_mode": {
    "name": "ipython",
    "version": 2
   },
   "file_extension": ".py",
   "mimetype": "text/x-python",
   "name": "python",
   "nbconvert_exporter": "python",
   "pygments_lexer": "ipython2",
   "version": "2.7.12"
  }
 },
 "nbformat": 4,
 "nbformat_minor": 3
}