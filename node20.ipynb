{
 "cells": [
  {
   "cell_type": "markdown",
   "metadata": {},
   "source": [
    "[Node 20: Python Multi-Processing](http://www-static.etp.physik.uni-muenchen.de/kurs/Computing/python2/node20.html)"
   ]
  },
  {
   "cell_type": "markdown",
   "metadata": {},
   "source": [
    "Navigation:\n",
    "\n",
    "**Next:** [Aufgaben](node21.ipynb) **Up:** [Threads and Multi–Processing](node16.ipynb) **Previous:** [Python Threads und GIL](node19.ipynb)"
   ]
  },
  {
   "cell_type": "markdown",
   "metadata": {},
   "source": [
    "##  Python Multi-Processing\n",
    "Alternative um GIL-Bremse zu vermeiden ist Multi-Processing.  \n",
    "* Mehrere Python-Prozesse laufen unabhängig voneinander  \n",
    "* Python-Modul   <font color=#008000> *multiprocessing*</font>  lässt sich ähnlich wie   <font color=#008000> *threading*</font>  verwenden. \n",
    "* Im Gegensatz zu   <font color=#008000> *threading*</font>  kein gemeinsamer Programm/Speicherbereich, direkt konvertiertes Programm   [ <font color=#0000e6> ``randpiMP.py``</font> ](source/randpiMP.py) funktioniert nicht,  Ergebnis für Main-Prozess nicht sichtbar \n",
    "* Explizite Kommunikation zwischen den Prozessen nötig, z.B. mit Message Queues   <font color=#0000e6> ``multiprocessing.Queue()``</font> , wie im  erweiterten Beispiel [ <font color=#0000e6> ``randpiMP2.py``</font> ](source/randpiMP2.py) \n",
    "\n",
    "Noch weitergehende Alternative ist Multi-Processing verteilt über mehrere Rechner oder ganzen Rechen-Cluster. Standard–Tool dafür ist   <font color=#0000ff> **MPI**</font>  <font color=#008000> *(Message Parsing Interface)*</font> , das Schnittstellen für viele Programmiersprachen zur Verfügung stellt. Hier ein kurzer [MPI–Überblick](http://www-static.etp.physik.uni-muenchen.de/kurs/Computing/sw/node92.html) aus dem Software-Handwerkszeug-Kurs.  \n",
    "\n"
   ]
  },
  {
   "cell_type": "code",
   "execution_count": null,
   "metadata": {},
   "outputs": [],
   "source": []
  }
 ],
 "metadata": {
  "kernelspec": {
   "display_name": "Python 2",
   "language": "python",
   "name": "python3"
  },
  "language_info": {
   "codemirror_mode": {
    "name": "ipython",
    "version": 2
   },
   "file_extension": ".py",
   "mimetype": "text/x-python",
   "name": "python",
   "nbconvert_exporter": "python",
   "pygments_lexer": "ipython3",
   "version": "3.5.2"
  }
 },
 "nbformat": 4,
 "nbformat_minor": 3
}