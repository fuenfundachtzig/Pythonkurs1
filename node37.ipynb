{
 "cells": [
  {
   "cell_type": "markdown",
   "metadata": {},
   "source": [
    "[Node 37: TDD Beispiel](http://www-static.etp.physik.uni-muenchen.de/kurs/Computing/python2/node37.html)"
   ]
  },
  {
   "cell_type": "markdown",
   "metadata": {},
   "source": [
    "Navigation:\n",
    "\n",
    " **Next:** [Mit PDB debuggen](node38.ipynb) **Up:** [Entwicklung mit Tests](node36.ipynb) **Previous:** [Entwicklung mit Tests](node36.ipynb)"
   ]
  },
  {
   "cell_type": "markdown",
   "metadata": {},
   "source": [
    "##  Beispiel für TDD\n",
    "Als Beispiel zum TDD soll ein sehr einfacher Taschenrechner dienen, der in der   <font color=#0000e6> ``add``</font>-Methode die Addition zweier Zahlen ausführt und das Ergebnis zurückgibt. Zunächst wird ein leeres Projekt angelegt:"
   ]
  },
  {
   "cell_type": "markdown",
   "metadata": {},
   "source": [
    "```bash\n",
    "mkdir mytest\n",
    "cd mytest\n",
    "mkdir app\n",
    "mkdir test\n",
    "touch app/__init__.py\n",
    "touch test/__init__.py\n",
    "```"
   ]
  },
  {
   "cell_type": "markdown",
   "metadata": {},
   "source": [
    " Im Verzeichnis   <font color=#0000e6> ``test``</font>  wird die Datei   <font color=#0000e6> ``test_rechner.py``</font>  mit folgendem Inhalt erzeugt:  \n",
    "\n",
    "```python\n",
    "import unittest\n",
    " \n",
    "class TddBeispiel(unittest.TestCase):\n",
    " \n",
    "    def test_rechner_add_method_gibt_richtiges_ergebnis(self):\n",
    "        rech = Rechner()\n",
    "        res = rech.add(2,2)\n",
    "        self.assertEqual(4, res)\n",
    "\n",
    "if __name__ == '__main__':\n",
    "    unittest.main()\n",
    "```"
   ]
  },
  {
   "cell_type": "markdown",
   "metadata": {},
   "source": [
    "\n",
    "Ein Test hat folgende Struktur:  \n",
    "* Import des Moduls   <font color=#0000e6> ``unittest``</font> . \n",
    "* Anlegen einer von   <font color=#0000e6> ``unittest.TestCase``</font>  abgeleiteten Klasse, die alle Tests beinhaltet. \n",
    "* Alle Methoden dieser Klasse implementieren verschiedene Tests und müssen mit   <font color=#0000e6> ``test_``</font>  beginnen. \n",
    "* Die letzten beiden Zeilen ermöglichen es, den Test mit dem Standard   <font color=#0000e6> ``unittest``</font>  Modul und dem Befehl   <font color=#0000e6> ``python test_rechner.py``</font>   auszuführen.  \n",
    "\n",
    "Das Programm   <font color=#0000e6> ``nosetests3``</font>  ermöglicht das automatische Ausführen aller existierenden Tests:"
   ]
  },
  {
   "cell_type": "markdown",
   "metadata": {},
   "source": [
    "```bash\n",
    "> nosetests3\n",
    "```\n",
    "<pre>\n",
    "E\n",
    "======================================================================\n",
    "ERROR: test_rechner_add_method_gibt_richtiges_ergebnis (test_rechner.TddBeispiel)\n",
    "----------------------------------------------------------------------\n",
    "Traceback (most recent call last):\n",
    "  File \"/home/gduckeck/python/test/mytest/test_rechner.py\", line 6, in test_rechner_add_method_gibt_richtiges_ergebnis\n",
    "    rech = Rechner()\n",
    "NameError: name 'Rechner' is not defined\n",
    "----------------------------------------------------------------------\n",
    "Ran 1 test in 0.004s\n",
    "FAILED (errors=1)\n",
    "</pre>"
   ]
  },
  {
   "cell_type": "markdown",
   "metadata": {},
   "source": [
    " <font color=#0000ff> **Fehler war provoziert**</font>  ... es fehlt noch die tatsächliche Implementierung von   <font color=#0000e6> ``Rechner``</font> . Es wird also die Datei   <font color=#0000e6> ``app/rechner.py``</font>  erzeugt:\n",
    "```python\n",
    "class Rechner(object):\n",
    " \n",
    "    def add(self, x, y):\n",
    "        pass\n",
    "```\n",
    "und der Test erweitert:  \n",
    "```python\n",
    "import unittest\n",
    "from app.rechner import Rechner # neu\n",
    "\n",
    "class TddBeispiel(unittest.TestCase):\n",
    " \n",
    "    def test_rechner_add_method_gibt_richtiges_ergebnis(self):\n",
    "        rech = Rechner()\n",
    "        res = rech.add(2,2)\n",
    "        self.assertEqual(4, res)\n",
    "\n",
    "if __name__ == '__main__':\n",
    "    unittest.main()\n",
    "```"
   ]
  },
  {
   "cell_type": "markdown",
   "metadata": {},
   "source": [
    "Ein erneutes Ausführen der Tests ergibt:\n",
    "<pre>\n",
    "> nosetests3\n",
    "F\n",
    "======================================================================\n",
    "FAIL: test_rechner_add_method_gibt_richtiges_ergebnis (test_rechner.TddBeispiel)\n",
    "----------------------------------------------------------------------\n",
    "Traceback (most recent call last):\n",
    "  File \"/home/gduckeck/python/test/mytest/test_rechner.py\", line 9, in test_rechner_add_method_gibt_richtiges_ergebnis\n",
    "    self.assertEqual(4, res)\n",
    "AssertionError: 4 != None\n",
    "----------------------------------------------------------------------\n",
    "Ran 1 test in 0.004s\n",
    "FAILED (failures=1)\n",
    "</pre>"
   ]
  },
  {
   "cell_type": "markdown",
   "metadata": {},
   "source": [
    " Der Test zeigt an, daß die Methode    <font color=#0000e6> ``add``</font>   noch kein richtiges  Ergebnis liefert. Dies kann folgendermaßen korrigiert werden:\n",
    "```python\n",
    "class Rechner(object):\n",
    " \n",
    "    def add(self, x, y):\n",
    "        return x+y # neu\n",
    "```"
   ]
  },
  {
   "cell_type": "markdown",
   "metadata": {},
   "source": [
    "<pre>\n",
    "> nosetests3 \n",
    ".\n",
    "----------------------------------------------------------------------\n",
    "Ran 1 test in 0.019s\n",
    "OK\n",
    "</pre>"
   ]
  },
  {
   "cell_type": "markdown",
   "metadata": {},
   "source": [
    "Der Test funktioniert jetzt, allerdings wird nur der Fall getestet, der tatsächlich zunächst interessiert - was passiert allerdings, falls andere Typen als Zahlen verwendet werden, da Python das Addieren von z.B. Strings oder Listen mit der gleichen Syntax erlaubt? Um diese Fälle zu testen, wird der Test erweitert:  \n",
    "```python\n",
    "import unittest\n",
    "from app.rechner import Rechner\n",
    "\n",
    "class TddBeispiel(unittest.TestCase):\n",
    "  \n",
    "    def setUp(self): # neu\n",
    "        self.rech = Rechner()\n",
    "\n",
    "    def test_rechner_add_method_gibt_richtiges_ergebnis(self):\n",
    "        res = self.rech.add(2,2)\n",
    "        self.assertEqual(4, res)\n",
    "\n",
    "    def test_rechner_gibt_fehler_wenn_beide_args_nicht_zahlen(self): # neu\n",
    "        self.assertRaises(ValueError, self.rech.add, 'zwei', 'drei')\n",
    "\n",
    "if __name__ == '__main__':\n",
    "    unittest.main()\n",
    "\n",
    "```"
   ]
  },
  {
   "cell_type": "markdown",
   "metadata": {},
   "source": [
    "Der neue Test überprüft, ob eine   <font color=#0000e6> ``ValueError``</font>  exception ausgelöst wurde. Zusätzlich wurde die Methode   <font color=#0000e6> ``setUp``</font>  verwendet, die zur Initialisierung der Tests verwendet werden kann. Das Test-Ergebnis sieht zunächst folgendermaßen aus, da noch kein   <font color=#0000e6> ``ValueError``</font>  im  eigentlichen code ausgelöst wird:\n",
    "<pre>\n",
    "> nosetests \n",
    ".F\n",
    "======================================================================\n",
    "FAIL: test_rechner_gibt_fehler_wenn_beide_args_nicht_zahlen (test.test_rechner.TddBeispiel)\n",
    "----------------------------------------------------------------------\n",
    "Traceback (most recent call last):\n",
    "  File \"/home/j/Johannes.Elmsheuser/cip_home/python/mytest/test/test_rechner.py\", line 14, in test_rechner_gibt_fehler_wenn_beide_args_nicht_zahlen\n",
    "    self.assertRaises(ValueError, self.rech.add, 'zwei', 'drei')\n",
    "AssertionError: ValueError not raised\n",
    "----------------------------------------------------------------------\n",
    "Ran 2 tests in 0.015s\n",
    "FAILED (failures=1)\n",
    "</pre>"
   ]
  },
  {
   "cell_type": "markdown",
   "metadata": {},
   "source": [
    "Der Code muss also folgendermassen verbessert werden:\n",
    "```python\n",
    "class Rechner(object):\n",
    " \n",
    "    def add(self, x, y):\n",
    "        number_typen = (int, float, complex)\n",
    " \n",
    "        if isinstance(x, number_typen) and isinstance(y, number_typen): # neu\n",
    "            return x + y\n",
    "        else:\n",
    "            raise ValueError\n",
    "```"
   ]
  },
  {
   "cell_type": "markdown",
   "metadata": {},
   "source": [
    "Um alle Kombinationsmöglichkeiten zu überprüfen, werden noch weitere Tests hinzugefügt:  \n",
    "```python\n",
    "import unittest\n",
    "from app.rechner import Rechner\n",
    "\n",
    "class TddBeispiel(unittest.TestCase):\n",
    "  \n",
    "    def setUp(self):\n",
    "        self.rech = Rechner()\n",
    "\n",
    "    def test_rechner_add_method_gibt_richtiges_ergebnis(self):\n",
    "        res = self.rech.add(2,2)\n",
    "        self.assertEqual(4, res)\n",
    "\n",
    "    def test_rechner_gibt_fehler_wenn_beide_args_nicht_zahlen(self):\n",
    "        self.assertRaises(ValueError, self.rech.add, 'zwei', 'drei')\n",
    "\n",
    "    def test_rechner_gibt_fehler_wenn_x_arg_keine_zahl(self): # neu\n",
    "        self.assertRaises(ValueError, self.rech.add, 'zwei', 3)\n",
    " \n",
    "    def test_rechner_gibt_fehler_wenn_y_arg_keine_zahl(self): # neu\n",
    "        self.assertRaises(ValueError, self.rech.add, 2, 'drei')\n",
    "\n",
    "if __name__ == '__main__':\n",
    "    unittest.main()\n",
    "```"
   ]
  },
  {
   "cell_type": "markdown",
   "metadata": {},
   "source": [
    "Alle 4 Tests funktionieren nun erfolgreich:\n",
    "<pre>\n",
    "> nosetests \n",
    "....\n",
    "----------------------------------------------------------------------\n",
    "Ran 4 tests in 0.020s\n",
    "OK\n",
    "</pre>"
   ]
  }
 ],
 "metadata": {
  "kernelspec": {
   "display_name": "Python 2",
   "language": "python",
   "name": "python3"
  },
  "language_info": {
   "codemirror_mode": {
    "name": "ipython",
    "version": 2
   },
   "file_extension": ".py",
   "mimetype": "text/x-python",
   "name": "python",
   "nbconvert_exporter": "python",
   "pygments_lexer": "ipython3",
   "version": "3.5.2"
  }
 },
 "nbformat": 4,
 "nbformat_minor": 3
}