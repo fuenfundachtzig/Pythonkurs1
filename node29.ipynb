{
 "cells": [
  {
   "cell_type": "markdown",
   "metadata": {},
   "source": [
    "[Node 29: Sequenz-Diagramme](http://www-static.etp.physik.uni-muenchen.de/kurs/Computing/python2/node29.html)"
   ]
  },
  {
   "cell_type": "markdown",
   "metadata": {},
   "source": [
    "Navigation:\n",
    "\n",
    "**Next:** [UML Summary](node30.ipynb) **Up:** [Objektorientiertes Programmieren – Allgemeines](node23.ipynb) **Previous:** [Objekt-Diagramme](node28.ipynb)"
   ]
  },
  {
   "cell_type": "markdown",
   "metadata": {},
   "source": [
    "##  Sequenz-Diagramme\n",
    "\n",
    "Neben der Klassen bzw. Objektstruktur und den Beziehungen zwischen ihnen ist die    <font color=#0000ff> **Dynamik**</font>, d.h. der Ablauf des Programms in einem vorgegebenen Szenario wichtig für das Design\n",
    "\n",
    "![Image Sequence1](figures/UML_Sequence1.png \"Image Sequence1\")\n",
    "\n",
    "---\n",
    "\n",
    "**Konkretes Beispiel – Mama anrufen** \n",
    "\n",
    "![Image TeleSeq](figures/UML_TeleSeq.png \"Image TeleSeq\")\n",
    "\n",
    "---\n",
    "\n",
    "**Meistens ist besetzt...** \n",
    "\n",
    "![Image TeleSeq2](figures/UML_TeleSeq2.png \"Image TeleSeq2\")\n",
    "\n"
   ]
  }
 ],
 "metadata": {
  "kernelspec": {
   "display_name": "Python 3",
   "language": "python",
   "name": "python3"
  },
  "language_info": {
   "codemirror_mode": {
    "name": "ipython",
    "version": 3
   },
   "file_extension": ".py",
   "mimetype": "text/x-python",
   "name": "python",
   "nbconvert_exporter": "python",
   "pygments_lexer": "ipython3",
   "version": "3.6.9"
  }
 },
 "nbformat": 4,
 "nbformat_minor": 3
}