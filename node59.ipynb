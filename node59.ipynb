{
 "cells": [
  {
   "cell_type": "markdown",
   "metadata": {},
   "source": [
    "[Node 59: Daten I/O – Summary](http://www-static.etp.physik.uni-muenchen.de/kurs/Computing/python2/node59.html)"
   ]
  },
  {
   "cell_type": "markdown",
   "metadata": {},
   "source": [
    "Navigation:\n",
    "\n",
    "**Next:** [Aufgaben](node60.ipynb) **Up:** [Datenformate II – XML](node53.ipynb) **Previous:** [JSON – Lightweight Alternative](node58.ipynb)"
   ]
  },
  {
   "cell_type": "markdown",
   "metadata": {},
   "source": [
    "##  Daten I/O – Summary\n",
    "\n",
    "Viele Möglichkeiten und Technologien für Daten I/O.\n",
    " \n",
    "Keine allgemeine Lösung, Auswahl gemäß Problem und Anforderungen.  \n",
    "\n",
    "* ASCII-Textausgabe bzw. CSV-Format:  \n",
    "  <font color=#0000ff> **Pro:**</font>  Einfach, portabel.  \n",
    "  <font color=#ff0000> **Con:**</font>  Keine Struktur, keine komplexen Daten.  \n",
    "* Binäres Format wie Pickle:  \n",
    "  <font color=#0000ff> **Pro:**</font>  Schnell, effizient, Speicherung  komplexer Objektstrukturen.   \n",
    "  <font color=#ff0000> **Con:**</font>  Python–spezifisch  \n",
    "* (Relationale) Datenbank (SQLite, Postgres, Oracle, ...):\n",
    "  <font color=#0000ff> **Pro:**</font>  Speicherung beliebiger komplexer Daten,   Verknüpfungen zwischen Tabellen. \n",
    "  <font color=#ff0000> **Con:**</font>  Sperrige Syntax, kein direkter IO von Objekten.  \n",
    "* Strukturierte Ausgabe mit XML oder JSON:\n",
    "  <font color=#0000ff> **Pro:**</font>  komplexe Strukturen möglich, les- (und editier-) bares Format,  weit verbreiteter Standard für Datenaustausch  \n",
    "  <font color=#ff0000> **Con:**</font>  ineffizient, speicher-intensiv, kein direkter IO von Objekten  \n"
   ]
  }
 ],
 "metadata": {
  "kernelspec": {
   "display_name": "Python 3",
   "language": "python",
   "name": "python3"
  },
  "language_info": {
   "codemirror_mode": {
    "name": "ipython",
    "version": 3
   },
   "file_extension": ".py",
   "mimetype": "text/x-python",
   "name": "python",
   "nbconvert_exporter": "python",
   "pygments_lexer": "ipython3",
   "version": "3.6.9"
  }
 },
 "nbformat": 4,
 "nbformat_minor": 3
}