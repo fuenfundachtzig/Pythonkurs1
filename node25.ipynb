{
 "cells": [
  {
   "cell_type": "markdown",
   "metadata": {},
   "source": [
    "[Node 25: Wozu UML ?](http://www-static.etp.physik.uni-muenchen.de/kurs/Computing/python2/node25.html)"
   ]
  },
  {
   "cell_type": "markdown",
   "metadata": {},
   "source": [
    "Navigation:\n",
    "\n",
    "**Next:** [Klassen in UML](node26.ipynb) **Up:** [Objektorientiertes Programmieren – Allgemeines](node23.ipynb) **Previous:** [UML - Unified Modelling](node24.ipynb)"
   ]
  },
  {
   "cell_type": "markdown",
   "metadata": {},
   "source": [
    "##  Wozu UML ?\n",
    "\n",
    " “Standardsprache” um   \n",
    "* Software–Systeme darzustellen   <font color=#008000> *(anders als im source-code editor)*</font> \n",
    "* Abhängigkeiten und Beziehungen auszudrücken \n",
    "* Abläufe zu visualisieren \n",
    "* Anforderungen zu erarbeiten \n",
    "* Weitergehende Abstrahierung  \n",
    "\n",
    "Für Physiker nichts Neues:   \n",
    "*  <font color=#ff0000> **Mathematik**</font>  zur abstrakten, formalen Beschreibung  der Natur \n",
    "* Feynman-Diagramme für Teilchenphysik–Reaktionen. \n",
    "\n"
   ]
  }
 ],
 "metadata": {
  "kernelspec": {
   "display_name": "Python 3",
   "language": "python",
   "name": "python3"
  },
  "language_info": {
   "codemirror_mode": {
    "name": "ipython",
    "version": 3
   },
   "file_extension": ".py",
   "mimetype": "text/x-python",
   "name": "python",
   "nbconvert_exporter": "python",
   "pygments_lexer": "ipython3",
   "version": "3.6.9"
  }
 },
 "nbformat": 4,
 "nbformat_minor": 3
}