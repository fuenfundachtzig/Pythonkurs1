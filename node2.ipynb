{
 "cells": [
  {
   "cell_type": "markdown",
   "metadata": {},
   "source": [
    "[Node 2: Allgemeines](http://www-static.etp.physik.uni-muenchen.de/kurs/Computing/python2/node2.html)"
   ]
  },
  {
   "cell_type": "markdown",
   "metadata": {},
   "source": [
    "Navigation:\n",
    "\n",
    "**Next:** [Literatur und Links](node3.ipynb)\n",
    "**Up:** [PYTHON2 Kurs](python2.html)\n",
    "**Previous:** [Schlüsselqualifikation für Bachelor/Master](node1.ipynb)"
   ]
  },
  {
   "cell_type": "markdown",
   "metadata": {},
   "source": [
    "#  Allgemeines\n",
    " Python ist moderne Skript–Sprache  \n",
    "* klare Syntax \n",
    "* einfache Struktur \n",
    "* Features für objektorientiertes Programmieren  \n",
    "* mächtige Funktionen–Pakete (=Module) mitgeliefert  flache Lernkurve \n",
    "\n",
    "\n",
    "* Einstieg wesentlich schneller als bei Fortran, C/C++, und sogar JAVA\n",
    "*  <font color=#ff0000> **Aber:**</font>  riesiger Funktionsumfang, Vielzahl von Modulen, Erweiterungen (Databases, XML, Networking, ...), Entwicklungsumgebungen, etc. \n",
    "\n",
    "---\n",
    "\n",
    " Ziele von Kurs-1: Python für Physiker:  \n",
    "* Python Syntax \n",
    "* Grundlegende Funktionalität: Variablen, Funktionen, Klassen, I/O, Standard API  und damit  \n",
    "* Fähigkeit zum Erstellen kleiner Programme \n",
    "* Anregungen zur Verwendung weiterführender Module \n",
    "\n",
    "---\n",
    "\n",
    " Ziele von Kurs-2: Fortgeschrittenes Programmieren in Python:  \n",
    "* Aktuelle IT Anwendungen mit Python \n",
    "* Ausgewählte, nicht-triviale Beispiele zur Verwendung von Python \n",
    "* Einsatz der grundlegenden Sprachelemente (Klassen, Exceptions, ...) in echten Anwendungen \n",
    "\n",
    "\n",
    "\n",
    "---"
   ]
  }
 ],
 "metadata": {
  "kernelspec": {
   "display_name": "Python 2",
   "language": "python",
   "name": "python2"
  },
  "language_info": {
   "codemirror_mode": {
    "name": "ipython",
    "version": 2
   },
   "file_extension": ".py",
   "mimetype": "text/x-python",
   "name": "python",
   "nbconvert_exporter": "python",
   "pygments_lexer": "ipython2",
   "version": "2.7.12"
  }
 },
 "nbformat": 4,
 "nbformat_minor": 3
}