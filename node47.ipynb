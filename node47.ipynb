{
 "cells": [
  {
   "cell_type": "markdown",
   "metadata": {},
   "source": [
    "[Node 47: Aufgaben](http://www-static.etp.physik.uni-muenchen.de/kurs/Computing/python2/node47.html)"
   ]
  },
  {
   "cell_type": "markdown",
   "metadata": {},
   "source": [
    "Navigation:\n",
    "\n",
    "**Next:** [Object I/O (Serializing), Database](node48.ipynb) **Up:** [Profiling von Programmen](node40.ipynb) **Previous:** [Weitere Links](node46.ipynb)"
   ]
  },
  {
   "cell_type": "markdown",
   "metadata": {},
   "source": [
    "##  Aufgaben\n",
    "\n",
    "*  **Primzahlen** \n",
    "\n",
    "Wenden Sie Profiling auf den Algorithmus zur Primzahlenberechnung aus dem ersten Python-Kurs an. Finden Sie mit dem Timer, cProfile und line_profiler die Zeilen im Programmcode, die am meisten Zeit verbrauchen  (Siehe Aufgabe 7 (b): [Python-Kurs](http://www.etp.physik.uni-muenchen.de/kurs/Computing/python/node26.html), [prim_all_lsg.py](source/prim_all_lsg.py)).  "
   ]
  }
 ],
 "metadata": {
  "kernelspec": {
   "display_name": "Python 2",
   "language": "python",
   "name": "python2"
  },
  "language_info": {
   "codemirror_mode": {
    "name": "ipython",
    "version": 2
   },
   "file_extension": ".py",
   "mimetype": "text/x-python",
   "name": "python",
   "nbconvert_exporter": "python",
   "pygments_lexer": "ipython2",
   "version": "2.7.12"
  }
 },
 "nbformat": 4,
 "nbformat_minor": 3
}