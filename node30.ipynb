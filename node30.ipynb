{
 "cells": [
  {
   "cell_type": "markdown",
   "metadata": {},
   "source": [
    "[Node 30: UML Summary](http://www-static.etp.physik.uni-muenchen.de/kurs/Computing/python2/node30.html)"
   ]
  },
  {
   "cell_type": "markdown",
   "metadata": {},
   "source": [
    "Navigation:\n",
    "\n",
    "[](node31.ipynb)[](node23.ipynb)[](node29.ipynb)\n",
    "\n",
    " **Next:** [Software Engineering](node31.ipynb) **Up:** [Objektorientiertes Programmieren – Allgemeines](node23.ipynb) **Previous:** [Sequenz-Diagramme](node29.ipynb)"
   ]
  },
  {
   "cell_type": "markdown",
   "metadata": {},
   "source": [
    "##  UML Summary\n",
    "\n",
    "*  <font color=#0000ff> **Class–Diagrams**</font>  zeigen die statischen Eigenschaften von Klassen und die (möglichen) Verbindungen  zwischen ihnen. \n",
    "*  <font color=#0000ff> **Object–Diagrams**</font>  zeigen die konkreten Eigenschaften und Verbindungen für Objekte als   <font color=#ff0000> **Momentaufnahme**</font>  für ein bestimmtes Szenario. \n",
    "*  <font color=#0000ff> **Sequence-Diagrams**</font>  zeigen den zeitlichen Ablauf, die Kommunikation der beteiligten Objekte für ein bestimmtes Szenario.  \n",
    "\n",
    "Das ist  noch nicht alles: Darüberhinaus gibt's   <font color=#008000> *use-case–Diagrams, Collaboration–Diagrams, Package–Diagram, ...*</font> \n",
    "\n",
    "siehe z.B.: [UML Quick Reference](http://www.holub.com/goodies/uml/index.html)\n",
    "\n",
    "---\n",
    "\n",
    "Für große OO–Projekte mit professionellen Teams spielt   <font color=#0000ff> **formales UML Design**</font>  wichtige Rolle: 30-60 % des Aufwands.  \n",
    "* Umfassende Schulung nötig \n",
    "* Mächtige kommerzielle Tools für UML Design:    <font color=#008000> *Rational Rose, Together, ...*</font> \n",
    "  * Design in allen Details in UML Diagrammen $\\Rightarrow$ automatische Generierung  von Source–Code daraus \n",
    "  * analog   <font color=#0000ff> **re-engineering**</font> : Tools analysieren existierenden Code und  erstellen UML Diagramme  \n",
    "  \n",
    "Aber auch im kleineren Maßstab   <font color=#008000> *(Projekte in Physik)*</font>  sehr nützlich:  \n",
    "* UML Diagramme als einfache Skizzen per Hand oder mit   <font color=#0000ff> **Umbrello**</font>  Programm   <font color=#008000> *(Linux-tool)*</font> \n",
    "* Gute Basis  für Diskussionen   <font color=#008000> *(cf Source-Code)*</font>         und zur Dokumentation \n",
    "* Präzises Erfassen der Anforderungen am besten über Diskussion von   <font color=#0000ff> **use–cases**</font> $\\Rightarrow$ <font color=#0000ff> **Sequence-Diagrams**</font> \n",
    "\n"
   ]
  }
 ],
 "metadata": {
  "kernelspec": {
   "display_name": "Python 3",
   "language": "python",
   "name": "python3"
  },
  "language_info": {
   "codemirror_mode": {
    "name": "ipython",
    "version": 3
   },
   "file_extension": ".py",
   "mimetype": "text/x-python",
   "name": "python",
   "nbconvert_exporter": "python",
   "pygments_lexer": "ipython3",
   "version": "3.6.9"
  }
 },
 "nbformat": 4,
 "nbformat_minor": 3
}