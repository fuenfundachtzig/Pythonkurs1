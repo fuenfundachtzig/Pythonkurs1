{
 "cells": [
  {
   "cell_type": "markdown",
   "metadata": {},
   "source": [
    "[Node 55: XML Basics](http://www-static.etp.physik.uni-muenchen.de/kurs/Computing/python2/node55.html)"
   ]
  },
  {
   "cell_type": "markdown",
   "metadata": {},
   "source": [
    "Navigation:\n",
    "\n",
    "**Next:** [XML Struktur im Detail](node56.ipynb) **Up:** [Datenformate II – XML](node53.ipynb) **Previous:** [HTML](node54.ipynb)"
   ]
  },
  {
   "cell_type": "markdown",
   "metadata": {},
   "source": [
    "##  XML Basics\n",
    " \n",
    "XML (eXtensible Markup Language) ist dasselbe Konzept: Der Inhalt wird mit   <font color=#0000ff> **Tags**</font>  klassifiziert (\"ausgezeichnet\").\n",
    "\n",
    "Nur sind die Tags in XML nicht vorgegeben, sondern frei definierbar  (=eXtensible).  \n",
    "* Universeller Standard für Datenaustausch zwischen verschiedenen  Anwendungen (Application Neutrality):  \n",
    "  <font color=#008000> *Erzeugen mit Java und Weiterverarbeiten mit Python, ...*</font> \n",
    "  Unabhänging von Plattform (Unix, Windows, Mac, ...)  \n",
    "* Erweiterbar ohne dass vorhandene Anwendungen angepasst werden müssen  \n",
    "* Direkt lesbar und mit einfachem Texteditor zu bearbeiten  (mehr oder weniger ...)  "
   ]
  },
  {
   "cell_type": "markdown",
   "metadata": {},
   "source": [
    "Erstes einfaches Beispiel:\n",
    "```xml\n",
    "<?xml version=\"1.0\" encoding=\"ISO-8859-1\"? > \n",
    "<Class> \n",
    "<Student name=\"Mueller\" prename=\"Max\"> \n",
    "<ID>123498765</ID> \n",
    "<Grade>2.0</Grade> \n",
    "</Student> \n",
    "<Student name=\"Kunz\" prename=\"Maria\"> \n",
    "<ID>123498762</ID> \n",
    "<Grade>3.0</Grade> \n",
    "</Student> \n",
    "</Class> \n",
    "<Student name=\"Hinz\" prename=\"Karl\"> \n",
    "<ID>12349879</ID> \n",
    "<Grade>3.3</Grade> \n",
    "</Student> \n",
    "</Class>\n",
    "```\n",
    "\n",
    "Ganz ähnlich wie HTML, nur kann man eben Datenfelder bzw. Tags selbst  bestimmen.  \n",
    "\n"
   ]
  }
 ],
 "metadata": {
  "kernelspec": {
   "display_name": "Python 3",
   "language": "python",
   "name": "python3"
  },
  "language_info": {
   "codemirror_mode": {
    "name": "ipython",
    "version": 3
   },
   "file_extension": ".py",
   "mimetype": "text/x-python",
   "name": "python",
   "nbconvert_exporter": "python",
   "pygments_lexer": "ipython3",
   "version": "3.6.9"
  }
 },
 "nbformat": 4,
 "nbformat_minor": 3
}