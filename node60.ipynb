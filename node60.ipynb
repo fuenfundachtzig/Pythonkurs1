{
 "cells": [
  {
   "cell_type": "markdown",
   "metadata": {},
   "source": [
    "[Node 60: Aufgaben](http://www-static.etp.physik.uni-muenchen.de/kurs/Computing/python2/node60.html)"
   ]
  },
  {
   "cell_type": "markdown",
   "metadata": {},
   "source": [
    "Navigation:\n",
    "\n",
    "[](node61.ipynb)[](node53.ipynb)[](node59.ipynb)\n",
    "\n",
    " **Next:** [Pandas – Datenanalyse mit](node61.ipynb) **Up:** [Datenformate II – XML](node53.ipynb) **Previous:** [Daten I/O – Summary](node59.ipynb)"
   ]
  },
  {
   "cell_type": "markdown",
   "metadata": {},
   "source": [
    "##  Aufgaben\n",
    "\n",
    "1.  **SAX** \n",
    "\n",
    "Testen Sie die vorgestellten Beispiele zu XML Prozessieren mit SAX.  \n",
    "\n",
    "1.  **Real-world Beispiel zu XML – 1** \n",
    "\n",
    "Datenaustausch via XML ist heute Quasi–Standard, viele Anwendungen bieten zumindest  optional Ausgabe in XML Format an. Dadurch einfaches weiterverarbeiten möglich.   Praktisches Beispiel aus unserem Bereich ist SGE Batch System am LRZ Linux Cluster.  Das Batch System verwaltet \"Jobs\" auf einem Rechnercluster und liefert Informationen  zum Status der laufenden Jobs wie z.B. Job-Id, verbrauchte CPU Zeit, Start-Zeit, Memory Bedarf, u.v.m. Diese Infos sind wichtig für Anwender, aber auch für Monitoring Systeme um die  Auslastung des Clusters zu Überwachen.    Eine Beispiel–Ausgabe enthält die xml-Datei [SGE-qstat.xml](http://www-static.etp.physik.uni-muenchen.de/kurs/Computing/python2/source/SGE-qstat.xml),  und ein simpler SAX Parser ist [SGE-qstat-parse.py](source/SGE-qstat-parse.py).   (a) Finden Sie Job-id, User-name, Startzeit und verbrauchte CPU Zeit der Jobs   (b) Wichtige Monitoring Grösse ist der Vergleich verbrauchte CPU Zeit zu abgelaufener  Wallclock-time. Niedrige Werte sind  Anzeichen für I/O lastige Jobs oder Probleme mit  Netzwerk oder Storage Systemen.  Bestimmen Sie CPU/Wallclock-time Verhältnis der Jobs und tragen Sie es in ein  Histogramm ein (matplotlib)   (Lösungsbeispiel: [SGEqstatparse2.py](source/SGEqstatparse2.py)).   \n",
    "\n",
    "1.  **Real-world Beispiel zu XML – 2** \n",
    "\n",
    "Weiteres Beispiel sind GPS Geräte, die für Navigation oder Freizeitsport verwendet werden.  Die Aufzeichnung der  “Tracks” erfolgt oft im sogenannten “gpx” Format, das ist in XML definiert und  erlaubt leichten Austausch der aufgezeichneten Tracks bzw. die Weiterverarbeitung der Daten.    Eine Beispiel–Track von MTB Tour in den Alpen enthält die Datei  [GPS_example.gpx](http://www-static.etp.physik.uni-muenchen.de/kurs/Computing/python2/source/GPS_example.gpx), mit Infos zu Position,  Datum/Uhrzeit, Höhe und Herzfrequenz.  Ein simples Parsing Skript ist [GPX-simple-parse.py](source/GPX-simple-parse.py).   (a) Machen Sie weiteren Plot zum Verlauf der Herzfrequenz ...   (b) ... und zur Geschwindigkeit. Dazu müssen Sie Abstand der einzelnen Punkte  und die Zeitdifferenz berechnen.  Hilfsfunktionen dafür sind in [gpxutil.py](source/gpxutil.py).   (Lösungsbeispiel: [GPX-parse.py](source/GPX-parse.py)).  Und  natürlich gibt es schon viele Programme zum Anzeigen von GPX-Dateien.\n",
    " \n",
    "1.  **JSON Beispiel** \n",
    "\n",
    "Der Inhalt von Tabellen bzw Spreadsheets kann bequem in JSON Format umgewandelt werden und dann in Python als Liste von   dicts eingelesen werden, jede Zeile ist dict-Element einer List. Die Spalten-Header sind die   <font color=#0000ff> **keys**</font>  des dicts.   Die Datei    [wlcg.json](source/wlcg.json) wurde von   [https://wlcg-rebus.cern.ch/apps/pledges/resources/](https://wlcg-rebus.cern.ch/apps/pledges/resources/) heruntergeladen und enthält die   <font color=#008000> *Pledges*</font>  (=Verpflichtungen)  einer Vielzahl von Rechenzentren, die Ressourcen für die Datenanalyse bei LHC bereitstellen.   Lesen Sie die Datei in python über json als Liste von Dicts ein, geben Sie die Disk Kapazität der Sites aus  Germany für ATLAS  aus und  bestimmen Sie die Summe.   (Lösungsbeispiel: [wlcg_json.py](source/wlcg_json.py)).   \n",
    "\n",
    "1.  **Titanic Daten** \n",
    "\n",
    "Ein klassisches Beispiel zur Datenanalyse sind die Passagierdaten der Titanic.  Sie finden die Daten im     [json](http://www-static.etp.physik.uni-muenchen.de/kurs/Computing/python2/source/titanic.json), [csv](http://www-static.etp.physik.uni-muenchen.de/kurs/Computing/python2/source/titanic.csv), [sqlite-db](http://www-static.etp.physik.uni-muenchen.de/kurs/Computing/python2/source/titanic.db) Format.  Nehmen Sie Format Ihrer Wahl und bestimmen Sie die Überlebenswahrscheinlichkeit getrennt  nach Geschlecht und Klasse (Spalten sex bzw. class).   (Lösungsbeispiel:  [sql](source/titanic_chk.py),   [json](source/ana_titanic_json.py))  "
   ]
  }
 ],
 "metadata": {
  "kernelspec": {
   "display_name": "Python 3",
   "language": "python",
   "name": "python3"
  },
  "language_info": {
   "codemirror_mode": {
    "name": "ipython",
    "version": 3
   },
   "file_extension": ".py",
   "mimetype": "text/x-python",
   "name": "python",
   "nbconvert_exporter": "python",
   "pygments_lexer": "ipython3",
   "version": "3.6.9"
  }
 },
 "nbformat": 4,
 "nbformat_minor": 3
}