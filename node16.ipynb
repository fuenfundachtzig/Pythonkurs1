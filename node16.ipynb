{
 "cells": [
  {
   "cell_type": "markdown",
   "metadata": {},
   "source": [
    "[Node 16: Threads and Multi–Processing](http://www-static.etp.physik.uni-muenchen.de/kurs/Computing/python2/node16.html)"
   ]
  },
  {
   "cell_type": "markdown",
   "metadata": {},
   "source": [
    "Navigation:\n",
    "\n",
    "**Next:** [Die Thread Klasse](node17.ipynb) **Up:** [PYTHON2 Kurs](node0.ipynb) **Previous:** [SWIG](node15.ipynb)"
   ]
  },
  {
   "cell_type": "markdown",
   "metadata": {},
   "source": [
    "#  Threads and Multi–Processing\n",
    "Python unterstützt   <font color=#008000> *Multi–Threading*</font>. Im wesentlichen heißt das, dass aus einem Python-Programm heraus mehrere, “parallell laufende” Prozesse (= <font color=#008000> *Threads*</font>) gestartet werden können.   \n",
    "\n",
    "Historie:  \n",
    "* In frühen Computern wurde ein Programm vom Anfang bis Ende ausgeführt,  erst dann wurde das nächste Programm gestartet $\\Rightarrow$ <font color=#008000> *Batch–Processing*</font> \n",
    "* Modernere Betriebssysteme unterstützen   <font color=#008000> *Multi–Tasking*</font> , d.h. über einen Time–sharing Mechanismus wird die CPU-time auf die verschiedenen Prozesse verteilt. Auf Single-CPU Rechner läuft natürlich jeweils nur  ein Prozess aber nach typisch einigen Millisekunden ist der nächste an der Reihe $\\Rightarrow$ Basis für   <font color=#008000> *interaktive Multi–User Systeme*</font>  \n",
    "\n",
    "Die einzelnen Prozesse laufen aber völlig getrennt, jedes Programm hat seinen eigenen Speicherbereich, seine eigenen Variablen, usw. \n",
    "*  <font color=#008000> *Multi–Threading*</font>  geht darüber hinaus. Es laufen “gleichzeitig” mehrere Versionen   <font color=#008000> *eines*</font>  Programms auf einem Rechenknoten, die alle auf den   <font color=#008000> *gleichen*</font>  Speicherbereich zugreifen. \n",
    "$\\Rightarrow$ Heikel, mögliche Konflikte beim Zugriff auf Speicherbereiche (Lesen Schreiben, Löschen). \n",
    "*  <font color=#008000> *Multi–Processing:*</font>  Programme laufen parallel, aber unabhängig,  d.h. kein gemeinsamer Speicherbereich. Explizite Tools für Kommunikation nötig.  Kann auch auf mehrere/viele Rechenknoten verteilt sein.  "
   ]
  },
  {
   "cell_type": "markdown",
   "metadata": {},
   "source": [
    "**Neuer Trend im Programmieren: Concurrency = Multithreading**  \n",
    " \n",
    "Bis vor kurzem war Multi-Threading auf spezielle Anwendungen beschränkt (GUIs,  Steuerung, Server-Prozesse)  und etwas für Experten.   \n",
    "\n",
    "Allerdings seit ca. 10 Jahren Zeit Trendwende bei Hardware Entwicklung:  \n",
    "* Leistungssteigerung der Prozessoren durch steigende Taktraten und optimierte  Prozessorabläufe ziemlich ausgereizt, jedenfalls stark verlangsamt. \n",
    "* Stattdessen Einführung von   <font color=#0000ff> **Multi-Core**</font>  CPUs, d.h. mehrere Prozessorkerne auf einem Chip. Zur Zeit 2-4 Cores schon gängig bei Smartphones und Laptops, 8 Cores bei Desktop Systemen und 16–80 Cores bei Servern, Trend zu mehr Cores hält an. \n",
    "* Performance in Zukunft v.a. durch mehr Prozessorkerne, nur noch langsame  Fortschritte bei einzelnen Prozessoren.  \n",
    "\n",
    "Verlangt zwingend   <font color=#0000ff> **multi-threaded**</font>  Programme um Leistungssteigerungen auszunutzen.   Siehe auch Artikel von Herb Sutter: [ **The Free Lunch Is Over** ](http://www.gotw.ca/publications/concurrency-ddj.htm)\n",
    "\n",
    "---\n",
    "\n",
    " **Historie Transistor/CPU Entwicklung** ![Image 42-years-processor-trend](figures/42-years-processor-trend.png \"Image 42-years-processor-trend\")\n",
    "\n",
    "\n",
    "\n",
    "---\n",
    "\n",
    " **Subsections** \n",
    "* [Die Thread Klasse](node17.ipynb)\n",
    "* [Synchronisation](node18.ipynb)\n",
    "* [Python Threads und GIL](node19.ipynb)\n",
    "* [Python Multi-Processing](node20.ipynb)\n",
    "* [Aufgaben](node21.ipynb)\n",
    "\n",
    "---"
   ]
  },
  {
   "cell_type": "code",
   "execution_count": null,
   "metadata": {},
   "outputs": [],
   "source": []
  }
 ],
 "metadata": {
  "kernelspec": {
   "display_name": "Python 3",
   "language": "python",
   "name": "python3"
  },
  "language_info": {
   "codemirror_mode": {
    "name": "ipython",
    "version": 3
   },
   "file_extension": ".py",
   "mimetype": "text/x-python",
   "name": "python",
   "nbconvert_exporter": "python",
   "pygments_lexer": "ipython3",
   "version": "3.5.2"
  }
 },
 "nbformat": 4,
 "nbformat_minor": 3
}