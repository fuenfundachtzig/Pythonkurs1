{
 "cells": [
  {
   "cell_type": "markdown",
   "metadata": {},
   "source": [
    "[Node 48: Datenformate – I ](http://www-static.etp.physik.uni-muenchen.de/kurs/Computing/python2/node48.html)"
   ]
  },
  {
   "cell_type": "markdown",
   "metadata": {},
   "source": [
    "Navigation:\n",
    "\n",
    "**Next:** [Serialisieren mit Pickle](node49.ipynb) **Up:** [PYTHON2 Kurs](python2.html) **Previous:** [Aufgaben](node47.ipynb)"
   ]
  },
  {
   "cell_type": "markdown",
   "metadata": {},
   "source": [
    "#  Datenformate – I \n",
    "\n",
    "* Einführung \n",
    "* Object I/O (Serializing) \n",
    "* Database Access \n",
    "\n",
    "### Einführung\n",
    "\n",
    "Je nach Problemstellung kann Datenspeicherung relativ simpel sein, aber auch beliebig komplex. Ein paar illustrative Beispiele:  \n",
    "* Simple Messreihe von numerischen Werten: Direktes Abspeichern als Liste von Zahlen, Einlesen in Programm als entsprechenden Array/Liste. \n",
    "* Tabellenform: Jeder Eintrag (=Zeile) enthält mehrere Elemente,  Anzahl und Typ beliebig, aber fix. Z.B. Studentendaten (Name, Fach, Noten, ...). Speichern als ASCII-Datei oder Tabellenblatt oder csv-Datei. Oder auch  XML/JSON, wenn flexible Erweiterbarkeit gebraucht wird. \n",
    "  Einlesen/Verwenden in Programm z.B. als 2D-Liste oder Liste von Dicts.  \n",
    "* Verschachtelte Tabellen und Querverweise: Z.B. Daten für Facebook-Konto: persönliche Daten, Liste von Posts, Liste von Kommentaren,  Liste von Freunden, ...  \n",
    "  Je nach Anwendung/Komplexität: XML/JSON, Python-pickle, SQL Database, ...  \n",
    "\n",
    "\n",
    "\n",
    "## Unterkapitel\n",
    "* [Serialisieren mit  ``Pickle`` ](node49.ipynb)\n",
    "* [DB-API 2.0 SQL-Anbindungen](node50.ipynb)\n",
    "* [SQLite mit sqlite3](node51.ipynb)\n",
    "* [Aufgaben](node52.ipynb)\n",
    "\n",
    "\n",
    "\n"
   ]
  }
 ],
 "metadata": {
  "kernelspec": {
   "display_name": "Python 3",
   "language": "python",
   "name": "python3"
  },
  "language_info": {
   "codemirror_mode": {
    "name": "ipython",
    "version": 3
   },
   "file_extension": ".py",
   "mimetype": "text/x-python",
   "name": "python",
   "nbconvert_exporter": "python",
   "pygments_lexer": "ipython3",
   "version": "3.6.9"
  }
 },
 "nbformat": 4,
 "nbformat_minor": 3
}