{
 "cells": [
  {
   "cell_type": "markdown",
   "metadata": {},
   "source": [
    "[Node 38: Mit PDB debuggen](http://www-static.etp.physik.uni-muenchen.de/kurs/Computing/python2/node38.html)"
   ]
  },
  {
   "cell_type": "markdown",
   "metadata": {},
   "source": [
    "Navigation:\n",
    "\n",
    "**Next:** [Aufgaben](node39.ipynb) **Up:** [Entwicklung mit Tests](node36.ipynb) **Previous:** [TDD Beispiel](node37.ipynb)"
   ]
  },
  {
   "cell_type": "markdown",
   "metadata": {},
   "source": [
    "##  Mit PDB debuggen\n",
    "Manchmal schlägt ein Test fehl, und es ist nicht sofort ersichtlich, wo der Fehler liegt. In diesem Fall ist die einfachste Methode einige   <font color=#0000e6> ``print``</font>  Befehle in den code einzufügen, um aktuelle  Variableninhalte anzuzeigen. Als Beispiel soll folgender, “falscher” Code dienen, in dem die Werte subtrahiert anstatt addiert werden und  zusätzlich noch einige   <font color=#0000e6> ``print``</font>  Ausgaben gemacht werden:\n",
    "```python\n",
    "class Rechner(object):\n",
    " \n",
    "    def add(self, x, y):\n",
    "        number_typen = (int, float, complex)\n",
    " \n",
    "        if isinstance(x, number_typen) and isinstance(y, number_typen):\n",
    "            print ('X = %s' %x)\n",
    "            print ('Y = %s' %y)\n",
    "            res = x - y\n",
    "            print ('Res = %s' %res)\n",
    "            return res\n",
    "        else:\n",
    "            raise ValueError\n",
    "```"
   ]
  },
  {
   "cell_type": "markdown",
   "metadata": {},
   "source": [
    "Das Ergebnis des Tests zeigt auch die zusätzlichen Bildschirmausgaben an:\n",
    "<pre>\n",
    "> nosetests\n",
    "F...\n",
    "======================================================================\n",
    "FAIL: test_rechner_add_method_gibt_richtiges_ergebnis (test.test_rechner.TddBeispiel)\n",
    "----------------------------------------------------------------------\n",
    "Traceback (most recent call last):\n",
    "  File \"/home/j/Johannes.Elmsheuser/cip_home/python/mytest/test/test_rechner.py\", line 11, in test_rechner_add_method_gibt_richtiges_ergebnis\n",
    "    self.assertEqual(4, res)\n",
    "AssertionError: 4 != 0\n",
    "-------------------- >> begin captured stdout << ---------------------\n",
    "X = 2\n",
    "Y = 2\n",
    "Res = 0\n",
    "--------------------- >> end captured stdout << ----------------------\n",
    "----------------------------------------------------------------------\n",
    "Ran 4 tests in 0.021s\n",
    "FAILED (failures=1)\n",
    "</pre>"
   ]
  },
  {
   "cell_type": "markdown",
   "metadata": {},
   "source": [
    " Bei fortgeschrittenem Programmcode sollte man einen Debugger, wie z.B.   <font color=#0000e6> ``pdb``</font>  verwenden. Diesen Debugger kann man einfach mit einem   <font color=#0000e6> ``import pdb``</font>  ins das Programm einbinden und den Programmablauf mit einem sog. “breakpoint” unterbrechen, wie in folgendem Beispiel gezeigt:\n",
    "```python\n",
    "class Rechner(object):\n",
    " \n",
    "    def add(self, x, y):\n",
    "        number_typen = (int, float, complex)\n",
    " \n",
    "        if isinstance(x, number_typen) and isinstance(y, number_typen):\n",
    "            import pdb; pdb.set_trace()\n",
    "            return x - y\n",
    "        else:\n",
    "            raise ValueError\n",
    "```"
   ]
  },
  {
   "cell_type": "markdown",
   "metadata": {},
   "source": [
    "Mit dem zusätzlichen Parameter   <font color=#0000e6> ``nosetests -s``</font>  erhält man nun den interaktiven   <font color=#0000e6> ``pdb``</font>-Prompt (ohne ``-s`` \"hängt\" es, weil es vergeblich auf Eingabe wartet):"
   ]
  },
  {
   "cell_type": "markdown",
   "metadata": {},
   "source": [
    "<pre>\n",
    "> nosetests -s\n",
    "> /tmp/ut/mytest/app/rechner.py(8)add()\n",
    "-> return x - y\n",
    "(Pdb) list\n",
    "  3  \t    def add(self, x, y):\n",
    "  4  \t        number_typen = (int, float, complex)\n",
    "  5  \t\n",
    "  6  \t        if isinstance(x, number_typen) and isinstance(y, number_typen):\n",
    "  7  \t            import pdb; pdb.set_trace()\n",
    "  8  ->\t            return x - y\n",
    "  9  \t        else:\n",
    " 10  \t            raise ValueError\n",
    "[EOF]\n",
    "(Pdb) \n",
    "</pre>"
   ]
  },
  {
   "cell_type": "markdown",
   "metadata": {},
   "source": [
    "Man kann jetzt interaktiv z.B. die Werte von   <font color=#0000e6> ``x``</font>  und   <font color=#0000e6> ``y``</font>   anzeigen lassen oder schrittweise das Programm weiter ausführen. Eine nützliche Befehle von   <font color=#0000e6> ``pdb``</font>  sind:  \n",
    "*  <font color=#0000e6> ``n``</font> : einen Schritt weiter zur nächsten Programmzeile \n",
    "*  <font color=#0000e6> ``list``</font> : 5 Programmzeilen vor und nach dem aktuellen “breakpoint” anzeigen \n",
    "*  <font color=#0000e6> ``args``</font> : Aktuelle Variablen anzeigen. \n",
    "*  <font color=#0000e6> ``continue``</font> : Das Programm bis zum Ende ausführen \n",
    "*  <font color=#0000e6> ``jump <line number>``</font> : Bis zur Zeile   <font color=#0000e6> ``<line number>``</font>   springen \n",
    "*  <font color=#0000e6> ``quit/exit``</font> :   <font color=#0000e6> ``pdb``</font>  beenden \n"
   ]
  }
 ],
 "metadata": {
  "kernelspec": {
   "display_name": "Python 2",
   "language": "python",
   "name": "python2"
  },
  "language_info": {
   "codemirror_mode": {
    "name": "ipython",
    "version": 2
   },
   "file_extension": ".py",
   "mimetype": "text/x-python",
   "name": "python",
   "nbconvert_exporter": "python",
   "pygments_lexer": "ipython2",
   "version": "2.7.12"
  }
 },
 "nbformat": 4,
 "nbformat_minor": 3
}