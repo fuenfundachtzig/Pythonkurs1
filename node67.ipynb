{
 "cells": [
  {
   "cell_type": "markdown",
   "metadata": {},
   "source": [
    "[Node 67: Webprogrammierung und Django](http://www-static.etp.physik.uni-muenchen.de/kurs/Computing/python2/node67.html)"
   ]
  },
  {
   "cell_type": "markdown",
   "metadata": {},
   "source": [
    "Navigation:\n",
    "\n",
    "**Next:** [Web-Programmierung](node68.ipynb) **Up:** [PYTHON2 Kurs](node0.ipynb) **Previous:** [Aufgaben](node66.ipynb)"
   ]
  },
  {
   "cell_type": "markdown",
   "metadata": {},
   "source": [
    "#  Web-Programmierung und Django\n",
    "\n",
    "## Unterkapitel\n",
    "* [Web-Programmierung](node68.ipynb)\n",
    "* [Web-Framework Django](node69.ipynb)\n",
    "* [Aufgaben](node70.ipynb)"
   ]
  }
 ],
 "metadata": {
  "kernelspec": {
   "display_name": "Python 2",
   "language": "python",
   "name": "python2"
  },
  "language_info": {
   "codemirror_mode": {
    "name": "ipython",
    "version": 2
   },
   "file_extension": ".py",
   "mimetype": "text/x-python",
   "name": "python",
   "nbconvert_exporter": "python",
   "pygments_lexer": "ipython2",
   "version": "2.7.12"
  }
 },
 "nbformat": 4,
 "nbformat_minor": 3
}