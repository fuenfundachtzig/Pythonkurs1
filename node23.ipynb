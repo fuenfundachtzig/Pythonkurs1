{
 "cells": [
  {
   "cell_type": "markdown",
   "metadata": {},
   "source": [
    "[Node 23: Objektorientiertes Programmieren – Allgemeines](http://www-static.etp.physik.uni-muenchen.de/kurs/Computing/python2/node23.html)"
   ]
  },
  {
   "cell_type": "markdown",
   "metadata": {},
   "source": [
    "Navigation:\n",
    "\n",
    " **Next:** [UML - Unified Modelling](node24.ipynb) **Up:** [PYTHON2 Kurs](python2.html) **Previous:** [Numpy,Scipy und Matplotlib](node22.ipynb)"
   ]
  },
  {
   "cell_type": "markdown",
   "metadata": {},
   "source": [
    "#  Objektorientiertes Programmieren –  Allgemeines\n",
    " Zitat:    <font color=#0000ff> **Eine objektorientierte Programmiersprache ist weder eine notwendige  noch eine hinreichende Bedingung für objektorientiertes Programmieren**</font>  \n",
    " \n",
    " Objektorientiertes Programmieren heisst   \n",
    "* Denken, Modellieren, Designen, Implementieren in Objekten \n",
    "* Objekte kommunizieren über definierte Interfaces direkt miteinander \n",
    "* anstatt sequentiellem Aufruf aus Hauptprogramm \n",
    "* OO Sprache wie Java, C++ oder Python äusserst hilfreich für Umsetzung aber Grund–Idee auch in C oder Pascal möglich. \n",
    "* Prozedurales Programmieren oder Spaghetti–Code auch in C++, Java, Python möglich (  <font color=#008000> *“Ich programmiere Fortran, egal in welcher Sprache”*</font> ) \n",
    "\n",
    "\n",
    "## Unterkapitel\n",
    "* [UML - Unified Modelling Language](node24.ipynb)\n",
    "* [Wozu UML ?](node25.ipynb)\n",
    "* [Klassen in  UML](node26.ipynb)\n",
    "* [Beziehungen zwischen Klassen](node27.ipynb)\n",
    "* [Objekt-Diagramme](node28.ipynb)\n",
    "* [Sequenz-Diagramme](node29.ipynb)\n",
    "* [UML Summary](node30.ipynb)\n",
    "* [Software Engineering](node31.ipynb)\n",
    "* [Software Engineering Modelle](node32.ipynb)\n",
    "* [Code&Fix – ein Beispiel](node33.ipynb)\n",
    "* [Grundlegende (Objekt–Orientierte) Design  – Prinzipien](node34.ipynb)\n",
    "* [Aufgaben](node35.ipynb)\n",
    "\n",
    "\n",
    "\n"
   ]
  }
 ],
 "metadata": {
  "kernelspec": {
   "display_name": "Python 3",
   "language": "python",
   "name": "python3"
  },
  "language_info": {
   "codemirror_mode": {
    "name": "ipython",
    "version": 3
   },
   "file_extension": ".py",
   "mimetype": "text/x-python",
   "name": "python",
   "nbconvert_exporter": "python",
   "pygments_lexer": "ipython3",
   "version": "3.6.9"
  }
 },
 "nbformat": 4,
 "nbformat_minor": 3
}