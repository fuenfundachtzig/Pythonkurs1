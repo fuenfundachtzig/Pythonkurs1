{
 "cells": [
  {
   "cell_type": "markdown",
   "metadata": {},
   "source": [
    "[Node 6: Python Grundlagen](http://www-static.etp.physik.uni-muenchen.de/kurs/Computing/python2/node6.html)"
   ]
  },
  {
   "cell_type": "markdown",
   "metadata": {},
   "source": [
    "Navigation:\n",
    "\n",
    "**Next:** [Weitergehende und häufig verwendete](node7.ipynb) **Up:** [PYTHON2 Kurs](node0.ipynb) **Previous:** [Python Features](node5.ipynb)"
   ]
  },
  {
   "cell_type": "markdown",
   "metadata": {},
   "source": [
    "#   Python Grundlagen\n",
    "\n",
    "* Die ersten Schritte – Interaktiv, Skripte ausführen \n",
    "* Python Operationen  \n",
    "* Grundlegende Datentypen und Definition von Variablen  \n",
    "* Strings und Container (Lists, Tuples, Dictionaries) \n",
    "* Control-statements \n",
    "* Funktionen  \n",
    "* Basic I/O \n",
    "*  **Klassen und Objekte** \n",
    "* Vererbung \n",
    "* Exception Handling  \n",
    "* ... und viele Aufgaben ...  \n",
    "\n",
    "siehe Kurs-1 [ **Python für Physiker** ](http://www.etp.physik.uni-muenchen.de/kurs/Computing/python)\n",
    "\n",
    "---"
   ]
  }
 ],
 "metadata": {
  "kernelspec": {
   "display_name": "Python 2",
   "language": "python",
   "name": "python3"
  },
  "language_info": {
   "codemirror_mode": {
    "name": "ipython",
    "version": 2
   },
   "file_extension": ".py",
   "mimetype": "text/x-python",
   "name": "python",
   "nbconvert_exporter": "python",
   "pygments_lexer": "ipython3",
   "version": "3.5.2"
  }
 },
 "nbformat": 4,
 "nbformat_minor": 3
}