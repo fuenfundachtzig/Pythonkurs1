{
 "cells": [
  {
   "cell_type": "markdown",
   "metadata": {},
   "source": [
    "[Node 9: Iterables und Generatoren (yield)](http://www-static.etp.physik.uni-muenchen.de/kurs/Computing/python2/node9.html)"
   ]
  },
  {
   "cell_type": "markdown",
   "metadata": {},
   "source": [
    "Navigation:\n",
    "\n",
    "[](node10.ipynb)[](node7.ipynb)[](node8.ipynb)\n",
    "\n",
    " **Next:** [Funktionsaufrufe](node10.ipynb) **Up:** [Weitergehende und häufig verwendete](node7.ipynb) **Previous:** [Tools für Listen und](node8.ipynb)"
   ]
  },
  {
   "cell_type": "markdown",
   "metadata": {},
   "source": [
    "##  Iterables und Generatoren (yield)\n",
    " Listen, Dicts, etc, sind sogenannte   <font color=#008000> *Iterables*</font> , d.h. alles  über was man  in einer   <font color=#0000e6> ``for ... in ...``</font>   Schleife drüberlaufen kann, also z.B.:"
   ]
  },
  {
   "cell_type": "code",
   "execution_count": null,
   "metadata": {},
   "outputs": [],
   "source": [
    "mylist = [x*x for x in range(3)]\n",
    "for i in mylist:\n",
    "   print(i)\n",
    "mylist"
   ]
  },
  {
   "cell_type": "markdown",
   "metadata": {},
   "source": [
    " Bei Listen werden alle Elemente der Liste erzeugt und im Speicher abgelegt, das kann ggf. sehr viel sein.   Als Alternative gibt es   <font color=#008000> *Generators*</font> :"
   ]
  },
  {
   "cell_type": "code",
   "execution_count": null,
   "metadata": {},
   "outputs": [],
   "source": [
    "mygenerator = (x*x for x in range(3))\n",
    "mygenerator"
   ]
  },
  {
   "cell_type": "code",
   "execution_count": null,
   "metadata": {},
   "outputs": [],
   "source": [
    "for i in mygenerator:\n",
    "   print(i)"
   ]
  },
  {
   "cell_type": "markdown",
   "metadata": {},
   "source": [
    " Verwendung hier fast identisch, nur Erzeugung mit runden Klammern statt eckigen. Und es wird Generator-Objekt angelegt, das man benutzen kann um   <font color=#0000ff> **einmal**</font>  die Werte   <font color=#0000ff> **nacheinander**</font>   abzurufen, es wird dabei jeweils nur das aktuelle Element angelegt, und am Ende ist das Generator Objekt fertig, d.h. man kann mit   <font color=#0000e6> ``for i in mygenerator:``</font>  nicht nochmal durchlaufen.   "
   ]
  },
  {
   "cell_type": "markdown",
   "metadata": {},
   "source": [
    "Man kann diese Funktionalität auch mittels sogenanter   <font color=#008000> *Generator-Funktionen*</font>  und   <font color=#0000ff> **yield**</font>  erreichen:"
   ]
  },
  {
   "cell_type": "code",
   "execution_count": null,
   "metadata": {},
   "outputs": [],
   "source": [
    "# a generator that yields items instead of returning a list\n",
    "def firstnsq(n):\n",
    "    num = 0\n",
    "    while num < n:\n",
    "        yield num*num\n",
    "        num += 1\n",
    "mygen = firstnsq(3)\n",
    "for i in mygen:\n",
    "   print(i)"
   ]
  },
  {
   "cell_type": "markdown",
   "metadata": {},
   "source": [
    " Das Key-word   <font color=#0000ff> **yield**</font>  entspricht etwa dem   <font color=#0000ff> **return**</font>  bei normalen Funktionen, nur der Ablauf ist anders:  \n",
    "* Aufruf   <font color=#0000e6> ``mygen = firstnsq(3)``</font>  führt nicht den Generator-Code aus sondern erzeugt nur Generator-Objekt \n",
    "* Beim 1. Aufruf des Objekts in   <font color=#0000e6> ``for``</font>  Schleife werden Anweisungen wie in Funktion ausgeführt bis    <font color=#0000e6> ``yield``</font>  kommt, dann bricht Generator ab und liefert Wert zurück \n",
    "* Bei weiteren Aufrufen wird die Schleife im Generator bis zum nächsten   <font color=#0000e6> ``yield``</font>  fortgeführt. \n",
    "* Falls kein   <font color=#0000e6> ``yield``</font>  mehr kommt ist der Generator zu Ende (=fertig).  "
   ]
  },
  {
   "cell_type": "markdown",
   "metadata": {},
   "source": [
    "Statt mit   <font color=#0000e6> ``for ... in ...``</font>   Schleife kann man auch mit   <font color=#0000e6> ``next(...)``</font>  die einzelnen Werte abrufen:"
   ]
  },
  {
   "cell_type": "code",
   "execution_count": null,
   "metadata": {},
   "outputs": [],
   "source": [
    "mygen = firstnsq(3)\n",
    "mygen"
   ]
  },
  {
   "cell_type": "code",
   "execution_count": null,
   "metadata": {},
   "outputs": [],
   "source": [
    "next(mygen)"
   ]
  },
  {
   "cell_type": "code",
   "execution_count": null,
   "metadata": {},
   "outputs": [],
   "source": [
    "next(mygen)"
   ]
  },
  {
   "cell_type": "markdown",
   "metadata": {},
   "source": [
    "..."
   ]
  },
  {
   "cell_type": "markdown",
   "metadata": {},
   "source": [
    "Mehr dazu in dieser [Erklärung](http://stackoverflow.com/questions/231767/what-does-the-yield-keyword-do-in-python).  \n"
   ]
  }
 ],
 "metadata": {
  "kernelspec": {
   "display_name": "Python 3",
   "language": "python",
   "name": "python3"
  },
  "language_info": {
   "codemirror_mode": {
    "name": "ipython",
    "version": 3
   },
   "file_extension": ".py",
   "mimetype": "text/x-python",
   "name": "python",
   "nbconvert_exporter": "python",
   "pygments_lexer": "ipython3",
   "version": "3.5.2"
  }
 },
 "nbformat": 4,
 "nbformat_minor": 3
}