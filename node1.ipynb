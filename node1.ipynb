{
 "cells": [
  {
   "cell_type": "markdown",
   "metadata": {},
   "source": [
    "[Node 1: Schlüsselqualifikation für Bachelor/Master](http://www-static.etp.physik.uni-muenchen.de/kurs/Computing/python2/node1.html)"
   ]
  },
  {
   "cell_type": "markdown",
   "metadata": {},
   "source": [
    "Navigation:\n",
    "\n",
    "**Next:** [Allgemeines](node2.ipynb) \n",
    "**Up:** [PYTHON2 Kurs](node0.ipynb) \n",
    "**Previous:** [PYTHON2 Kurs](node0.ipynb)"
   ]
  },
  {
   "cell_type": "markdown",
   "metadata": {},
   "source": [
    "#  Schlüsselqualifikation für Bachelor/Master\n",
    "\n",
    "* Einwöchiger Blockkurs jeweils equivalent zu SQ 1+2, d.h. \n",
    "\n",
    " <font color=#ff0000> **1. Kurs = Python für Physiker = SQ1+2 = 3 ECTS Punkte**</font> \n",
    "\n",
    " <font color=#ff0000> **2. Kurs = Fortgeschrittenes Programmieren in Python  = SQ1+2 = 3 ECTS Punkte**</font> \n",
    "\n",
    " aber nur einmal anrechenbar!  \n",
    "* Erfolgreiches Bestehen der Leistungskontrolle (= schriftlicher Kurztest am Ende)  ist Kriterium für Punktevergabe   \n",
    "* Zusammen mit den Klausuraufgaben verteilen wir die Scheinformulare, die Sie ausfüllen und  mit der Klausur abgeben.   \n",
    "* Wenn die Korrektur fertig ist wird es hier auf der Kurs-Homepage angekündigt. Diejenigen, die nicht bestanden haben, werden per Email benachrichtigt. Alle anderen können ihre Scheine ab ca. Ende April im Prüfungsamt abholen. In dringenden Fällen können Sie den Schein auch bei uns vorher abholen, bitte per Email vereinbaren.  \n",
    "\n",
    "\n",
    "\n",
    "---"
   ]
  }
 ],
 "metadata": {
  "kernelspec": {
   "display_name": "Python 2",
   "language": "python",
   "name": "python3"
  },
  "language_info": {
   "codemirror_mode": {
    "name": "ipython",
    "version": 2
   },
   "file_extension": ".py",
   "mimetype": "text/x-python",
   "name": "python",
   "nbconvert_exporter": "python",
   "pygments_lexer": "ipython3",
   "version": "3.5.2"
  }
 },
 "nbformat": 4,
 "nbformat_minor": 3
}