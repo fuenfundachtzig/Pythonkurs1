{
 "cells": [
  {
   "cell_type": "markdown",
   "metadata": {},
   "source": [
    "[Node 45: IPython Profiling](http://www-static.etp.physik.uni-muenchen.de/kurs/Computing/python2/node45.html)"
   ]
  },
  {
   "cell_type": "markdown",
   "metadata": {},
   "source": [
    "Navigation:\n",
    "\n",
    "**Next:** [Weitere Links](node46.ipynb) **Up:** [Profiling von Programmen](node40.ipynb) **Previous:** [Line Profiler](node44.ipynb)"
   ]
  },
  {
   "cell_type": "markdown",
   "metadata": {},
   "source": [
    "## Profiling in IPython \n",
    "[IPython](https://ipython.org/) (Interaktives Python) ist ein Programmpaket, das auf Python aufbaut und, neben vielem anderen, die Kommandozeilenumgebung erweitert.\n",
    "\n",
    "Innerhalb von IPython kann auch der Profiler bzw. der `line_profiler` verwendet werden. Mit dem Kommando   <font color=#0000e6> ``%prun``</font>  kann der Profiler für eine vorher geladene Funktion ausgeführt werden:"
   ]
  },
  {
   "cell_type": "code",
   "execution_count": null,
   "metadata": {},
   "outputs": [],
   "source": [
    "import numpy as np\n",
    "import numpy.random as rdn\n",
    "\n",
    "def test():\n",
    "    a = rdn.randn(100000)\n",
    "    b = rdn.randn(100000)\n",
    "    c = a * b\n",
    "\n",
    "%prun test()"
   ]
  },
  {
   "cell_type": "markdown",
   "metadata": {},
   "source": [
    " Der `line_profiler` kann folgendermaßen verwendet werden:"
   ]
  },
  {
   "cell_type": "code",
   "execution_count": null,
   "metadata": {},
   "outputs": [],
   "source": [
    "%load_ext line_profiler\n",
    "%lprun -f test test()"
   ]
  }
 ],
 "metadata": {
  "kernelspec": {
   "display_name": "Python 3",
   "language": "python",
   "name": "python3"
  },
  "language_info": {
   "codemirror_mode": {
    "name": "ipython",
    "version": 3
   },
   "file_extension": ".py",
   "mimetype": "text/x-python",
   "name": "python",
   "nbconvert_exporter": "python",
   "pygments_lexer": "ipython3",
   "version": "3.5.2"
  }
 },
 "nbformat": 4,
 "nbformat_minor": 3
}