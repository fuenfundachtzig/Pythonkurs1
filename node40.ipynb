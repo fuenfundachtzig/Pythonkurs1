{
 "cells": [
  {
   "cell_type": "markdown",
   "metadata": {},
   "source": [
    "[Node 40: Profiling von Programmen](http://www-static.etp.physik.uni-muenchen.de/kurs/Computing/python2/node40.html)"
   ]
  },
  {
   "cell_type": "markdown",
   "metadata": {},
   "source": [
    "Navigation:\n",
    "\n",
    "**Next:** [Einschub: Decorators](node41.ipynb) **Up:** [PYTHON2 Kurs](node0.ipynb) **Previous:** [Aufgaben](node39.ipynb)"
   ]
  },
  {
   "cell_type": "markdown",
   "metadata": {},
   "source": [
    "#  Profiling von Programmen\n",
    "> “We should forget about small efficiencies, say about 97% of the time: premature optimization is the root of all evil. Yet we should not pass up our opportunities in that critical 3%.” ([Donald Knuth](http://en.wikiquote.org/wiki/Donald_Knuth)) <!-- zitiert nach https://softwareengineering.stackexchange.com/questions/80084/is-premature-optimization-really-the-root-of-all-evil -->\n",
    "\n",
    "Man sollte normalerweise nicht im ersten Ansatz ein Programm im Hinblick auf die höchste Effizienz und Schnelligkeit programmieren, da hierdurch der Code üblicherweise schnell unübersichtlich wird und schwierig von Fehlern zu befreien ist. Das heißt, man sollte erstmal schauen, dass man ein funktionierendes Programm hat, das die  Spezifikationen <font color=#008000> *( = Tests!)*</font>  erfüllt, und erst danach bei Tests unter Real-Bedingungen die Performanz untersuchen und ggf. optimieren. Dazu gibt es spezielle   <font color=#0000ff> **profiling**</font>-Methoden, die eine systematische Optimierung bzw. die Suche nach  <font color=#008000> *Flaschenhälsen*</font>  erleichtern.  \n",
    "\n",
    "\n",
    "## Unterkapitel\n",
    "* [Einschub: Decorators](node41.ipynb)\n",
    "* [Einfacher Timer](node42.ipynb)\n",
    "* [Eingebauter Profiler](node43.ipynb)\n",
    "* [Line Profiler](node44.ipynb)\n",
    "* [IPython Profiling](node45.ipynb)\n",
    "* [Weitere Links](node46.ipynb)\n",
    "* [Aufgaben](node47.ipynb)\n",
    "\n",
    "\n"
   ]
  }
 ],
 "metadata": {
  "kernelspec": {
   "display_name": "Python 2",
   "language": "python",
   "name": "python2"
  },
  "language_info": {
   "codemirror_mode": {
    "name": "ipython",
    "version": 2
   },
   "file_extension": ".py",
   "mimetype": "text/x-python",
   "name": "python",
   "nbconvert_exporter": "python",
   "pygments_lexer": "ipython2",
   "version": "2.7.12"
  }
 },
 "nbformat": 4,
 "nbformat_minor": 3
}