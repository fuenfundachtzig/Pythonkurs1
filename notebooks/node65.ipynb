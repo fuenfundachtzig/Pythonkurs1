{
 "cells": [
  {
   "cell_type": "markdown",
   "metadata": {},
   "source": [
    "[Node 65: Verteilte Programme mit XML-RPC](http://www-static.etp.physik.uni-muenchen.de/kurs/Computing/python2/node65.html)"
   ]
  },
  {
   "cell_type": "markdown",
   "metadata": {},
   "source": [
    "Navigation:\n",
    "\n",
    "**Next:** [Aufgaben](node66.ipynb) **Up:** [Netzwerkprogrammierung](node62.ipynb) **Previous:** [Module der Python-Standardbibliothek](node64.ipynb)"
   ]
  },
  {
   "cell_type": "markdown",
   "metadata": {},
   "source": [
    "##  Verteilte Programme mit XML-RPC\n",
    "\n",
    "XML-RPC (XML = Extensible Markup Language; RPC = Remote Procedure Call) ist ein synchrones Protokoll zum Aufruf entfernter Methoden: Es wird eine Methode in einem anderen Prozess oder Rechner aufgerufen und muss auf die Antwort gewartet werden. Der Aufruf kann mehrere Parameter haben und ein Ergebnis. \n",
    "\n",
    "Argumente und Rückgabewerte mit Typen werden als XML übertragen, ein Protokoll, das unabhängig von XML-RPC besteht, genauso wie das Übertragungsprotokoll HTTP oder HTTPS. (XML haben wir hier in [XML Basics](node55.ipynb) eingeführt.) \n",
    "\n",
    "Die Verwendung existierender Protokolle in XML-RPC erleichtert die Implementierung. XML-RPC ist ein etablierter, spachunabhängiger Standard, was erlaubt, dass Klienten und Server in unterschiedlichen Sprachen programmiert sein können. Eine Weiterentwicklung von XML-RPC ist z.B. der Industriestandard SOAP (Simple Object Access Protocol).\n",
    "\n",
    "In Python kann das [``xmlrpc``](https://docs.python.org/3/library/xmlrpc.html)-Model verwendet werden, das Server- und Klientfunktionalität bereitstellt."
   ]
  },
  {
   "cell_type": "markdown",
   "metadata": {},
   "source": [
    "Wir betrachten zwei Beispielprogramme:\n",
    "* [``xmlrpc_server.py``](source/xmlrpc_server.py) demonstriert, wie man einen XML-Server definiert und startet.  \n",
    "* [``xmlrpc_client.py``](source/xmlrpc_client.py) demonstriert, wie ein Klient die Server-Methoden aufruft. \n",
    "\n",
    "Der Server verwendet die Klasse `SimpleXMLRPCServer`:"
   ]
  },
  {
   "cell_type": "code",
   "execution_count": null,
   "metadata": {},
   "outputs": [],
   "source": [
    "from xmlrpc.server import SimpleXMLRPCServer\n",
    "SimpleXMLRPCServer?"
   ]
  },
  {
   "cell_type": "markdown",
   "metadata": {},
   "source": [
    "Bei Ausführung beider Programme gibt der Server ähnlich einem Webserver Daten über eingehende Abfragen aus:"
   ]
  },
  {
   "cell_type": "code",
   "execution_count": null,
   "metadata": {},
   "outputs": [],
   "source": [
    "!python3 source/xmlrpc_server.py\n",
    "# run \"python3 xmlrpc_client.py\" in external shell"
   ]
  },
  {
   "cell_type": "markdown",
   "metadata": {},
   "source": [
    "Um die XML-Nachrichten des Klienten zu sehen, setzen wir in `xmlrpc_client.py` das Flag ``verbose=True``:\n",
    "```python\n",
    "prx = xmlrpclib.ServerProxy('http://localhost:7070',\n",
    "                            allow_none=True, verbose=True)\n",
    "```\n",
    "Man beachte im Code, dass wir uns nicht um eine Kapselung der Daten und Datentypen kümmern brauchen. Dies wird vom Standard durch die Bereitstellung einer Reihe von grundlegenden Datentypen übernommen (Integer, Gleitkommazahl, boolesche Variablen, Zeichenketten, ein eigene Typ für Datum mit Uhrzeit und base64-kodierte binäre Daten). Diese können zu verschachtelten Listen und Sammlungen von Schlüssel-Wert-Paaren kombiniert werden."
   ]
  },
  {
   "cell_type": "markdown",
   "metadata": {},
   "source": [
    "---\n",
    "\n",
    "Ein Nachteil des bis jetzt konfigurierten XML-RPC-Servers ist, dass er nur einen Thread verwendet. \n",
    "Nachteile daraus sind:  \n",
    "* Funktion benötigt viel Zeit oder blockiert \n",
    "* Verbindung zwischen Klient und Server ist besonders langsam \n",
    "<!-- * Klient nimmt Daten nur sehr langsam entgegen  -->\n",
    "<!-- * viele Daten werden zwischen Klient und Server gesendet  ??-->\n",
    "\n",
    "Der Server sollte also mit mehreren Threads gestaltet werden:\n",
    "* [``xmlrpc_threadedserver.py``](source/xmlrpc_threadedserver.py) demonstiert, wie solch ein multi-threaded XML-Server definiert und gestartet wird.\n",
    "(Dies verwendet das Konzept der [\"mix-in\"s](https://coderbook.com/@marcus/deep-dive-into-python-mixins-and-multiple-inheritance/).)"
   ]
  },
  {
   "cell_type": "code",
   "execution_count": null,
   "metadata": {},
   "outputs": [],
   "source": [
    "!python3 source/xmlrpc_threadedserver.py"
   ]
  },
  {
   "cell_type": "markdown",
   "metadata": {},
   "source": [
    "Zur Demonstration wird in einem Fenster eine schnelle Methode wiederkehrend aufgerufen:\n",
    "```python\n",
    "import time\n",
    "import xmlrpc.client \n",
    "prx = xmlrpc.client.ServerProxy('http://localhost:7070') \n",
    "while True: \n",
    "    print(prx.FastFunc()) \n",
    "    time.sleep(0.1) \n",
    "```\n",
    "\n",
    "Gleichzeitig wird in einem anderen Fenster eine langsame Methode aufgerufen:\n",
    "```python\n",
    "import xmlrpc.client\n",
    "prx = xmlrpc.client.ServerProxy('http://localhost:7070')\n",
    "prx.SlowFunc()\n",
    "```"
   ]
  }
 ],
 "metadata": {
  "kernelspec": {
   "display_name": "Python 3",
   "language": "python",
   "name": "python3"
  },
  "language_info": {
   "codemirror_mode": {
    "name": "ipython",
    "version": 3
   },
   "file_extension": ".py",
   "mimetype": "text/x-python",
   "name": "python",
   "nbconvert_exporter": "python",
   "pygments_lexer": "ipython3",
   "version": "3.6.9"
  }
 },
 "nbformat": 4,
 "nbformat_minor": 3
}