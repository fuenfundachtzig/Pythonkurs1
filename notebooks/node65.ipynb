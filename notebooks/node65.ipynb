{
 "cells": [
  {
   "cell_type": "markdown",
   "metadata": {},
   "source": [
    "[Node 65: Verteilte Programme mit XML-RPC](http://www-static.etp.physik.uni-muenchen.de/kurs/Computing/python2/node65.html)"
   ]
  },
  {
   "cell_type": "markdown",
   "metadata": {},
   "source": [
    "Navigation:\n",
    "\n",
    "**Next:** [Aufgaben](node66.ipynb) **Up:** [Netzwerkprogrammierung](node62.ipynb) **Previous:** [Module der Python-Standardbibliothek](node64.ipynb)"
   ]
  },
  {
   "cell_type": "markdown",
   "metadata": {},
   "source": [
    "##  Verteilte Programme mit XML-RPC\n",
    "\n",
    "XML-RPC ist ein synchrones Protokoll zum Aufruf entfernter Methoden: es wird eine Methode in einem anderen Prozess oder Rechner aufgerufen und muss auf die Antwort gewartet werden. Argumente und Rückgabewerte mit Typen werden als XML übertragen. Das Übertragungsprotokoll ist HTTP oder HTTPS.\n",
    "\n",
    "XML-RPC ist ein etablierter spachunabhängiger Standard, was erlaubt, dass Klient und Server in unterschiedlichen Sprachen programmiert sein können. In Python kann das [``xmlrpc``](https://docs.python.org/3/library/xmlrpc.html)-Model verwendet werden, das Server- und Klientfunktionalität bereitstellt."
   ]
  },
  {
   "cell_type": "markdown",
   "metadata": {},
   "source": [
    "Beispielprogramme:\n",
    "* [``xmlrpc_server.py``](source/xmlrpc_server.py) demonstriert, wie man einen XML-Server definiert und startet.  \n",
    "* [``xmlrpc_client.py``](source/xmlrpc_client.py) demonstriert, wie ein Klient die Server-Methoden aufruft. "
   ]
  },
  {
   "cell_type": "code",
   "execution_count": null,
   "metadata": {},
   "outputs": [],
   "source": [
    "from xmlrpc.server import SimpleXMLRPCServer\n",
    "SimpleXMLRPCServer?"
   ]
  },
  {
   "cell_type": "markdown",
   "metadata": {},
   "source": [
    "Bei Ausführung beider Programme gibt der Server ähnlich einem Webserver Daten über eingehende Abfragen aus:"
   ]
  },
  {
   "cell_type": "code",
   "execution_count": null,
   "metadata": {},
   "outputs": [],
   "source": [
    "!python3 source/xmlrpc_server.py\n",
    "# run \"python3 xmlrpc_client.py\" in external shell"
   ]
  },
  {
   "cell_type": "markdown",
   "metadata": {},
   "source": [
    "Um die XML-Nachrichten des Klienten zu sehen, setzt in `xmlrpc_client.py` dort das Flag ``verbose=True``:\n",
    "```python\n",
    "prx = xmlrpclib.ServerProxy('http://localhost:7070',\n",
    "                            allow_none=True, verbose=True)\n",
    "```\n",
    "Man beachte, dass wir uns nicht um die Kapselung der Daten und Datentypen kümmern brauchen. Dies wird vom Standard durch die Bereitstellung einer Reihe von grundlegenden Datentypen übernommen (Integer, Gleitkommazahl, boolesche Variablen, Zeichenketten, einem eigenen Typen für Datum mit Uhrzeit und base64-kodierte binäre Daten). Diese können zu verschachtelten Listen und Sammlungen von Schlüssel-Wert-Paaren kombiniert werden."
   ]
  },
  {
   "cell_type": "markdown",
   "metadata": {},
   "source": [
    "---\n",
    "\n",
    "Ein Nachteil des bis jetzt konfigurierten XML-RPC-Servers ist, dass er nur einen Thread verwendet. \n",
    "Nachteile daraus sind:  \n",
    "* Funktion benötigt viel Zeit oder blockiert \n",
    "* viele Daten werden zwischen Klient und Server gesendet \n",
    "* Verbindung zwischen Klient und Server ist besonders langsam \n",
    "* Klient nimmt Daten nur sehr langsam entgegen  \n",
    "\n",
    "Der Server sollte also mit mehreren Threads gestaltet werden:\n",
    "* [``xmlrpc_threadedserver.py``](source/xmlrpc_threadedserver.py) demonstiert, wie solch ein multi-threaded XML-Server definiert und gestartet wird. (Dies verwendet das Konzept der [\"mix-in\"s](https://coderbook.com/@marcus/deep-dive-into-python-mixins-and-multiple-inheritance/).)"
   ]
  },
  {
   "cell_type": "code",
   "execution_count": null,
   "metadata": {},
   "outputs": [],
   "source": [
    "!python3 source/xmlrpc_threadedserver.py"
   ]
  },
  {
   "cell_type": "markdown",
   "metadata": {},
   "source": [
    "Zum Testen wird in einem Fenster eine schnelle Methode wiederkehrend aufgerufen:\n",
    "```python\n",
    "import time\n",
    "import xmlrpc.client \n",
    "prx = xmlrpc.client.ServerProxy('http://localhost:7070') \n",
    "while True: \n",
    "    print(prx.FastFunc()) \n",
    "    time.sleep(0.1) \n",
    "```\n",
    "\n",
    "Gleichzeitig wird in einem anderen Fenster eine langsame Methode aufgerufen:\n",
    "```python\n",
    "import xmlrpc.client\n",
    "prx = xmlrpc.client.ServerProxy('http://localhost:7070')\n",
    "prx.SlowFunc()\n",
    "```"
   ]
  }
 ],
 "metadata": {
  "kernelspec": {
   "display_name": "Python 3",
   "language": "python",
   "name": "python3"
  },
  "language_info": {
   "codemirror_mode": {
    "name": "ipython",
    "version": 3
   },
   "file_extension": ".py",
   "mimetype": "text/x-python",
   "name": "python",
   "nbconvert_exporter": "python",
   "pygments_lexer": "ipython3",
   "version": "3.5.2"
  }
 },
 "nbformat": 4,
 "nbformat_minor": 3
}