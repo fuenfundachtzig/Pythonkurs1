{
 "cells": [
  {
   "cell_type": "markdown",
   "metadata": {},
   "source": [
    "[Node 10: Funktionsaufrufe ](http://www-static.etp.physik.uni-muenchen.de/kurs/Computing/python2/node10.html)"
   ]
  },
  {
   "cell_type": "markdown",
   "metadata": {},
   "source": [
    "Navigation:\n",
    "\n",
    "**Next:** [Reguläre Ausdrücke](node11.ipynb) **Up:** [Weitergehende und häufig verwendete](node7.ipynb) **Previous:** [Iterables und Generatoren (yield)](node9.ipynb)"
   ]
  },
  {
   "cell_type": "markdown",
   "metadata": {},
   "source": [
    "##  Funktionsaufrufe \n",
    " Eine Funktion in allgemeiner Form sieht folgendermassen aus: \n",
    "\n",
    "\n",
    "\n",
    "---"
   ]
  },
  {
   "cell_type": "code",
   "execution_count": null,
   "metadata": {},
   "outputs": [],
   "source": [
    "def f(param1, param2='dummy', *liste1, **dict1):\n",
    "   \"\"\"Eine Funktion die ihre Argumente ausgibt\"\"\"\n",
    "   print (\"param1: \", param1)\n",
    "   print (\"param2: \", param2)\n",
    "   print (\"liste1: \", liste1)\n",
    "   print (\"dict1: \", dict1)\n",
    "   try:\n",
    "       nachname1 = dict1.get('nachname')\n",
    "       print (nachname1)\n",
    "   except:\n",
    "       pass\n",
    "   \n",
    "   return [param1, param2]"
   ]
  },
  {
   "cell_type": "markdown",
   "metadata": {},
   "source": [
    "\n",
    "\n",
    "---\n",
    "\n",
    " Diese  Funktion hat die Parameter:   \n",
    "*  <font color=#0000e6> ``param1``</font>  ohne ,default'-Wert,  \n",
    "*  <font color=#0000e6> ``param2='dummy'``</font>  mit einem ,default'-Wert,  \n",
    "*  <font color=#0000e6> ``*liste1``</font> , die eine unspezifizierte Anzahl von Parametern in        einer Liste speichert \n",
    "*  <font color=#0000e6> ``**dict1``</font> ,  die eine unspezifizierte Anzahl von Parmetern mit key,value       in einem dictionary abspeichert. Die einzelnen Werte können mit       z.B.   <font color=#0000e6> ``get``</font>  abgefragt werden. \n",
    "\n",
    "---\n",
    "\n",
    " Aufruf mit folgenden Argumenten : \n",
    "\n",
    " <font color=#0000e6> ``f('hello', 'world', 'mehr', 'Argumente', nachname = 'max', vorname='mueller')``</font>  liefert als Ausgabe:"
   ]
  },
  {
   "cell_type": "code",
   "execution_count": null,
   "metadata": {},
   "outputs": [],
   "source": [
    "f('hello', 'world', 'mehr', 'Argumente', nachname = 'max', vorname='mueller');"
   ]
  },
  {
   "cell_type": "markdown",
   "metadata": {},
   "source": [
    "\n",
    "\n",
    "---\n",
    "\n",
    " Oder Aufruf mit Liste bzw dict:"
   ]
  },
  {
   "cell_type": "code",
   "execution_count": null,
   "metadata": {},
   "outputs": [],
   "source": [
    "s=list(range(3)) # [0, 1, 2]\n",
    "d = {'vorname': 'Peter', 'nachname': 'Maier', 'age': 25}\n",
    "\n",
    "f('bla',2,*s,**d);"
   ]
  },
  {
   "cell_type": "markdown",
   "metadata": {},
   "source": [
    "\n",
    "\n",
    "\n",
    "\n",
    "---"
   ]
  }
 ],
 "metadata": {
  "kernelspec": {
   "display_name": "Python 3",
   "language": "python",
   "name": "python3"
  },
  "language_info": {
   "codemirror_mode": {
    "name": "ipython",
    "version": 3
   },
   "file_extension": ".py",
   "mimetype": "text/x-python",
   "name": "python",
   "nbconvert_exporter": "python",
   "pygments_lexer": "ipython3",
   "version": "3.5.2"
  }
 },
 "nbformat": 4,
 "nbformat_minor": 3
}