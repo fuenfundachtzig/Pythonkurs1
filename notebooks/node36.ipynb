{
 "cells": [
  {
   "cell_type": "markdown",
   "metadata": {},
   "source": [
    "[Node 36: Software Testen](http://www-static.etp.physik.uni-muenchen.de/kurs/Computing/python2/node36.html)"
   ]
  },
  {
   "cell_type": "markdown",
   "metadata": {},
   "source": [
    "Navigation:\n",
    "\n",
    "[](node37.ipynb)[](python2.html)[](node35.ipynb)\n",
    "\n",
    " **Next:** [Test-Driven Development (TDD)](node37.ipynb) **Up:** [PYTHON2 Kurs](python2.html) **Previous:** [Aufgaben](node35.ipynb)"
   ]
  },
  {
   "cell_type": "markdown",
   "metadata": {},
   "source": [
    "#  Software Testen\n",
    "\n",
    "**Warum?**  \n",
    "\n",
    "<font color=#0000ff> **Grundsätzlich**</font> \n",
    "* Nachweis, dass Software macht was sie soll \n",
    "* Fehler und Probleme finden bevor echte Anwendung   <font color=#008000> *(= Production-use)*</font>  stattfindet  \n",
    "\n",
    "Rasante Zunahme von Systemen und Abläufen, die durch Software kontrolliert werden, Fehler können gravierende Folgen haben. Sicherstellen dass Programme wie vorgesehen funktionieren und das Ausmerzen von Bugs ist der wichtigste Aspekt  beim Erstellen von   <font color=#0000ff> **Production–Use**</font>  Programmen. \n",
    "\n",
    "Eine interessante Auflistung von zum Teil kuriosen zum Teil aber auch fatalen Fehlen in Software  findet sich z.B. in [**Collection of Software Bugs**](https://www5.in.tum.de/persons/huckle/bugse.html).\n",
    "\n",
    "<font color=#008000> *Man kann mit Tests zwar nie nachweisen, dass ein Programm keine Fehler hat, aber zumindest das Auftreten von Fehlern stark reduzieren....*</font> "
   ]
  },
  {
   "cell_type": "markdown",
   "metadata": {},
   "source": [
    "<font color=#ff0000> **Apple goto-fail bug**</font>  \n",
    "\n",
    "Aktuelles (2014) Beispiel für sicherheitsrelevanten Bug in Apple IOS 7   <font color=#008000> *(C-Programmcode)*</font> .   \n",
    "\n",
    "```cxx\n",
    "// ...\n",
    "hashOut.data = hashes + SSL_MD5_DIGEST_LEN;\n",
    "hashOut.length = SSL_SHA1_DIGEST_LEN;\n",
    "if ((err = SSLFreeBuffer(&hashCtx)) != 0)\n",
    "    goto fail;\n",
    "if ((err = ReadyHash(&SSLHashSHA1, &hashCtx)) != 0)\n",
    "    goto fail;\n",
    "if ((err = SSLHashSHA1.update(&hashCtx, &clientRandom)) != 0)\n",
    "    goto fail;\n",
    "if ((err = SSLHashSHA1.update(&hashCtx, &serverRandom)) != 0)\n",
    "    goto fail;\n",
    "if ((err = SSLHashSHA1.update(&hashCtx, &signedParams)) != 0)\n",
    "    goto fail;\n",
    "    goto fail; \n",
    "if ((err = SSLHashSHA1.final(&hashCtx, &hashOut)) != 0)\n",
    "    goto fail;\n",
    "\n",
    "err = sslRawVerify(...);\n",
    "//...\n",
    "```"
   ]
  },
  {
   "cell_type": "markdown",
   "metadata": {},
   "source": [
    " Entscheidender Check (  <font color=#0000e6> ``sslRawVerify()``</font> ) wird u.U. nicht ausgeführt, ermöglicht  Angriffe auf verschlüsselte (TLS/SSL) Verbindungen.  "
   ]
  },
  {
   "cell_type": "markdown",
   "metadata": {},
   "source": [
    "## Unterkapitel\n",
    "* [Test-Driven Development (TDD)](node37.ipynb)\n",
    "* [Mit PDB debuggen](node38.ipynb)\n",
    "* [Aufgaben](node39.ipynb)"
   ]
  }
 ],
 "metadata": {
  "kernelspec": {
   "display_name": "Python 3",
   "language": "python",
   "name": "python3"
  },
  "language_info": {
   "codemirror_mode": {
    "name": "ipython",
    "version": 3
   },
   "file_extension": ".py",
   "mimetype": "text/x-python",
   "name": "python",
   "nbconvert_exporter": "python",
   "pygments_lexer": "ipython3",
   "version": "3.6.9"
  }
 },
 "nbformat": 4,
 "nbformat_minor": 3
}