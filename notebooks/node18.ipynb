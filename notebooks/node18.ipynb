{
 "cells": [
  {
   "cell_type": "markdown",
   "metadata": {},
   "source": [
    "[Node 18: Synchronisation](http://www-static.etp.physik.uni-muenchen.de/kurs/Computing/python2/node18.html)"
   ]
  },
  {
   "cell_type": "markdown",
   "metadata": {},
   "source": [
    "Navigation:\n",
    "\n",
    " **Next:** [Python Threads und GIL](node19.ipynb) **Up:** [Threads and Multi–Processing](node16.ipynb) **Previous:** [Die Thread Klasse](node17.ipynb)"
   ]
  },
  {
   "cell_type": "markdown",
   "metadata": {},
   "source": [
    "Wir betrachten ein weitere Anwendungsbeispiel für threading -- in diesem sehr vereinfachten Beispiel zählen zwei Threads einen Counter parallel hoch."
   ]
  },
  {
   "cell_type": "code",
   "execution_count": null,
   "metadata": {
    "scrolled": false
   },
   "outputs": [],
   "source": [
    "import threading \n",
    "  \n",
    "class Counter(object):\n",
    "    def __init__(self):\n",
    "        self.num = 0\n",
    "    def inc(self):\n",
    "        self.num += 1\n",
    "\n",
    "def thread_task(counter):\n",
    "    for _ in range(100000):\n",
    "        counter.inc()\n",
    "  \n",
    "# global counter\n",
    "counter = Counter()\n",
    "\n",
    "# create two threads \n",
    "t1 = threading.Thread(target = thread_task, args = (counter,))\n",
    "t2 = threading.Thread(target = thread_task, args = (counter,))\n",
    "  \n",
    "# start threads \n",
    "t1.start() \n",
    "t2.start() \n",
    "  \n",
    "# wait until threads finish their job \n",
    "t1.join() \n",
    "t2.join() \n",
    "  \n",
    "# print result\n",
    "print(counter.num) \n"
   ]
  },
  {
   "cell_type": "markdown",
   "metadata": {},
   "source": [
    "Probieren Sie es aus und zeigen Sie auf, wenn Sie das Ergebnis haben."
   ]
  }
 ],
 "metadata": {
  "kernelspec": {
   "display_name": "Python 3",
   "language": "python",
   "name": "python3"
  },
  "language_info": {
   "codemirror_mode": {
    "name": "ipython",
    "version": 3
   },
   "file_extension": ".py",
   "mimetype": "text/x-python",
   "name": "python",
   "nbconvert_exporter": "python",
   "pygments_lexer": "ipython3",
   "version": "3.6.9"
  }
 },
 "nbformat": 4,
 "nbformat_minor": 3
}