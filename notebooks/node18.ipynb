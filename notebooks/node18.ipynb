{
 "cells": [
  {
   "cell_type": "markdown",
   "metadata": {},
   "source": [
    "[Node 18: Synchronisation](http://www-static.etp.physik.uni-muenchen.de/kurs/Computing/python2/node18.html)"
   ]
  },
  {
   "cell_type": "markdown",
   "metadata": {},
   "source": [
    "Navigation:\n",
    "\n",
    " **Next:** [Python Threads und GIL](node19.ipynb) **Up:** [Threads and Multi–Processing](node16.ipynb) **Previous:** [Die Thread Klasse](node17.ipynb)"
   ]
  },
  {
   "cell_type": "markdown",
   "metadata": {},
   "source": [
    "##  Synchronisation\n",
    " In den bisherigen Beispielen laufen die Threads unabhängig  voneinander. Komplizierter wird es wenn sie auf gemeinsame Datenbereiche zugreifen, insbesondere wenn ein Thread schreibt und ein anderes liest.   Das folgende –etwas konstruierte– Beispiel illustriert das Problem  \n",
    "\n",
    "---"
   ]
  },
  {
   "cell_type": "code",
   "execution_count": null,
   "metadata": {},
   "outputs": [],
   "source": [
    "import threading\n",
    "import time\n",
    "class CounterThread( threading.Thread ) :\n",
    "    \"\"\"\n",
    "    A sample thread class\n",
    "    \"\"\"\n",
    "    \n",
    "    def __init__(self, co, name=\"TestThread\"):\n",
    "        \"\"\"\n",
    "        Constructor, setting initial variables\n",
    "        \"\"\"\n",
    "        self.co = co\n",
    "        threading.Thread.__init__(self, name=name)\n",
    "        \n",
    "    def run(self):\n",
    "        \"\"\"\n",
    "        overload of threading.thread.run()\n",
    "        main control loop\n",
    "        \"\"\"\n",
    "        print (\"%s starts\" % (self.getName(),))\n",
    "\n",
    "        self.co.count()\n",
    "\n",
    "    pass\n",
    "\n",
    "class Counter(object):\n",
    "    def __init__(self):\n",
    "        self.num = 0\n",
    "    def count(self):\n",
    "        limit = self.num + 100;\n",
    "        while self.num != limit:\n",
    "            print (self.num)\n",
    "            self.num += 1\n",
    "            time.sleep(0.0001) # sleep 0.1 ms\n",
    "    pass\n",
    "# main\n",
    "c = Counter()\n",
    "ct1 = CounterThread(c,\"ct1\")\n",
    "ct2 = CounterThread(c,\"ct2\")\n",
    "\n",
    "ct1.start()\n",
    "ct2.start()\n",
    "\n",
    "# Note: even when stopping kernel, threads will continue to run in background"
   ]
  },
  {
   "cell_type": "markdown",
   "metadata": {},
   "source": [
    "\n",
    " Beide Threads greifen auf dasselbe   <font color=#008000> *Counter–Objekt*</font>  zu, d.h. sie benutzen diesselbe   <font color=#ff0000> **Member-variable**</font>  **self.num**.  \n",
    " \n",
    "Abhängig vom zufälligen Ablauf endet das Programm vernünftig oder geht in eine Quasi–Endlosschleife. Es ist nicht–deterministisch, obwohl keine Zufallszahlen benutzt  werden... \n",
    "\n",
    " <font color=#ff0000> **Probieren Sie's aus !**</font>  \n",
    " \n",
    "Man kann im   <font color=#008000> *CounterThread*</font>-Beispiel die Variablen anders definieren/einsetzen und das spezifische Problem damit beheben, z.B.   <font color=#008000> *self.num*</font>  als lokale Variable in   <font color=#008000> *count()*</font>  Methode.   \n",
    "\n",
    "Das ist aber keine Lösung für den allgemeinen Fall.   \n",
    "\n",
    "Echte Abhilfe bietet in Python (u.a.) der    <font color=#ff0000> **Locking**</font>  Mechanismus:  \n",
    "*  <font color=#0000e6> ``lck=threading.Lock()``</font>  Objekt wird erzeugt \n",
    "* Aufruf von   <font color=#0000e6> ``lck.acquire()``</font>  bevor kritischer Bereich ausgeführt wird \n",
    "* 1. Thread der   <font color=#0000e6> ``lck.acquire()``</font>  ruft läuft weiter \n",
    "* Nächster Thread, der   <font color=#0000e6> ``lck.acquire()``</font>  muss warten  \n",
    "* bis 1. Thread   <font color=#0000e6> ``lck.release()``</font>  ruft \n",
    "* usw.  \n",
    "Damit wird sichergestellt, dass Methode   <font color=#008000> *count()*</font>  nur von   <font color=#ff0000> **einem**</font>  Thread benutzt wird, alle anderen sind solange blockiert.  \n",
    "\n",
    "---"
   ]
  },
  {
   "cell_type": "code",
   "execution_count": null,
   "metadata": {
    "scrolled": false
   },
   "outputs": [],
   "source": [
    "import threading\n",
    "import time\n",
    "class CounterThread( threading.Thread ) :\n",
    "    \"\"\"\n",
    "    A sample thread class\n",
    "    \"\"\"\n",
    "    \n",
    "    def __init__(self, co, name=\"TestThread\"):\n",
    "        \"\"\"\n",
    "        Constructor, setting initial variables\n",
    "        \"\"\"\n",
    "        self.co = co\n",
    "        threading.Thread.__init__(self, name=name)\n",
    "        \n",
    "    def run(self):\n",
    "        \"\"\"\n",
    "        overload of threading.thread.run()\n",
    "        main control loop\n",
    "        \"\"\"\n",
    "        print (\"%s starts\" % (self.getName(),))\n",
    "\n",
    "        self.co.count()\n",
    "\n",
    "    pass\n",
    "\n",
    "class Counter(object):\n",
    "    lck = threading.Lock()\n",
    "    def __init__(self):\n",
    "        self.num = 0\n",
    "    def count(self):\n",
    "        self.lck.acquire() # get lock, waits until it's free\n",
    "        limit = self.num + 100;\n",
    "        while self.num != limit:\n",
    "            print (self.num)\n",
    "            self.num += 1\n",
    "            time.sleep(0.0001) # sleep 0.1 ms\n",
    "\n",
    "        self.lck.release() # release lock\n",
    "    pass\n",
    "\n",
    "# main\n",
    "c = Counter()\n",
    "ct1 = CounterThread(c,\"ct1\")\n",
    "ct2 = CounterThread(c,\"ct2\")\n",
    "ct1.start()\n",
    "ct2.start()\n"
   ]
  },
  {
   "cell_type": "code",
   "execution_count": null,
   "metadata": {},
   "outputs": [],
   "source": []
  }
 ],
 "metadata": {
  "kernelspec": {
   "display_name": "Python 3",
   "language": "python",
   "name": "python3"
  },
  "language_info": {
   "codemirror_mode": {
    "name": "ipython",
    "version": 3
   },
   "file_extension": ".py",
   "mimetype": "text/x-python",
   "name": "python",
   "nbconvert_exporter": "python",
   "pygments_lexer": "ipython3",
   "version": "3.6.9"
  }
 },
 "nbformat": 4,
 "nbformat_minor": 3
}