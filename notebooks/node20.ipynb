{
 "cells": [
  {
   "cell_type": "markdown",
   "metadata": {},
   "source": [
    "[Node 20: Python Multi-Processing](http://www-static.etp.physik.uni-muenchen.de/kurs/Computing/python2/node20.html)"
   ]
  },
  {
   "cell_type": "markdown",
   "metadata": {},
   "source": [
    "Navigation:\n",
    "\n",
    "**Next:** [Aufgaben](node21.ipynb) **Up:** [Threads and Multi–Processing](node16.ipynb) **Previous:** [Python Threads und GIL](node19.ipynb)"
   ]
  },
  {
   "cell_type": "markdown",
   "metadata": {},
   "source": [
    "## Multi-Processing in Python\n",
    "Eine Alternative, um Geschwindigkeitseinbußen durch GIL zu vermeiden, ist Multi-Processing.  \n",
    "* Mehrere Python-Prozesse laufen unabhängig voneinander  \n",
    "* Python-Modul   <font color=#008000> *multiprocessing*</font>  lässt sich ähnlich wie   <font color=#008000> *threading*</font>  verwenden. \n",
    "* Im Gegensatz zu   <font color=#008000> *threading*</font>  kein gemeinsamer Programm-/Speicherbereich\n",
    "  * direkt konvertiertes Programm [``randpiMP.py``](source/randpiMP.py) funktioniert nicht,  Ergebnis für Hauptprozess nicht sichtbar \n",
    "* Explizite Kommunikation zwischen den Prozessen nötig, z.B. mit Nachrichtenwarteschlangen (message queues) [``multiprocessing.Queue()``](https://docs.python.org/2/library/multiprocessing.html#multiprocessing.Queue)\n",
    "  * wie im  erweiterten Beispiel [``randpiMP2.py``](source/randpiMP2.py) \n",
    "\n",
    "Noch weitergehende Alternative ist Multi-Processing verteilt über mehrere Rechner oder einen ganzen Rechen-Cluster. Standard–Tool dafür ist   <font color=#0000ff> **MPI**</font>  <font color=#008000> *(Message Parsing Interface)*</font>, das Schnittstellen für viele Programmiersprachen zur Verfügung stellt. Hier ein kurzer [MPI–Überblick](http://www-static.etp.physik.uni-muenchen.de/kurs/Computing/sw/node92.html) aus dem Software-Handwerkszeug-Kurs.  "
   ]
  }
 ],
 "metadata": {
  "kernelspec": {
   "display_name": "Python 3",
   "language": "python",
   "name": "python3"
  },
  "language_info": {
   "codemirror_mode": {
    "name": "ipython",
    "version": 3
   },
   "file_extension": ".py",
   "mimetype": "text/x-python",
   "name": "python",
   "nbconvert_exporter": "python",
   "pygments_lexer": "ipython3",
   "version": "3.6.9"
  }
 },
 "nbformat": 4,
 "nbformat_minor": 3
}