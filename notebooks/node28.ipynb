{
 "cells": [
  {
   "cell_type": "markdown",
   "metadata": {},
   "source": [
    "[Node 28: Objekt-Diagramme](http://www-static.etp.physik.uni-muenchen.de/kurs/Computing/python2/node28.html)"
   ]
  },
  {
   "cell_type": "markdown",
   "metadata": {},
   "source": [
    "Navigation:\n",
    "\n",
    "**Next:** [Sequenz-Diagramme](node29.ipynb) **Up:** [Objektorientiertes Programmieren – Allgemeines](node23.ipynb) **Previous:** [Beziehungen zwischen Klassen](node27.ipynb)"
   ]
  },
  {
   "cell_type": "markdown",
   "metadata": {},
   "source": [
    "##  Objekt-Diagramme\n",
    "\n",
    "Klassendiagramme beschreiben das   <font color=#0000ff> **statische Design**</font>   der Programm Struktur:\n",
    "* fix, keine Änderung beim Programmablauf \n",
    "\n",
    "![Image ParticleClass](figures/UML_ParticleClass.png \"Image ParticleClass\")\n",
    "\n",
    "Analog   <font color=#0000ff> **Objektdiagramme**</font>: \n",
    "* Beziehung zwischen den Objekten.  Nur gültig für bestimmten Zeitpunkt zur Programm-Laufzeit ! \n",
    "\n",
    "![Image ParticleObj](figures/UML_ParticleObj.png \"Image ParticleObj\")\n",
    "\n"
   ]
  }
 ],
 "metadata": {
  "kernelspec": {
   "display_name": "Python 3",
   "language": "python",
   "name": "python3"
  },
  "language_info": {
   "codemirror_mode": {
    "name": "ipython",
    "version": 3
   },
   "file_extension": ".py",
   "mimetype": "text/x-python",
   "name": "python",
   "nbconvert_exporter": "python",
   "pygments_lexer": "ipython3",
   "version": "3.6.9"
  }
 },
 "nbformat": 4,
 "nbformat_minor": 3
}