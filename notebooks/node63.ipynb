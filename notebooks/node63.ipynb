{
 "cells": [
  {
   "cell_type": "markdown",
   "metadata": {},
   "source": [
    "[Node 63: Überblick Netzwerkprogrammierung ](http://www-static.etp.physik.uni-muenchen.de/kurs/Computing/python2/node63.html)"
   ]
  },
  {
   "cell_type": "markdown",
   "metadata": {},
   "source": [
    "Navigation:\n",
    "\n",
    "**Next:** [Module der Python-Standardbibliothek](node64.ipynb) **Up:** [Netzwerkprogrammierung](node62.ipynb) **Previous:** [Netzwerkprogrammierung](node62.ipynb)"
   ]
  },
  {
   "cell_type": "markdown",
   "metadata": {},
   "source": [
    "##  Überblick Netzwerkprogrammierung \n",
    "\n",
    "Netzwerkprogrammierung ist die Kommunikation zwischen Programmen auf verschiedenen Rechnern. \n",
    "\n",
    "Beispiele: \n",
    "* Klient-/Server-Modell (Klient stellt Anfragen, Server liefert) \n",
    "* Peer-to-Peer-Programme (p2p, alle Teilnehmer sind gleich, d.h. übernehmen sowohl Server- als auch Klientenrolle).\n",
    "\n",
    "Wir schauen zunächst auf ein paar Grundlagen, bevor wir in die Programmierung mit Python einsteigen."
   ]
  },
  {
   "cell_type": "markdown",
   "metadata": {},
   "source": [
    "### Netzwerkschichten (Protokoll-Stack)\n",
    "Netzwerkprogrammierungen kann auf ganz verschiedenen Ebenen erfolgen. Je tiefer man im Stapel der Netzwerkprotokolle (unten dargestellt im vereinfachten [OSI-Modell](https://de.wikipedia.org/wiki/OSI-Modell), OSI = Open Systems Interconnection) hinabsteigt, desto grundsätzlichere Manipulationen werden möglich, aber desto rudimentärer werden auch die zur Verfügung stehenden Funktionen. Für unsere Anwendungen reichen die Protokolle der obersten Anwendungsschicht. Die Schnittstellen im OSI-Modell sind so gestaltet, dass in der gleichen Schicht Netzwerkprotokolle untereinander austauschbar sind. "
   ]
  },
  {
   "cell_type": "markdown",
   "metadata": {},
   "source": [
    "<table>\n",
    "<tbody><tr>\n",
    "<th>OSI-Schicht\n",
    "</th>\n",
    "<th>TCP/IP-Schicht\n",
    "</th>\n",
    "<th>Beispiel\n",
    "</th></tr>\n",
    "<tr>\n",
    "<th>Anwendungen&nbsp;(7)</a>\n",
    "</th>\n",
    "<td rowspan=\"3\">Anwendungen\n",
    "</td>\n",
    "<td rowspan=\"3\"><a href=\"https://de.wikipedia.org/wiki/Hypertext_Transfer_Protocol\" title=\"Hypertext Transfer Protocol\">HTTP</a>, <a href=\"https://de.wikipedia.org/wiki/Unified_Diagnostic_Services\" title=\"Unified Diagnostic Services\">UDS</a>, <a href=\"https://de.wikipedia.org/wiki/File_Transfer_Protocol\" title=\"File Transfer Protocol\">FTP</a>, <a href=\"https://de.wikipedia.org/wiki/Simple_Mail_Transfer_Protocol\" title=\"Simple Mail Transfer Protocol\">SMTP</a>, <a href=\"https://de.wikipedia.org/wiki/Post_Office_Protocol\" title=\"Post Office Protocol\">POP</a>, <a href=\"https://de.wikipedia.org/wiki/Telnet\" title=\"Telnet\">Telnet</a>, <a href=\"https://de.wikipedia.org/wiki/Dynamic_Host_Configuration_Protocol\" title=\"Dynamic Host Configuration Protocol\">DHCP</a>, <a href=\"https://de.wikipedia.org/wiki/OPC_Unified_Architecture\" title=\"OPC Unified Architecture\">OPC&nbsp;UA</a>\n",
    "<p><br>\n",
    "<a href=\"https://de.wikipedia.org/wiki/SOCKS\" title=\"SOCKS\">SOCKS</a>\n",
    "</p>\n",
    "</td></tr>\n",
    "<tr>\n",
    "<th>Darstellung&nbsp;(6)</a>\n",
    "</th></tr>\n",
    "<tr>\n",
    "<th>Sitzung&nbsp;(5)</a>\n",
    "</th></tr>\n",
    "<tr>\n",
    "<th>Transport&nbsp;(4)</a>\n",
    "</th>\n",
    "<td>Transport\n",
    "</td>\n",
    "<td><a href=\"https://de.wikipedia.org/wiki/Transmission_Control_Protocol\" title=\"Transmission Control Protocol\">TCP</a>, <a href=\"https://de.wikipedia.org/wiki/User_Datagram_Protocol\" title=\"User Datagram Protocol\">UDP</a>, <a href=\"https://de.wikipedia.org/wiki/Stream_Control_Transmission_Protocol\" title=\"Stream Control Transmission Protocol\">SCTP</a>\n",
    "</td></tr>\n",
    "<tr>\n",
    "<th>Vermittlung&nbsp;(3)</a>\n",
    "</th>\n",
    "<td>Internet\n",
    "</td>\n",
    "<td><a href=\"https://de.wikipedia.org/wiki/Internet_Protocol\" title=\"Internet Protocol\">IP</a> (<a href=\"https://de.wikipedia.org/wiki/IPv4\" title=\"IPv4\">IPv4</a>, <a href=\"https://de.wikipedia.org/wiki/IPv6\" title=\"IPv6\">IPv6</a>), <a href=\"https://de.wikipedia.org/wiki/Internet_Control_Message_Protocol\" title=\"Internet Control Message Protocol\">ICMP</a> (über IP)\n",
    "</td></tr>\n",
    "<tr>\n",
    "<th>Sicherung&nbsp;(2)</a>\n",
    "</th>\n",
    "<td rowspan=\"2\">Netzzugang\n",
    "</td>\n",
    "<td rowspan=\"2\"><a href=\"https://de.wikipedia.org/wiki/Ethernet\" title=\"Ethernet\">Ethernet</a>, <a href=\"https://de.wikipedia.org/wiki/Token_Bus\" title=\"Token Bus\">Token Bus</a>, <a href=\"https://de.wikipedia.org/wiki/Token_Ring\" title=\"Token Ring\">Token Ring</a>, <a href=\"https://de.wikipedia.org/wiki/Fiber_Distributed_Data_Interface\" title=\"Fiber Distributed Data Interface\">FDDI</a>\n",
    "</td></tr>\n",
    "<tr>\n",
    "<th>Bitübertragung&nbsp;(1)</a>\n",
    "</th></tr></tbody></table>"
   ]
  },
  {
   "cell_type": "markdown",
   "metadata": {},
   "source": [
    "Grobe Verteilung der Aufgaben:\n",
    "* 1: Steuerung physischer Verbindungen, Übertragung von Bits\n",
    "* 2: Zuverlässigkeit, Fehlerreduzierung, Datenflusskontrolle\n",
    "* 3: Adressierung, Wegsuche\n",
    "* 4: Segmentierung, Fehlerkorrektur\n",
    "* 5: Sitzungsverwaltung, Organisation des Datenaustauschs\n",
    "* 6: Konvertierung der Zeichenkodierung, Kompression, Verschlüsselung\n",
    "* 7: Anbindung an Nutzeranwendungen"
   ]
  },
  {
   "cell_type": "markdown",
   "metadata": {},
   "source": [
    "### Python-APIs"
   ]
  },
  {
   "cell_type": "markdown",
   "metadata": {},
   "source": [
    "In Python gibt es die Auswahl zwischen mehreren APIs (Application Programming Interface, Programmierschnittstelle):\n",
    "* Asynchron, ereignisgesteuert:  [``Twisted``](https://twistedmatrix.com/trac/)  und  [``asyncore``](https://docs.python.org/3.0/library/asyncore.html) \n",
    "* Synchron, ereignisgesteuert:  [``SocketServer``](https://docs.python.org/3/library/socketserver.html) \n",
    "* Synchron, nicht ereignisgesteuert: viele Netzwerkmodule der Python-Standardbibliothek\n",
    "* RPC-Modell (remote procedure call) <!--, `Twisted`: asynchron, `XML-RPC`: synchron -->\n",
    "* [Berkeley Socket](https://en.wikipedia.org/wiki/Berkeley_sockets) API: Basis für die meisten andere Pakete\n",
    "\n",
    "\n",
    "<!--\n",
    "Twisted ist ein sehr mächtiges Framework zum Erstellen von asynchronen Netzwerkprogrammen (Klient/Server oder p2p). Das RPC-Modell versucht im Gegensatz zu Twisted, die Kommunikation über das Netz vor dem Programmierer zu verbergen.  \n",
    "-->"
   ]
  },
  {
   "cell_type": "markdown",
   "metadata": {},
   "source": [
    "* **Synchron**: Aufgaben werden nacheinander abgearbeitet, die nächste erst nach Abschluss der vorigen. \n",
    "* **Asynchron**: Aufgaben werden unabhängig voneinander abgearbeitet, die nächste kann beginnen bevor die vorige abgeschlossen wurde. Unter Umständen werden im asynchronen Ansatz Aufgaben parallel abgearbeitet. Es kann aber auch eine Aufgabe pausiert und die nächste begonnen werden, ähnlich zu dem Aufteilen der CPU-Zeit auf einem System mit nur einer CPU.\n",
    "* **Socket**:  Ein Socket ist ein Software-Modul, über das sich ein Computerprogramm  mit einem Rechnernetz verbinden und dort mit anderen Programmen Daten austauschen kann. Die Kommunikation über Sockets erfolgt in der Regel  bidirektional, d.h. über das Socket können Daten sowohl empfangen als  auch gesendet werden. \n",
    "Im Klient-Server-Modus ist ein Socket eine  Verbindungsstelle zu einem bestimmten entfernten Programm, repräsentiert  durch dessen Adressinformation (z.B. IP-Adresse und Portnummer).\n",
    "\n",
    "    * Ein Server muss auf Anfragen von unbekannten Rechnern warten können.  Er tut dies typischerweise, indem er sich an einen bestimmten Port bindet (er \"öffnet\" einen Port), d.h. das Betriebssystem leitet fortan den Netzwerkverkehr, den es erhält und der an diesen Port gerichtet ist, an ihn weiter.  \n",
    "    * Es gibt zwei Socket-Arten: Stream-Sockets und Datagram-Sockets. Stream-Sockets kommunizieren über einen Zeichendatenstrom (im Netzwerk: TCP, verlässlicher da zusätzliche Features zur Sicherstellung, dass Nachrichten komplett und korrekt übertragen wurden), Datagram-Sockets über einzelne Nachrichten (im Netzwerk: UDP, effizienter und flexibler, aber keine Garantie, dass gesendete Daten das Ziel in der richtigen Reihenfolge oder überhaupt erreichen).  \n"
   ]
  },
  {
   "cell_type": "markdown",
   "metadata": {},
   "source": [
    "### Typische Funktionalität eines Sockets\n",
    "* `socket()`: Konstruktor, erzeugt einen neuen Socket \n",
    "* `bind()` bindet einen Socket an eine Adressinformation, in der Regel also IP-Adresse und Port (Server-Seite)\n",
    "* `listen()` versetzt einen gebundenen Stream-Socket (TCP/IP) in Empfangsmodus (Server-Seite)\n",
    "* `connect()` versucht, für einen Stream-Socket eine neue (TCP/IP-) Verbindung zu etablieren. Ordnet dem Socket einen freien lokalen Port zu. (Klienten-Seite) \n",
    "* `accept()` akzeptiert eine eingehende Anfrage (blockiert bis eine vorliegt) von einem Klienten, eine neue TCP/IP-Verbindung aufzubauen, und erzeugt im Erfolgsfall einen neuen Socket, assoziiert mit dem Adress-Paar der Verbindung (Server-Seite)\n",
    "* Funktionen zum Senden und Empfangen von Daten über einen Socket (Server und Klienten)\n",
    "* `close()` veranlasst das Betriebssystem, alle dem Socket zugeordneten Ressourcen wieder freizugeben und beendet im Fall eines TCP/IP-Sockets bestehende Verbindungen.\n",
    "\n",
    "Details in Wikipedia unter [Socket (Software)](https://de.wikipedia.org/wiki/Socket_(Software)#Socket-Programmierung)."
   ]
  }
 ],
 "metadata": {
  "kernelspec": {
   "display_name": "Python 2",
   "language": "python",
   "name": "python2"
  },
  "language_info": {
   "codemirror_mode": {
    "name": "ipython",
    "version": 2
   },
   "file_extension": ".py",
   "mimetype": "text/x-python",
   "name": "python",
   "nbconvert_exporter": "python",
   "pygments_lexer": "ipython2",
   "version": "2.7.12"
  }
 },
 "nbformat": 4,
 "nbformat_minor": 3
}