{
 "cells": [
  {
   "cell_type": "markdown",
   "metadata": {},
   "source": [
    "[Node 63: Überblick Netzwerkprogrammierung ](http://www-static.etp.physik.uni-muenchen.de/kurs/Computing/python2/node63.html)"
   ]
  },
  {
   "cell_type": "markdown",
   "metadata": {},
   "source": [
    "Navigation:\n",
    "\n",
    "**Next:** [Module der Python-Standardbibliothek](node64.ipynb) **Up:** [Netzwerkprogrammierung](node62.ipynb) **Previous:** [Netzwerkprogrammierung](node62.ipynb)"
   ]
  },
  {
   "cell_type": "markdown",
   "metadata": {},
   "source": [
    "##  Überblick Netzwerkprogrammierung \n",
    "\n",
    "Netzwerkprogrammierung ist die Kommunikation zwischen Programmen auf verschiedenen Rechnern. Beispiele: Klient-/Server-Modell oder  Peer-to-Peer-Programme (p2p).\n",
    " \n",
    "In Python gibt es die Auswahl zwischen mehreren APIs:\n",
    "* Asynchron, ereignisgesteuert:  ``Twisted`` \n",
    "* Synchron, ereignisgesteuert:  ``SocketServer``  und  ``asyncore/asyncat`` \n",
    "* Synchron, nicht ereignisgesteuert: viele Netzwerkmodule der Python-Standardbibliothek\n",
    "* RPC-Modell (remote procedure call), `Twisted`: asynchron, `XML-RPC`: synchron\n",
    "  * (Andere Standards: SOAP, CORBA, etc.)\n",
    "* Berkeley Socket API: Basis für die meisten andere Pakete\n",
    "\n",
    "Twisted ist ein sehr mächtiges Framework zum Erstellen von asynchronen Netzwerkprogrammen (Klient/Server oder p2p). Das RPC-Modell versucht im Gegensatz zu Twisted, die Kommunikation über das Netz vor dem Programmierer zu verbergen.  "
   ]
  },
  {
   "cell_type": "markdown",
   "metadata": {},
   "source": [
    "**Socket** : \n",
    "Ein Socket ist ein Software-Modul, über das sich ein Computerprogramm  mit einem Rechnernetz verbinden und dort mit anderen Programmen Daten austauschen kann. Die Kommunikation über Sockets erfolgt in der Regel  bidirektional, d.h. über das Socket können Daten sowohl empfangen als  auch gesendet werden. Im Klient-Server-Modus ist ein Socket eine  Verbindungsstelle zu einem bestimmten entfernten Programm, repräsentiert  durch dessen Adressinformation (z. B. IP-Adresse und Portnummer).\n",
    "\n",
    "Ein Server muss auf Anfragen von unbekannten Rechnern warten können.  Er kann sich auf eine bestimmte Adresse binden und auf Anfragen an diese  Adresse warten.  Es gibt zwei Socket-Arten: Stream-Sockets und Datagram-Sockets. Stream-Sockets kommunizieren über einen Zeichendatenstrom (im Netzwerk: TCP, verlässlicher), Datagram-Sockets über einzelne Nachrichten (im Netzwerk: UDP, effizienter und flexibler).  \n"
   ]
  }
 ],
 "metadata": {
  "kernelspec": {
   "display_name": "Python 2",
   "language": "python",
   "name": "python2"
  },
  "language_info": {
   "codemirror_mode": {
    "name": "ipython",
    "version": 2
   },
   "file_extension": ".py",
   "mimetype": "text/x-python",
   "name": "python",
   "nbconvert_exporter": "python",
   "pygments_lexer": "ipython2",
   "version": "2.7.12"
  }
 },
 "nbformat": 4,
 "nbformat_minor": 3
}