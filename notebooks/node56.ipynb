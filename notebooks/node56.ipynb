{
 "cells": [
  {
   "cell_type": "markdown",
   "metadata": {},
   "source": [
    "[Node 56: XML Struktur im Detail](http://www-static.etp.physik.uni-muenchen.de/kurs/Computing/python2/node56.html)"
   ]
  },
  {
   "cell_type": "markdown",
   "metadata": {},
   "source": [
    "Navigation:\n",
    "\n",
    "**Next:** [SAX Parser](node57.ipynb) **Up:** [Datenformate II – XML](node53.ipynb) **Previous:** [XML Basics](node55.ipynb)"
   ]
  },
  {
   "cell_type": "markdown",
   "metadata": {},
   "source": [
    "## XML-Struktur im Detail\n",
    "\n",
    "* XML-Dokument beginnt mit XML-Auszeichnung: \n",
    "    ```xml\n",
    "    <?xml version=\"1.0\" encoding=\"ISO-8859-1\"? >\n",
    "    ```\n",
    "  Spezifiziert die XML-Version und ggf. die Zeichenkodierung\n",
    "* Der Textbereich von `<Class>`  bis zu `</Class>`  ist ein   <font color=#008000> *XML-Element*</font>.  Elemente müssen öffnenden und schließenden Tag (ggf. in einem kombiniert) haben  (`<Class>` bzw. `</Class>` oder `<img />`)\n",
    "* Elemente können weitere Elemente enthalten, wie im Beispiel    <font color=#0000e6> ``Student``</font>   das    <font color=#0000e6> ``Grade``</font>  Element.  \n",
    "* Ein Element kann ausserdem noch Attribute haben, wie  bei   <font color=#0000e6> ``Student``</font>  noch das Attribut   <font color=#0000e6> ``(name=\"Paul\")``</font> \n",
    "* Reihenfolge der Sub-Elemente spielt keine Rolle ...  \n",
    "* Flexibel erweiterbar, weitere Elemente können eingefügt werden, z.B.   <font color=#0000e6> ``BachelorGrade``</font> , existierende Anwendungen laufen weiterhin  \n",
    "\n",
    " <font color=#008000> *(im Gegensatz zu sonstigen Formaten wie ASCII Text, CSV, Pickle, SQL, ...)*</font> \n",
    "\n",
    "---\n",
    "\n",
    " **Character Data und Markup** \n",
    "* Markup tags: beginnt mit   <font color=#0000e6> ``<``</font>  oder   <font color=#0000e6> ``&``</font>  und  endet mit   <font color=#0000e6> ``>``</font>   oder   <font color=#0000e6> ``;``</font> \n",
    "* Character Data: Jeder Character String dazwischen. Darf nicht direkt Start eines Markup-Tags beinhalten.  \n",
    "* XML-Text - Markup und Character Data zusammen bilden den XML-Text und zusammen mit Declaration Header das XML Dokument.   Der Markup ist eine Art Schema für die Interpretation der Character Data  \n",
    "* Kommentare können als `<!-- comment-text -->` eingefügt werden  \n",
    "\n",
    "---\n",
    "\n",
    " **Element Tag** \n",
    "* Der Element-Tag beinhaltet bzw. definiert seinen Typ und Struktur \n",
    "* Ein Start-Tag kann Attribute enthalten, die Reihenfolge  spielt keine Rolle: `<Value a=\"12\" b=\"16\"/>` ist das gleiche wie `<Value b=\"16\" a=\"12\"/>`.\n",
    "* Attributwerte müssen in Anführungszeichen stehen:    <font color=#0000e6> ``attribute=\"value\"``</font> \n",
    "* Das End-Tag muss exakt dem Namen des Start-Tags entsprechen \n",
    "\n",
    "---\n",
    "\n",
    " **Document Types und Schemas** \n",
    "* Document Typ ist eine Art Datendefinition für ein XML Dokument \n",
    "* Spezifiziert die erlaubte Struktur – ähnlich wie eine  Klasse und ihre Membervariablen die Datenstruktur vorgeben \n",
    "* ... wird auch   <font color=#008000> *Schema*</font>  genannt \n",
    "* Eine Möglichkeit dies festzulegen ist die     <font color=#0000ff> **DTD**</font> : Document Type Definition – es gibt aber noch etliche Alternativen  \n",
    "\n",
    "---\n",
    "\n",
    " **DTDs** \n",
    "* Kann im Dokument als Vorspann integriert sein  oder auch separat als   <font color=#0000e6> ``.dtd``</font>  File \n",
    "* DTDs ermöglichen eine Art Typdefiniton für Dokumente, die die  korrekte Struktur festlegt \n",
    "* Damit kann ein XML Dokument validiert werden, wird von manchen XML Parsern automatisch gemacht.  \n",
    "* wir beschränken uns auf simple Beispiele ... \n",
    "\n",
    "---"
   ]
  },
  {
   "cell_type": "markdown",
   "metadata": {},
   "source": [
    "Integrierte DTD:\n",
    "\n",
    "```xml\n",
    "<?xml version=\"1.0\"?> \n",
    "<!DOCTYPE product [ \n",
    "<!ELEMENT name (#PCDATA)> \n",
    "<!ELEMENT price (#PCDATA)> \n",
    "<!ELEMENT product (name, price)> \n",
    "]> \n",
    "<product> \n",
    "<name>Bean Crusher</name> \n",
    "<price>3.95</price> \n",
    "</product>\n",
    "```"
   ]
  },
  {
   "cell_type": "code",
   "execution_count": null,
   "metadata": {},
   "outputs": [],
   "source": []
  }
 ],
 "metadata": {
  "kernelspec": {
   "display_name": "Python 3",
   "language": "python",
   "name": "python3"
  },
  "language_info": {
   "codemirror_mode": {
    "name": "ipython",
    "version": 3
   },
   "file_extension": ".py",
   "mimetype": "text/x-python",
   "name": "python",
   "nbconvert_exporter": "python",
   "pygments_lexer": "ipython3",
   "version": "3.6.9"
  }
 },
 "nbformat": 4,
 "nbformat_minor": 3
}
