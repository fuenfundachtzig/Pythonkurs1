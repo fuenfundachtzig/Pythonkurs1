{
 "cells": [
  {
   "cell_type": "markdown",
   "metadata": {},
   "source": [
    "[Node 24: UML - Unified Modelling Language](http://www-static.etp.physik.uni-muenchen.de/kurs/Computing/python2/node24.html)"
   ]
  },
  {
   "cell_type": "markdown",
   "metadata": {},
   "source": [
    "Navigation:\n",
    "\n",
    "**Next:** [Wozu UML ?](node25.ipynb) **Up:** [Objektorientiertes Programmieren – Allgemeines](node23.ipynb) **Previous:** [Objektorientiertes Programmieren – Allgemeines](node23.ipynb)"
   ]
  },
  {
   "cell_type": "markdown",
   "metadata": {},
   "source": [
    "##  UML - Unified Modelling Language\n",
    " <font color=#008000> *“The Unified Modelling Language (UML) is a graphical language for visualizing,  specifying, constructing, and documenting the artifacts of a software-intensive system.  The UML offers a standard way to write a systems blueprints,  including conceptual things like business processes and system  functions as well as concrete things such as programming language  statements, database schemas, and reusable software components.”*</font>  \n",
    " \n",
    " <font color=#0000ff>Grady Booch, Ivar Jacobsen, Jim Rumbaugh</font> \n",
    "\n",
    "(OMG Unified Modelling Language Specification, Version 1.3, March 2000)  \n",
    "\n"
   ]
  }
 ],
 "metadata": {
  "kernelspec": {
   "display_name": "Python 3",
   "language": "python",
   "name": "python3"
  },
  "language_info": {
   "codemirror_mode": {
    "name": "ipython",
    "version": 3
   },
   "file_extension": ".py",
   "mimetype": "text/x-python",
   "name": "python",
   "nbconvert_exporter": "python",
   "pygments_lexer": "ipython3",
   "version": "3.6.9"
  }
 },
 "nbformat": 4,
 "nbformat_minor": 3
}