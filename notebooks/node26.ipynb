{
 "cells": [
  {
   "cell_type": "markdown",
   "metadata": {},
   "source": [
    "[Node 26: Klassen in UML](http://www-static.etp.physik.uni-muenchen.de/kurs/Computing/python2/node26.html)"
   ]
  },
  {
   "cell_type": "markdown",
   "metadata": {},
   "source": [
    "Navigation:\n",
    "\n",
    "**Next:** [Beziehungen zwischen Klassen](node27.ipynb) **Up:** [Objektorientiertes Programmieren – Allgemeines](node23.ipynb) **Previous:** [Wozu UML ?](node25.ipynb)"
   ]
  },
  {
   "cell_type": "markdown",
   "metadata": {},
   "source": [
    "##  Klassen in  UML\n",
    " Klassen beschreiben Objekte:   \n",
    "* Status: Werte der Member-Variablen \n",
    "* Konstruktor: Erzeugen des Objektes \n",
    "* Interface: Signatur der member functions \n",
    "* Verhalten: Implementierung der Member functions  \n",
    "\n",
    "Klassen bzw. Objekte haben   <font color=#0000ff> **Beziehungen**</font>  zu anderen Klassen/Objekten  \n",
    "\n",
    "---\n",
    "\n",
    "**UML Klasse** ![Image ThreeVecUML1](figures/UML_ThreeVecUML1.png \"Image ThreeVecUML1\")\n",
    "\n",
    "---\n",
    "\n",
    "**Name der Klasse** \n",
    "\n",
    "![Image ClassName](figures/UML_ClassName.png \"Image ClassName\")\n",
    "\n",
    "---\n",
    "\n",
    "**Klassen–Attribute und –Operationen**  \n",
    "\n",
    "Attribute sind die Instanz–Variablen (oder Klassen–Variablen falls   <font color=#008000> *static*</font>  deklariert). \n",
    "\n",
    "![Image ClassAttr](figures/UML_ClassAttr.png \"Image ClassAttr\")\n",
    "\n",
    "Syntax:   <font color=#0000e6> ``visibility name : type``</font> \n",
    "\n"
   ]
  }
 ],
 "metadata": {
  "kernelspec": {
   "display_name": "Python 3",
   "language": "python",
   "name": "python3"
  },
  "language_info": {
   "codemirror_mode": {
    "name": "ipython",
    "version": 3
   },
   "file_extension": ".py",
   "mimetype": "text/x-python",
   "name": "python",
   "nbconvert_exporter": "python",
   "pygments_lexer": "ipython3",
   "version": "3.6.9"
  }
 },
 "nbformat": 4,
 "nbformat_minor": 3
}