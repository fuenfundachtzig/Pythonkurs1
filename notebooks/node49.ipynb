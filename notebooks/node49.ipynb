{
 "cells": [
  {
   "cell_type": "markdown",
   "metadata": {},
   "source": [
    "[Node 49: Serialisieren mit Pickle](http://www-static.etp.physik.uni-muenchen.de/kurs/Computing/python2/node49.html)"
   ]
  },
  {
   "cell_type": "markdown",
   "metadata": {},
   "source": [
    "Navigation:\n",
    "\n",
    "**Next:** [DB-API 2.0 SQL-Anbindungen](node50.ipynb) **Up:** [Datenformate – I](node48.ipynb) **Previous:** [Datenformate – I](node48.ipynb)"
   ]
  },
  {
   "cell_type": "markdown",
   "metadata": {},
   "source": [
    "##  Serialisieren mit  ``Pickle`` \n",
    "\n",
    "Fast jedes Programm besitzt eine Form von persistentem Speicher entweder in Form von Dateien oder Datenbanken. Mit dem  ``file`` -Typ können sämtliche Dateioperationen ausgeführt werden, allerdings gibt es komfortablere Methoden, um persistente Daten in verschiedenen Formen zu speichern.\n",
    "\n",
    "Um ein Python-Objekt zu speichern und z.B. auf einen anderen Rechner zu übertragen, muss es zunächst in Stringform vorliegen. Dabei handelt es sich um eine spezielle Stringform, die eine Rekonstruktion des Python-Objekts erlaubt.   \n",
    "\n",
    "Ein naiver  ``str``  und  ``eval``  Versuch:"
   ]
  },
  {
   "cell_type": "code",
   "execution_count": null,
   "metadata": {},
   "outputs": [],
   "source": [
    "obj={'one': [1,'I','eins'], 'two': [2, 'II','zwei']}\n",
    "obj_as_str=str(obj)\n",
    "type(obj_as_str)\n",
    "obj_as_str\n",
    "obj2=eval(obj_as_str)\n",
    "type(obj2)\n",
    "obj2['two']\n",
    "hex(id(obj)),hex(id(obj2))"
   ]
  },
  {
   "cell_type": "markdown",
   "metadata": {},
   "source": [
    " Mit  ``str(obj)``  wird ein String erzeugt, der mit  ``eval(obj_as_str)``   ausgewertet wird und in ein neues Objekt  ``obj2``  erzeugt wird.   \n",
    " \n",
    "Diese Methode funktioniert allerdings nicht bei rekursiven Datenstrukturen oder eigenen Datentypen:"
   ]
  },
  {
   "cell_type": "code",
   "execution_count": null,
   "metadata": {},
   "outputs": [],
   "source": [
    "class MyType(object):\n",
    "    message='Hallo'\n",
    "    num = 123\n",
    "    def hello(self):\n",
    "        return self.message+' '+str(self.num)\n",
    "    \n",
    "obj=MyType()\n",
    "obj.hello()\n",
    "str(obj)\n",
    "eval(str(obj)) # --> syntax error"
   ]
  },
  {
   "cell_type": "markdown",
   "metadata": {},
   "source": [
    " Es wird also eine allgemeine Methode zum Serialisieren bzw. Deserialisieren benötigt.  \n",
    "\n",
    "---\n",
    "\n",
    " Mit dem Modul   <font color=#0000e6> ``pickle``</font>  oder   <font color=#0000e6> ``cPickle``</font>  und deren Funktionen   <font color=#0000e6> ``dumps``</font>  und   <font color=#0000e6> ``loads``</font>  bzw.   <font color=#0000e6> ``dump``</font>  und   <font color=#0000e6> ``load``</font>  können Python-Objekts serialisiert und de-serialisiert werden."
   ]
  },
  {
   "cell_type": "code",
   "execution_count": null,
   "metadata": {},
   "outputs": [],
   "source": [
    "class MyType(object):\n",
    "    message='Hallo'\n",
    "    num = 123\n",
    "    def hello(self):\n",
    "        return self.message+' '+str(self.num)\n",
    "obj=MyType()\n",
    "from pickle import dumps, loads\n",
    "obj_as_str=dumps(obj)\n",
    "obj2=loads(obj_as_str)\n",
    "obj2"
   ]
  },
  {
   "cell_type": "code",
   "execution_count": null,
   "metadata": {},
   "outputs": [],
   "source": [
    "type(obj2)"
   ]
  },
  {
   "cell_type": "code",
   "execution_count": null,
   "metadata": {},
   "outputs": [],
   "source": [
    "obj2.hello()"
   ]
  },
  {
   "cell_type": "markdown",
   "metadata": {},
   "source": [
    "\n",
    "\n",
    "---\n",
    "\n",
    " Man kann Objekte auch direkt in eine Datei schreiben:"
   ]
  },
  {
   "cell_type": "code",
   "execution_count": null,
   "metadata": {},
   "outputs": [],
   "source": [
    "from pickle import dump, load\n",
    "out = open('myobj.pickle','wb')\n",
    "dump(obj,out)\n",
    "out.close()\n",
    "inp=open('myobj.pickle','rb')\n",
    "obj3=load(inp)\n",
    "inp.close()\n",
    "obj3.hello()"
   ]
  },
  {
   "cell_type": "code",
   "execution_count": null,
   "metadata": {},
   "outputs": [],
   "source": [
    "dumps(obj3)"
   ]
  },
  {
   "cell_type": "markdown",
   "metadata": {},
   "source": [
    " In der letzten Zeile erkennen wir, wie das Python Objekt serialisiert wird.   \n",
    " \n",
    " Allerdings wird nicht die Klassen-Deklaration mit abgespeichert.  Diese muss immer im Programm erst bekannt gemacht werden.  \n",
    "\n",
    "---\n",
    "\n",
    " Das funktioniert automatisch wenn die Klassendeklaration in externer Datei im momentanen Verzeichnis  steht, d.h. man erzeugt eine Datei   <font color=#0000e6> ``mytype.py``</font>  mit dem Inhalt:\n",
    "```python\n",
    "class MyType(object):\n",
    "    message='Hallo'\n",
    "    num = 123\n",
    "    def hello(self):\n",
    "        return self.message+' '+str(self.num)\n",
    "```"
   ]
  },
  {
   "cell_type": "markdown",
   "metadata": {},
   "source": [
    " Speichert ein Objekt ab:"
   ]
  },
  {
   "cell_type": "code",
   "execution_count": null,
   "metadata": {},
   "outputs": [],
   "source": [
    "from pickle import dump, load\n",
    "from source.mytype import MyType\n",
    "obj=MyType()\n",
    "obj2=MyType()\n",
    "obj2.message='Guten Tag'\n",
    "obj2.hello()"
   ]
  },
  {
   "cell_type": "code",
   "execution_count": null,
   "metadata": {},
   "outputs": [],
   "source": [
    "f=open('myobj.pickle','wb')\n",
    "dump(obj,f)\n",
    "dump(obj2,f)\n",
    "f.close()"
   ]
  },
  {
   "cell_type": "markdown",
   "metadata": {},
   "source": [
    " und in einer neuen Pythonsitzung:"
   ]
  },
  {
   "cell_type": "code",
   "execution_count": null,
   "metadata": {},
   "outputs": [],
   "source": [
    "from pickle import dump, load\n",
    "f=open('myobj.pickle','rb')\n",
    "obj=load(f)\n",
    "obj2=load(f)\n",
    "obj.hello()"
   ]
  },
  {
   "cell_type": "code",
   "execution_count": null,
   "metadata": {},
   "outputs": [],
   "source": [
    "obj2.hello()"
   ]
  }
 ],
 "metadata": {
  "kernelspec": {
   "display_name": "Python 3",
   "language": "python",
   "name": "python3"
  },
  "language_info": {
   "codemirror_mode": {
    "name": "ipython",
    "version": 3
   },
   "file_extension": ".py",
   "mimetype": "text/x-python",
   "name": "python",
   "nbconvert_exporter": "python",
   "pygments_lexer": "ipython3",
   "version": "3.6.9"
  }
 },
 "nbformat": 4,
 "nbformat_minor": 3
}