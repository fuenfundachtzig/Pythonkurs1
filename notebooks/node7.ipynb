{
 "cells": [
  {
   "cell_type": "markdown",
   "metadata": {},
   "source": [
    "[Node 7: Weitergehende und häufig verwendete Python Features](http://www-static.etp.physik.uni-muenchen.de/kurs/Computing/python2/node7.html)"
   ]
  },
  {
   "cell_type": "markdown",
   "metadata": {},
   "source": [
    "Navigation:\n",
    "\n",
    "**Next:** [Tools für Listen und Wörterbücher](node8.ipynb) **Up:** [PYTHON2 Kurs](node0.ipynb) **Previous:** [Python Grundlagen](node6.ipynb)"
   ]
  },
  {
   "cell_type": "markdown",
   "metadata": {},
   "source": [
    "#  Weitergehende und häufig verwendete Python-Features\n",
    "Python bietet etliche sehr nützliche weitergehende Features, die über das Standard-Repertoire gängiger  Programmiersprachen hinausgehen und die in Python häufig verwendet werden. Wir behandeln hier kurz <font color=#008000>*Tools für Listen und Dicts, Generatoren, Argumente für Funktionsaufrufe und reguläre Ausdrücke*.</font> \n",
    "\n",
    "\n",
    "## Unterkapitel\n",
    "* [Tools für Listen und Wörterbücher](node8.ipynb)\n",
    "* [Iterables und Generatoren (yield)](node9.ipynb)\n",
    "* [Funktionsaufrufe](node10.ipynb)\n",
    "* [Reguläre Ausdrücke](node11.ipynb)\n",
    "* [Aufgaben](node12.ipynb)\n",
    "\n"
   ]
  }
 ],
 "metadata": {
  "kernelspec": {
   "display_name": "Python 3.6",
   "language": "python",
   "name": "python3"
  },
  "language_info": {
   "codemirror_mode": {
    "name": "ipython",
    "version": 3
   },
   "file_extension": ".py",
   "mimetype": "text/x-python",
   "name": "python",
   "nbconvert_exporter": "python",
   "pygments_lexer": "ipython3",
   "version": "3.6.13"
  }
 },
 "nbformat": 4,
 "nbformat_minor": 3
}