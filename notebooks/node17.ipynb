{
 "cells": [
  {
   "cell_type": "markdown",
   "metadata": {},
   "source": [
    "[Node 17: Die Thread Klasse](http://www-static.etp.physik.uni-muenchen.de/kurs/Computing/python2/node17.html)"
   ]
  },
  {
   "cell_type": "markdown",
   "metadata": {},
   "source": [
    "Navigation:\n",
    "\n",
    "**Next:** [Synchronisation](node18.ipynb) **Up:** [Threads and Multi–Processing](node16.ipynb) **Previous:** [Threads and Multi–Processing](node16.ipynb)"
   ]
  },
  {
   "cell_type": "markdown",
   "metadata": {},
   "source": [
    "##  Die Thread-Klasse\n",
    "Ableiten von Basisklasse   <font color=#008000> *threading.Thread*</font>.\n",
    "\n",
    "Zwei grundlegende Methoden:  \n",
    "*  <font color=#008000> *start()*</font>   Initialisierung,   <font color=#ff0000> **muss**</font>   vom Nutzer-Programm gerufen werden. \n",
    "*  <font color=#008000> *run()*</font>  Die eigentliche Methode, während der Thread läuft. Wird vom Sytem gerufen, getriggert durch   <font color=#008000> *start()*</font>-Aufruf. "
   ]
  },
  {
   "cell_type": "code",
   "execution_count": null,
   "metadata": {},
   "outputs": [],
   "source": [
    "import threading\n",
    "\n",
    "class BytePrinter( threading.Thread ) :\n",
    "    \"\"\"\n",
    "    A sample thread class\n",
    "    \"\"\"\n",
    "    \n",
    "    def __init__(self):\n",
    "        \"\"\"\n",
    "        Constructor, setting initial variables\n",
    "        \"\"\"\n",
    "        threading.Thread.__init__(self, name=\"TestThread\")\n",
    "        \n",
    "    def run(self):\n",
    "        \"\"\"\n",
    "        overload of threading.thread.run()\n",
    "        main control loop\n",
    "        (The standard run() method invokes the callable object passed to the object’s constructor as the \n",
    "        target argument, if any, with positional and keyword arguments taken from the args and kwargs arguments, respectively.)\n",
    "        \"\"\"\n",
    "        print (\"%s starts\" % (self.getName(),))\n",
    "\n",
    "        for i in range(-128,128):\n",
    "            print (i)\n",
    "\n",
    "bp = BytePrinter()\n",
    "print (\"Starting BytePrinter\")\n",
    "bp.start()\n",
    "print (\"Started BytePrinter\")"
   ]
  },
  {
   "cell_type": "markdown",
   "metadata": {},
   "source": [
    "\n",
    "Sobald   <font color=#008000> *bp.start()*</font>  aufgerufen wird, laufen 2 Prozesse:  \n",
    "* Einer fährt fort mit den Statements im Hauptprogramm nach   <font color=#008000> *bp.start()*</font> \n",
    "* Der andere, neue   <font color=#ff0000>**bp–Thread**</font> startet die   <font color=#008000> *bp.run()*</font>  Methode  \n",
    "\n",
    "Wann welcher Prozess zum Zuge kommt ist nicht festgelegt, sondern zufällig \n",
    "\n",
    "Der   <font color=#ff0000> **Thread**</font>   läuft bis  \n",
    "*  <font color=#008000> *run()*</font>  ist beendet. \n",
    "*  <font color=#008000> *time.sleep(..)*</font>  oder andere Wait–Kommandos werden gerufen und unterbrechen die Ausführung \n"
   ]
  },
  {
   "cell_type": "code",
   "execution_count": null,
   "metadata": {},
   "outputs": [],
   "source": [
    "import threading\n",
    "\n",
    "class BytePrinter( threading.Thread ) :\n",
    "    \"\"\"\n",
    "    A sample thread class\n",
    "    \"\"\"\n",
    "    def __init__(self):\n",
    "        \"\"\"\n",
    "        Constructor, setting initial variables\n",
    "        \"\"\"\n",
    "        threading.Thread.__init__(self, name=\"TestThread\")\n",
    "        \n",
    "    def run(self):\n",
    "        \"\"\"\n",
    "        overload of threading.thread.run()\n",
    "        main control loop\n",
    "        \"\"\"\n",
    "        print (\"%s starts\" % (self.getName(),))\n",
    "\n",
    "        for i in range(-128,128):\n",
    "            print (i)\n",
    "\n",
    "bp1 = BytePrinter()\n",
    "bp2 = BytePrinter()\n",
    "bp3 = BytePrinter()\n",
    "\n",
    "bp1.start()\n",
    "bp2.start()\n",
    "bp3.start()"
   ]
  },
  {
   "cell_type": "markdown",
   "metadata": {},
   "source": [
    "\n",
    "Ausführungszeit für   <font color=#ff0000> **bp–Threads**</font>  so kurz, dass i.d.R.  die einzelnen Threads sequentiell laufen. \n",
    "\n",
    "$\\Rightarrow$ zur Demo kurzes   <font color=#008000> *sleep()*</font>  in   <font color=#008000> *run()*</font>-Methode.  \n"
   ]
  },
  {
   "cell_type": "code",
   "execution_count": null,
   "metadata": {},
   "outputs": [],
   "source": [
    "import threading\n",
    "import time\n",
    "\n",
    "class BytePrinter( threading.Thread ) :\n",
    "\n",
    "    def __init__(self, name = \"TestThread\"):\n",
    "        threading.Thread.__init__(self, name=name)\n",
    "        \n",
    "    def run(self):\n",
    "        print (\"%s starts\" % (self.getName(),))\n",
    "        for i in range(-128,128):\n",
    "            print (self.getName(), i)\n",
    "            time.sleep(0.0001) # sleep 0.1 ms\n",
    "\n",
    "# main\n",
    "bp1 = BytePrinter(\"Helmut\")\n",
    "bp2 = BytePrinter(\"Edi\")\n",
    "bp3 = BytePrinter(\"Angie\")\n",
    "bp1.start()\n",
    "bp2.start()\n",
    "bp3.start()\n"
   ]
  },
  {
   "cell_type": "markdown",
   "metadata": {},
   "source": [
    "\n",
    "\n",
    "---\n",
    "\n",
    " Zur Unterscheidung mehrerer Threads kann man ihnen  Namen geben ...  \n",
    "\n",
    "\n",
    "\n",
    "---"
   ]
  }
 ],
 "metadata": {
  "kernelspec": {
   "display_name": "Python 3",
   "language": "python",
   "name": "python3"
  },
  "language_info": {
   "codemirror_mode": {
    "name": "ipython",
    "version": 3
   },
   "file_extension": ".py",
   "mimetype": "text/x-python",
   "name": "python",
   "nbconvert_exporter": "python",
   "pygments_lexer": "ipython3",
   "version": "3.6.9"
  }
 },
 "nbformat": 4,
 "nbformat_minor": 3
}