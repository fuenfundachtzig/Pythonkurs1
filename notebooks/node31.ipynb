{
 "cells": [
  {
   "cell_type": "markdown",
   "metadata": {},
   "source": [
    "[Node 31: Software Engineering](http://www-static.etp.physik.uni-muenchen.de/kurs/Computing/python2/node31.html)"
   ]
  },
  {
   "cell_type": "markdown",
   "metadata": {},
   "source": [
    "Navigation:\n",
    "\n",
    "**Next:** [Software Engineering Modelle](node32.ipynb) **Up:** [Objektorientiertes Programmieren – Allgemeines](node23.ipynb) **Previous:** [UML Summary](node30.ipynb)"
   ]
  },
  {
   "cell_type": "markdown",
   "metadata": {},
   "source": [
    "##  Software Engineering\n",
    " Zentraler Zweig  der Informatik befasst sich mit   <font color=#008000> *Software Engineering*</font> . Ursprünglicher Ansatz:  \n",
    "* Methoden und Vorgehensweisen aus anderen technischen Bereichen auf Software–Entwicklung  übertragen: Bewährte Ingenieursverfahren aus Großanlagenbau, Bauwirtschaft, Fahrzeugtechnik, ...  \n",
    "    * Präzise, detaillierte Spezifikation \n",
    "    * Sorgfältiges Design \n",
    "    * Unterteilung des Projekts soweit wie möglich in unabhängige Standardkomponenten \n",
    "* Viele wichtige Fortschritte in  Software Engineering in letzten Jahrzehnten \n",
    "* Aber das Ziel Software Projekte analog zu andren Technik-Bereichen mit   <font color=#008000> *Engineering*</font>  Methoden hinreichend kontrollieren zu können wurde nicht erreicht: \n",
    "    <font color=#008000> *Nur ca 20 % der Software-Projekte sind erfolgreich im engeren Sinne, d.h. Kostenplan, Termine, Funkionalität weitgehend oder voll erfüllt*</font>  (Quelle: iX Magazin 2/06) \n",
    "* Software zu dynamisch und lebendig; Software im Einsatz bewegt sich in  hochkomplexem Zustandsraum;  Auswirkungen nicht in Einzelheiten zu erfassen \n",
    "\n",
    "---\n",
    "\n",
    " Art und Weise des Programmierens extrem abhängig von Größe des Projekts   <font color=#008000> *(beachte: Faustregel sind 10 Zeilen Programmcode pro Tag !)*</font>\n",
    "* **O(50-500) Zeilen**\n",
    "    * Kurse, Mini–Projekte. I.d.R. ohne formalen Design–Prozess  lösbar: \n",
    "    * kurz Nachdenken, dann Programmieren. Programm von Einzelperson  voll überschaubar. Kommentierter, strukturierter Code auch von anderen  weiterzubenutzen   <font color=#008000> *(...aber meist wird's komplett neu gemacht)*</font>.\n",
    "* **O(500-10k) Zeilen** \n",
    "    * Von Einzelperson oder Kleingruppe zu bewältigen. Weiterentwicklung und Weitergabe kritisch ohne formales Design.  \n",
    "* **O(100k-1M) Zeilen**\n",
    "    * Entwicklerteam nötig. Aufteilung in Unterprojekte. Ausführliches Design entscheidend, u.U. Hauptteil der Zeit.   \n",
    "* **> 1M Zeilen**\n",
    "    * scheitern häufig ...  <font color=#0000ff> \n",
    "    \n",
    "**Aufwand für Design wächst stark nicht-linear mit Größe des Projektes !**</font> \n",
    "\n",
    "---\n",
    "\n",
    "<font color=#0000ff> **Probleme bei großen Software Projekten:**</font>  \n",
    "\n",
    "**Software ist   <font color=#ff0000> **starr**</font>  bzw.   <font color=#ff0000> **fragil**</font>** , d.h.   \n",
    "* Abhängigkeiten schwer zu überschauen \n",
    "* Kleine Änderungen haben große Nebenwirkungen \n",
    "* Unvorhersehbare Nebeneffekte treten auf bei jeder Änderung im Ablauf oder Austausch von Modulen \n",
    "* Aufwand für Modifikationen schwer abzuschätzen \n",
    "* Wenn $P(bug\\vert change) \\approx 1$ kann das System nicht mehr weiterentwickelt werden. \n",
    "* Management-Vorgabe <font color=#008000> *“Don't touch a working system”*</font> \n",
    "\n",
    "---\n",
    "\n",
    "**Software ist   <font color=#ff0000> **nicht wiederverwendbar**</font>** , d.h.  \n",
    "* Code zur Lösung eines Problems schon vorhanden   \n",
    "    * Enthält aber Abhängigkeiten auf viele andere, für Problem  irrelevante Dinge \n",
    "    * einige kleinere Anpassungen nötig \n",
    "* 2 Möglichkeiten:   \n",
    "    * Man übernimmt Verantwortung für den code und die nötigen Anpassungen \n",
    "    * Man macht unabhängige   <font color=#008000> *cut& paste*</font>  Kopie des benötigten Codes.\n",
    "* Idealerweise möchte man den Code aber einfach nur   <font color=#008000>benutzen</font>  und nicht    <font color=#008000>Verantwortung für Wartung</font>  übernehmen. \n",
    "\n",
    "---\n",
    "\n",
    "**<font color=#ff0000> **Dependency Management**</font>** \n",
    "* In einem großen Softwareprojekt sind eine Vielzahl von Abhängigkeiten zwischen den einzelnen Komponenten unvermeidbar \n",
    "* Entscheidend ist die Kontrolle der Abhängigkeiten der einzelnen Komponenten   \n",
    "    * OO Methoden um Abhängigkeiten zu überwachen, z.B. UML-Diagramme \n",
    "    * OO “Tricks” um Abhängigkeiten zu minimieren    <font color=#008000> *(abstrakte Klassen, Interfaces)*</font> \n"
   ]
  }
 ],
 "metadata": {
  "kernelspec": {
   "display_name": "Python 3",
   "language": "python",
   "name": "python3"
  },
  "language_info": {
   "codemirror_mode": {
    "name": "ipython",
    "version": 3
   },
   "file_extension": ".py",
   "mimetype": "text/x-python",
   "name": "python",
   "nbconvert_exporter": "python",
   "pygments_lexer": "ipython3",
   "version": "3.6.9"
  }
 },
 "nbformat": 4,
 "nbformat_minor": 3
}