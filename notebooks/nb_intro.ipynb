{
 "cells": [
  {
   "cell_type": "markdown",
   "metadata": {
    "toc": true
   },
   "source": [
    "<h1>Table of Contents<span class=\"tocSkip\"></span></h1>\n",
    "<div class=\"toc\"><ul class=\"toc-item\"><li><span><a href=\"#Jupyter-Notebook---Quick-Introduction\" data-toc-modified-id=\"Jupyter-Notebook---Quick-Introduction-1\"><span class=\"toc-item-num\">1&nbsp;&nbsp;</span>Jupyter Notebook - Quick Introduction</a></span><ul class=\"toc-item\"><li><span><a href=\"#Python-code-cells\" data-toc-modified-id=\"Python-code-cells-1.1\"><span class=\"toc-item-num\">1.1&nbsp;&nbsp;</span>Python code cells</a></span></li><li><span><a href=\"#Notebook-managing\" data-toc-modified-id=\"Notebook-managing-1.2\"><span class=\"toc-item-num\">1.2&nbsp;&nbsp;</span>Notebook managing</a></span></li><li><span><a href=\"#Help-and-documentation\" data-toc-modified-id=\"Help-and-documentation-1.3\"><span class=\"toc-item-num\">1.3&nbsp;&nbsp;</span>Help and documentation</a></span><ul class=\"toc-item\"><li><span><a href=\"#Tab-completion-of-object-contents\" data-toc-modified-id=\"Tab-completion-of-object-contents-1.3.1\"><span class=\"toc-item-num\">1.3.1&nbsp;&nbsp;</span>Tab-completion of object contents</a></span></li></ul></li><li><span><a href=\"#IPython-Magic-Commands\" data-toc-modified-id=\"IPython-Magic-Commands-1.4\"><span class=\"toc-item-num\">1.4&nbsp;&nbsp;</span>IPython Magic Commands</a></span><ul class=\"toc-item\"><li><span><a href=\"#Running-External-Code:-%run\" data-toc-modified-id=\"Running-External-Code:-%run-1.4.1\"><span class=\"toc-item-num\">1.4.1&nbsp;&nbsp;</span>Running External Code: <code>%run</code></a></span></li><li><span><a href=\"#Timing-code-%timeit\" data-toc-modified-id=\"Timing-code-%timeit-1.4.2\"><span class=\"toc-item-num\">1.4.2&nbsp;&nbsp;</span>Timing code <code>%timeit</code></a></span></li><li><span><a href=\"#Shell-commands\" data-toc-modified-id=\"Shell-commands-1.4.3\"><span class=\"toc-item-num\">1.4.3&nbsp;&nbsp;</span>Shell commands</a></span></li></ul></li><li><span><a href=\"#Python-versions\" data-toc-modified-id=\"Python-versions-1.5\"><span class=\"toc-item-num\">1.5&nbsp;&nbsp;</span>Python versions</a></span><ul class=\"toc-item\"><li><span><a href=\"#Python3-vs-Python2\" data-toc-modified-id=\"Python3-vs-Python2-1.5.1\"><span class=\"toc-item-num\">1.5.1&nbsp;&nbsp;</span>Python3 vs Python2</a></span></li></ul></li></ul></li></ul></div>"
   ]
  },
  {
   "cell_type": "markdown",
   "metadata": {
    "nbpresent": {
     "id": "30751eba-252f-4281-b988-137f3f497cac"
    },
    "slideshow": {
     "slide_type": "slide"
    }
   },
   "source": [
    "# Jupyter Notebook - Quick Introduction \n",
    "\n",
    "A very attractive way to use python and work interactively is provided by **jupyter notebooks** \n",
    "- Start an interactive python environment in a browser window\n",
    "- Output and Graphs are shown in the notebook\n",
    "- you can add your own comments, descriptions, math formulas (Latex style) , ... \n",
    "\n",
    "Great way to develop and document an interactive analysis and to share with others:\n",
    "* Nice example provided by **Ligo gravitational wave analysis** (2017 Nobel prize):  \n",
    "  [Detailed notebook](https://losc.ligo.org/tutorials/) to present analysis in detail\n",
    "\n",
    "\n",
    "\n",
    "\n",
    "**Starting:**  \n",
    "In shell-window:\n",
    "\n",
    "```jupyter notebook```\n",
    "\n",
    "Sometimes problems on **cip** nodes, you might need:\n",
    "\n",
    "```jupyter notebook --browser=firefox```\n",
    "\n",
    "More info at https://jupyter.readthedocs.io/en/latest/index.html"
   ]
  },
  {
   "cell_type": "markdown",
   "metadata": {
    "nbpresent": {
     "id": "f7d04c1b-6f46-409d-99fc-ff98c9a3321a"
    },
    "slideshow": {
     "slide_type": "subslide"
    }
   },
   "source": [
    "## Python code cells\n",
    "\n",
    "* you can enter  Python instructions (single line, many lines, ...) in *code cells*.\n",
    "* content of cells will be executed when you hit \n",
    "\n",
    "```<Shift><Enter>```"
   ]
  },
  {
   "cell_type": "code",
   "execution_count": null,
   "metadata": {
    "nbpresent": {
     "id": "06c3a4fe-c931-4a03-872d-dd4de3ff2b30"
    },
    "slideshow": {
     "slide_type": "subslide"
    }
   },
   "outputs": [],
   "source": [
    "5**25"
   ]
  },
  {
   "cell_type": "code",
   "execution_count": null,
   "metadata": {
    "nbpresent": {
     "id": "8cdc533f-d332-43dc-93b1-32f77b5d86a5"
    },
    "slideshow": {
     "slide_type": "subslide"
    }
   },
   "outputs": [],
   "source": [
    "import numpy as np\n",
    "import pylab as pl\n",
    "\n",
    "t = np.arange(0.0, 1.0+0.01, 0.01)\n",
    "s = np.cos(2*2*np.pi*t)\n",
    "pl.plot(t, s)\n",
    "\n",
    "pl.xlabel('time (s)')\n",
    "pl.ylabel('voltage (mV)')\n",
    "pl.title('About as simple as it gets, folks')\n",
    "pl.grid(True)"
   ]
  },
  {
   "cell_type": "markdown",
   "metadata": {
    "nbpresent": {
     "id": "7c2b3c9d-cf1b-4455-b2ec-d7b9934eaaae"
    },
    "slideshow": {
     "slide_type": "subslide"
    }
   },
   "source": [
    "**Code cells**\n",
    "* Output of commands is shown, both text and graphics\n",
    "* Cells are part of interactive python session\n",
    "  * all *variables, definitions, imports, ...,* which happen in a cell stay active and can be used in sub-sequent cells\n",
    "* usually cells are executed one after the other, starting from top\n",
    "  * just convention, not mandatory, **watch out!**"
   ]
  },
  {
   "cell_type": "code",
   "execution_count": null,
   "metadata": {
    "nbpresent": {
     "id": "0d030db8-41ed-4ff9-98f5-fee845a06063"
    },
    "slideshow": {
     "slide_type": "subslide"
    }
   },
   "outputs": [],
   "source": [
    "type(t)"
   ]
  },
  {
   "cell_type": "code",
   "execution_count": null,
   "metadata": {
    "nbpresent": {
     "id": "de223c17-03f9-4e67-9213-d052886ab26a"
    }
   },
   "outputs": [],
   "source": [
    "print(t[0:10])"
   ]
  },
  {
   "cell_type": "markdown",
   "metadata": {
    "nbpresent": {
     "id": "be5afe67-aa35-4b2e-8105-749fc55e7a40"
    },
    "slideshow": {
     "slide_type": "subslide"
    }
   },
   "source": [
    "## Notebook managing\n",
    "\n",
    "Notebooks\n",
    "* can be stored\n",
    "* re-used\n",
    "* shared with other\n",
    "* exported as html, slides, ...\n",
    "\n",
    "They can also be executed and stored on remote system and accessed via web-browser.\n"
   ]
  },
  {
   "cell_type": "markdown",
   "metadata": {},
   "source": [
    "### Edit Modes\n",
    "There are two modes in which jupyter notebooks are displayed:\n",
    "* When a cell is marked green, you can edit it (\"edit mode\").\n",
    "* When a cell is marked blue, you are in \"command mode\".\n",
    "To enter edit mode, press `ENTER`. To leave it, press `ESC` or `CTRL+ENTER` (to execute) or `SHIFT+ENTER` (to execute and move to the next cell).\n",
    "\n",
    "To switch the type of a cell in navigation mode, press `y` for code mode, press `m` for markdown mode. You can also delete cells here by pressing `d` two times."
   ]
  },
  {
   "cell_type": "markdown",
   "metadata": {
    "nbpresent": {
     "id": "cd42ba71-f1d0-4b23-babd-2a30f52ddd0a"
    },
    "slideshow": {
     "slide_type": "subslide"
    }
   },
   "source": [
    "## Help and documentation\n",
    "\n",
    "Jupyter/IPython uses the ``?`` character as a shorthand for accessing  documentation and other relevant information on any object, function or module:\n",
    "\n",
    "```ipython\n",
    "In [2]: len?\n",
    "Type:        builtin_function_or_method\n",
    "String form: <built-in function len>\n",
    "Namespace:   Python builtin\n",
    "Docstring:\n",
    "len(object) -> integer\n",
    "\n",
    "Return the number of items of a sequence or mapping.\n",
    "```"
   ]
  },
  {
   "cell_type": "markdown",
   "metadata": {
    "nbpresent": {
     "id": "d5280d21-27af-4e93-81b7-53328e78ddd2"
    },
    "slideshow": {
     "slide_type": "fragment"
    }
   },
   "source": [
    "This notation works for just about anything, including object methods:\n",
    "\n",
    "```ipython\n",
    "In [3]: L = [1, 2, 3]\n",
    "In [4]: L.insert?\n",
    "Type:        builtin_function_or_method\n",
    "String form: <built-in method insert of list object at 0x1024b8ea8>\n",
    "Docstring:   L.insert(index, object) -- insert object before index\n",
    "```\n",
    "\n",
    "or even objects themselves, with the documentation from their type:\n",
    "\n",
    "```ipython\n",
    "In [5]: L?\n",
    "Type:        list\n",
    "String form: [1, 2, 3]\n",
    "Length:      3\n",
    "Docstring:\n",
    "list() -> new empty list\n",
    "list(iterable) -> new list initialized from iterable's items\n",
    "```"
   ]
  },
  {
   "cell_type": "markdown",
   "metadata": {
    "nbpresent": {
     "id": "ff8c88b6-5cd0-4901-9537-1af99700e813"
    },
    "slideshow": {
     "slide_type": "subslide"
    }
   },
   "source": [
    "### Tab-completion of object contents\n",
    "\n",
    "Every Python object has various attributes and methods associated with it. This can be accessed in Python with ``help``  or ``dir``.\n",
    "But much more convenient is the tab-completion interface.\n",
    "To see a list of all available attributes of an object, you can type the name of the object followed by a period (\"``.``\") character and the Tab key:\n",
    "\n",
    "```ipython\n",
    "In [10]: L.<TAB>\n",
    "L.append   L.copy     L.extend   L.insert   L.remove   L.sort     \n",
    "L.clear    L.count    L.index    L.pop      L.reverse\n",
    "```"
   ]
  },
  {
   "cell_type": "markdown",
   "metadata": {
    "nbpresent": {
     "id": "c16a47f1-cdb7-4937-b936-11f6f2ea7779"
    },
    "slideshow": {
     "slide_type": "subslide"
    }
   },
   "source": [
    "## IPython Magic Commands\n",
    "\n",
    "IPython  *magic commands* are prefixed by the ``%`` character.\n",
    "\n",
    "We just discuss two quick examples, but will see more in later chapters.\n",
    "\n",
    "### Running External Code: ``%run``\n",
    "\n",
    "Rather than writing or loading code in a cell it can be convenient to just run code in an external python file. \n",
    "This can be done with the ``%run`` magic.\n",
    "\n",
    "\n",
    "```ipython\n",
    "In [6]: %run myscript.py\n",
    "```\n",
    "\n",
    "The output of the code will be shown and also *all declarations* (vars, functions, imports, ...)  are available, it is equivalent to load and execute the code in a cell.\n",
    "\n",
    "### Timing code ``%timeit``\n",
    "This will determine the execution time of the single-line Python statement that follows it.\n",
    "For example, we may want to check the performance of a list comprehension:\n",
    "\n",
    "```ipython\n",
    "In [8]: %timeit L = [n ** 2 for n in range(1000)]\n",
    "1000 loops, best of 3: 325 µs per loop\n",
    "```\n",
    "\n",
    "The benefit of ``%timeit`` is that for short commands it will automatically perform multiple runs in order to attain more robust results.\n",
    "For multi line statements, adding a **second** ``%`` sign will turn this into a cell magic that can handle multiple lines of input.\n",
    "For example, here's the equivalent construction with a ``for``-loop:\n",
    "\n",
    "```ipython\n",
    "In [9]: %%timeit\n",
    "   ...: L = []\n",
    "   ...: for n in range(1000):\n",
    "   ...:     L.append(n ** 2)\n",
    "   ...: \n",
    "1000 loops, best of 3: 373 µs per loop\n",
    "```\n"
   ]
  },
  {
   "cell_type": "markdown",
   "metadata": {},
   "source": [
    "### Shell commands\n",
    "Simple executon of shell commands, just precede with **`!`**"
   ]
  },
  {
   "cell_type": "code",
   "execution_count": null,
   "metadata": {
    "nbpresent": {
     "id": "b5965916-bcb8-4031-b379-c804bd304b04"
    }
   },
   "outputs": [],
   "source": [
    "!pwd"
   ]
  },
  {
   "cell_type": "code",
   "execution_count": null,
   "metadata": {},
   "outputs": [],
   "source": [
    "a=!ls  # ouput can be obtained as list\n",
    "print (a)"
   ]
  },
  {
   "cell_type": "markdown",
   "metadata": {},
   "source": [
    "## Python versions\n",
    "We are using for the course the recent **Python 3.6** version together with corresponding Numpy, Scipy, Pandas, etc, packages.\n",
    "\n",
    "The installation is based on the **[Anaconda](https://www.anaconda.com/download)** and **[conda](https://conda.io/docs/user-guide/install/index.html)** tools, which provide scientific and machine learning python packages for many architectures (Linux, WIndows, Mac).\n",
    "\n",
    "Pandas provides a function to get detailed info on installed package versions:\n"
   ]
  },
  {
   "cell_type": "code",
   "execution_count": null,
   "metadata": {},
   "outputs": [],
   "source": [
    "import pandas as pd\n",
    "pd.show_versions()"
   ]
  },
  {
   "cell_type": "markdown",
   "metadata": {
    "collapsed": true
   },
   "source": [
    "### Python3 vs Python2\n",
    "For most parts differences between Python3 and Python2 are small:\n",
    "* **most notable** : `print` is a function in Python3 and  requires `()`  *(was statement in Python2)*\n",
    "  * `print ('Hi there') # Python3`\n",
    "  * `print 'Hi there' # Python2`\n",
    "    * Python2 also accepts `print ('Hi there')`, but not v.v.\n",
    "* many detailed differences in Python modules\n",
    "  * existing Python2 code which relies on Python modules might require larger porting effort\n",
    "   \n",
    "\n",
    "More info e.g. in http://sebastianraschka.com/Articles/2014_python_2_3_key_diff.html"
   ]
  }
 ],
 "metadata": {
  "anaconda-cloud": {},
  "kernelspec": {
   "display_name": "Python 3",
   "language": "python",
   "name": "python3"
  },
  "language_info": {
   "codemirror_mode": {
    "name": "ipython",
    "version": 3
   },
   "file_extension": ".py",
   "mimetype": "text/x-python",
   "name": "python",
   "nbconvert_exporter": "python",
   "pygments_lexer": "ipython3",
   "version": "3.6.9"
  },
  "nbpresent": {
   "slides": {
    "0bc16cd9-ff75-4172-ad68-eaade03704d1": {
     "id": "0bc16cd9-ff75-4172-ad68-eaade03704d1",
     "prev": null,
     "regions": {
      "8c76ba99-b842-49ec-870e-b520608eecec": {
       "attrs": {
        "height": 0.8,
        "width": 0.8,
        "x": 0.1,
        "y": 0.1
       },
       "content": {
        "cell": "0d030db8-41ed-4ff9-98f5-fee845a06063",
        "part": "whole"
       },
       "id": "8c76ba99-b842-49ec-870e-b520608eecec"
      }
     }
    },
    "0f1e9adb-963d-4462-983e-baa0f2053318": {
     "id": "0f1e9adb-963d-4462-983e-baa0f2053318",
     "prev": "9ecbf7ea-ca09-42ad-993e-a1347b5e2f35",
     "regions": {
      "7087f640-d4a6-4d47-b06b-c3de7c5dc6ac": {
       "attrs": {
        "height": 0.8,
        "width": 0.8,
        "x": 0.1,
        "y": 0.1
       },
       "content": {
        "cell": "cd42ba71-f1d0-4b23-babd-2a30f52ddd0a",
        "part": "whole"
       },
       "id": "7087f640-d4a6-4d47-b06b-c3de7c5dc6ac"
      }
     }
    },
    "7c100ce3-f726-41b7-b280-201bc818ac16": {
     "id": "7c100ce3-f726-41b7-b280-201bc818ac16",
     "prev": "ebc15b52-e989-4f9c-b6c8-200a91c96c6f",
     "regions": {
      "a7067092-088b-45d5-b92b-e724778a39bf": {
       "attrs": {
        "height": 0.8,
        "width": 0.8,
        "x": 0.1,
        "y": 0.1
       },
       "content": {
        "cell": "c16a47f1-cdb7-4937-b936-11f6f2ea7779",
        "part": "whole"
       },
       "id": "a7067092-088b-45d5-b92b-e724778a39bf"
      }
     }
    },
    "8ffe32e9-7500-4566-826e-07c6312263e9": {
     "id": "8ffe32e9-7500-4566-826e-07c6312263e9",
     "prev": "7c100ce3-f726-41b7-b280-201bc818ac16",
     "regions": {
      "40e19683-9038-4ab9-8b10-ddb01239759f": {
       "attrs": {
        "height": 0.8,
        "width": 0.8,
        "x": 0.1,
        "y": 0.1
       },
       "content": {
        "cell": "b5965916-bcb8-4031-b379-c804bd304b04",
        "part": "whole"
       },
       "id": "40e19683-9038-4ab9-8b10-ddb01239759f"
      }
     }
    },
    "9ecbf7ea-ca09-42ad-993e-a1347b5e2f35": {
     "id": "9ecbf7ea-ca09-42ad-993e-a1347b5e2f35",
     "prev": "d7655c42-6af4-4801-9f61-78c5cc930b2c",
     "regions": {
      "e8d2c27c-2ebe-47ec-8bf9-f06a91511d40": {
       "attrs": {
        "height": 0.8,
        "width": 0.8,
        "x": 0.1,
        "y": 0.1
       },
       "content": {
        "cell": "be5afe67-aa35-4b2e-8105-749fc55e7a40",
        "part": "whole"
       },
       "id": "e8d2c27c-2ebe-47ec-8bf9-f06a91511d40"
      }
     }
    },
    "d7655c42-6af4-4801-9f61-78c5cc930b2c": {
     "id": "d7655c42-6af4-4801-9f61-78c5cc930b2c",
     "prev": "0bc16cd9-ff75-4172-ad68-eaade03704d1",
     "regions": {
      "f1ce47b7-7ce1-4c64-8ff7-db03517461c3": {
       "attrs": {
        "height": 0.8,
        "width": 0.8,
        "x": 0.1,
        "y": 0.1
       },
       "content": {
        "cell": "de223c17-03f9-4e67-9213-d052886ab26a",
        "part": "whole"
       },
       "id": "f1ce47b7-7ce1-4c64-8ff7-db03517461c3"
      }
     }
    },
    "ebc15b52-e989-4f9c-b6c8-200a91c96c6f": {
     "id": "ebc15b52-e989-4f9c-b6c8-200a91c96c6f",
     "prev": "fe79124e-2757-4bfd-b6d2-96ac440d1857",
     "regions": {
      "4651ebd9-8608-46da-9086-5a6fc7d1d027": {
       "attrs": {
        "height": 0.8,
        "width": 0.8,
        "x": 0.1,
        "y": 0.1
       },
       "content": {
        "cell": "ff8c88b6-5cd0-4901-9537-1af99700e813",
        "part": "whole"
       },
       "id": "4651ebd9-8608-46da-9086-5a6fc7d1d027"
      }
     }
    },
    "fe79124e-2757-4bfd-b6d2-96ac440d1857": {
     "id": "fe79124e-2757-4bfd-b6d2-96ac440d1857",
     "prev": "0f1e9adb-963d-4462-983e-baa0f2053318",
     "regions": {
      "4b03ac16-bb6a-44bc-aec8-d5bc1acb3164": {
       "attrs": {
        "height": 0.8,
        "width": 0.8,
        "x": 0.1,
        "y": 0.1
       },
       "content": {
        "cell": "d5280d21-27af-4e93-81b7-53328e78ddd2",
        "part": "whole"
       },
       "id": "4b03ac16-bb6a-44bc-aec8-d5bc1acb3164"
      }
     }
    }
   },
   "themes": {
    "default": "11ec79a2-a868-46a3-96d7-ccffceea04d6",
    "theme": {}
   }
  },
  "toc": {
   "nav_menu": {},
   "number_sections": true,
   "sideBar": true,
   "skip_h1_title": false,
   "title_cell": "Table of Contents",
   "title_sidebar": "Contents",
   "toc_cell": true,
   "toc_position": {},
   "toc_section_display": true,
   "toc_window_display": false
  }
 },
 "nbformat": 4,
 "nbformat_minor": 1
}