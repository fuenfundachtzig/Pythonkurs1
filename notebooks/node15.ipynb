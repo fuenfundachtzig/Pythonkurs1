{
 "cells": [
  {
   "cell_type": "markdown",
   "metadata": {},
   "source": [
    "[Node 15: SWIG](http://www-static.etp.physik.uni-muenchen.de/kurs/Computing/python2/node15.html)"
   ]
  },
  {
   "cell_type": "markdown",
   "metadata": {},
   "source": [
    "Navigation:\n",
    "\n",
    "**Next:** [Threads and Multi–Processing](node16.ipynb) **Up:** [Python und C/C++](node13.ipynb) **Previous:** [ctypes](node14.ipynb)"
   ]
  },
  {
   "cell_type": "markdown",
   "metadata": {},
   "source": [
    "##  SWIG\n",
    "Um eine C- oder C++-Biliothek an Python anzubinden, verwenden wir den SWIG-Interface-Generator (SWIG = Simplified Wrapper and Interface Generator). Dieses Modul ist nicht Bestandteil der Python-Standard-Installation und muss getrennt installiert werden, z.B. mit   ``sudo apt-get install swig``  auf Ubuntu-Systemen. (Es ist nicht auf Python beschränkt, sondern kann auch als Interface zu anderen Sprachen genutzt werden.)\n",
    " \n",
    "### C-Klassen\n",
    "Wir verwenden das Beispiel aus dem [Tutorial](http://www.swig.org/tutorial.html).\n",
    "Die Datei  ``example.c``  soll in Python eingebunden werden:"
   ]
  },
  {
   "cell_type": "markdown",
   "metadata": {},
   "source": [
    "```C++\n",
    "/* File : example.c */\n",
    " \n",
    " #include <time.h>\n",
    " double My_variable = 3.0;\n",
    " \n",
    " int fact(int n) {\n",
    "     if (n <= 1) return 1;\n",
    "     else return n*fact(n-1);\n",
    " }\n",
    " \n",
    " int my_mod(int x, int y) {\n",
    "     return (x%y);\n",
    " }\n",
    "        \n",
    " char *get_time()\n",
    " {\n",
    "     time_t ltime;\n",
    "     time(&ltime);\n",
    "     return ctime(&ltime);\n",
    " }\n",
    "```"
   ]
  },
  {
   "cell_type": "markdown",
   "metadata": {},
   "source": [
    " Um die Funktionen  ``fact, my_mod, get_time``  und die Variable   ``My_variable``  aus  ``example.c``  zu wrappen, benötigen wir folgende Interface-Datei  ``example.i`` :"
   ]
  },
  {
   "cell_type": "markdown",
   "metadata": {},
   "source": [
    "```C++\n",
    "/* example.i */\n",
    " %module example\n",
    " %{\n",
    " /* Put header files here or function declarations like below */\n",
    " extern double My_variable;\n",
    " extern int fact(int n);\n",
    " extern int my_mod(int x, int y);\n",
    " extern char *get_time();\n",
    " %}\n",
    " \n",
    " extern double My_variable;\n",
    " extern int fact(int n);\n",
    " extern int my_mod(int x, int y);\n",
    " extern char *get_time();\n",
    "```"
   ]
  },
  {
   "cell_type": "markdown",
   "metadata": {},
   "source": [
    "Die `%module`-Direktive definiert den Namen des zu generierenden Moduls und enthält weiteren Code (Header und Deklarationen), der in den von SWIG erzeugten Wrapper kopiert wird. \n",
    "Der [zweite Teil](https://stackoverflow.com/questions/32208350/swig-why-we-need-to-declare-functions-twice) enthält die Definitionen derjenigen Funktionen, für die ein Wrapper erzeugt werden soll.\n",
    "\n",
    "SWIG kann mit dieser Interface-Datei ,glue-code' für einige Sprachen erzeugen (z.B. Perl, Java). Für Python wird SWIG folgendermaßen  aufgerufen und erzeugt dabei die Dateien  ``example.py``  und   ``example_wrap.c.`` :\n",
    "```bash\n",
    "swig -python example.i\n",
    "```\n",
    " Nun muss  ``example_wrap.c.``  zu einer ,shared library' mit dem Namen  ``_example.so``  kompiliert werden:\n",
    "```bash\n",
    "gcc -fPIC -c example.c example_wrap.c -I/usr/include/python2.7/\n",
    "ld -shared example.o example_wrap.o -o _example.so\n",
    "```"
   ]
  },
  {
   "cell_type": "markdown",
   "metadata": {},
   "source": [
    " Innerhalb von Python ist das neue Modul  ``example``  und die entsprechenden Routinen nun folgendermaßen aufrufbar:"
   ]
  },
  {
   "cell_type": "code",
   "execution_count": null,
   "metadata": {},
   "outputs": [],
   "source": [
    "# this example only works with Python2 kernel (on my machine / with my version of swig)\n",
    "import sys\n",
    "print(sys.version_info)\n",
    "assert(sys.version_info.major == 2)"
   ]
  },
  {
   "cell_type": "code",
   "execution_count": null,
   "metadata": {},
   "outputs": [],
   "source": [
    "from source import example\n",
    "example.fact(5)"
   ]
  },
  {
   "cell_type": "code",
   "execution_count": null,
   "metadata": {},
   "outputs": [],
   "source": [
    "dir(example)"
   ]
  },
  {
   "cell_type": "code",
   "execution_count": null,
   "metadata": {},
   "outputs": [],
   "source": [
    "example.my_mod(7,3)"
   ]
  },
  {
   "cell_type": "code",
   "execution_count": null,
   "metadata": {},
   "outputs": [],
   "source": [
    "example.get_time()"
   ]
  },
  {
   "cell_type": "code",
   "execution_count": null,
   "metadata": {},
   "outputs": [],
   "source": [
    "example.cvar.My_variable"
   ]
  },
  {
   "cell_type": "markdown",
   "metadata": {},
   "source": [
    "Alles, was im  ``%{ ... % }`` -Block steht, wird unverändert in die  automatisch generierte  ``example_wrap.c``  eingefügt.   \n",
    " \n",
    "### Automatisch kompilieren\n",
    "Um den gesamten Programmcode auf einmal zu kompilieren und zu einer shared library zusammenzufassen, kann folgendes Python-Programm   ``example_setup.py``  (verwendet  ``distutils`` ) benutzt werden:\n",
    "```python\n",
    "#!/usr/bin/env python\n",
    "from distutils.core import setup, Extension\n",
    "example_module = Extension('_example', sources = ['example.c','example_wrap.c'])\n",
    "setup ( name = 'example',\n",
    "        version = '0.1',\n",
    "        author = 'John Doe',\n",
    "        description = \"An example program\",\n",
    "        ext_modules = [example_module],\n",
    "        py_modules = ['example']\n",
    ")\n",
    "```"
   ]
  },
  {
   "cell_type": "markdown",
   "metadata": {},
   "source": [
    "Mit folgender Zeile erzeugt man dann das module  ``example`` :\n",
    "```bash\n",
    "python example_setup.py build_ext --inplace\n",
    "```"
   ]
  },
  {
   "cell_type": "markdown",
   "metadata": {},
   "source": [
    "### C++-Klassen\n",
    "\n",
    "C++-Klassen werden genauso wie C-Klassen eingebunden. Eine Klasse   ``Person``  wird in Header-Datei [person.h](source/person.h) deklariert. Die Member-Funktionen werden in der Datei  [person.cxx](source/person.cxx) deklariert. Ein  Testprogramm [person_test.cxx](source/person_test.cxx) demonstiert die Benutzung der Klasse  ``Person`` .   Diese C++-Programm lässt sich folgendermassen übersetzen und starten:\n",
    "```bash\n",
    "g++ person.cxx person_test.cxx -o person_test\n",
    "./person_test\n",
    "```\n",
    "\n",
    " Im SWIG-Wrapper [person.i](source/person.i) wird die ganze Klasse  ``Person``  unverändert definiert. Um den Kode automatisch zu kompilieren, wird die Datei   [person_setup.py](source/person_setup.py) verwendet.   Der SWIG glue code wird mit folgender Zeile erzeugt:\n",
    "\n",
    "```bash\n",
    "swig -python -c++ person.i\n",
    "```\n",
    "\n",
    "Das gesamte Modul  ``person``  wird mit folgendem Befehl erzeugt:\n",
    "```bash\n",
    "python person_setup.py build_ext --inplace\n",
    "```\n",
    "\n",
    " Innerhalb von Python kann das Modul  ``Person``  folgendermaßen verwendet  werden:"
   ]
  },
  {
   "cell_type": "code",
   "execution_count": null,
   "metadata": {},
   "outputs": [],
   "source": [
    "from source.person import Person\n",
    "p=Person('Max Student')\n",
    "p.get_name()"
   ]
  },
  {
   "cell_type": "code",
   "execution_count": null,
   "metadata": {},
   "outputs": [],
   "source": [
    "p.set_name('Maria Studentin')\n",
    "p.get_name()"
   ]
  },
  {
   "cell_type": "code",
   "execution_count": null,
   "metadata": {},
   "outputs": [],
   "source": [
    "p2=Person(p)\n",
    "p2.get_name()"
   ]
  },
  {
   "cell_type": "code",
   "execution_count": null,
   "metadata": {},
   "outputs": [],
   "source": [
    "# quit() causes to the kernel to stop.\n",
    "# We use it to see that the destructor is called.\n",
    "# (Check the output in the console where you started the notebook server.)\n",
    "quit()"
   ]
  }
 ],
 "metadata": {
  "kernelspec": {
   "display_name": "Python 2",
   "language": "python",
   "name": "python2"
  },
  "language_info": {
   "codemirror_mode": {
    "name": "ipython",
    "version": 2
   },
   "file_extension": ".py",
   "mimetype": "text/x-python",
   "name": "python",
   "nbconvert_exporter": "python",
   "pygments_lexer": "ipython2",
   "version": "2.7.17"
  }
 },
 "nbformat": 4,
 "nbformat_minor": 3
}