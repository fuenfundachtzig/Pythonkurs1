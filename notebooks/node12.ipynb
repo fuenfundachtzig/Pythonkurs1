{
 "cells": [
  {
   "cell_type": "markdown",
   "metadata": {},
   "source": [
    "[Node 12: Aufgaben](http://www-static.etp.physik.uni-muenchen.de/kurs/Computing/python2/node12.html)"
   ]
  },
  {
   "cell_type": "markdown",
   "metadata": {},
   "source": [
    "Navigation:\n",
    "\n",
    "**Next:** [Python und C/C++](node13.ipynb) **Up:** [Weitergehende und häufig verwendete](node7.ipynb) **Previous:** [Reguläre Ausdrücke](node11.ipynb)"
   ]
  },
  {
   "cell_type": "markdown",
   "metadata": {},
   "source": [
    "##  Aufgaben\n",
    "\n",
    "*  **Zufallszahlen erzeugen** \n",
    "\n",
    " Mit Hilfe von list comprehensions erstellen Sie eine Liste von  Zufallszahlen, z.B. einen Würfel-Wurf oder zwei-Würfel-Würfe gleichzeitig. Verwenden Sie hierzu   <font color=#0000e6> ``random.randrange(1,7)``</font> .  \n",
    "\n",
    " Lösung: [wuerfel.py](source/wuerfel.py)\n",
    "*  **Funktionsparameter** \n",
    "\n",
    " Variieren Sie die Übergabe der Argumente bei dem Beispiel zu Funktionsparameter, wie z.B.\n",
    "```python\n",
    "s=list(range(5)) \n",
    "d = {'vorname': 'Peter', 'nachname': 'Maier', 'age': 25}\n",
    "f(s)\n",
    "f(*s)\n",
    "f(d)\n",
    "f(*d)\n",
    "f(**d)\n",
    "f(1,**d)\n",
    "```\n",
    " Versuchen Sie die nachzuvollziehen was jeweils passiert.  "
   ]
  },
  {
   "cell_type": "markdown",
   "metadata": {},
   "source": [
    "*  **Suchen in Strings** \n",
    "\n",
    " Schreiben Sie ein Programm, das einen String und einen Substring als Eingabe  nimmt. Der Substring soll im String gesucht werden und die Position und evtl. mehrmaliges Vorkommen geprüft werden.  \n",
    "\n",
    " Lösung: [stringsearch.py](source/stringsearch.py)\n",
    " \n",
    "*  **Wörter zählen** \n",
    "\n",
    " Das Programmbeispiel zum Zählen von Wörtern in   <font color=#0000e6> ``kant.txt``</font>  ist etwas schlampig gemacht,  weil Satzzeichen nicht korrekt behandelt werden (z.B.   <font color=#0000e6> ``Vernunft``</font>  und   <font color=#0000e6> ``Vernunft,``</font>  werden getrennt gezählt). Wie lässt sich das beheben? \n",
    "\n",
    " Lösung: [wordcount.py](source/wordcount.py)\n",
    " \n",
    "*  **Strings kodieren** \n",
    "\n",
    " Das Programm [text_encode.py](source/text_encode.py) zeigt ein kurzes Beispiel zur Verschlüsselung von Text-Strings nach dem sog. [Caesar–Algorithmus](https://de.wikipedia.org/wiki/Caesar-Verschluesselung).   \n",
    " (a) Versuchen Sie die einzelnen Programmschritte nachzuvollziehen   \n",
    " (b) Ändern Sie den Algorithmus, so dass statt fester Verschiebung ein zufälliges Mapping der Characters gemacht wird (Funktion   <font color=#0000e6> ``random.shuffle(list)``</font>  bringt Elemente einer Liste in zufällige Reihenfolge) \n",
    "\n",
    "\n",
    "\n",
    "---"
   ]
  }
 ],
 "metadata": {
  "kernelspec": {
   "display_name": "Python 3",
   "language": "python",
   "name": "python3"
  },
  "language_info": {
   "codemirror_mode": {
    "name": "ipython",
    "version": 3
   },
   "file_extension": ".py",
   "mimetype": "text/x-python",
   "name": "python",
   "nbconvert_exporter": "python",
   "pygments_lexer": "ipython3",
   "version": "3.5.2"
  }
 },
 "nbformat": 4,
 "nbformat_minor": 3
}