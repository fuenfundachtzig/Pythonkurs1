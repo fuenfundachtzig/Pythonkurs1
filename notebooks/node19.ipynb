{
 "cells": [
  {
   "cell_type": "markdown",
   "metadata": {},
   "source": [
    "[Node 19: Python Threads und GIL](http://www-static.etp.physik.uni-muenchen.de/kurs/Computing/python2/node19.html)"
   ]
  },
  {
   "cell_type": "markdown",
   "metadata": {},
   "source": [
    "Navigation:\n",
    "\n",
    " **Next:** [Python Multi-Processing](node20.ipynb) **Up:** [Threads and Multi–Processing](node16.ipynb) **Previous:** [Synchronisation](node18.ipynb)"
   ]
  },
  {
   "cell_type": "markdown",
   "metadata": {},
   "source": [
    "##  Python-Threads und GIL\n",
    " Ein fundamentales Problem bei der Verwendung von Threads in Python ist das sogenannte <font color=#008000> *Global Interpreter Lock (GIL)*</font>.  \n",
    " \n",
    "* GIL ist eine Art globaler Lock des Python-Interpreters, der i.w. erzwingt, dass immer nur ein Thread jeweils  Python-Bytecode ausführt. \n",
    "* Das verhindert die parallele Ausführung von rechenzeitlimitierten Threads, u.U. laufen multi-threaded Prozesse in Python sogar langsamer als serielle Prozesse.\n",
    "\n",
    "Beispielprogramm zur Bestimmung von Pi mit Zufallszahlen [ <font color=#0000e6> ``randpi.py``</font> ](source/randpi.py) mit 1 Thread:"
   ]
  },
  {
   "cell_type": "code",
   "execution_count": null,
   "metadata": {},
   "outputs": [],
   "source": [
    "%%time\n",
    "%run source/randpi.py 1000000 1"
   ]
  },
  {
   "cell_type": "markdown",
   "metadata": {},
   "source": [
    "<!-- 1 Thread: 3.6 s (Aufruf   <font color=#0000e6> ``time python3 randpi.py 10000000 1``</font> )  -->\n",
    "und mit 4 Threads:\n",
    "<!-- 4 Threads: 3.7 s (Aufruf   <font color=#0000e6> ``time python3 randpi.py 10000000 4``</font> )  -->"
   ]
  },
  {
   "cell_type": "code",
   "execution_count": null,
   "metadata": {},
   "outputs": [],
   "source": [
    "%%time\n",
    "%run source/randpi.py 1000000 4"
   ]
  },
  {
   "cell_type": "markdown",
   "metadata": {},
   "source": [
    "GIL ist subtiler Effekt, nicht immer offensichtlich, wann Threads dadurch ausgebremst werden.  \n",
    "Es betrifft nicht Prozesse, die auf Eingabe/Ausgabe warten, sleep-Aufrufe oder externe Funktionsaufrufe machen; in diesen Fällen gutes Skalierungsverhalten. Insgesamt ist die Multi-threading-Funktionalität dadurch ziemlich eingeschränkt in Python.\n",
    "\n",
    "Mehr Infos in [https://wiki.python.org/moin/GlobalInterpreterLock](https://wiki.python.org/moin/GlobalInterpreterLock): \"In CPython, the global interpreter lock, or GIL, is a [mutex](https://de.wikipedia.org/wiki/Mutex) that protects access to Python objects, preventing multiple threads from executing Python bytecodes at once. This lock is necessary mainly because CPython's memory management is not thread-safe. (However, since the GIL exists, other features have grown to depend on the guarantees that it enforces.) [...]\""
   ]
  }
 ],
 "metadata": {
  "kernelspec": {
   "display_name": "Python 3",
   "language": "python",
   "name": "python3"
  },
  "language_info": {
   "codemirror_mode": {
    "name": "ipython",
    "version": 3
   },
   "file_extension": ".py",
   "mimetype": "text/x-python",
   "name": "python",
   "nbconvert_exporter": "python",
   "pygments_lexer": "ipython3",
   "version": "3.6.9"
  }
 },
 "nbformat": 4,
 "nbformat_minor": 3
}