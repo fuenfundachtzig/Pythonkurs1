{
 "cells": [
  {
   "cell_type": "markdown",
   "metadata": {},
   "source": [
    "[Node 14: ctypes](http://www-static.etp.physik.uni-muenchen.de/kurs/Computing/python2/node14.html)"
   ]
  },
  {
   "cell_type": "markdown",
   "metadata": {},
   "source": [
    "Navigation:\n",
    "\n",
    "**Next:** [SWIG](node15.ipynb) **Up:** [Python und C/C++](node13.ipynb) **Previous:** [Python und C/C++](node13.ipynb)"
   ]
  },
  {
   "cell_type": "markdown",
   "metadata": {},
   "source": [
    "##  ctypes\n",
    "Mit Hilfe des Python-Standardmoduls [``ctypes``](https://docs.python.org/3/library/ctypes.html)  können Funktionen aus dynamischen Bibliotheken ohne Erweiterungsmodule aufgerufen werden. Der Datentypen-Unterschied zwischen Python und C wird durch einige   ``c_*``-Datentypen überbrückt, z.B.  ``c_short: int/long``,  ``c_double: double``,  ``c_char_p: str``. \n",
    "\n",
    "Auch Pointer können verarbeitet werden:"
   ]
  },
  {
   "cell_type": "code",
   "execution_count": null,
   "metadata": {},
   "outputs": [],
   "source": [
    "from ctypes import *\n",
    "i = c_int()\n",
    "s = c_wchar_p('Hello World!') # wchar_t *\n",
    "type(s)"
   ]
  },
  {
   "cell_type": "code",
   "execution_count": null,
   "metadata": {},
   "outputs": [],
   "source": [
    "s.value"
   ]
  },
  {
   "cell_type": "code",
   "execution_count": null,
   "metadata": {},
   "outputs": [],
   "source": [
    "i.value"
   ]
  },
  {
   "cell_type": "code",
   "execution_count": null,
   "metadata": {},
   "outputs": [],
   "source": [
    "i  = c_int(42)\n",
    "pi = pointer(i)\n",
    "pi"
   ]
  },
  {
   "cell_type": "code",
   "execution_count": null,
   "metadata": {},
   "outputs": [],
   "source": [
    "pi.contents.value"
   ]
  },
  {
   "cell_type": "markdown",
   "metadata": {},
   "source": [
    " ``ctypes``  wird verwendet, um Funktionen aus dynamischen C-Bibliotheken zu laden und aufzurufen. Zunächst muss die Biliothek geladen werden, um dann die C-Funktionen aufzurufen:"
   ]
  },
  {
   "cell_type": "code",
   "execution_count": null,
   "metadata": {},
   "outputs": [],
   "source": [
    "from ctypes import *\n",
    "libc=cdll.LoadLibrary('libc.so.6')\n",
    "libc"
   ]
  },
  {
   "cell_type": "code",
   "execution_count": null,
   "metadata": {},
   "outputs": [],
   "source": [
    "dir(libc)"
   ]
  },
  {
   "cell_type": "markdown",
   "metadata": {},
   "source": [
    " Die C-Funktionen  ``printf``  oder  ``sleep``  können dynamisch geladen werden:"
   ]
  },
  {
   "cell_type": "code",
   "execution_count": null,
   "metadata": {},
   "outputs": [],
   "source": [
    "libc.printf"
   ]
  },
  {
   "cell_type": "code",
   "execution_count": null,
   "metadata": {},
   "outputs": [],
   "source": [
    "libc.sleep"
   ]
  },
  {
   "cell_type": "code",
   "execution_count": null,
   "metadata": {},
   "outputs": [],
   "source": [
    "[s for s in dir(libc) if s[:2] != '__' and s[-2:] != '__']"
   ]
  },
  {
   "cell_type": "markdown",
   "metadata": {},
   "source": [
    "(Diese Liste umfasst nicht alle Funktionen, sondern nur diejenigen, die wir vorher angesprochen haben. Eine komplette Liste aller definierten Funktionen kann mit `nm -D` ausgegeben werden:"
   ]
  },
  {
   "cell_type": "code",
   "execution_count": null,
   "metadata": {},
   "outputs": [],
   "source": [
    "!nm -D `locate libc.so.6 | head -n1`"
   ]
  },
  {
   "cell_type": "markdown",
   "metadata": {},
   "source": [
    " Argument- und Rückgabe-Werte sollten mit  ``argtypes``  und  ``restypes``   definiert werden:"
   ]
  },
  {
   "cell_type": "code",
   "execution_count": null,
   "metadata": {},
   "outputs": [],
   "source": [
    "from ctypes import *\n",
    "libm=cdll.LoadLibrary('libm.so.6')\n",
    "cos=libm.cos\n",
    "cos"
   ]
  },
  {
   "cell_type": "code",
   "execution_count": null,
   "metadata": {},
   "outputs": [],
   "source": [
    "# throws an error:\n",
    "cos(3.14159265)"
   ]
  },
  {
   "cell_type": "code",
   "execution_count": null,
   "metadata": {},
   "outputs": [],
   "source": [
    "# returns wrong result\n",
    "cos(c_double(3.14159265))"
   ]
  },
  {
   "cell_type": "code",
   "execution_count": null,
   "metadata": {},
   "outputs": [],
   "source": [
    "# returns wrong result\n",
    "cos(c_double(0.0))"
   ]
  },
  {
   "cell_type": "code",
   "execution_count": null,
   "metadata": {},
   "outputs": [],
   "source": [
    "# returns wrong result\n",
    "cos(c_double(0.1))"
   ]
  },
  {
   "cell_type": "code",
   "execution_count": null,
   "metadata": {},
   "outputs": [],
   "source": [
    "cos.argtypes=[c_double]\n",
    "cos.restype=c_double\n",
    "# now it works\n",
    "cos(c_double(0.0))"
   ]
  },
  {
   "cell_type": "code",
   "execution_count": null,
   "metadata": {},
   "outputs": [],
   "source": [
    "cos(3.14159265)"
   ]
  },
  {
   "cell_type": "markdown",
   "metadata": {},
   "source": [
    " Funktionen, die in einen Puffer schreiben, werden folgendermaßen aufgerufen (Beispiel hier: [gethostname](http://man7.org/linux/man-pages/man2/gethostname.2.html)):"
   ]
  },
  {
   "cell_type": "code",
   "execution_count": null,
   "metadata": {},
   "outputs": [],
   "source": [
    "from ctypes import *\n",
    "libc = cdll.LoadLibrary('libc.so.6')\n",
    "gethostname = libc.gethostname\n",
    "gethostname.argtypes = [c_char * 255, c_uint]\n",
    "gethostname.restype  = c_int\n",
    "# create the char buffer and call the function\n",
    "buf = create_string_buffer(255)\n",
    "gethostname(buf, 5) # too short to hold hostname"
   ]
  },
  {
   "cell_type": "code",
   "execution_count": null,
   "metadata": {},
   "outputs": [],
   "source": [
    "buf.value # is truncated"
   ]
  },
  {
   "cell_type": "code",
   "execution_count": null,
   "metadata": {},
   "outputs": [],
   "source": [
    "gethostname(buf, 30) # more space (our buffer has actually 255 chars)"
   ]
  },
  {
   "cell_type": "code",
   "execution_count": null,
   "metadata": {},
   "outputs": [],
   "source": [
    "buf.value"
   ]
  }
 ],
 "metadata": {
  "kernelspec": {
   "display_name": "Python 3",
   "language": "python",
   "name": "python3"
  },
  "language_info": {
   "codemirror_mode": {
    "name": "ipython",
    "version": 3
   },
   "file_extension": ".py",
   "mimetype": "text/x-python",
   "name": "python",
   "nbconvert_exporter": "python",
   "pygments_lexer": "ipython3",
   "version": "3.6.9"
  }
 },
 "nbformat": 4,
 "nbformat_minor": 3
}