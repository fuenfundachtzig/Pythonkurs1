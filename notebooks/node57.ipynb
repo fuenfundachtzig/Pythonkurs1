{
 "cells": [
  {
   "cell_type": "markdown",
   "metadata": {},
   "source": [
    "[Node 57: SAX Parser](http://www-static.etp.physik.uni-muenchen.de/kurs/Computing/python2/node57.html)"
   ]
  },
  {
   "cell_type": "markdown",
   "metadata": {},
   "source": [
    "Navigation:\n",
    "\n",
    "**Next:** [JSON – Lightweight Alternative](node58.ipynb) **Up:** [Datenformate II – XML](node53.ipynb) **Previous:** [XML Struktur im Detail](node56.ipynb)"
   ]
  },
  {
   "cell_type": "markdown",
   "metadata": {},
   "source": [
    "##  SAX Parser\n",
    " \n",
    "SAX ist ein weitverbreiteter XML-Parser. Es gibt Versionen für Perl, Python, Java, ...\n",
    "\n",
    "SAX verarbeitet Dokumente als   <font color=#008000> *streams*</font>, d.h. das Dokument wird abschnittsweise verarbeitet.  \n",
    "\n",
    "Alternativer gängiger Parser ist DOM (Document Object Model), der ganzes Dokument liest und intern  im Speicher bereitstellt $\\Rightarrow$ gut geeignet für komplexe baumartige XML-Strukturen.\n",
    "\n",
    "\n",
    "SAX ist gutes Beispiel für Anwendung von objekt-orientiertem Programmieren: nutzt Vererbung und Überschreiben von Methoden. \n",
    "\n",
    "Verwendung:  \n",
    "*  <font color=#008000> *Handler Klasse*</font>  definieren $\\Rightarrow$ erbt von   <font color=#0000e6> ``SAX ContentHandler``</font> \n",
    "* Vorgegebene Methoden der Klasse bei Bedarf implementieren:   <font color=#0000e6> ``startElement, endElement, ...``</font> \n",
    "* Diese werden beim \"Document–Parsing\"   <font color=#008000> *automatisch*</font>  aufgerufen (ähnlich wie call-back Funktionen in  TkInter-GUI) \n",
    "* Die Handler Klasser wird SAX übergeben vor dem Document–Parsing  "
   ]
  },
  {
   "cell_type": "markdown",
   "metadata": {},
   "source": [
    "### XML Beispiel (article.xml)\n",
    "```xml\n",
    "<?xml version=\"1.0\"?>\n",
    "<webArticle category=\"news\" subcategory=\"technical\">\n",
    "    <header title=\"NASA Builds Warp Drive\"\n",
    "           length=\"3k\"\n",
    "           author=\"Joe Reporter\"\n",
    "           distribution=\"all\"/>\n",
    "    <body>Seattle, WA - Today an anonymous individual\n",
    "           announced that NASA has completed building a\n",
    "           Warp Drive and has parked a ship which uses\n",
    "           the drive in his back yard.  This individual\n",
    "           claims that although he hasn't been contacted by\n",
    "           NASA concerning the parked space vessel, he assumes\n",
    "           that he will be launching it later this week to\n",
    "           mount an exhibition to the Andromeda Galaxy.\n",
    "    </body>\n",
    "</webArticle>\n",
    "```"
   ]
  },
  {
   "cell_type": "markdown",
   "metadata": {},
   "source": [
    "\n",
    "Handler–KlasseXML  (simplehandler.py):  \n"
   ]
  },
  {
   "cell_type": "code",
   "execution_count": null,
   "metadata": {},
   "outputs": [],
   "source": [
    "from xml.sax.handler import ContentHandler\n",
    "\n",
    "class ArticleHandler(ContentHandler):\n",
    "  \"\"\"A handler to deal with articles in XML\"\"\"\n",
    "\n",
    "  def startElement(self, name, attrs):\n",
    "    print (\"Start element:\",name)\n",
    "\n",
    "  def endElement(self, name):\n",
    "    print (\"End element:\",name)\n",
    "\n",
    "def main():\n",
    "  from xml.sax  import make_parser\n",
    "  \n",
    "  ch = ArticleHandler()\n",
    "  saxparser = make_parser()\n",
    "  \n",
    "  saxparser.setContentHandler(ch)\n",
    "  saxparser.parse(\"data/xml_article.xml\")\n",
    "\n",
    "if __name__ == '__main__':\n",
    "  main()"
   ]
  },
  {
   "cell_type": "markdown",
   "metadata": {},
   "source": [
    "\n",
    "### Etwas mehr XML processing\n",
    "\n",
    "* Handler erweitern und tag-spezifisches Prozessieren einbauen \n",
    "* zusätzliche Methode   <font color=#0000e6> ``characters()``</font>  zum Prozessieren der eigentlichen Daten\n",
    "\n"
   ]
  },
  {
   "cell_type": "code",
   "execution_count": null,
   "metadata": {},
   "outputs": [],
   "source": [
    "from xml.sax.handler import ContentHandler\n",
    "\n",
    "class ArticleHandler(ContentHandler):\n",
    "  \"\"\"A handler to deal with articles in XML\"\"\"\n",
    "\n",
    "  inArticle = 0\n",
    "  inBody    = 0\n",
    "  isMatch   = 0\n",
    "  title     = \"\"\n",
    "  body      = \"\"\n",
    "\n",
    "  def startElement(self, name, attrs):\n",
    "    if name == \"webArticle\":\n",
    "      subcat = attrs.get(\"subcategory\", \"\")\n",
    "      if subcat.find(\"tech\") > -1:\n",
    "        self.inArticle = 1\n",
    "        self.isMatch = 1\n",
    "\n",
    "    elif self.inArticle:\n",
    "      if name == \"header\":\n",
    "        self.title = attrs.get(\"title\", \"\")\n",
    "      if name == \"body\":\n",
    "        self.inBody = 1\n",
    "\n",
    "  def characters(self, characters):\n",
    "    MAXLEN=800\n",
    "    if self.inBody:\n",
    "      if len(self.body) < MAXLEN:\n",
    "        self.body += characters\n",
    "      if len(self.body) > MAXLEN:\n",
    "        self.body = self.body[:MAXLEN-2] + \"...\"\n",
    "        self.inBody = 0\n",
    "\n",
    "  def endElement(self, name):\n",
    "    if name == \"body\":\n",
    "      self.inBody = 0\n",
    "\n",
    "def main():\n",
    "  import sys\n",
    "  \n",
    "  from xml.sax  import make_parser\n",
    "  \n",
    "  ch = ArticleHandler()\n",
    "  saxparser = make_parser()\n",
    "  \n",
    "  saxparser.setContentHandler(ch)\n",
    "  saxparser.parse(\"data/xml_article.xml\")\n",
    "\n",
    "  if ch.isMatch:\n",
    "      print (\"News Item!\")\n",
    "      print (\"Title:\", ch.title)\n",
    "      print (\"Body:\", ch.body)\n",
    "\n",
    "if __name__ == '__main__':\n",
    "  main()\n"
   ]
  },
  {
   "cell_type": "markdown",
   "metadata": {},
   "source": [
    "## Elementtree Parser\n",
    "Eine weitere einfache Alternative für simple XML-Dokumente ist der    <font color=#0000ff> **Elementtree**</font> -Parser, siehe Dokumentation / Tutorial in https://docs.python.org/3/library/xml.etree.elementtree.html \n",
    "\n",
    "Im einfachsten Fall wird das gesamte XML Dokument eingelesen, die einzelnen Elemente sind als **verschachtelte Iterables**  zugänglich"
   ]
  },
  {
   "cell_type": "code",
   "execution_count": null,
   "metadata": {},
   "outputs": [],
   "source": [
    "# angewandt auf obiges Beispiel\n",
    "import xml.etree.ElementTree as ET\n",
    "tree = ET.parse('data/xml_article.xml')\n",
    "root = tree.getroot()\n",
    "print(root)\n",
    "print(root.attrib)\n",
    "print(root[0])\n",
    "for el in root:\n",
    "    print ('Element:',el.tag)\n",
    "    if el.tag =='body':\n",
    "        print(el.text[:200])"
   ]
  },
  {
   "cell_type": "code",
   "execution_count": null,
   "metadata": {},
   "outputs": [],
   "source": []
  }
 ],
 "metadata": {
  "kernelspec": {
   "display_name": "Python 3",
   "language": "python",
   "name": "python3"
  },
  "language_info": {
   "codemirror_mode": {
    "name": "ipython",
    "version": 3
   },
   "file_extension": ".py",
   "mimetype": "text/x-python",
   "name": "python",
   "nbconvert_exporter": "python",
   "pygments_lexer": "ipython3",
   "version": "3.8.5"
  }
 },
 "nbformat": 4,
 "nbformat_minor": 3
}
