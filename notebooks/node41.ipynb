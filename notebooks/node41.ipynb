{
 "cells": [
  {
   "cell_type": "markdown",
   "metadata": {},
   "source": [
    "[Node 41: Einschub: Decorators](http://www-static.etp.physik.uni-muenchen.de/kurs/Computing/python2/node41.html)"
   ]
  },
  {
   "cell_type": "markdown",
   "metadata": {},
   "source": [
    "Navigation:\n",
    "\n",
    "**Next:** [Einfacher Timer](node42.ipynb) **Up:** [Profiling von Programmen](node40.ipynb) **Previous:** [Profiling von Programmen](node40.ipynb)"
   ]
  },
  {
   "cell_type": "markdown",
   "metadata": {},
   "source": [
    "##  Einschub: Dekorierer\n",
    "Ein Dekorierer (engl. decorator) wird als Software-Entwurfsmuster verwendet. In Python verändern Dekorierer dynamisch die Funktionaliät einer Funktion, Methode oder Klasse ohne das eine Unterklasse verwendet oder der Programmcode verändert  werden muss. In Python kann eine decorator-Funktion mit   <font color=#0000e6> ``@mydecorator``</font>   vor einer Funktionsdefinition einfügt werden. \n",
    "\n",
    "Ein Beispiel:"
   ]
  },
  {
   "cell_type": "code",
   "execution_count": null,
   "metadata": {},
   "outputs": [],
   "source": [
    "def logger(func):\n",
    "    def inner(*args, **kwargs): #1\n",
    "        print(\"Aufrufargumente: %s, %s\" % (args, kwargs))\n",
    "        return func(*args, **kwargs) #2\n",
    "    return inner #3\n",
    "\n",
    "@logger\n",
    "def foo1(x, y=1):\n",
    "    return x * y\n",
    "\n",
    "@logger\n",
    "def foo2():\n",
    "    return 2\n",
    "\n",
    "foo1(5, 4)\n",
    "foo1(1)\n",
    "foo2();"
   ]
  },
  {
   "cell_type": "markdown",
   "metadata": {},
   "source": [
    "Hier ist `logger()` die Dekorierer-Funktion. Sie nimmt eine Funktion als Argument und gibt die (in ihr definierte, `#1`) Funktion zurück (`#3`), die eine dekorierte Version der übergebenen Funktion ist. In diesem Fall wird die Funktion mit zusätzlichen Ausgaben dekoriert, die vor dem eigentlichen Aufruf der übergebenen Funktion (`#2`) die Aufrufargumente auflisten.\n",
    "\n",
    "Python bietet mit dem vorgestellten `@` eine spezielle Syntax an, die es erlaubt, die äquivalente, explizite Schreibweise abzukürzen und das Dekorieren offensichtlicher zu machen. So wie oben `foo1` mithilfe von `@logger` dekoriert wurde, würde die äquivalente, explizite Schreibweise lauten:"
   ]
  },
  {
   "cell_type": "code",
   "execution_count": null,
   "metadata": {},
   "outputs": [],
   "source": [
    "def foo1(x, y=1):\n",
    "    return x * y\n",
    "foo1 = logger(foo1)\n",
    "foo1(5, 4);"
   ]
  },
  {
   "cell_type": "markdown",
   "metadata": {},
   "source": [
    "Wichtige Anwendungsfälle sind:\n",
    "* Log-Ausgaben (wie im obigen Beispiel)\n",
    "* Zeitmessungen (wie im folgenden Beispiel)\n",
    "* Schnittstelle einer Funktion anpassen\n",
    "* Caching\n",
    "* ..."
   ]
  },
  {
   "cell_type": "markdown",
   "metadata": {},
   "source": [
    "Siehe auch:\n",
    "* ausführliche [Beschreibung](http://simeonfranklin.com/blog/2012/jul/1/python-decorators-in-12-steps/) von Dekorierern\n",
    "* verwandtes Konzept: [Mix-ins](https://coderbook.com/@marcus/deep-dive-into-python-mixins-and-multiple-inheritance/) erlauben, aus einem Satz von Features (mix-ins) eine abgeleitete Klasse mit der jeweils benötigten Untermenge dieser Features zu komponieren. (Im Gegensatz zu Dekorierern verwenden Mix-ins Vererbung, um die Funktionalität hinzuzufügen. Sie funktionieren also nur mit Klassen, erlauben dafür aber auch, z.B. neue Funktionen zu einer Klasse hinzuzufügen, wohingegen Dekorierer nur die Aufrufe von existierenden Funktionen verändern können.)"
   ]
  }
 ],
 "metadata": {
  "kernelspec": {
   "display_name": "Python 3",
   "language": "python",
   "name": "python3"
  },
  "language_info": {
   "codemirror_mode": {
    "name": "ipython",
    "version": 3
   },
   "file_extension": ".py",
   "mimetype": "text/x-python",
   "name": "python",
   "nbconvert_exporter": "python",
   "pygments_lexer": "ipython3",
   "version": "3.6.9"
  }
 },
 "nbformat": 4,
 "nbformat_minor": 3
}