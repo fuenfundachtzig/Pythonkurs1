{
 "cells": [
  {
   "cell_type": "markdown",
   "metadata": {},
   "source": [
    "[Node 27: Beziehungen zwischen Klassen](http://www-static.etp.physik.uni-muenchen.de/kurs/Computing/python2/node27.html)"
   ]
  },
  {
   "cell_type": "markdown",
   "metadata": {},
   "source": [
    "Navigation:\n",
    "\n",
    "**Next:** [Objekt-Diagramme](node28.ipynb) **Up:** [Objektorientiertes Programmieren – Allgemeines](node23.ipynb) **Previous:** [Klassen in UML](node26.ipynb)"
   ]
  },
  {
   "cell_type": "markdown",
   "metadata": {},
   "source": [
    "##  Beziehungen zwischen Klassen\n",
    "\n",
    "Klassen bzw. Objekte können auf vielerlei Arten voneinander abhängen:  \n",
    "*  <font color=#0000ff> **Association:**</font>  Nicht näher spezifizierte (i.d.R. lose) Kopplung  von Klassen, nur in eine Richtung oder bi-direktional \n",
    "*  <font color=#0000ff> **Aggregation bzw. Composition:**</font>  Eine Klasse enthält ein (oder mehrere) Objekte einer anderen Klasse. \n",
    "*  <font color=#0000ff> **Inheritance**</font> \n",
    "\n",
    "---\n",
    "\n",
    "**Binary Association**  \n",
    " \n",
    "Beide Klassen kennen einander ...  \n",
    "\n",
    "![Image BinAssoc](figures/UML_BinAssoc.png \"Image BinAssoc\") ... als Referenz oder Funktionsargument oder in Container oder ...  \n",
    "\n",
    "---\n",
    "\n",
    "**Gängiger ist die Unary Association:** \n",
    "\n",
    " <font color=#0000ff> **A**</font>  kennt   <font color=#0000ff> **B**</font>  aber   <font color=#0000ff> **B**</font>  weiss nichts von   <font color=#0000ff> **A**</font> \n",
    "\n",
    "![Image UnAssoc](figures/UML_UnAssoc.png \"Image UnAssoc\")\n",
    "\n",
    "---\n",
    "\n",
    "**Aggregation/Composition:** \n",
    "\n",
    " <font color=#0000ff> **A**</font>  enthält    <font color=#0000ff> **B:**</font>  <font color=#008000> *(whole–part relation)*</font> , z.B. Auto enthält  Motor \n",
    "\n",
    "![Image Composition](figures/UML_Composition.png \"Image Composition\")Subtiler Unterschied zwischen Aggregation und Composition, letztere   kontrolliert   <font color=#008000> *lifetime*</font>  des enthaltenen Objekts $\\Rightarrow$ siehe Literatur \n",
    "\n",
    "---\n",
    "\n",
    "**Details der Association:** \n",
    "\n",
    "* Association kann Name haben    <font color=#008000> *(uses)*</font> \n",
    "* An den Enden können Namen für die   <font color=#0000ff> **Rollen**</font>   der beiden Klassen stehen   <font color=#008000> *(Master, Slave)*</font>  ... \n",
    "* ... und die Multiplizität, d.h. die Zahl der beteiligten Objekte stehen   \n",
    "![Image UnAssoc2](figures/UML_UnAssoc2.png \"Image UnAssoc2\")\n",
    "* Richtig gelesen ergibt das zusammen ein Kompakt-Drehbuch:  \n",
    "<font color=#008000> *One .. Master .. uses .. one or more .. Slaves*</font> \n",
    "\n",
    "---\n",
    "\n",
    "**Vererbung (Inheritance):** \n",
    "\n",
    "![Image Inheritance](figures/UML_Inheritance.png \"Image Inheritance\")\n",
    "\n",
    "---\n",
    "\n",
    "**Zusammenfassung:**  \n",
    "\n",
    "Mit UML-Klassendiagrammen kann man Eigenschaften von Klassen, d.h   <font color=#008000> *Name, member-variablen, interfaces und Methoden*</font>  kompakt grafisch darstellen.   \n",
    "\n",
    "Je nach Kontext kann man eine präzise Auflistung aller member-variablen und Methoden mit Argumenten ausgeben oder nur eine unvollständige Liste der relevanten Elemente.  \n",
    "\n",
    "Man kann verschiedene Arten von Beziehungen zwischen Klassen mit UML ausdrücken:   \n",
    "\n",
    "<font color=#008000> *Association, aggregation, composition, inheritance*</font>  \n",
    "\n",
    "Die Verbindungen können vage Skizzen sein oder  präzise Information über   <font color=#008000> *Namen, Rollen, Multiplicities, ...*</font>  enthalten.   \n",
    "\n",
    "Klassendiagramme beschreiben das   <font color=#ff0000> **statische Design**</font>  der Programmstruktur.  \n"
   ]
  }
 ],
 "metadata": {
  "kernelspec": {
   "display_name": "Python 3",
   "language": "python",
   "name": "python3"
  },
  "language_info": {
   "codemirror_mode": {
    "name": "ipython",
    "version": 3
   },
   "file_extension": ".py",
   "mimetype": "text/x-python",
   "name": "python",
   "nbconvert_exporter": "python",
   "pygments_lexer": "ipython3",
   "version": "3.6.9"
  }
 },
 "nbformat": 4,
 "nbformat_minor": 3
}