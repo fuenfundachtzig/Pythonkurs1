{
 "cells": [
  {
   "cell_type": "markdown",
   "metadata": {},
   "source": [
    "[Node 42: Einfacher Timer](http://www-static.etp.physik.uni-muenchen.de/kurs/Computing/python2/node42.html)"
   ]
  },
  {
   "cell_type": "markdown",
   "metadata": {},
   "source": [
    "Navigation:\n",
    "\n",
    "**Next:** [Eingebauter Profiler](node43.ipynb) **Up:** [Profiling von Programmen](node40.ipynb) **Previous:** [Einschub: Decorators](node41.ipynb)"
   ]
  },
  {
   "cell_type": "markdown",
   "metadata": {},
   "source": [
    "##  Einfacher Timer\n",
    " Timer sind einfache und flexible Methoden, um die Programmausführzeit zu messen. Folgendes Beispiel demonstriert einen einfachen Timer mit Hilfe eines Dekorierers:"
   ]
  },
  {
   "cell_type": "code",
   "execution_count": null,
   "metadata": {},
   "outputs": [],
   "source": [
    "import time\n",
    "\n",
    "def timefunc(f):\n",
    "    def f_timer(*args, **kwargs):\n",
    "        start = time.time()\n",
    "        erg = f(*args, **kwargs)\n",
    "        ende = time.time()\n",
    "        print f.__name__, 'brauchte', ende - start, 's'\n",
    "        return erg\n",
    "    return f_timer\n",
    "\n",
    "def get_number():\n",
    "    for x in xrange(50000000):\n",
    "        yield x\n",
    "\n",
    "@timefunc\n",
    "def teure_funktion():\n",
    "    for x in get_number():\n",
    "        i = x ^ x ^ x\n",
    "    return 'Ergebnis'\n",
    "\n",
    "res = teure_funktion()"
   ]
  },
  {
   "cell_type": "markdown",
   "metadata": {},
   "source": [
    "Timer erfordern, schrittweise Funktionen auf höherer Ebene zu testen und dann anschließend tiefer in einzelne Funktionen einzusteigen, um die einzelne Schwachstelle zu identifizieren, bevor diese behoben werden kann. \n",
    "\n",
    "Sehr nützlich ist zusätzlich das [timeit](https://docs.python.org/2/library/timeit.html) Module, um kleine Programmschnipsel zu testen.  \n"
   ]
  }
 ],
 "metadata": {
  "kernelspec": {
   "display_name": "Python 2",
   "language": "python",
   "name": "python3"
  },
  "language_info": {
   "codemirror_mode": {
    "name": "ipython",
    "version": 2
   },
   "file_extension": ".py",
   "mimetype": "text/x-python",
   "name": "python",
   "nbconvert_exporter": "python",
   "pygments_lexer": "ipython3",
   "version": "3.5.2"
  }
 },
 "nbformat": 4,
 "nbformat_minor": 3
}