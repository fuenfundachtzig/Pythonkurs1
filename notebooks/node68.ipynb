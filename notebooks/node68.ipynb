{
 "cells": [
  {
   "cell_type": "markdown",
   "metadata": {},
   "source": [
    "[Node 68: Webprogrammierung](http://www-static.etp.physik.uni-muenchen.de/kurs/Computing/python2/node68.html)"
   ]
  },
  {
   "cell_type": "markdown",
   "metadata": {},
   "source": [
    "Navigation:\n",
    "\n",
    "**Next:** [Web-Framework Django](node69.ipynb) **Up:** [Web-Programmierung und Django](node67.ipynb) **Previous:** [Web-Programmierung und Django](node67.ipynb)"
   ]
  },
  {
   "cell_type": "markdown",
   "metadata": {},
   "source": [
    "##  Web-Programmierung\n",
    "Aus Performanzgründen werden Webserver normalerweise in C/C++ geschrieben, wie z.B. Apache oder [lighttpd](https://www.lighttpd.net/). Nicht immer ist eine solche Performanz nötig wie z.B. in eingebetteten Systemen. \n",
    "\n",
    "Die Python-Standardbibliothek bietet zwei von   <font color=#0000e6> ``Socket.Server.TCPServer``</font>  abgeleitete Klassen für einen Webserver:   <font color=#0000e6> ``SimpleHTTPServer``</font>  und    <font color=#0000e6> ``CGIHTTPServer``</font> . Beide Klassen basieren auf dem   <font color=#0000e6> ``BaseHTTPServer``</font> .   \n",
    "\n",
    "Der einfachste Webserver:"
   ]
  },
  {
   "cell_type": "code",
   "execution_count": null,
   "metadata": {},
   "outputs": [],
   "source": [
    "import BaseHTTPServer\n",
    "server_address = (\"\", 9090)\n",
    "handler_class  = BaseHTTPServer.BaseHTTPRequestHandler\n",
    "server_class   = BaseHTTPServer.HTTPServer\n",
    "server = server_class(server_address, handler_class)\n",
    "server.serve_forever()"
   ]
  },
  {
   "cell_type": "markdown",
   "metadata": {},
   "source": [
    " Führen Sie dieses Programm aus und rufen Sie in einem Webbrower folgende Addresse auf: [http://localhost:9090/](http://localhost:9090/). "
   ]
  },
  {
   "cell_type": "markdown",
   "metadata": {},
   "source": [
    "Das funktioniert noch nicht richtig: Der Server kann die   <font color=#0000e6> ``GET``</font>-Methode nicht interpretieren, da die   <font color=#0000e6> ``handle``</font>-Methode des    <font color=#0000e6> ``BaseHTTPRequestHandler``</font>  keine   <font color=#0000e6> ``do_GET``</font>-Methode finden konnte.    \n",
    "\n",
    "Eine entsprechende Erweiterung ist nötig:"
   ]
  },
  {
   "cell_type": "code",
   "execution_count": null,
   "metadata": {},
   "outputs": [],
   "source": [
    "import BaseHTTPServer\n",
    "class MyHandler(BaseHTTPServer.BaseHTTPRequestHandler):\n",
    "    def do_GET(self):\n",
    "        print \"Got GET Request from\", self.client_address\n",
    "        self.wfile.write('Sorry, I do not speak HTTP. Go away.\\r\\n')\n",
    "server_address = (\"\", 9091)\n",
    "handler_class  = MyHandler\n",
    "server_class   = BaseHTTPServer.HTTPServer\n",
    "server = server_class(server_address, handler_class)\n",
    "server.serve_forever()"
   ]
  },
  {
   "cell_type": "markdown",
   "metadata": {},
   "source": [
    "Jetzt funktioniert der Aufruf von http://localhost:9091/.\n",
    "\n",
    "(Hinweis: Wir verwenden hier wie schon zuvor jedes Mal einen anderen Port, um [dieses Problem](https://dev.to/dechamp/the-dreaded-bind-address-already-in-use-kill-it-583l) zu umgehen. Es gibt ja genügend davon. Eine andere, elegantere Lösung ist es, die Ausnahme aufzufangen und den Socket wieder freizugeben -- siehe unten.)"
   ]
  },
  {
   "cell_type": "markdown",
   "metadata": {},
   "source": [
    "Dieses Beispiel kann man nun z.B. zu einem einfachen Taschenrechner erweitern. Dieser akzeptiert Anfragen der Form \"<tt>/{add,sub,mul,div}/num1/num2</tt>\", die in der URL übergeben werden. Diese Anfrage erlaubt, zwei Zahlen <tt>num1</tt> und <tt>num2</tt> zu addieren, subtrahieren etc. \n",
    "\n",
    "Das Beispiel führt auch eine Reihe von Überprüfungen durch, um sicherzustellen, dass die Anfrage gültig ist. Dies ist unerlässlich bei Services, die weltoffen sind, um keine Angriffsfläche für Missbrauch zu bieten. (Typischerweise wird ein Server, den Ihr auf Eurem eigenen Rechner startet, nicht ohne weiteres weltweit, sondern nur von Eurem Heimnetz aus zugreifbar sein.)\n",
    "\n",
    "Zusätzlich ist hier ``server.serve_forever()`` in einen ``try-except``-Block verpackt, um den Server sauber stoppen (und den Port wieder freigeben) zu können."
   ]
  },
  {
   "cell_type": "code",
   "execution_count": null,
   "metadata": {},
   "outputs": [],
   "source": [
    "import http.server\n",
    "\n",
    "class CalcHandler(http.server.BaseHTTPRequestHandler):\n",
    "\n",
    "  def do_GET(self):\n",
    "    path = self.path\n",
    "\n",
    "    lst = path.split(\"/\")\n",
    "    if len(lst) != 4:\n",
    "      self.send_response(403)\n",
    "      self.end_headers()\n",
    "      self.wfile.write(b\"Illegal syntax. Use /{add,sub,mul,div}/num1/num2\\r\\n\")\n",
    "      return\n",
    "\n",
    "    dummy, op, arg1, arg2 = lst\n",
    "\n",
    "    if op not in (\"add\", \"sub\", \"mul\", \"div\"):\n",
    "      self.send_response(403)\n",
    "      self.end_headers()\n",
    "      self.wfile.write(b\"Illegal operation: %s\\r\\n\" % op)\n",
    "      return\n",
    "\n",
    "    try:\n",
    "      numarg1 = float(arg1)\n",
    "      numarg2 = float(arg2)\n",
    "    except ValueError:\n",
    "      self.send_response(403)\n",
    "      self.end_headers()\n",
    "      self.wfile.write(b\"Numerical arguments expected\\r\\n\")\n",
    "      return\n",
    "\n",
    "    if op == \"add\":\n",
    "      result = numarg1 + numarg2\n",
    "    elif op == \"sub\":\n",
    "      result = numarg1 - numarg2\n",
    "    elif op == \"mul\":\n",
    "      result = numarg1 * numarg2\n",
    "    elif op == \"div\":\n",
    "      if numarg2 == 0:\n",
    "        result = \"NaN\"\n",
    "      else:\n",
    "        result = numarg1 / numarg2\n",
    "\n",
    "    self.send_response(200)\n",
    "    self.end_headers()\n",
    "    self.wfile.write(str(result).encode())\n",
    "\n",
    "\n",
    "def run_server(port=9092):\n",
    "  server_class = http.server.HTTPServer\n",
    "  server_address = (\"\", port)\n",
    "  handler_class = CalcHandler\n",
    "\n",
    "  server = server_class(server_address, handler_class)\n",
    "  try:\n",
    "    print(\"Starting server...\")\n",
    "    server.serve_forever()\n",
    "  except KeyboardInterrupt:\n",
    "    print(\"Stopping server...\")\n",
    "    server.socket.close()\n",
    "  except: # something else went wrong\n",
    "    raise\n",
    "\n",
    "if __name__ == \"__main__\":\n",
    "  run_server()"
   ]
  },
  {
   "cell_type": "markdown",
   "metadata": {},
   "source": [
    "Dieser ist erreichbar auf http://localhost:9092.\n",
    "\n",
    "---\n",
    "\n",
    "Etwas mehr Webserver–Funktionalität bietet der   <font color=#0000ff> **SimpleHTTPServer**</font> , damit kann man Verzeichnisse anzeigen und  Dateien übertragen:"
   ]
  },
  {
   "cell_type": "code",
   "execution_count": null,
   "metadata": {},
   "outputs": [],
   "source": [
    "import http.server\n",
    "            \n",
    "def run_server(port=9093):\n",
    "    server_class   = http.server.HTTPServer\n",
    "    handler_class  = http.server.SimpleHTTPRequestHandler\n",
    "    server_address = (\"\", port)\n",
    "    \n",
    "    server = server_class(server_address, handler_class)\n",
    "    try:\n",
    "        server.serve_forever()\n",
    "    except KeyboardInterrupt:\n",
    "        server.socket.close()\n",
    "    except:\n",
    "        raise\n",
    "    \n",
    "if __name__ == '__main__':\n",
    "    run_server()"
   ]
  },
  {
   "cell_type": "markdown",
   "metadata": {},
   "source": [
    "Aufrufadresse: http://localhost:9093"
   ]
  },
  {
   "cell_type": "markdown",
   "metadata": {},
   "source": [
    "Der nächste Schritt ist, nicht nur Inhalte anzuzeigen, sondern auch Skripte auszuführen.\n",
    "Am einfachsten geht das mit sogenannten <font color=#0000ff> **CGI-Skripten**</font>  unter Verwendung von `CGIHTTPServer`. Mit CGI-Skripten, die im  <font color=#0000e6> ``cgi-bin``</font>-Unterverzeichis des Webservers plaziert werden, können Programme auf dem Webserver ausgeführt und die Ergebisse an den Klienten übertragen werden. Allerdings ist das unter Sicherheitsaspekten heikel. Die Skripte können in beliebigen Programmiersprachen geschrieben sein, nicht nur Python (solange es serverseitig unterstützt ist). \n",
    "\n",
    "Ein   <font color=#0000ff> **CGIHTTPServer**</font>:"
   ]
  },
  {
   "cell_type": "code",
   "execution_count": null,
   "metadata": {},
   "outputs": [],
   "source": [
    "import http.server\n",
    "            \n",
    "def run_server(port=9094):\n",
    "    server_class   = http.server.HTTPServer\n",
    "    handler_class  = http.server.CGIHTTPRequestHandler\n",
    "    handler_class.cgi_directories = ['/source', '/source/cgi-bin']\n",
    "    server_address = (\"\", port)\n",
    "    \n",
    "    server = server_class(server_address, handler_class)\n",
    "    try:\n",
    "        server.serve_forever()\n",
    "    except KeyboardInterrupt:\n",
    "        server.socket.close()\n",
    "    except:\n",
    "        raise\n",
    "        \n",
    "if __name__ == '__main__':\n",
    "    run_server()"
   ]
  },
  {
   "cell_type": "markdown",
   "metadata": {},
   "source": [
    "Folgendes CGI-Skript plazieren wir mit Namen <tt>cgiprintenv.py</tt> in das Unterverzeichnis <tt>source/cgi-bin/</tt>:\n",
    "```python\n",
    "#!/usr/bin/env python3\n",
    "\n",
    "import os\n",
    "from sys import stdout\n",
    "\n",
    "stdout.write(\"Content-type: text/plain\\r\\n\\r\\n\")\n",
    "\n",
    "for key in sorted(os.environ.keys()):\n",
    "    print(\"%s=%s\" % (key, os.environ[key]))\n",
    "```\n",
    "und machen es ausführbar (`chmod +x cgiprintenv.py`).\n",
    "\n",
    "Dann kann man es einem Webbrower unter folgender Addresse aufrufen: http://localhost:9094/source/cgi-bin/cgiprintenv.py\n",
    "\n",
    " Ein weiterführende elegante CGI-Lösung ist der [**WSGI-Standard**](https://de.wikipedia.org/wiki/Web_Server_Gateway_Interface), auf den  hier aber nicht weiter eingegangen wird.  \n",
    "\n"
   ]
  }
 ],
 "metadata": {
  "@webio": {
   "lastCommId": null,
   "lastKernelId": null
  },
  "kernelspec": {
   "display_name": "Python 2",
   "language": "python",
   "name": "python2"
  },
  "language_info": {
   "codemirror_mode": {
    "name": "ipython",
    "version": 2
   },
   "file_extension": ".py",
   "mimetype": "text/x-python",
   "name": "python",
   "nbconvert_exporter": "python",
   "pygments_lexer": "ipython2",
   "version": "2.7.12"
  }
 },
 "nbformat": 4,
 "nbformat_minor": 3
}