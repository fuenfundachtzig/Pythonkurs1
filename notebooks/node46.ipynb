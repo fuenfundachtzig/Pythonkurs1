{
 "cells": [
  {
   "cell_type": "markdown",
   "metadata": {},
   "source": [
    "[Node 46: Weitere Links](http://www-static.etp.physik.uni-muenchen.de/kurs/Computing/python2/node46.html)"
   ]
  },
  {
   "cell_type": "markdown",
   "metadata": {},
   "source": [
    "Navigation:\n",
    "\n",
    "**Next:** [Aufgaben](node47.ipynb) **Up:** [Profiling von Programmen](node40.ipynb) **Previous:** [Profiling in IPython](node45.ipynb)"
   ]
  },
  {
   "cell_type": "markdown",
   "metadata": {},
   "source": [
    "##  Weitere Links\n",
    "Folgende Blogs zeigen weitere Beispiele, wie man Profiling von Programmcode durchführt:  \n",
    "* [Optimizing code](http://scipy-lectures.github.io/advanced/optimizing/)\n",
    "* [A guide to analyzing Python performance](http://www.huyng.com/posts/python-performance-analysis/)\n",
    "* [Profiling Python Like a Boss](https://zapier.com/engineering/profiling-python-boss/)\n"
   ]
  }
 ],
 "metadata": {
  "kernelspec": {
   "display_name": "Python 2",
   "language": "python",
   "name": "python2"
  },
  "language_info": {
   "codemirror_mode": {
    "name": "ipython",
    "version": 2
   },
   "file_extension": ".py",
   "mimetype": "text/x-python",
   "name": "python",
   "nbconvert_exporter": "python",
   "pygments_lexer": "ipython2",
   "version": "2.7.17"
  }
 },
 "nbformat": 4,
 "nbformat_minor": 3
}