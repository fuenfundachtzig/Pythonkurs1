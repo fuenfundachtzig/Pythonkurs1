{
 "cells": [
  {
   "cell_type": "markdown",
   "metadata": {},
   "source": [
    "[Node 8: Tools für Listen und Dicts](http://www-static.etp.physik.uni-muenchen.de/kurs/Computing/python2/node8.html)"
   ]
  },
  {
   "cell_type": "markdown",
   "metadata": {},
   "source": [
    "Navigation:\n",
    "\n",
    "[](node9.ipynb)[](node7.ipynb)[](node7.ipynb)\n",
    "\n",
    " **Next:** [Iterables und Generatoren (yield)](node9.ipynb) **Up:** [Weitergehende und häufig verwendete Python-Features](node7.ipynb) **Previous:** [Weitergehende und häufig verwendete Python-Features](node7.ipynb)"
   ]
  },
  {
   "cell_type": "markdown",
   "metadata": {},
   "source": [
    "##  Tools für Listen und Dicts\n",
    " Aus einer Liste möchte man oft Elemente auswählen, die ein bestimmtes Kriterium erfüllen. Oder es soll eine Liste in eine andere Liste transformiert werden. Man könnte auch eine Kombination von Filtern und Transformieren anwenden. Hierzu stehen einerseits die Funktionen   <font color=#0000e6> ``filter``</font>  und   <font color=#0000e6> ``map``</font>  zu Verfügung. Andererseits kann man sog. list comprehensions verwenden.  \n",
    "* Als Beispiel soll eine Liste   <font color=#0000e6> ``[ 1, 2, 3, 4, 5]``</font>  dienen. \n",
    "* Mit jedem Listenelement soll eine mathematische Operation (hier: Berechnen der Wurzel) durchgeführt werden. \n",
    "* Nur gerade Elemente sollen ausgewählt werden \n",
    "* Nur gerade Elemente sollen ausgewählt und mit 10 multipliziert werden.  "
   ]
  },
  {
   "cell_type": "markdown",
   "metadata": {},
   "source": [
    "Zunächst   <font color=#0000e6> ``filter``</font>  und   <font color=#0000e6> ``map``</font> :"
   ]
  },
  {
   "cell_type": "code",
   "execution_count": null,
   "metadata": {},
   "outputs": [],
   "source": [
    "liste1 = [ 1, 2, 3, 4, 5 ]\n",
    "import math\n",
    "map(math.sqrt, liste1) # apply math.sqrt to each element"
   ]
  },
  {
   "cell_type": "markdown",
   "metadata": {},
   "source": [
    "Python3 gibt hier (im Gegensatz zu Python2) nicht mehr eine Liste zurück, sondern einen Iterator. Die Einträge können wir ausgeben durch explizite Umwandlung in eine Liste:"
   ]
  },
  {
   "cell_type": "code",
   "execution_count": null,
   "metadata": {},
   "outputs": [],
   "source": [
    "list(map(math.sqrt, liste1))"
   ]
  },
  {
   "cell_type": "code",
   "execution_count": null,
   "metadata": {},
   "outputs": [],
   "source": [
    "list(map(lambda x: x**0.5, liste1)) # same with lambda function"
   ]
  },
  {
   "cell_type": "code",
   "execution_count": null,
   "metadata": {},
   "outputs": [],
   "source": [
    "list(filter(lambda x: x % 2 == 0, liste1))"
   ]
  },
  {
   "cell_type": "code",
   "execution_count": null,
   "metadata": {},
   "outputs": [],
   "source": [
    "list(map(lambda x: x*10, filter(lambda x: x % 2 == 0, liste1)))"
   ]
  },
  {
   "cell_type": "markdown",
   "metadata": {},
   "source": [
    "### Listen-Abstraktionen (list comprehensions)\n",
    "\n",
    "Man kann alternativ auch <font color=#0000ff> **list comprehensions**</font>  verwenden.\n",
    "Die Identitätsabbildung gibt die Liste selber zurück:"
   ]
  },
  {
   "cell_type": "code",
   "execution_count": null,
   "metadata": {},
   "outputs": [],
   "source": [
    "[element for element in liste1]"
   ]
  },
  {
   "cell_type": "markdown",
   "metadata": {},
   "source": [
    "Die folgenden weniger trivialen Beispiele machen dasselbe, wie wir oben mit `map` und `filter` erreicht haben:"
   ]
  },
  {
   "cell_type": "code",
   "execution_count": null,
   "metadata": {},
   "outputs": [],
   "source": [
    "[element**0.5 for element in liste1]"
   ]
  },
  {
   "cell_type": "code",
   "execution_count": null,
   "metadata": {},
   "outputs": [],
   "source": [
    "[element for element in liste1 if element % 2 == 0]"
   ]
  },
  {
   "cell_type": "code",
   "execution_count": null,
   "metadata": {},
   "outputs": [],
   "source": [
    "[element*10 for element in liste1 if element % 2 == 0]"
   ]
  },
  {
   "cell_type": "markdown",
   "metadata": {},
   "source": [
    " List comprehensions haben folgende allgemeine Form:\n",
    "\n",
    "```python\n",
    "[ expr(element) for element in iterable if pred(element) ]\n",
    "```"
   ]
  },
  {
   "cell_type": "markdown",
   "metadata": {},
   "source": [
    "mit   \n",
    "*  <font color=#0000e6> ``expr(element)``</font>  ein beliebiger Ausdruck  abhängig von   <font color=#0000e6> ``element``</font>, \n",
    "*  <font color=#0000e6> ``iterable``</font>  eine beliebige Sequenz und  \n",
    "*  <font color=#0000e6> ``pred(element)``</font>  eine Funktion, die   <font color=#0000e6> ``True``</font>  oder   <font color=#0000e6> ``False``</font>  liefert  und von   <font color=#0000e6> ``element``</font>   abhängig ist. \n",
    "\n",
    "---\n",
    "\n",
    "Man kann auch mehrere Listen kombinieren:"
   ]
  },
  {
   "cell_type": "code",
   "execution_count": null,
   "metadata": {},
   "outputs": [],
   "source": [
    "[(x,y) for x in range(5) for y in range(5) ]"
   ]
  },
  {
   "cell_type": "markdown",
   "metadata": {},
   "source": [
    " und jeweils auch noch   <font color=#008000>*if*</font>-Bedingungen einbauen:"
   ]
  },
  {
   "cell_type": "code",
   "execution_count": null,
   "metadata": {},
   "outputs": [],
   "source": [
    "[(x,y) for x in range(5) if x % 2 == 0 for y in range(5) if y % 2 == 1]"
   ]
  },
  {
   "cell_type": "markdown",
   "metadata": {},
   "source": [
    "Damit erhält man eine Kombination aller geraden Zahlen von 0 bis 4 und aller ungeraden Zahlen von 0 bis 4. Dies entspricht einer doppelten   <font color=#008000> *for*</font>-Schleife:"
   ]
  },
  {
   "cell_type": "code",
   "execution_count": null,
   "metadata": {},
   "outputs": [],
   "source": [
    "result = []\n",
    "for x in range(5):\n",
    "   if x % 2 == 0:\n",
    "      for y in range(5):\n",
    "         if y % 2 == 1:\n",
    "            result.append((x,y))\n",
    "print(result)"
   ]
  },
  {
   "cell_type": "markdown",
   "metadata": {},
   "source": [
    "Mit expliziten for-Schleifen übersichtlicher und leichter verständlich, aber deutlich aufwendiger beim Schreiben und etwas langsamer bei der Ausführung ([dieser Post](https://stackoverflow.com/questions/30245397/why-is-a-list-comprehension-so-much-faster-than-appending-to-a-list) begründet das mit \"suspending and resuming a function's frame, or multiple functions in other cases, is slower than creating a list on demand\"):"
   ]
  },
  {
   "cell_type": "code",
   "execution_count": null,
   "metadata": {},
   "outputs": [],
   "source": [
    "%%timeit\n",
    "# Zeitmessung für Listenausdruck\n",
    "[(x,y) for x in range(1000) if x % 2 == 0 for y in range(5) if y % 2 == 1]"
   ]
  },
  {
   "cell_type": "code",
   "execution_count": null,
   "metadata": {},
   "outputs": [],
   "source": [
    "%%timeit\n",
    "# Zeitmessung für explizite for-Schleife\n",
    "result = []\n",
    "for x in range(1000):\n",
    "   if x % 2 == 0:\n",
    "      for y in range(5):\n",
    "         if y % 2 == 1:\n",
    "            result.append((x,y))"
   ]
  },
  {
   "cell_type": "markdown",
   "metadata": {},
   "source": [
    "Listenausdrücke werden am leichtesten verständlich, indem man sie von hinten nach vorne liest und sie sich wie oben als Abfolge von `if`-Anweisungen und `for`-Schleifen vorstellt.\n",
    "\n",
    "Typischer Anwendungsfall: Transformation einer Liste (Eingabe = Liste, Ausgabe = Liste)."
   ]
  },
  {
   "cell_type": "markdown",
   "metadata": {},
   "source": [
    "Analog zu <font color=#ff0000> **list comprehensions**</font> für Listen gibt es die    <font color=#0000ff> **dict comprehensions**</font> für Wörterbücher:"
   ]
  },
  {
   "cell_type": "code",
   "execution_count": null,
   "metadata": {},
   "outputs": [],
   "source": [
    "sqdict = { i : i**2 for i in range(10) }\n",
    "print(sqdict)"
   ]
  },
  {
   "cell_type": "markdown",
   "metadata": {},
   "source": [
    "### Listen zusammenführen mit zip"
   ]
  },
  {
   "cell_type": "code",
   "execution_count": null,
   "metadata": {},
   "outputs": [],
   "source": [
    "a = [ 1, 2, 3 ]\n",
    "b = ['a', 'b', 'c']\n",
    "list(zip(a,b))"
   ]
  },
  {
   "cell_type": "markdown",
   "metadata": {},
   "source": [
    "Ergibt kombinierte Liste von   <font color=#008000>Tupeln.</font>  \n",
    " \n",
    "Praktische Anwendung – Skalarprodukt (mit [`sum`](https://docs.python.org/3/library/functions.html#sum) als Funktion, die über Iteratoren laufen kann):"
   ]
  },
  {
   "cell_type": "code",
   "execution_count": null,
   "metadata": {},
   "outputs": [],
   "source": [
    "a = [ 0.3, 1.8, -2.2 ] \n",
    "b = [ -2.5, 3.8, 0.4]\n",
    "sp = sum([ x*y for x,y in zip(a,b)])\n",
    "print(sp)"
   ]
  },
  {
   "cell_type": "markdown",
   "metadata": {},
   "source": [
    "Kann leicht erweitert werden, um zwei Listen in ein dict zu kombinieren:"
   ]
  },
  {
   "cell_type": "code",
   "execution_count": null,
   "metadata": {},
   "outputs": [],
   "source": [
    "d = { x[1] : x[0] for x in zip(a, b) }\n",
    "print(d)"
   ]
  },
  {
   "cell_type": "code",
   "execution_count": null,
   "metadata": {},
   "outputs": [],
   "source": [
    "# Oder direkter ...\n",
    "d = dict(zip(b,a))\n",
    "d"
   ]
  },
  {
   "cell_type": "markdown",
   "metadata": {},
   "source": [
    "\n",
    "### defaultdict\n",
    " \n",
    "Im   <font color=#008000> *collections*</font>-Modul gibt es nützliche Hilfsklassen zur Arbeit mit Listen und Dicts. Hier ein Beispiel zum Bestimmen der Häufigkeit von Wörtern in einer Textdatei: "
   ]
  },
  {
   "cell_type": "code",
   "execution_count": null,
   "metadata": {},
   "outputs": [],
   "source": [
    "# download Kant's text\n",
    "import urllib.request\n",
    "f = urllib.request.urlopen(\"https://goo.gl/rGqW4k\")\n",
    "\n",
    "# split into words and convert to unicode\n",
    "words=[]\n",
    "for line in f: # iteriere ueber alle Zeilen\n",
    "    line=line.decode(\"utf-8\") # Decoding the binary data to text.\n",
    "    words += line.split() # packe Words in list\n",
    "\n",
    "print (\"Gesamtzahl der Wörter:\", len(words))    \n",
    "# or more direct w/ double list-comprehension:\n",
    "# words=[ word for line in f for word in line.split() ]"
   ]
  },
  {
   "cell_type": "markdown",
   "metadata": {},
   "source": [
    "Jetzt probieren wir verschiedene Methoden, um die Häufigkeit einzelner Wörter zu zählen (am Beispiel des Worts \"Vernunft\"), zunächst ohne weitere Module zu verwenden:"
   ]
  },
  {
   "cell_type": "code",
   "execution_count": null,
   "metadata": {},
   "outputs": [],
   "source": [
    "# count words v1 (if / else)\n",
    "word_counts = {}\n",
    "for word in words:\n",
    "    if word in word_counts:\n",
    "        word_counts[word] += 1\n",
    "    else:\n",
    "        word_counts[word] = 1\n",
    "\n",
    "print (\"V1:\", word_counts[\"Vernunft\"])\n",
    "# Umstaendlich ..."
   ]
  },
  {
   "cell_type": "code",
   "execution_count": null,
   "metadata": {},
   "outputs": [],
   "source": [
    "# count words v2 (try / except)\n",
    "word_counts = {}\n",
    "for word in words:\n",
    "    try:\n",
    "        word_counts[word] += 1\n",
    "    except:\n",
    "        word_counts[word] = 1\n",
    "\n",
    "print (\"V2:\", word_counts[\"Vernunft\"])\n",
    "# Auch umstaendlich ..."
   ]
  },
  {
   "cell_type": "code",
   "execution_count": null,
   "metadata": {},
   "outputs": [],
   "source": [
    "# count words v3\n",
    "from collections import defaultdict\n",
    "# defaultdict(int) initialisiert Eintraege beim Ansprechen automatisch auf int() = 0\n",
    "word_counts = defaultdict(int)\n",
    "for word in words:\n",
    "    word_counts[word] += 1\n",
    "\n",
    "print (\"V3:\", word_counts[\"Vernunft\"])"
   ]
  },
  {
   "cell_type": "code",
   "execution_count": null,
   "metadata": {},
   "outputs": [],
   "source": [
    "# oder noch einfacher ...\n",
    "from collections import Counter\n",
    "word_counts=Counter(words)\n",
    "# Counter liefert eine Art dict zurück, das als Wert die Häufigkeit enthält... \n",
    "print (\"V4:\", word_counts[\"Vernunft\"])"
   ]
  },
  {
   "cell_type": "code",
   "execution_count": null,
   "metadata": {},
   "outputs": [],
   "source": [
    "# und weitere Methoden...\n",
    "print(word_counts.most_common(10)) # die 10 häufigsten..."
   ]
  },
  {
   "cell_type": "markdown",
   "metadata": {},
   "source": [
    "### enumerate\n",
    "\n",
    "Ein weiteres gängiges Problem ist, dass man beim Iterieren über eine Liste sowohl das jeweilige Element als auch den Index haben will. "
   ]
  },
  {
   "cell_type": "code",
   "execution_count": null,
   "metadata": {},
   "outputs": [],
   "source": [
    "# find largest element in list,\n",
    "# both index and value of this element\n",
    "#\n",
    "nums = [ 1,5,8,3,7,6,15,11 ] # list with some numbers -- largest element is 15 at position 6 (counting from 0)"
   ]
  },
  {
   "cell_type": "code",
   "execution_count": null,
   "metadata": {},
   "outputs": [],
   "source": [
    "# initialize\n",
    "maxv = nums[0]\n",
    "imax = 0\n",
    "\n",
    "# classical method-1\n",
    "for i in range(len(nums)): # index loop\n",
    "    if nums[i]>maxv:\n",
    "        maxv = nums[i]\n",
    "        imax = i\n",
    "\n",
    "print (maxv, imax)"
   ]
  },
  {
   "cell_type": "code",
   "execution_count": null,
   "metadata": {},
   "outputs": [],
   "source": [
    "# classical method-2\n",
    "maxv=nums[0]\n",
    "imax = 0\n",
    "i = 0\n",
    "for x in nums: # keep separate counter/index\n",
    "    if x>maxv:\n",
    "        maxv = x\n",
    "        imax = i\n",
    "    i += 1\n",
    "print (maxv, imax)"
   ]
  },
  {
   "cell_type": "code",
   "execution_count": null,
   "metadata": {},
   "outputs": [],
   "source": [
    "# pythonic way: better use enumerate\n",
    "#\n",
    "maxv=nums[0]\n",
    "imax = 0\n",
    "for i,x in enumerate(nums): # provides index,value \n",
    "    if x>maxv:\n",
    "        maxv = x\n",
    "        imax = i\n",
    "print (maxv, imax)"
   ]
  },
  {
   "cell_type": "markdown",
   "metadata": {},
   "source": [
    "<font color=#0000e6> ``enumerate``</font>  liefert Index und Element zusammen:"
   ]
  },
  {
   "cell_type": "code",
   "execution_count": null,
   "metadata": {},
   "outputs": [],
   "source": [
    "list(enumerate(nums))"
   ]
  },
  {
   "cell_type": "code",
   "execution_count": null,
   "metadata": {},
   "outputs": [],
   "source": []
  }
 ],
 "metadata": {
  "@webio": {
   "lastCommId": null,
   "lastKernelId": null
  },
  "kernelspec": {
   "display_name": "Python 3.6",
   "language": "python",
   "name": "python3"
  },
  "language_info": {
   "codemirror_mode": {
    "name": "ipython",
    "version": 3
   },
   "file_extension": ".py",
   "mimetype": "text/x-python",
   "name": "python",
   "nbconvert_exporter": "python",
   "pygments_lexer": "ipython3",
   "version": "3.6.13"
  }
 },
 "nbformat": 4,
 "nbformat_minor": 3
}