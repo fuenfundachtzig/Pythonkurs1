{
 "cells": [
  {
   "cell_type": "markdown",
   "metadata": {},
   "source": [
    "[Node 8: Tools für Listen und Dicts](http://www-static.etp.physik.uni-muenchen.de/kurs/Computing/python2/node8.html)"
   ]
  },
  {
   "cell_type": "markdown",
   "metadata": {},
   "source": [
    "Navigation:\n",
    "\n",
    "[](node9.ipynb)[](node7.ipynb)[](node7.ipynb)\n",
    "\n",
    " **Next:** [Iterables und Generatoren (yield)](node9.ipynb) **Up:** [Weitergehende und häufig verwendete](node7.ipynb) **Previous:** [Weitergehende und häufig verwendete](node7.ipynb)"
   ]
  },
  {
   "cell_type": "markdown",
   "metadata": {},
   "source": [
    "##  Tools für Listen und Dicts\n",
    " Aus einer Liste möchte man oft Elemente auswählen, die ein bestimmtes Kriterium erfüllen. Oder es soll eine Liste in eine andere Liste transformiert werden. Man könnte auch eine Kombination von Filtern und Transformieren anwenden. Hierzu stehen einerseits die Funktionen   <font color=#0000e6> ``filter``</font>  und   <font color=#0000e6> ``map``</font>  zu Verfügung. Andererseits kann man sog. list comprehensions verwenden.  \n",
    "* Als Beispiel soll eine Liste   <font color=#0000e6> ``[ 1, 2, 3, 4, 5]``</font>  dienen. \n",
    "* Mit jedem Listenelement soll eine mathematische Operation (hier: Berechnen der Wurzel) durchgeführt werden. \n",
    "* Nur gerade Elemente sollen ausgewählt werden \n",
    "* Nur gerade Elemente sollen ausgewählt und mit 10 multipliziert werden.  "
   ]
  },
  {
   "cell_type": "markdown",
   "metadata": {},
   "source": [
    "Zunächst   <font color=#0000e6> ``filter``</font>  und   <font color=#0000e6> ``map``</font> :"
   ]
  },
  {
   "cell_type": "code",
   "execution_count": null,
   "metadata": {},
   "outputs": [],
   "source": [
    "liste1 = [ 1, 2, 3, 4, 5 ]\n",
    "import math\n",
    "map(math.sqrt, liste1) # apply math.sqrt to each element"
   ]
  },
  {
   "cell_type": "markdown",
   "metadata": {},
   "source": [
    "Python3 gibt hier (im Gegensatz zu Python2) nicht mehr eine Liste zurück, sondern einen Iterator. Die Einträge können wir ausgeben durch explizite Umwandlung in eine Liste:"
   ]
  },
  {
   "cell_type": "code",
   "execution_count": null,
   "metadata": {},
   "outputs": [],
   "source": [
    "list(map(math.sqrt, liste1))"
   ]
  },
  {
   "cell_type": "code",
   "execution_count": null,
   "metadata": {},
   "outputs": [],
   "source": [
    "list(map(lambda x: x**0.5, liste1)) # same with lambda function"
   ]
  },
  {
   "cell_type": "code",
   "execution_count": null,
   "metadata": {},
   "outputs": [],
   "source": [
    "list(filter(lambda x: x % 2 == 0, liste1))"
   ]
  },
  {
   "cell_type": "code",
   "execution_count": null,
   "metadata": {},
   "outputs": [],
   "source": [
    "list(map(lambda x: x*10, filter(lambda x: x % 2 == 0, liste1)))"
   ]
  },
  {
   "cell_type": "markdown",
   "metadata": {},
   "source": [
    "\n",
    "\n",
    "---\n",
    "\n",
    " Aber man kann auch sog.   <font color=#0000ff> **list comprehensions**</font>  verwenden:"
   ]
  },
  {
   "cell_type": "code",
   "execution_count": null,
   "metadata": {},
   "outputs": [],
   "source": [
    "[element**0.5 for element in liste1]"
   ]
  },
  {
   "cell_type": "code",
   "execution_count": null,
   "metadata": {},
   "outputs": [],
   "source": [
    "[element for element in liste1 if element % 2 == 0]"
   ]
  },
  {
   "cell_type": "code",
   "execution_count": null,
   "metadata": {},
   "outputs": [],
   "source": [
    "[element*10 for element in liste1 if element % 2 == 0]"
   ]
  },
  {
   "cell_type": "markdown",
   "metadata": {},
   "source": [
    " List comprehensions haben folgende allgemeine Form:\n",
    "\n",
    "```python\n",
    "[ expr(element) for element in iterable if pred(element) ]\n",
    "```"
   ]
  },
  {
   "cell_type": "markdown",
   "metadata": {},
   "source": [
    " mit   \n",
    "*  <font color=#0000e6> ``expr(element)``</font>  ein beliebiger Ausdruck  abhängig von   <font color=#0000e6> ``element``</font> , \n",
    "*  <font color=#0000e6> ``iterable``</font>  eine beliebige Sequenz und  \n",
    "*  <font color=#0000e6> ``pred(element)``</font>  eine Funktion, die   <font color=#0000e6> ``True``</font>  oder   <font color=#0000e6> ``False``</font>  liefert  und von   <font color=#0000e6> ``element``</font>   abhängig ist. \n",
    "\n",
    "---\n",
    "\n",
    " Man kann auch mehrere Listen kombinieren:"
   ]
  },
  {
   "cell_type": "code",
   "execution_count": null,
   "metadata": {},
   "outputs": [],
   "source": [
    "[(x,y) for x in range(5) for y in range(5) ]"
   ]
  },
  {
   "cell_type": "markdown",
   "metadata": {},
   "source": [
    " und jeweils auch noch   <font color=#008000>*if*</font>-Bedingungen einbauen:"
   ]
  },
  {
   "cell_type": "code",
   "execution_count": null,
   "metadata": {},
   "outputs": [],
   "source": [
    "[(x,y) for x in range(5) if x % 2 == 0 for y in range(5) if y % 2 == 1]"
   ]
  },
  {
   "cell_type": "markdown",
   "metadata": {},
   "source": [
    " damit erhält man eine Kombination aller geraden Zahlen von 0 bis 4 und aller ungeraden Zahlen von 0 bis 4. Dies entspricht einer doppelten   <font color=#008000> *for*</font>  Schleife:"
   ]
  },
  {
   "cell_type": "code",
   "execution_count": null,
   "metadata": {},
   "outputs": [],
   "source": [
    "result = []\n",
    "for x in range(5):\n",
    "   if x % 2 == 0:\n",
    "      for y in range(5):\n",
    "         if y % 2 == 1:\n",
    "            result.append((x,y))\n",
    "print(result)"
   ]
  },
  {
   "cell_type": "markdown",
   "metadata": {},
   "source": [
    " Mit expliziten for Schleifen übersichtlicher und leichter verständlich, aber deutlich aufwendiger  beim Schreiben und wesentlich langsamer bei der Ausführung.    \n",
    " \n",
    " Analog zu    <font color=#ff0000> **list comprehensions**</font>  gibt es die    <font color=#0000ff> **dict comprehensions**</font>"
   ]
  },
  {
   "cell_type": "code",
   "execution_count": null,
   "metadata": {},
   "outputs": [],
   "source": [
    "sqdict = { i : i**2 for i in range(10) }\n",
    "print ( sqdict )"
   ]
  },
  {
   "cell_type": "markdown",
   "metadata": {},
   "source": [
    "\n",
    "\n",
    "---\n",
    "\n",
    " **Listen zusammenführen mit zip**"
   ]
  },
  {
   "cell_type": "code",
   "execution_count": null,
   "metadata": {},
   "outputs": [],
   "source": [
    "a=[ 1,2,3]\n",
    "b=['a','b','c']\n",
    "zip(a,b)"
   ]
  },
  {
   "cell_type": "markdown",
   "metadata": {},
   "source": [
    " Ergibt kombinierte Liste von   <font color=#008000> *tuples*</font>  Praktische Anwendung – Skalarprodukt:"
   ]
  },
  {
   "cell_type": "code",
   "execution_count": null,
   "metadata": {},
   "outputs": [],
   "source": [
    "a = [ 0.3, 1.8, -2.2 ] \n",
    "b = [ -2.5, 3.8, 0.4]\n",
    "sp = sum([ x*y for x,y in zip(a,b)])"
   ]
  },
  {
   "cell_type": "markdown",
   "metadata": {},
   "source": [
    " Kann leicht erweitert werden um  2 Listen in ein dict zu kombinieren:"
   ]
  },
  {
   "cell_type": "code",
   "execution_count": null,
   "metadata": {},
   "outputs": [],
   "source": [
    "d = { x[1] : x[0] for x in zip(a,b) }\n",
    "print(d)\n",
    "{'a': 1, 'c': 3, 'b': 2}\n",
    "# Oder direkter ...\n",
    "d = dict(zip(b,a))"
   ]
  },
  {
   "cell_type": "markdown",
   "metadata": {},
   "source": [
    "\n",
    "\n",
    "---\n",
    "\n",
    " **defaultdict**  Im   <font color=#008000> *collections*</font>  module gibt es nützliche Hilfs-Klassen zur Arbeit mit Listen und Dicts. Hier Beispiel zum Bestimmen der Häufigkeit von Wörtern in Text-Datei:  \n",
    "\n",
    "---"
   ]
  },
  {
   "cell_type": "code",
   "execution_count": null,
   "metadata": {},
   "outputs": [],
   "source": [
    "#\n",
    "# python3 version\n",
    "import urllib.request\n",
    "# open Kant's Text\n",
    "f=urllib.request.urlopen(\"https://goo.gl/rGqW4k\")\n",
    "# split into words\n",
    "words=[]\n",
    "for line in f: # iteriere ueber alle Zeilen\n",
    "    line=line.decode(\"utf-8\") # Decoding the binary data to text.\n",
    "    words += line.split() # packe Words in list\n",
    "\n",
    "print (\"Zahl der Woerter:\",len(words))    \n",
    "# or more direct w/ double list-comprehension:\n",
    "# words=[ word for line in f for word in line.split() ]\n",
    "#\n",
    "# count words v1\n",
    "word_counts = {}\n",
    "for word in words:\n",
    "    if word in word_counts:\n",
    "        word_counts[word] += 1\n",
    "    else:\n",
    "        word_counts[word] = 1\n",
    "\n",
    "print (\"V1:\", word_counts[\"Vernunft\"])\n",
    "        \n",
    "# Umstaendlich ...\n",
    "#\n",
    "# count words v2\n",
    "word_counts = {}\n",
    "for word in words:\n",
    "    try:\n",
    "        word_counts[word] += 1\n",
    "    except:\n",
    "        word_counts[word] = 1\n",
    "\n",
    "print (\"V2:\", word_counts[\"Vernunft\"])\n",
    "# Auch umstaendlich ...\n",
    "#\n",
    "# count words v3\n",
    "from collections import defaultdict\n",
    "word_counts = defaultdict(int)\n",
    "for word in words:\n",
    "    word_counts[word] += 1\n",
    "\n",
    "print (\"V3:\", word_counts[\"Vernunft\"])\n",
    "    \n",
    "# defaultdict(int) initialisiert Eintraege beim Ansprechen automatisch auf int() = 0\n",
    "#\n",
    "# oder noch einfacher ...\n",
    "from collections import Counter\n",
    "word_counts=Counter(words)\n",
    "#\n",
    "# Counter liefert eine Art dict zurueck mit das als Wert die Haeufigkeit enthaelt: \n",
    "print (\"V4:\", word_counts[\"Vernunft\"])\n",
    "\n",
    "# und weitere Methoden ...\n",
    "print (word_counts.most_common(10)) # die 10 haeufigsten ...\n",
    "\n"
   ]
  },
  {
   "cell_type": "markdown",
   "metadata": {},
   "source": [
    "**enumerate**  \n",
    "\n",
    "Ein weiteres gängiges Problem ist, dass man beim Iterieren über eine Liste sowohl das jeweilige Element als auch den Index haben will. "
   ]
  },
  {
   "cell_type": "code",
   "execution_count": null,
   "metadata": {},
   "outputs": [],
   "source": [
    "#\n",
    "# find largest element in list,\n",
    "# both index and value of this element\n",
    "#\n",
    "nums = [ 1,5,8,3,7,6,15,11 ] # test list with some numbers\n",
    "\n",
    "maxv=nums[0]\n",
    "imax = 0\n",
    "\n",
    "# classical method-1\n",
    "for i in range(len(nums)): # index loop\n",
    "    if nums[i]>maxv:\n",
    "        maxv = nums[i]\n",
    "        imax = i\n",
    "\n",
    "print (\"1:\", maxv, imax )        \n",
    "#\n",
    "# classical method-2\n",
    "maxv=nums[0]\n",
    "imax = 0\n",
    "i = 0\n",
    "for x in nums: # keep separate counter/index\n",
    "    if x>maxv:\n",
    "        maxv = x\n",
    "        imax = i\n",
    "    i += 1\n",
    "print (\"2:\", maxv, imax )        \n",
    "#\n",
    "# python way: better use enumerate\n",
    "#\n",
    "maxv=nums[0]\n",
    "imax = 0\n",
    "for i,x in enumerate(nums): # provides index,value \n",
    "    if x>maxv:\n",
    "        maxv = x\n",
    "        imax = i\n",
    "print (\"3:\", maxv, imax )  "
   ]
  },
  {
   "cell_type": "markdown",
   "metadata": {},
   "source": [
    "<font color=#0000e6> ``enumerate``</font>  liefert Index und Element zusammen.  "
   ]
  }
 ],
 "metadata": {
  "kernelspec": {
   "display_name": "Python 3",
   "language": "python",
   "name": "python3"
  },
  "language_info": {
   "codemirror_mode": {
    "name": "ipython",
    "version": 3
   },
   "file_extension": ".py",
   "mimetype": "text/x-python",
   "name": "python",
   "nbconvert_exporter": "python",
   "pygments_lexer": "ipython3",
   "version": "3.6.9"
  }
 },
 "nbformat": 4,
 "nbformat_minor": 3
}