{
 "cells": [
  {
   "cell_type": "markdown",
   "metadata": {},
   "source": [
    "## Solution for SIR model\n",
    "* SIR model: see [this notebook](http://localhost:8888/notebooks/nb_ScipyExercises.ipynb#Extra:-Mathematical-model-of-an-infectious-disease)\n",
    "* based on [source/solutions/SIRmodel.py](source/solutions/SIRmodel.py)"
   ]
  },
  {
   "cell_type": "code",
   "execution_count": null,
   "metadata": {},
   "outputs": [],
   "source": [
    "import numpy as np\n",
    "import matplotlib.pyplot as plt\n",
    "from scipy.integrate import odeint"
   ]
  },
  {
   "cell_type": "code",
   "execution_count": null,
   "metadata": {},
   "outputs": [],
   "source": [
    "def F(y, t, N, c, w):\n",
    "  \"return the derivates defining the differential equations of the SIR model, y = (S, I, R)\"\n",
    "  S, I, R = y\n",
    "  dS = -c*S/N*I\n",
    "  dI =  c*S/N*I -w*I\n",
    "  dR =           w*I\n",
    "  return dS, dI, dR"
   ]
  },
  {
   "cell_type": "code",
   "execution_count": null,
   "metadata": {},
   "outputs": [],
   "source": [
    "# solve system of ODEs\n",
    "def SolveSIRAndPlot(*args, **kw):\n",
    "    S, I, R = odeint(*args, **kw).T\n",
    "\n",
    "    # plot result\n",
    "    plt.plot(S, label = \"susceptible\")\n",
    "    plt.plot(I, label = \"infected\")\n",
    "    plt.plot(R, label = \"recovered\")\n",
    "    plt.xlabel(\"time [days]\")\n",
    "    plt.ylabel(\"individuals [1]\")\n",
    "    plt.legend()"
   ]
  },
  {
   "cell_type": "code",
   "execution_count": null,
   "metadata": {},
   "outputs": [],
   "source": [
    "# time steps [assume days as time unit]\n",
    "def TimeSteps(t_min, t_max, dt):\n",
    "    return np.arange(t_min, t_max+dt, dt)"
   ]
  },
  {
   "cell_type": "code",
   "execution_count": null,
   "metadata": {},
   "outputs": [],
   "source": [
    "# initial conditions and constants\n",
    "y0 = (1000., 1., 0.) # (note: we use floats although individual counts are integers)\n",
    "N  = sum(y0)\n",
    "c  = 0.05\n",
    "w  = 0.05"
   ]
  },
  {
   "cell_type": "code",
   "execution_count": null,
   "metadata": {},
   "outputs": [],
   "source": [
    "print(\"r =\", c/w, \"(basic reproduction number)\")\n",
    "if c/w > N/y0[0]:\n",
    "  print(\"Outbreak\")"
   ]
  },
  {
   "cell_type": "code",
   "execution_count": null,
   "metadata": {},
   "outputs": [],
   "source": [
    "t = TimeSteps(t_min = 0, t_max = 3000, dt = 1)\n",
    "SolveSIRAndPlot(F, y0, t, args = (N, c, w))"
   ]
  },
  {
   "cell_type": "code",
   "execution_count": null,
   "metadata": {},
   "outputs": [],
   "source": [
    "from ipywidgets import interact\n",
    "interact(lambda c, w, t_max: \n",
    "             SolveSIRAndPlot(F, y0, TimeSteps(0, t_max, 1), \n",
    "                             args = (N, c, w)), \n",
    "         c=(0, 0.5, 0.05),\n",
    "         w=(0, 0.5, 0.05),\n",
    "         t_max=(0, 2500, 500),\n",
    "         continuous_update=False);"
   ]
  },
  {
   "cell_type": "code",
   "execution_count": null,
   "metadata": {},
   "outputs": [],
   "source": []
  }
 ],
 "metadata": {
  "@webio": {
   "lastCommId": null,
   "lastKernelId": null
  },
  "kernelspec": {
   "display_name": "Python 3.6",
   "language": "python",
   "name": "python3"
  },
  "language_info": {
   "codemirror_mode": {
    "name": "ipython",
    "version": 3
   },
   "file_extension": ".py",
   "mimetype": "text/x-python",
   "name": "python",
   "nbconvert_exporter": "python",
   "pygments_lexer": "ipython3",
   "version": "3.6.13"
  }
 },
 "nbformat": 4,
 "nbformat_minor": 4
}