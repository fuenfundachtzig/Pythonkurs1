{
 "cells": [
  {
   "cell_type": "markdown",
   "metadata": {},
   "source": [
    "[Node 64: Programme der Python Standard Library](http://www-static.etp.physik.uni-muenchen.de/kurs/Computing/python2/node64.html)"
   ]
  },
  {
   "cell_type": "markdown",
   "metadata": {},
   "source": [
    "Navigation:\n",
    "\n",
    "**Next:** [Verteilte Programme mit XML-RPC](node65.ipynb) **Up:** [Netzwerk Programmierung](node62.ipynb) **Previous:** [Überblick Netzwerkprogrammierung](node63.ipynb)"
   ]
  },
  {
   "cell_type": "markdown",
   "metadata": {},
   "source": [
    "##  Module der Python-Standardbibliothek\n",
    "\n",
    "Klassische Anwendungen wie FTP, Versand und Empfangen von E-Mails oder Telnet können synchron abgearbeitet werden, d.h. eine Anforderung wird an einen Server gesendet, auf dessen Antwort gewartet und dann weitergearbeitet. Für zahlreiche Netzwerkdienste existieren Module in der Python-Standardbibliothek wie z.B.  ``ftplib, poplib, imaplib, smtplib, nntplib, gopherlib, telnetlib`` .  "
   ]
  },
  {
   "cell_type": "markdown",
   "metadata": {},
   "source": [
    "### Server mit SocketServer\n",
    "\n",
    "Wir gehen hier nicht auf die Berkeley-Socket-API ein, sondern beschränken uns auf die Klassen des  ``SocketServer``-Moduls, die die Komplexität der *low-level* Socket-API verbergen. \n",
    "\n",
    "Bei einem ``SocketServer``  geht man wie folgt vor:  \n",
    "* Leite Verarbeitungsklasse von  [``BaseRequestHandler``](https://docs.python.org/3/library/socketserver.html#socketserver.BaseRequestHandler)  ab und  überschreibe die  ``handle``  Methode \n",
    "* Benutze Serverklasse  [``TCPServer``](https://docs.python.org/3/library/socketserver.html#socketserver.TCPServer), [``UDPServer``](https://docs.python.org/3/library/socketserver.html#socketserver.UDPServer)  und instanziiere diese mit Server-Adresse und Verarbeitungsklasse\n",
    "* Starte Ereignisschleife des Servers."
   ]
  },
  {
   "cell_type": "markdown",
   "metadata": {},
   "source": [
    "Ein Beispiel für einen einfachen Server auf TCP-Basis:"
   ]
  },
  {
   "cell_type": "code",
   "execution_count": null,
   "metadata": {},
   "outputs": [],
   "source": [
    "from socketserver import TCPServer, BaseRequestHandler\n",
    "\n",
    "class HelloHandler(BaseRequestHandler):\n",
    "    def handle(self):\n",
    "        print(\"Serving client:\", self.client_address)\n",
    "        self.request.sendall('Hello Client! I am a HelloHandler\\r\\n')\n",
    "        \n",
    "TCPServer.allow_reuse_address = True\n",
    "srv = TCPServer((\"\", 7070), HelloHandler)\n",
    "srv.serve_forever()"
   ]
  },
  {
   "cell_type": "markdown",
   "metadata": {},
   "source": [
    "Man führt dieses Programm auf dem Server aus und kontaktiert das Server-Programm von einem Client auf der Shell-Kommando-Zeile mit ``nc (netcat)``:\n",
    "\n",
    "```bash\n",
    "$ nc localhost 7070\n",
    "Hello Client! I am a HelloHandler\n",
    "```"
   ]
  },
  {
   "cell_type": "markdown",
   "metadata": {},
   "source": [
    "Auf dem Server erhält man bei dieser Verbindung eine Meldung:\n",
    "<pre>\n",
    "Serving client: ('127.0.0.1', 48908)\n",
    "</pre>\n",
    "(siehe oben...)"
   ]
  },
  {
   "cell_type": "markdown",
   "metadata": {},
   "source": [
    "---\n",
    "Ein Echo-Server sieht folgendermaßen aus.\n",
    "Wir verwenden hier die `StreamRequestHandler`-Klasse zum Ableiten unseres Handlers, die von `BaseRequestHandler` ableitet und zwei Eigenschaften bereitstellt, `self.rfile` und `self.wfile`, über die wir Daten von den Klienten empfangen und an sie senden können"
   ]
  },
  {
   "cell_type": "code",
   "execution_count": null,
   "metadata": {},
   "outputs": [],
   "source": [
    "from socketserver import TCPServer, StreamRequestHandler\n",
    "\n",
    "class EchoHandler(StreamRequestHandler):\n",
    "    def handle(self):\n",
    "        print(\"Serving client:\", self.client_address)\n",
    "        for line in (self.rfile):\n",
    "            self.wfile.write(\"S:\" + line)\n",
    "            \n",
    "TCPServer.allow_reuse_address = True\n",
    "srv = TCPServer((\"\", 7072), EchoHandler)\n",
    "srv.serve_forever()"
   ]
  },
  {
   "cell_type": "markdown",
   "metadata": {},
   "source": [
    "Startet man obigen Server, so erhält man auf dem Klienten folgende Ein- und Ausgabe:\n",
    "<pre>\n",
    "$ nc localhost 7071\n",
    "Hallo\n",
    "S:Hallo\n",
    "Echo !\n",
    "S:Echo !\n",
    "</pre>"
   ]
  },
  {
   "cell_type": "markdown",
   "metadata": {},
   "source": [
    "Der Nachteil des gerade vorgestellten Echo-Servers liegt in der Tatsache, dass er nur einen Klienten zur gleichen Zeit bedienen kann, da der Server nur mit einem Thread läuft. \n",
    "Als Lösung bietet sich ein asynchroner Server (wie `Twisted`) an, oder man führt die  ``handle``-Methode in einem eigenen Prozess oder Thread aus. \n",
    "\n",
    "Im folgenden Beispiel wird  ``ThreadingTCPServer``  anstatt  ``TCPServer``  verwendet:"
   ]
  },
  {
   "cell_type": "code",
   "execution_count": null,
   "metadata": {},
   "outputs": [],
   "source": [
    "from socketserver import ThreadingTCPServer, StreamRequestHandler\n",
    "\n",
    "class EchoHandler(StreamRequestHandler):\n",
    "    def handle(self):\n",
    "        print(\"Serving client:\", self.client_address)\n",
    "        for line in (self.rfile):\n",
    "            self.wfile.write(\"S:\" + line)\n",
    "            \n",
    "ThreadingTCPServer.allow_reuse_address = True\n",
    "srv = ThreadingTCPServer((\"\", 7073), EchoHandler)\n",
    "srv.serve_forever()"
   ]
  },
  {
   "cell_type": "markdown",
   "metadata": {},
   "source": [
    "### E-Mails senden mit `smtplib.SMTP`\n",
    "\n",
    "Um E-Mails synchron zu senden, kann man die Klasse  ``SMTP``  aus dem  ``smtplib``-Modul verwenden. In folgendem Programm wird demonstriert, wie man eine E-Mail mit dem  ``email.message``-Modul zunächst komponiert und sich dann am Mailserver der LMU-Physik authentifiziert und die E-Mail über das SMTP-Protokoll (Simple Mail Transfer Protocol) an seine eigene Adresse versendet: \n",
    "[``test_send_mail.py``](source/test_send_mail.py) \n",
    "\n",
    "Das Passwort wird über die Funktion ``getpass`` zur Laufzeit des Programms eingelesen.\n",
    "\n",
    "Das SMTP stammt ursprünglich aus dem Jahr 1982 und ist sehr simpel, aber immer noch die Grundlage von allem Mailverkehr im Internet. Es ist so geschrieben, dass über einen kleinen Satz von einfachen Kommandos interaktiv in einer Serverbindung ein Mensch eine Mail verfassen und verschicken kann. Es sieht keine Authentifizierung vor. Jeder Server kann im Prinzip an jeden anderen Server Mails schicken, ohne beweisen zu müssen, dass er dazu berechtigt ist, oder dass die Mails, die er weiterleitet, tatsächlich von den behaupteten Absendern stammen. Diese Eigenheit im Design des Protokolls ist zwar im Geiste eines freien und offenen Internets, führte aber auch zu dem riesigen Problem mit Spam-Mails, das wir heute haben."
   ]
  },
  {
   "cell_type": "markdown",
   "metadata": {},
   "source": [
    "### E-Mails lesen mit `imaplib.IMAP4`\n",
    "\n",
    "Über die  ``IMAP4_SSL``-Funktion (IMAP = Internet Message Access Protocol) des  ``imaplib``-Moduls können E-Mails von einem Server gelesen werden: [``imaplib_imap4client.py``](source/imaplib_imap4client.py)"
   ]
  }
 ],
 "metadata": {
  "kernelspec": {
   "display_name": "Python 3",
   "language": "python",
   "name": "python3"
  },
  "language_info": {
   "codemirror_mode": {
    "name": "ipython",
    "version": 3
   },
   "file_extension": ".py",
   "mimetype": "text/x-python",
   "name": "python",
   "nbconvert_exporter": "python",
   "pygments_lexer": "ipython3",
   "version": "3.6.9"
  }
 },
 "nbformat": 4,
 "nbformat_minor": 3
}