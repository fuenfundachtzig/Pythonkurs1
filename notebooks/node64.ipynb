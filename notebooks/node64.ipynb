{
 "cells": [
  {
   "cell_type": "markdown",
   "metadata": {},
   "source": [
    "[Node 64: Programme der Python Standard Library](http://www-static.etp.physik.uni-muenchen.de/kurs/Computing/python2/node64.html)"
   ]
  },
  {
   "cell_type": "markdown",
   "metadata": {},
   "source": [
    "Navigation:\n",
    "\n",
    "**Next:** [Verteilte Programme mit XML-RPC](node65.ipynb) **Up:** [Netzwerk Programmierung](node62.ipynb) **Previous:** [Überblick Netzwerkprogrammierung](node63.ipynb)"
   ]
  },
  {
   "cell_type": "markdown",
   "metadata": {},
   "source": [
    "##  Module der Python-Standardbibliothek\n",
    "\n",
    "Klassische Anwendungen wie FTP, Versand und Empfangen von E-Mails oder Telnet können synchron abgearbeitet werden, d.h. eine Anforderung wird an einen Server gesendet, auf dessen Antwort gewartet und dann weitergearbeitet. Für zahlreiche Netzwerkdienste existieren Module in der Python-Standardbibliothek wie z.B.  ``ftplib, poplib, imaplib, smtplib, nntplib, gopherlib, telnetlib`` .  "
   ]
  },
  {
   "cell_type": "markdown",
   "metadata": {},
   "source": [
    "### Server mit SocketServer\n",
    "\n",
    "Wir gehen hier nicht auf die [Berkeley-Socket-API](https://en.wikipedia.org/wiki/Berkeley_sockets) ein, sondern beschränken uns auf die Klassen des  ``SocketServer``-Moduls, die die Komplexität der *low-level* Socket-API verbergen. \n",
    "\n",
    "Bei einem ``SocketServer``  geht man wie folgt vor:  \n",
    "* Leite Verarbeitungsklasse von  [``BaseRequestHandler``](https://docs.python.org/3/library/socketserver.html#socketserver.BaseRequestHandler)  ab und  überschreibe die  ``handle``  Methode, um eingehende Anfragen ([``socket``](https://docs.python.org/3/library/socket.html#socket-objects)) zu bearbeiten\n",
    "* Benutze Serverklasse  [``TCPServer``](https://docs.python.org/3/library/socketserver.html#socketserver.TCPServer), [``UDPServer``](https://docs.python.org/3/library/socketserver.html#socketserver.UDPServer)  und instanziiere diese mit Server-Adresse und Verarbeitungsklasse\n",
    "* Starte Ereignisschleife des Servers."
   ]
  },
  {
   "cell_type": "markdown",
   "metadata": {},
   "source": [
    "Ein Beispiel für einen einfachen Server auf TCP-Basis:"
   ]
  },
  {
   "cell_type": "code",
   "execution_count": null,
   "metadata": {},
   "outputs": [],
   "source": [
    "from socketserver import TCPServer, BaseRequestHandler\n",
    "\n",
    "class HelloHandler(BaseRequestHandler):\n",
    "    def handle(self):\n",
    "        print (\"Serving client:\", self.client_address)\n",
    "        self.request.sendall(b'Hello Client! I am a HelloHandler\\r\\n')\n",
    "        \n",
    "PORT = 7070\n",
    "TCPServer.allow_reuse_address = True\n",
    "srv = TCPServer((\"\", PORT), HelloHandler)\n",
    "try:\n",
    "    srv.serve_forever()\n",
    "    print (\"Serving forever at port\", PORT)\n",
    "except:\n",
    "    print (\"Closing the server.\")\n",
    "    srv.server_close()\n"
   ]
  },
  {
   "cell_type": "markdown",
   "metadata": {},
   "source": [
    "Man führt dieses Programm auf dem Server aus und kontaktiert das Server-Programm von einem Client auf der Shell-Kommando-Zeile mit ``nc (netcat)``:\n",
    "\n",
    "```bash\n",
    "$ nc localhost 7070\n",
    "Hello Client! I am a HelloHandler\n",
    "```"
   ]
  },
  {
   "cell_type": "markdown",
   "metadata": {},
   "source": [
    "Auf dem Server erhält man bei dieser Verbindung eine Meldung:\n",
    "<pre>\n",
    "Serving client: ('127.0.0.1', 48908)\n",
    "</pre>\n",
    "(siehe oben...)"
   ]
  },
  {
   "cell_type": "markdown",
   "metadata": {},
   "source": [
    "---\n",
    "Wir schreiben uns im folgenden Beispiel einen Echo-Server, der die Anfragen von Klienten unverändert zurückschickt. (Praktisch typischerweise zum Testen.)\n",
    "Dazu verwenden wir die [`StreamRequestHandler`](https://docs.python.org/3/library/socketserver.html#socketserver.StreamRequestHandler)-Klasse als Basis für unseren Handler, die wiederum von der oben verwendeten Klasse `BaseRequestHandler` ableitet, aber noch zwei Eigenschaften bereitstellt, `self.rfile` und `self.wfile`, über die wir Daten von den Klienten empfangen und an sie senden können. Dabei wollen wir unserem Echo ein `\"S:\"` voranstellen, um es als Serverantwort kenntlich zu machen. "
   ]
  },
  {
   "cell_type": "markdown",
   "metadata": {},
   "source": [
    "#### Exkurs: Textkodierung\n",
    "\n",
    "Da `line` (in Python 3) vom Type `bytes` ist (eine Abfolge von Bytes), müssen wir dem String `\"S:\"` (der einen Text repräsentiert und implizit eine bestimmte Kodierung hat, z.B. [UTF-8](https://de.wikipedia.org/wiki/UTF-8)) als Präfix ein `b` voranstellen, um ihn in den Typ `bytes` umzuwandeln:"
   ]
  },
  {
   "cell_type": "code",
   "execution_count": null,
   "metadata": {},
   "outputs": [],
   "source": [
    "type(\"S:\")"
   ]
  },
  {
   "cell_type": "code",
   "execution_count": null,
   "metadata": {},
   "outputs": [],
   "source": [
    "type(b\"S:\")"
   ]
  },
  {
   "cell_type": "markdown",
   "metadata": {},
   "source": [
    "Mit expliziter Enkodierung:\n",
    "([`encode()`](https://docs.python.org/3/library/stdtypes.html#str.encode): `string` $\\rightarrow$ `bytes`,\n",
    " [`decode()`](https://docs.python.org/3/library/stdtypes.html#bytes.decode): `bytes` $\\rightarrow$ `string`)"
   ]
  },
  {
   "cell_type": "code",
   "execution_count": null,
   "metadata": {},
   "outputs": [],
   "source": [
    "type(\"S:\".encode(\"UTF-8\"))"
   ]
  },
  {
   "cell_type": "markdown",
   "metadata": {},
   "source": [
    "Eine unpassende Textkodierung führt zu dem typischen Bild von kaputten Umlauten:"
   ]
  },
  {
   "cell_type": "code",
   "execution_count": null,
   "metadata": {},
   "outputs": [],
   "source": [
    "\"Süßes Tiramisù\".encode(\"UTF-8\").decode(\"iso-8859-15\")"
   ]
  },
  {
   "cell_type": "code",
   "execution_count": null,
   "metadata": {},
   "outputs": [],
   "source": [
    "\"Süßes Tiramisù\".encode(\"iso-8859-15\").decode(\"utf-8\", errors=\"replace\")"
   ]
  },
  {
   "cell_type": "code",
   "execution_count": null,
   "metadata": {
    "scrolled": true
   },
   "outputs": [],
   "source": [
    "\"Süßes Tiramisù\".encode(\"UTF-8\").decode(\"UTF-8\")"
   ]
  },
  {
   "cell_type": "code",
   "execution_count": null,
   "metadata": {},
   "outputs": [],
   "source": [
    "\"Süßes Tiramisù\".encode(\"iso-8859-1\").decode(\"iso-8859-1\")"
   ]
  },
  {
   "cell_type": "markdown",
   "metadata": {},
   "source": [
    "Zurück zu unserem Echo-Server:"
   ]
  },
  {
   "cell_type": "code",
   "execution_count": null,
   "metadata": {},
   "outputs": [],
   "source": [
    "from socketserver import TCPServer, StreamRequestHandler\n",
    "\n",
    "class EchoHandler(StreamRequestHandler):\n",
    "    def handle(self):\n",
    "        print(\"Serving client:\", self.client_address)\n",
    "        for line in (self.rfile):\n",
    "            reply = b\"S:\" + line\n",
    "            self.wfile.write(reply)\n",
    "            \n",
    "PORT = 7071\n",
    "TCPServer.allow_reuse_address = True\n",
    "srv = TCPServer((\"\", PORT), EchoHandler)\n",
    "try:\n",
    "    srv.serve_forever()\n",
    "    print (\"Serving forever at port\", PORT)\n",
    "except:\n",
    "    print (\"Closing the server.\")\n",
    "    srv.server_close()"
   ]
  },
  {
   "cell_type": "markdown",
   "metadata": {},
   "source": [
    "Startet man obigen Server, so erhält man auf dem Klienten folgende Ein- und Ausgabe:\n",
    "<pre>\n",
    "$ nc localhost 7071\n",
    "Hallo\n",
    "S:Hallo\n",
    "Echo !\n",
    "S:Echo !\n",
    "</pre>"
   ]
  },
  {
   "cell_type": "markdown",
   "metadata": {},
   "source": [
    "Der Nachteil des gerade vorgestellten Echo-Servers liegt in der Tatsache, dass er nur einen Klienten zur gleichen Zeit bedienen kann, da der Server nur mit einem Thread läuft. \n",
    "Als Lösung bietet sich ein asynchroner Server (wie `Twisted`) an, oder man führt die  ``handle``-Methode in einem eigenen Prozess oder Thread aus. \n",
    "\n",
    "Im folgenden Beispiel wird  ``ThreadingTCPServer``  anstatt  ``TCPServer``  verwendet:"
   ]
  },
  {
   "cell_type": "code",
   "execution_count": null,
   "metadata": {},
   "outputs": [],
   "source": [
    "from socketserver import ThreadingTCPServer, StreamRequestHandler\n",
    "\n",
    "class EchoHandler(StreamRequestHandler):\n",
    "    def handle(self):\n",
    "        print(\"Serving client:\", self.client_address)\n",
    "        for line in (self.rfile):\n",
    "            reply = b\"S:\" + line\n",
    "            self.wfile.write(reply)\n",
    "            \n",
    "PORT = 7072\n",
    "ThreadingTCPServer.allow_reuse_address = True\n",
    "srv = ThreadingTCPServer((\"\", PORT), EchoHandler)\n",
    "try:\n",
    "    srv.serve_forever()\n",
    "    print (\"Serving forever at port\", PORT)\n",
    "except:\n",
    "    print (\"Closing the server.\")\n",
    "    srv.server_close()"
   ]
  },
  {
   "cell_type": "markdown",
   "metadata": {},
   "source": [
    "Randbemerkung: Der ``ThreadingTCPServer`` ist ein Beispiel für die früher erwähnten \"mix-ins\". Seine Definition ist folgende Zeile:\n",
    "```python\n",
    "class ThreadingTCPServer(ThreadingMixIn, TCPServer): pass\n",
    "\n",
    "```"
   ]
  },
  {
   "cell_type": "markdown",
   "metadata": {},
   "source": [
    "### E-Mails senden mit `smtplib.SMTP`\n",
    "\n",
    "Um E-Mails synchron zu senden, kann man die Klasse  ``SMTP``  aus dem  ``smtplib``-Modul verwenden. In folgendem Programm wird demonstriert, wie man eine E-Mail mit dem  ``email.message``-Modul zunächst komponiert und sich dann am Mailserver der LMU-Physik authentifiziert und die E-Mail über das SMTP-Protokoll (Simple Mail Transfer Protocol) an seine eigene Adresse versendet: \n",
    "[``test_send_mail.py``](source/test_send_mail.py) \n",
    "\n",
    "Das Passwort wird über die Funktion ``getpass`` zur Laufzeit des Programms eingelesen.\n",
    "\n",
    "Das SMTP stammt ursprünglich aus dem Jahr 1982 und ist sehr simpel, aber immer noch die Grundlage von allem Mailverkehr im Internet. \n",
    "Es ist so geschrieben, dass über einen kleinen Satz von einfachen Kommandos ein Mensch  interaktiv in einer Serverbindung eine Mail verfassen und verschicken kann. \n",
    "Es sieht außerdem keine Authentifizierung vor. Jeder Server kann im Prinzip an jeden anderen Server Mails schicken, ohne beweisen zu müssen, dass er dazu berechtigt ist, oder dass die Mails, die er weiterleitet, tatsächlich von den behaupteten Absendern stammen. Diese Eigenheit im Design des Protokolls ist zwar im Geiste eines freien und offenen Internets, führte aber auch zu dem riesigen Problem mit Spam-Mails, das wir heute haben."
   ]
  },
  {
   "cell_type": "markdown",
   "metadata": {},
   "source": [
    "### E-Mails lesen mit `imaplib.IMAP4`\n",
    "\n",
    "Über die  ``IMAP4_SSL``-Funktion (IMAP = Internet Message Access Protocol) des  ``imaplib``-Moduls können E-Mails von einem Server gelesen werden: [``imaplib_imap4client.py``](source/imaplib_imap4client.py)"
   ]
  }
 ],
 "metadata": {
  "@webio": {
   "lastCommId": null,
   "lastKernelId": null
  },
  "kernelspec": {
   "display_name": "Python 3.6",
   "language": "python",
   "name": "python3"
  },
  "language_info": {
   "codemirror_mode": {
    "name": "ipython",
    "version": 3
   },
   "file_extension": ".py",
   "mimetype": "text/x-python",
   "name": "python",
   "nbconvert_exporter": "python",
   "pygments_lexer": "ipython3",
   "version": "3.6.13"
  }
 },
 "nbformat": 4,
 "nbformat_minor": 3
}