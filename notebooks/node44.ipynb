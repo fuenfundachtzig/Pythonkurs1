{
 "cells": [
  {
   "cell_type": "markdown",
   "metadata": {},
   "source": [
    "[Node 44: Line Profiler](http://www-static.etp.physik.uni-muenchen.de/kurs/Computing/python2/node44.html)"
   ]
  },
  {
   "cell_type": "markdown",
   "metadata": {},
   "source": [
    "Navigation:\n",
    "\n",
    "**Next:** [Profiling in IPython](node45.ipynb) **Up:** [Profiling von Programmen](node40.ipynb) **Previous:** [Eingebauter Profiler](node43.ipynb)"
   ]
  },
  {
   "cell_type": "markdown",
   "metadata": {},
   "source": [
    "##  Line Profiler\n",
    "Der [`line_profiler`](https://pypi.org/project/line-profiler/) ermöglicht das zeilenweise Profiling eines Programms und ist damit ein sehr mächtiges aber auch langsames Hilfsmittel. Zunächst muss das Paket `line_profiler` lokal installiert werden:\n",
    "```bash\n",
    "pip install line_profiler\n",
    "```\n",
    "(Dies benötigt `cython`.)"
   ]
  },
  {
   "cell_type": "markdown",
   "metadata": {},
   "source": [
    " Nun soll folgendes Skript mit dem `line_profiler` ausgeführt werden:"
   ]
  },
  {
   "cell_type": "markdown",
   "metadata": {},
   "source": [
    "```python\n",
    "import numpy as np\n",
    "import numpy.random as rdn\n",
    "\n",
    "# für line_profiler Kommentierung herausnehmen\n",
    "@profile\n",
    "def test():\n",
    "    a = rdn.randn(100000)\n",
    "    b = rdn.randn(100000)\n",
    "    c = a * b\n",
    "test()\n",
    "```"
   ]
  },
  {
   "cell_type": "markdown",
   "metadata": {},
   "source": [
    "Die zu untersuchende Funktion wird mit dem decorator   <font color=#0000e6> ``@profile``</font>  versehen und anschließende folgender Befehl ausgeführt:\n",
    "```bash\n",
    "kernprof -l myscript.py\n",
    "```"
   ]
  },
  {
   "cell_type": "markdown",
   "metadata": {},
   "source": [
    "`kernprof` erzeugt eine Instanz von LineProfiler und kann dann mit dem  Dekorierer   <font color=#0000e6> ``@profile``</font>  aufgerufen werden. Per default wird eine `.lprof`-Datei erzeugt, die anschließend mit folgendem Befehl angezeigt werden kann:\n",
    "```bash\n",
    "python3 -m line_profiler myscript.py.lprof\n",
    "```"
   ]
  },
  {
   "cell_type": "markdown",
   "metadata": {},
   "source": [
    "Alternativ kann auch direkt beim `kernprof`-Aufruf die zusätzliche Option   <font color=#0000e6> ``-v``</font>  verwendet werden, um direkt folgendes Ergebnis zu erhalten:\n",
    "<pre>\n",
    "Wrote profile results to myscript.py.lprof\n",
    "Timer unit: 1e-06 s\n",
    "\n",
    "Total time: 0.008457 s\n",
    "File: myscript.py\n",
    "Function: test at line 5\n",
    "\n",
    "Line #      Hits         Time  Per Hit   % Time  Line Contents\n",
    "==============================================================\n",
    "     5                                           @profile\n",
    "     6                                           def test():\n",
    "     7         1       4139.0   4139.0     48.9      a = rdn.randn(100000)\n",
    "     8         1       4115.0   4115.0     48.7      b = rdn.randn(100000)\n",
    "     9         1        203.0    203.0      2.4      c = a * b\n",
    "</pre>"
   ]
  }
 ],
 "metadata": {
  "kernelspec": {
   "display_name": "Python 3.6",
   "language": "python",
   "name": "python3"
  },
  "language_info": {
   "codemirror_mode": {
    "name": "ipython",
    "version": 3
   },
   "file_extension": ".py",
   "mimetype": "text/x-python",
   "name": "python",
   "nbconvert_exporter": "python",
   "pygments_lexer": "ipython3",
   "version": "3.6.13"
  }
 },
 "nbformat": 4,
 "nbformat_minor": 3
}