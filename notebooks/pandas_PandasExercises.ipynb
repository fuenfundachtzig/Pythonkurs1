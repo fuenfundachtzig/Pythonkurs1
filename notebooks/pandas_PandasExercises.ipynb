{
 "cells": [
  {
   "cell_type": "markdown",
   "metadata": {},
   "source": [
    "## Exercises for Pandas\n",
    "\n",
    "### Notebook examples\n",
    "* Check in detail the examples presented\n",
    "  * Vary methods, outputs, plots, ...\n",
    "  \n",
    "  \n",
    "### Titanic Data with Pandas\n",
    "Using Pandas-IO, Dataframes and the groupby Function the analysis of survival rates by class and sex is rather straightforward ...\n",
    "\n",
    "Solution: [pd_titanic.py](http://www-static.etp.physik.uni-muenchen.de/kurs/Computing/python2/source/pd_titanic.py)\n",
    "\n",
    "### Weather Data\n",
    "* Investigate other variables or aggregations, e.g. variance of Temperatur, Sonnenschein (daily sun-shine), Schneehöhe (Snow-height), Number of days with  snow, ...\n",
    "* Last night (Feb 26, 2018) was reportedly the coldest night of this winter with -27 degree. Check in the Zugspitze data for yearly minimum temperature. How often has it been colder?\n",
    "* Take data from other weather stations ([DWD Archiv](https://www.dwd.de/DE/leistungen/klimadatendeutschland/klarchivtagmonat.html), i.e. Hohenpeißenberg, Helgoland, ...)\n",
    "\n",
    " \n",
    "### Football results\n",
    " \n",
    "Based on article in  iX Nov/Dec 2015, data source at http://www.football-data.co.uk/mmz4281/1516/D1.csv\n",
    "\n"
   ]
  },
  {
   "cell_type": "code",
   "execution_count": null,
   "metadata": {},
   "outputs": [],
   "source": [
    "import numpy as np\n",
    "import pandas as pd\n",
    "import matplotlib.pyplot as plt\n",
    "# direct read from url\n",
    "data = pd.read_csv('http://www-static.etp.physik.uni-muenchen.de/kurs/Computing/sw/source/D1s.csv')\n",
    "#data = pd.read_csv('http://www-static.etp.physik.uni-muenchen.de/kurs/Computing/sw/source/D1s.csv',parse_dates=['Date'])\n",
    "# data = pd.read_csv('D1s.csv')\n",
    "data.info();"
   ]
  },
  {
   "cell_type": "code",
   "execution_count": null,
   "metadata": {},
   "outputs": [],
   "source": [
    "# convert date-string to real date (watch out with day/month order)\n",
    "data['Date'] = pd.to_datetime(data.Date,dayfirst=True)\n",
    "data.info()"
   ]
  },
  {
   "cell_type": "code",
   "execution_count": null,
   "metadata": {},
   "outputs": [],
   "source": [
    "# use date as index\n",
    "#data.set_index('Date', inplace=True)\n",
    "#data.info()\n",
    "# doesn't work because many same-date entries\n"
   ]
  },
  {
   "cell_type": "code",
   "execution_count": null,
   "metadata": {},
   "outputs": [],
   "source": [
    "data.head()"
   ]
  },
  {
   "cell_type": "markdown",
   "metadata": {},
   "source": [
    "#### Some examples how to explore the data"
   ]
  },
  {
   "cell_type": "code",
   "execution_count": null,
   "metadata": {
    "scrolled": true
   },
   "outputs": [],
   "source": [
    "#\n",
    "\n",
    "# matches with > 3 Auswaertstore\n",
    "data[data.ATore>3]\n",
    "# die meisten Auswaertstore\n",
    "print(data.ATore.max())\n",
    "#...\n",
    "# Eintrag fuer meiste Auswaertstore\n",
    "print(data[data.ATore==data.ATore.max()])\n",
    "#...\n",
    "\n",
    "# Heimsiege fuer Mainz\n",
    "print(data[(data.Heim=='Mainz') & (data.HTore>data.ATore)].count())\n",
    "#...\n",
    "# Mittelwe(t Heimtore\n",
    "print(data.groupby('Heim')['HTore'].mean())\n",
    "#...\n",
    "# Heimtore Verlauf fuer Stuttgart\n",
    "data.HTore[data.Heim=='Stuttgart'].cumsum().plot()\n",
    "\n",
    "# Tordifferenz zufuegen\n",
    "data['TDiff']=np.abs(data.HTore-data.ATore)\n"
   ]
  },
  {
   "cell_type": "code",
   "execution_count": null,
   "metadata": {},
   "outputs": [],
   "source": [
    "# Heimtore Verlauf fuer Stuttgart vs Date\n",
    "dh = data[data.Heim=='Stuttgart'].copy()\n",
    "dh['cs'] = dh.HTore.cumsum()\n",
    "dh.plot('Date','cs');\n",
    "#\n",
    "#dh['Date'] = pd.to_datetime(dh.Date, format='%D/%m/%Y', errors='ignore')\n",
    "#dh.index = dh.Date\n",
    "#dh.plot('Date','cs')\n",
    "#dh.cs.plot()"
   ]
  },
  {
   "cell_type": "markdown",
   "metadata": {},
   "source": [
    "#### A few more things to check:\n",
    "* which match had most Heimtore, which the largest Tordifferenz?\n",
    "\n",
    "* Make plot of season distribution for Heim und Auswärtstore for your favorite team.\n",
    "\n",
    "* *For statistics experts:* Determine the distribution of the number of goals per match, i.e. how often occur how many goals, does it follow the Poisson statistics?\n"
   ]
  },
  {
   "cell_type": "code",
   "execution_count": null,
   "metadata": {},
   "outputs": [],
   "source": []
  }
 ],
 "metadata": {
  "anaconda-cloud": {},
  "kernelspec": {
   "display_name": "Python 3",
   "language": "python",
   "name": "python3"
  },
  "language_info": {
   "codemirror_mode": {
    "name": "ipython",
    "version": 3
   },
   "file_extension": ".py",
   "mimetype": "text/x-python",
   "name": "python",
   "nbconvert_exporter": "python",
   "pygments_lexer": "ipython3",
   "version": "3.8.5"
  },
  "toc": {
   "base_numbering": 1,
   "nav_menu": {},
   "number_sections": true,
   "sideBar": true,
   "skip_h1_title": false,
   "title_cell": "Table of Contents",
   "title_sidebar": "Contents",
   "toc_cell": false,
   "toc_position": {},
   "toc_section_display": true,
   "toc_window_display": false
  }
 },
 "nbformat": 4,
 "nbformat_minor": 1
}
