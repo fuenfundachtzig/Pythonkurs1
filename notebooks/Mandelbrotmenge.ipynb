{
 "cells": [
  {
   "cell_type": "markdown",
   "metadata": {},
   "source": [
    "## Showcase Mandelbrot Plot\n",
    "\n",
    "#### 1st version : python loops and lists####"
   ]
  },
  {
   "cell_type": "code",
   "execution_count": null,
   "metadata": {},
   "outputs": [],
   "source": [
    "%matplotlib inline\n",
    "import numpy as np\n",
    "import matplotlib.pyplot as plt"
   ]
  },
  {
   "cell_type": "code",
   "execution_count": null,
   "metadata": {},
   "outputs": [],
   "source": [
    "# Plot of Mandelbrot Set\n",
    "# naive version with standard python loop and lists\n",
    "# iteration limit for mandelbrot convergence\n",
    "max_iter = 100\n",
    "\n",
    "# dimension of plot\n",
    "h = 400\n",
    "w = 400\n",
    "\n",
    "# x range and step\n",
    "xlow = -1.5\n",
    "xhi = 0.5\n",
    "xstep = (xhi-xlow)/w\n",
    "\n",
    "# y range and step\n",
    "ylow = -1.\n",
    "yhi = 1.\n",
    "ystep = (yhi-ylow)/h\n",
    "\n",
    "img = [] # empyt list\n",
    "y = ylow\n",
    "for i in range(h):\n",
    "    x=xlow\n",
    "    imgx = w*[0] # pixel column\n",
    "    for j in range(w):\n",
    "        c = complex( x, y)\n",
    "        z = complex( 0, 0)\n",
    "        for k in range(max_iter):\n",
    "            # mandelbrot algorithm\n",
    "            z = z*z + c \n",
    "            if (abs(z) > 2.):\n",
    "                break\n",
    "        imgx[j] = k # use #-iterations as pixel value\n",
    "        x += xstep\n",
    "    img.append(imgx)\n",
    "    y += ystep\n",
    "    \n",
    "plt.imshow(img)\n",
    "#plt.imshow(img, cmap=plt.cm.jet)\n",
    "pass"
   ]
  },
  {
   "cell_type": "markdown",
   "metadata": {},
   "source": [
    "#### 2nd version : use numpy array features and list-tools ####"
   ]
  },
  {
   "cell_type": "code",
   "execution_count": null,
   "metadata": {},
   "outputs": [],
   "source": [
    "list(enumerate(range(10,1,-1)))"
   ]
  },
  {
   "cell_type": "code",
   "execution_count": null,
   "metadata": {},
   "outputs": [],
   "source": [
    "max_iter = 100\n",
    "h, w = 400, 400\n",
    "\n",
    "img = np.zeros((h, w)).astype('int')\n",
    "for i, real in enumerate(np.linspace(-1.5, 0.5, w)):\n",
    "    for j, imag in enumerate(np.linspace(-1, 1, h)):\n",
    "        c = complex(real, imag)\n",
    "        z = 0 + 0j\n",
    "        for k in range(max_iter):\n",
    "            z = z*z + c\n",
    "            if abs(z) > 2:\n",
    "                break\n",
    "        img[j, i] = k\n",
    "\n",
    "plt.grid(False)\n",
    "plt.imshow(img, cmap=plt.cm.jet)\n",
    "pass"
   ]
  },
  {
   "cell_type": "markdown",
   "metadata": {},
   "source": [
    "#### 3rd version : split into functions --> re-usable####"
   ]
  },
  {
   "cell_type": "code",
   "execution_count": null,
   "metadata": {},
   "outputs": [],
   "source": [
    "def mandel(c, z=0, max_iter=100):\n",
    "    for k in range(max_iter):\n",
    "        z = z*z + c\n",
    "        if abs(z) > 2:\n",
    "            return k\n",
    "    return k"
   ]
  },
  {
   "cell_type": "code",
   "execution_count": null,
   "metadata": {},
   "outputs": [],
   "source": [
    "def mandelbrot(w, h, xl=-1.5, xu=0.5, yl=-1, yu=1):\n",
    "    img = np.zeros((h, w)).astype('int')\n",
    "    for i, real in enumerate(np.linspace(xl, xu, w)):\n",
    "        for j, imag in enumerate(np.linspace(yl, yu, h)):\n",
    "            c = complex(real, imag)\n",
    "            img[j, i] = mandel(c)\n",
    "    return img"
   ]
  },
  {
   "cell_type": "code",
   "execution_count": null,
   "metadata": {},
   "outputs": [],
   "source": [
    "img = mandelbrot(w=400, h=400)\n",
    "plt.grid(False)\n",
    "plt.imshow(img, cmap=plt.cm.jet)\n",
    "pass"
   ]
  },
  {
   "cell_type": "code",
   "execution_count": null,
   "metadata": {},
   "outputs": [],
   "source": [
    "img[:,0]"
   ]
  },
  {
   "cell_type": "code",
   "execution_count": null,
   "metadata": {},
   "outputs": [],
   "source": [
    "lims=[-0.75,-0.74,0.1,0.11]\n",
    "img = mandelbrot(w=400, h=400, xl=-0.749, xu=-0.748, yl=0.106, yu=0.107)\n",
    "#img = mandelbrot(400, 400, *range)\n",
    "plt.grid(False)\n",
    "plt.imshow(img, cmap=plt.cm.jet,extent=[-0.749,-0.748,0.106,0.107],origin='lower')\n",
    "pass"
   ]
  },
  {
   "cell_type": "code",
   "execution_count": null,
   "metadata": {},
   "outputs": [],
   "source": []
  }
 ],
 "metadata": {
  "@webio": {
   "lastCommId": null,
   "lastKernelId": null
  },
  "kernelspec": {
   "display_name": "Python 3.6",
   "language": "python",
   "name": "python3"
  },
  "language_info": {
   "codemirror_mode": {
    "name": "ipython",
    "version": 3
   },
   "file_extension": ".py",
   "mimetype": "text/x-python",
   "name": "python",
   "nbconvert_exporter": "python",
   "pygments_lexer": "ipython3",
   "version": "3.6.13"
  }
 },
 "nbformat": 4,
 "nbformat_minor": 1
}