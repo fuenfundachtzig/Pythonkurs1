{
 "cells": [
  {
   "cell_type": "markdown",
   "metadata": {},
   "source": [
    "[Node 32: Software Engineering Modelle](http://www-static.etp.physik.uni-muenchen.de/kurs/Computing/python2/node32.html)"
   ]
  },
  {
   "cell_type": "markdown",
   "metadata": {},
   "source": [
    "Navigation:\n",
    "\n",
    "[](node33.ipynb)[](node23.ipynb)[](node31.ipynb)\n",
    "\n",
    " **Next:** [Code&Fix – ein Beispiel](node33.ipynb) **Up:** [Objektorientiertes Programmieren – Allgemeines](node23.ipynb) **Previous:** [Software Engineering](node31.ipynb)"
   ]
  },
  {
   "cell_type": "markdown",
   "metadata": {},
   "source": [
    "##  Software-Engineering-Modelle\n",
    "\n",
    "Vielfalt von Methoden im Einsatz, kein bestimmtes Verfahren konnte sich allgemein durchsetzen. \n",
    "\n",
    "* **Code&Fix**\n",
    "    * Einfach drauflos,  Trial and Error. Nicht wirklich ein Modell, aber De-facto-Standard in vielen Bereichen.  \n",
    "        * Vorteil: Sehr flexible, schnelle Entwicklung \n",
    "        * Nachteil: Schwer zu pflegen und weiterzuentwickeln über längere Perioden  \n",
    "    * OK für kleine, überschaubare Projekte (sowohl Code-Umfang (1 kloc) als auch  beteiligte Personen (1-3) als auch Lebensdauer (Monate–Jahr)  \n",
    "* **Wasserfall Modell**\n",
    "    * lineare Design–Implementierung-Sequenz\n",
    "* **RUP** Rational Unified Process, Design mit UML, iterativ,  d.h. Zyklen von Design – Implementierung.  “Schwergewichtiges Modell”, viel Aufwand und Erfahrung nötig, lange Design-Phasen \n",
    "* **Agile Methoden**\n",
    "    * XP, RAD, Scrum, ... Konträrer Ansatz, kurze Zyklen, schnelle Implementierung, Änderungen nicht Ausnahme sondern Regel, inkrementelles Umsetzen der Spezifikationen nach  Prioritäten, lauffähige Zwischenprodukte.  \n",
    "    * Erst detaillierte Testsuite definieren, dann Erstellen des eigentlichen Programms.  Testsuite integraler Bestandteil der Software, wird bei jeder Änderung ausgeführt. $\\Rightarrow$ <font color=#008000> *Sehr nützlicher Ansatz auch für kleine Projekte und Teams !*</font>  <font color=#008000> *(Nightly builds)*</font>  \n",
    "* **noch viele weitere Varianten, Alternativen, ...** "
   ]
  },
  {
   "cell_type": "markdown",
   "metadata": {},
   "source": [
    "**Wasserfall-Modell** \n",
    "\n",
    "<table><tr>\n",
    "    <td><img src=\"figures/wasserfallkonzept.svg\" /></td>\n",
    "    <td><img src=\"figures/Wasserfall.jpg\" /> </td>\n",
    "</tr></table>\n",
    "\n",
    "<font color=#ff0000> **Einzelner Durchlauf !**</font> \n",
    "\n",
    "---\n",
    "\n",
    "<font color=#0000ff> **Wasserfall-Modell**</font>  entwickelt von US-Militär in den  60ern für große Programmierprojekte, analog zu Vorgehen in klassischen Ingenieur–Disziplinen.\n",
    "\n",
    "Entscheidende Voraussetzungen:  \n",
    "* Detailliertes Verständnis aller Probleme im Vorhinein \n",
    "* Stabile Umgebung, keine neuen Anforderungen während der Nutzung  \n",
    "\n",
    "Änderungen später sind sehr schwierig, genauso Wiederverwendung und Erweiterung. \n",
    "\n",
    "<font color=#0000ff> **Software-Entwicklung $\\ne$ Brückenbau**</font> :  \n",
    "* Nutzeranforderungen ändern sich \n",
    "* Umgebung, Tools, Services ändern sich \n",
    "* ... \n",
    "\n",
    "---\n",
    "\n",
    "**XP – Extreme Programming**  \n",
    "\n",
    "Beinhaltet 2 wesentliche Konzepte  \n",
    "* Tests sind zentraler Bestandteil der Entwicklung:   <font color=#0000ff> **“write tests first”**</font>. D.h. bevor Klassen und Funktionen konkret implementiert werden, entwickelt man erst die Tests,  die diese Klassen und Funktionen erfüllen müssen. $\\Rightarrow$ Tests als Detailspezifikation.   \n",
    "  Diese Tests sind Teil des Entwicklungspakets und werden bei jeder Änderung und  Neu–Übersetzung ausgeführt   <font color=#008000> *(nightly builds)*</font>, dadurch werden Fehler und Probleme bei  Weiterentwicklung schnell erkannt.  \n",
    "*  <font color=#0000ff> **Pair programming:**</font>  Entwicklung nicht als Einzelkämpfer sondern als 2er Team: Einer schreibt den Code, der andere denkt darüber nach, entwirft Tests, behält die großen Ziele im Auge, etc. Die Rollen werden abgewechselt.   \n",
    "\n",
    "Zumindest das Einbeziehen von Tests in die Entwicklung lässt sich auch bei kleinen Projekten  ohne weiteres anwenden, erfordert allerdings entsprechende Disziplin.  "
   ]
  }
 ],
 "metadata": {
  "kernelspec": {
   "display_name": "Python 3",
   "language": "python",
   "name": "python3"
  },
  "language_info": {
   "codemirror_mode": {
    "name": "ipython",
    "version": 3
   },
   "file_extension": ".py",
   "mimetype": "text/x-python",
   "name": "python",
   "nbconvert_exporter": "python",
   "pygments_lexer": "ipython3",
   "version": "3.6.9"
  }
 },
 "nbformat": 4,
 "nbformat_minor": 3
}