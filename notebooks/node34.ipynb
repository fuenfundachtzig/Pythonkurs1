{
 "cells": [
  {
   "cell_type": "markdown",
   "metadata": {},
   "source": [
    "[Node 34: Grundlegende (Objekt–Orientierte) Design – Prinzipien](http://www-static.etp.physik.uni-muenchen.de/kurs/Computing/python2/node34.html)"
   ]
  },
  {
   "cell_type": "markdown",
   "metadata": {},
   "source": [
    "Navigation:\n",
    "\n",
    "**Next:** [Aufgaben](node35.ipynb) **Up:** [Objektorientiertes Programmieren – Allgemeines](node23.ipynb) **Previous:** [Code&Fix – ein Beispiel](node33.ipynb)"
   ]
  },
  {
   "cell_type": "markdown",
   "metadata": {},
   "source": [
    "##  Grundlegende (Objekt–Orientierte) Design–Prinzipien\n",
    "\n",
    "Es gibt eine Reihe wichtiger Grundprinzipien, die man beim  Design von objektorientierten Programmen beachten sollte.\n",
    "\n",
    "Zentraler Punkt:   <font color=#0000ff> **Abhängigkeiten minimieren**</font>  \n",
    "\n",
    "<font color=#008000> *Object-oriented programming’s most important benefit is that it lets us reduce software complexity by managing code interdependencies. (Herb Sutter, Exceptional C++)*</font> \n",
    "\n",
    "---\n",
    "\n",
    "In der Literatur werden die wichtigen Designprinzipien mit mehr oder weniger griffigen Akronymen  aufgeführt ... hier nur 3 Beispiele:   \n",
    "\n",
    "**KISS**  <font color=#008000> \n",
    "    *Keep It Simple, Stupid*</font> \n",
    "* Allgemeines Grundprinzip,  Programmieren (insbesondere in C++) ist schon schwierig genug.  \n",
    "    * Abhängigkeiten minimieren \n",
    "    * Programmstruktur simpel halten \n",
    "    * Standard Komponenten verwenden \n",
    "    * ... \n",
    "    \n",
    "**DRY** \n",
    "    <font color=#008000> *Don't Repeat Yourself*</font> \n",
    "*  Komponenten sollten eindeutig und klar erkennbar genau einmal vorhanden sein.  \n",
    "* Keine mehrfachen,  leicht unterschiedlichen Variationen  \n",
    "*  <font color=#008000> *Gegensatz = WET – Write Everything Twice*</font>  \n",
    "\n",
    "**SRP**  <font color=#008000> \n",
    "        *Single Responsibilty Principle*</font> \n",
    "* Klasse bzw. Funktion soll genau eine wohl-definierte Aufgabe haben.\n",
    "* Siehe auch Beispiel   <font color=#0000e6> ``copy``</font>  Funktion.  \n",
    "\n",
    "---\n",
    "\n",
    "![Image wtfm](figures/wtfm.jpg \"Image wtfm\")\n",
    "\n",
    "---"
   ]
  }
 ],
 "metadata": {
  "kernelspec": {
   "display_name": "Python 3",
   "language": "python",
   "name": "python3"
  },
  "language_info": {
   "codemirror_mode": {
    "name": "ipython",
    "version": 3
   },
   "file_extension": ".py",
   "mimetype": "text/x-python",
   "name": "python",
   "nbconvert_exporter": "python",
   "pygments_lexer": "ipython3",
   "version": "3.6.9"
  }
 },
 "nbformat": 4,
 "nbformat_minor": 3
}