{
 "cells": [
  {
   "cell_type": "markdown",
   "metadata": {},
   "source": [
    "[Node 69: Web-Framework Django](http://www-static.etp.physik.uni-muenchen.de/kurs/Computing/python2/node69.html)"
   ]
  },
  {
   "cell_type": "markdown",
   "metadata": {},
   "source": [
    "Navigation:\n",
    "\n",
    "**Next:** [Aufgaben](node70.ipynb) **Up:** [Web-Programmierung und Django](node67.ipynb) **Previous:** [Web-Programmierung](node68.ipynb)"
   ]
  },
  {
   "cell_type": "markdown",
   "metadata": {},
   "source": [
    "##  Web-Framework Django\n",
    "\n",
    "Web-Frameworks fassen mehrere Komponenten zusammen:  \n",
    "* integrierter WSGI-kompatibler Webserver \n",
    "* Templating-System (Text- oder XML-basiert) \n",
    "* Anbindung an eine Datenbank  \n",
    "\n",
    "Django ist ein sogenanntes \"leichtes\" Web-Framework. Eine Django-Webseite besteht aus einem Django-Projekt, das in der Regel aus mehreren Applikationen besteht. Eine Applikation besteht dabei aus 3 Komponenten:  \n",
    "* Modelle: objektorientierte Repr\u0000sentation der persistenten Daten der Anwendung \n",
    "* Views: Controller, die Modelle abfragen und Daten mit Hilfe von Templates generieren. Templates bestimmen das Aussehen der Webseite. \n",
    "* URL-Mappings: Abbildungen von Teil-URLs auf einzelne Views\n",
    "\n",
    "![Image architecture](figures/architecture.png \"Image architecture\")\n",
    "\n",
    "### Model-Template-View  \n",
    "*  <font color=#0000ff> **Models :**</font>  What things are \n",
    "*  <font color=#0000ff> **Views :**</font>  How things are processed \n",
    "*  <font color=#0000ff> **Templates :**</font>  How things are presented  "
   ]
  },
  {
   "cell_type": "markdown",
   "metadata": {},
   "source": [
    "### Ein Wiki-Service in Django\n",
    "\n",
    "Als Beispiel für eine Django Applikation erstellen wir im folgenden Schritt für Schritt einen einfachen [Wiki-Service](https://de.wikipedia.org/wiki/Wiki). Da die Schritte aufeinander aufbauen, gibt es ein [git-Repositorium](https://github.com/fuenfundachtzig/PythonkursDjango), das die folgenden Schritte repräsentiert."
   ]
  },
  {
   "cell_type": "markdown",
   "metadata": {},
   "source": [
    "Wir beginnen damit, ein neues Django-Projekt aufzusetzen. (Django muss dafür installiert sein.)\n",
    "```bash\n",
    "cd $HOME\n",
    "mkdir djangoprojs\n",
    "cd djangoprojs\n",
    "django-admin startproject wikicamp\n",
    "```"
   ]
  },
  {
   "cell_type": "markdown",
   "metadata": {},
   "source": [
    "Es werden mehrere Dateien erzeugt:\n",
    "```bash\n",
    "laptop:~/djangoprojs$ cd wikicamp/\n",
    "laptop:~/djangoprojs/wikicamp$ ls\n",
    "manage.py wikicamp\n",
    "```"
   ]
  },
  {
   "cell_type": "markdown",
   "metadata": {},
   "source": [
    "(An dieser Stelle wäre [git-commit 1](https://github.com/fuenfundachtzig/PythonkursDjango/commit/713471c4292c035970a7c8b2a794cc70ca34e672).)"
   ]
  },
  {
   "cell_type": "markdown",
   "metadata": {},
   "source": [
    "Um die Datenbank anzulegen, verwenden wir\n",
    "```bash\n",
    "python3 manage.py migrate\n",
    "```"
   ]
  },
  {
   "cell_type": "markdown",
   "metadata": {},
   "source": [
    "Starten Sie den Entwicklungsserver auf Port 9090 mit:\n",
    "```bash\n",
    "python3 manage.py runserver 9090\n",
    "```\n",
    "und öffnen Sie in einem Webbrowser folgende Adresse: http://localhost:9090/"
   ]
  },
  {
   "cell_type": "markdown",
   "metadata": {},
   "source": [
    "---\n",
    "Da passiert noch nicht viel, man muss erstmal noch die Applikations-Templates anlegen mit:\n",
    "```bash\n",
    "laptop:~/djangoprojs/wikicamp$ python3 manage.py startapp wiki\n",
    "laptop:~/djangoprojs/wikicamp$ ls\n",
    "manage.py wikicamp wiki\n",
    "```\n",
    "\n",
    "(Git: commit 2)"
   ]
  },
  {
   "cell_type": "markdown",
   "metadata": {},
   "source": [
    "Editieren Sie   <font color=#0000e6>wikicamp/settings.py</font>  und ändern Sie folgende Zeilen - damit definieren wir die verwendeten  Applikationen bzw. Django-Module:\n",
    "```python\n",
    "....\n",
    "TIME_ZONE = 'Europe/Berlin'\n",
    "....\n",
    "INSTALLED_APPS = (\n",
    "    ...\n",
    "    'wiki',\n",
    ")\n",
    "```"
   ]
  },
  {
   "cell_type": "markdown",
   "metadata": {},
   "source": [
    "Editieren Sie die Datei   <font color=#0000e6>wiki/models.py</font> :\n",
    "```python\n",
    "from django.db import models\n",
    "# Create your models here.                                                      \n",
    "class Page(models.Model):\n",
    "    name = models.CharField(max_length=20, primary_key=True)\n",
    "    content = models.TextField(blank=True)\n",
    "```"
   ]
  },
  {
   "cell_type": "markdown",
   "metadata": {},
   "source": [
    "Führen Sie folgenden Befehle aus:\n",
    "```bash\n",
    "python3 manage.py makemigrations\n",
    "python3 manage.py migrate\n",
    "```"
   ]
  },
  {
   "cell_type": "markdown",
   "metadata": {},
   "source": [
    "Starten Sie den Django Server erneut:\n",
    "```bash\n",
    "laptop:~/djangoprojs/wikicamp$ python manage.py runserver 9090\n",
    "```"
   ]
  },
  {
   "cell_type": "markdown",
   "metadata": {},
   "source": [
    "Öffnen Sie die Datei   <font color=#0000e6>wikicamp/urls.py</font>  und definieren Sie eine URL-Abbildung:\n",
    "```python\n",
    "...\n",
    "    path('admin/', admin.site.urls),\n",
    "    re_path(r'^wikicamp/(?P<page_name>[^/]+)/edit/$','wiki.views.edit_page'),\n",
    "```"
   ]
  },
  {
   "cell_type": "markdown",
   "metadata": {},
   "source": [
    "---\n",
    "Den \"view\" erzeugen wir nun, indem  wir die Datei  <font color=#0000e6>wiki/views.py</font> editieren:\n",
    "```python\n",
    "# Create your views here.\n",
    "from wiki.models import Page\n",
    "from django.shortcuts import render_to_response\n",
    "from django.template.context_processors import csrf # https://docs.djangoproject.com/en/3.0/ref/csrf/\n",
    "def view_page(request, page_name):\n",
    "    try:\n",
    "        page = Page.objects.get(pk=page_name)\n",
    "        # need to add response later        \n",
    "    except Page.DoesNotExist:\n",
    "        c = {\"page_name\": page_name}\n",
    "        c.update(csrf(request))\n",
    "        return render_to_response(\"create.html\", c)\n",
    "```"
   ]
  },
  {
   "cell_type": "markdown",
   "metadata": {},
   "source": [
    "Ein erneuter Aufruf der URL   <font color=#0000e6>http://localhost:9090/wikicamp/Start/</font>  liefert einen neuen Fehler:   <font color=#ff0000> **'TemplateDoesNotExist at /wikicamp/Start/ create.html'**</font>  \n",
    "\n",
    "Dieses Template erzeugen wir nun. Erzeugen Sie das Unterverzeichnis    <font color=#0000e6>djangoprojs/wikicamp/templates</font>  und tragen Sie in   <font color=#0000e6>wikicamp/settings.py</font>   folgende Zeile ein:\n",
    "```python\n",
    "TEMPLATES = [\n",
    "    {\n",
    "        'BACKEND': 'django.template.backends.django.DjangoTemplates',\n",
    "        'DIRS': ['templates'],\n",
    ")\n",
    "```"
   ]
  },
  {
   "cell_type": "markdown",
   "metadata": {},
   "source": [
    "Erzeugen Sie die Datei   <font color=#0000e6>templates/create.html</font>  mit folgendem Inhalt:\n",
    "```html\n",
    "  <head>\n",
    "    <title>{{page_name}} - Create</title>\n",
    "  </head>\n",
    "  <body>\n",
    "    <h1>{{page_name}}</h1>\n",
    "    This page does not exist. <a href=\"/wikicamp/{{page_name}}/edit/\">Create?</a>\n",
    "  </body>\n",
    "```"
   ]
  },
  {
   "cell_type": "markdown",
   "metadata": {},
   "source": [
    "(Git: commit 3)\n",
    "\n",
    "---\n",
    "\n",
    "Ein erneuter Aufruf der URL   <font color=#0000e6>http://localhost:9090/wikicamp/Start/</font>  liefert nun eine korrekte HTML Seite. Wenn der   <font color=#008000> *Create*</font>-Link geklickt wird, erhält man eine Fehlermeldung über die fehlende Seite (404).\n",
    "\n",
    "Diese fügen wir nun in   <font color=#0000e6>wiki/views.py</font>  hinzu:\n",
    "```python\n",
    "def edit_page(request, page_name):\n",
    "    try:\n",
    "        page = Page.objects.get(pk=page_name)\n",
    "        content\t= page.content\n",
    "    except Page.DoesNotExist:\n",
    "        content = \"\"\n",
    "    c = {\"page_name\": page_name, \"content\":content}   \n",
    "    c.update(csrf(request))\n",
    "    return render_to_response(\"edit.html\", c)\n",
    "```"
   ]
  },
  {
   "cell_type": "markdown",
   "metadata": {},
   "source": [
    "und in wiki/urls.py</font> :\n",
    "```python\n",
    "    re_path(r'^wikicamp/(?P[^/]+)/edit/$', views.edit_page),\n",
    "    re_path(r'^wikicamp/(?P[^/]+)/save/$', views.save_page)\n",
    "```"
   ]
  },
  {
   "cell_type": "markdown",
   "metadata": {},
   "source": [
    "Ein erneuter Aufruf von   <font color=#0000e6>http://localhost:9090/wikicamp/Start/edit</font>  liefert eine Fehlermeldung, dass das  Template noch nicht existiert:   <font color=#ff0000> **TemplateDoesNotExist at /wikicamp/Start/edit/**</font>  \n",
    " \n",
    "Wir legen nun das Template   <font color=#0000e6>templates/edit.html</font>  an:\n",
    "```html\n",
    "  <head>\n",
    "    <title>{{page_name}} - Editing</title>\n",
    "  </head>\n",
    "  <body>\n",
    "    <h1>Editing {{page_name}}</h1>\n",
    "    <form method=\"post\" action=\"/wikicamp/{{page_name}}/save/\">\n",
    "       {% csrf_token %}\n",
    "          <textarea name=\"content\" rows=\"20\" cols=\"60\">{{content}}</textarea><br/>\n",
    "          <input type=\"submit\" values=\"Save Page\"/>\n",
    "    </form>\n",
    "  </body>\n",
    "```"
   ]
  },
  {
   "cell_type": "markdown",
   "metadata": {},
   "source": [
    "Zum Speichern des Textfeld-Inhalts definieren wir nun die Methode   <font color=#008000> *save_page()*</font>  in   <font color=#0000e6>wiki/views.py</font>\n",
    "```python\n",
    "....\n",
    "from django.http import HttpResponseRedirect\n",
    "def save_page(request, page_name):\n",
    "    content = request.POST[\"content\"]\n",
    "    try:\n",
    "        page = Page.objects.get(pk=page_name)\n",
    "        page.content = content\n",
    "    except Page.DoesNotExist:\n",
    "        page = Page(name=page_name, content=content)\n",
    "    page.save()\n",
    "    return HttpResponseRedirect(\"/wikicamp/\"+ page_name + \"/\")\n",
    "```"
   ]
  },
  {
   "cell_type": "markdown",
   "metadata": {},
   "source": [
    "Jetzt können Seiten angelegt, aber noch nicht angezeigt werden.\n",
    "(Es gäbe einen Fehler `ValueError: The view wiki.views.view_page didn't return an HttpResponse object. It returned None instead`.) Deshalb komplettieren wir die   <font color=#008000> *view_page()*</font>  Methode:\n",
    "```python\n",
    "...\n",
    "def view_page(request, page_name):\n",
    "    try:\n",
    "        page = Page.objects.get(pk=page_name)\n",
    "        content = page.content\n",
    "        c = {\"page_name\": page_name, \"content\":content}\n",
    "        c.update(csrf(request))\n",
    "        return render_to_response(\"view.html\", c)\n",
    "    except Page.DoesNotExist:\n",
    "        c = {\"page_name\": page_name}\n",
    "        c.update(csrf(request))\n",
    "        return render_to_response(\"create.html\", c)\n",
    "...\n",
    "```"
   ]
  },
  {
   "cell_type": "markdown",
   "metadata": {},
   "source": [
    "mit dem dazugehörigen Template  <font color=#0000e6>templates/view.html</font>  mit folgendem Inhalt:\n",
    "```html\n",
    "  <head>\n",
    "    <title>{{page_name}}</title>\n",
    "  </head>\n",
    "  <body>\n",
    "    <h1>{{page_name}}</h1>\n",
    "    {{content}}\n",
    "    <hr/>\n",
    "    <a href=\"/wikicamp/{{page_name}}/edit\">Edit\tthis page?</a>\n",
    "  </body>\n",
    "```"
   ]
  },
  {
   "cell_type": "markdown",
   "metadata": {},
   "source": [
    "(Git: commit 4)\n",
    "\n",
    "Füllen Sie die Seite   <font color=#008000> *Start*</font>  Start mit dem Text:    <font color=#008000> *Dies ist die Startseite.*</font>  und klicken Sie den   <font color=#008000> *Submit*</font>-Knopf. Die Seite  wird in der Datenbank gespeichert und mit   <font color=#0000e6>templates/view.hmtl</font>  angezeigt. Klicken Sie den Link   <font color=#008000> *Edit this page?*</font>  - es wird erneut der Bearbeitendialog angezeigt.   \n",
    "\n",
    "Wir haben hiermit einen Prototyp eines Wiki-Systems erzeugt mit Änderungen bzw. Erzeugung der folgenden Dateien:  \n",
    "*  <font color=#0000e6>wiki/models.py</font> \n",
    "*  <font color=#0000e6>wiki/views.py</font> \n",
    "*  <font color=#0000e6>wiki.db</font> \n",
    "*  <font color=#0000e6>templates/create.html</font> \n",
    "*  <font color=#0000e6>templates/view.html</font> \n",
    "*  <font color=#0000e6>templates/edit.html</font> \n",
    "*  <font color=#0000e6>settings.py</font> \n",
    "*  <font color=#0000e6>urls.py</font>  "
   ]
  },
  {
   "cell_type": "markdown",
   "metadata": {},
   "source": [
    "#### Bonus (I): Die Django Admin Seite\n",
    "\n",
    "Erzeugen Sie die Datei   <font color=#0000e6>wiki/admin.py</font>  mit folgendem Inhalt, um in der späteren Administrations-Webseite das   <font color=#0000e6>Page</font>-Objekt sichtbar zu machen:\n",
    "```python\n",
    "from wiki.models import Page\n",
    "from django.contrib import admin\n",
    "admin.site.register(Page)\n",
    "```"
   ]
  },
  {
   "cell_type": "markdown",
   "metadata": {},
   "source": [
    "Ein Administrator-Konto kann angelegt werden mit\n",
    "```bash\n",
    "python3 manage.py createsuperuser\n",
    "```"
   ]
  },
  {
   "cell_type": "markdown",
   "metadata": {},
   "source": [
    "Rufen Sie die Administrator-Seite in einem Webbrowser unter der Adresse http://localhost:9090/admin auf und loggen Sie sich mit dem eben gesetzten Nutzernamen und Passwort ein. Sie haben auf der  Administrator-Seite volle Kontrolle über Ihr Projekt und die Daten-Einträge. \n",
    "\n",
    "(Git: commit 5)"
   ]
  },
  {
   "cell_type": "markdown",
   "metadata": {},
   "source": [
    "#### Bonus (II): Markdown\n",
    "Um die Wikiseite nun wie gewohnt mit einer vereinfachten Auszeichungssprache zu editieren, muss jetzt noch das   <font color=#0000ff> **markdown**</font>-Modul einfügt werden. Ändern Sie    <font color=#0000e6>wiki/views.py</font>  wie folgt ab:\n",
    "```python\n",
    ".......\n",
    "import markdown\n",
    ".......\n",
    "def view_page(request, page_name):\n",
    ".......\n",
    "    try:\n",
    "        page = Page.objects.get(pk=page_name)\n",
    "        content = page.content\n",
    "        from django.utils.safestring import mark_safe\n",
    "        c = {\"page_name\": page_name, \"content\": mark_safe(markdown.markdown(content))}\n",
    "        c.update(csrf(request))\n",
    "        return render_to_response(\"view.html\", c)\n",
    ".......\n",
    "```"
   ]
  },
  {
   "cell_type": "markdown",
   "metadata": {},
   "source": [
    " Dies Zeilen bewirken, dass der Text mit   <font color=#0000ff>[Markdown](http://de.wikipedia.org/wiki/Markdown)</font>-Befehlen editiert und dargestellt werden kann.  \n",
    " \n",
    "(Git: commit 6)"
   ]
  }
 ],
 "metadata": {
  "kernelspec": {
   "display_name": "Python 2",
   "language": "python",
   "name": "python2"
  },
  "language_info": {
   "codemirror_mode": {
    "name": "ipython",
    "version": 3
   },
   "file_extension": ".py",
   "mimetype": "text/x-python",
   "name": "python",
   "nbconvert_exporter": "python",
   "pygments_lexer": "ipython3",
   "version": "3.6.9"
  }
 },
 "nbformat": 4,
 "nbformat_minor": 3
}