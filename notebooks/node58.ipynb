{
 "cells": [
  {
   "cell_type": "markdown",
   "metadata": {},
   "source": [
    "[Node 58: JSON – Lightweight Alternative](http://www-static.etp.physik.uni-muenchen.de/kurs/Computing/python2/node58.html)"
   ]
  },
  {
   "cell_type": "markdown",
   "metadata": {},
   "source": [
    "Navigation:\n",
    "\n",
    "**Next:** [Daten I/O – Summary](node59.ipynb) **Up:** [Datenformate II – XML](node53.ipynb) **Previous:** [SAX Parser](node57.ipynb)"
   ]
  },
  {
   "cell_type": "markdown",
   "metadata": {},
   "source": [
    "##  JSON – Lightweight Alternative\n",
    "Zunehmend populär für Datenaustausch wurde in den letzten Jahren JSON (JavaScript Object Notation). JSON-Dokumente sind im Prinzip JavaScript-Anweisungen. Die Syntax ist sehr ähnlich zu Python und etwas kompakter als XML.  Die Daten werden als Python-Dicts bzw. Listen/Dicts von Dicts behandelt.\n",
    "\n",
    "Beispiel (aus [Wikipedia](https://de.wikipedia.org/wiki/JavaScript_Object_Notation)):"
   ]
  },
  {
   "cell_type": "code",
   "execution_count": null,
   "metadata": {},
   "outputs": [],
   "source": [
    "json_str = \"\"\"\n",
    "{\n",
    "  \"Herausgeber\": \"Xema\",\n",
    "  \"Nummer\": \"1234-5678-9012-3456\",\n",
    "  \"Deckung\": 2e+6,\n",
    "  \"Waehrung\": \"EURO\",\n",
    "  \"Inhaber\": {\n",
    "    \"Name\": \"Mustermann\",\n",
    "    \"Vorname\": \"Max\",\n",
    "    \"maennlich\": true,\n",
    "    \"Hobbys\": [ \"Reiten\", \"Golfen\", \"Lesen\" ],\n",
    "    \"Alter\": 42,\n",
    "    \"Kinder\": [],\n",
    "    \"Partner\": null\n",
    "  }\n",
    "}\n",
    "\"\"\""
   ]
  },
  {
   "cell_type": "markdown",
   "metadata": {},
   "source": [
    " In Python verarbeiten:"
   ]
  },
  {
   "cell_type": "code",
   "execution_count": null,
   "metadata": {},
   "outputs": [],
   "source": [
    "import json\n",
    "a = json.loads(json_str)\n",
    "a"
   ]
  },
  {
   "cell_type": "code",
   "execution_count": null,
   "metadata": {},
   "outputs": [],
   "source": [
    "a['Nummer']"
   ]
  },
  {
   "cell_type": "code",
   "execution_count": null,
   "metadata": {},
   "outputs": [],
   "source": [
    "a['Inhaber']['Alter']"
   ]
  },
  {
   "cell_type": "markdown",
   "metadata": {},
   "source": [
    "### JSON and REST API ###\n",
    "\n",
    "Modern communication services do not just exchange data files but provide a much more functional interface, a so-called **API** (Application Programming Interface). \n",
    "\n",
    "Most internet companies (Google, Facebook, ...) provide such an API in addition to their usual Web-portal, this way one can  directly request certain data elements  in a computer program.\n",
    "\n",
    "The REST API (Representational state transfer) is an API that uses HTTP requests for communication with web services.\n",
    "\n",
    "The Python **requests** module is a general http library which also provides  provides REST API functionality \n",
    "\n",
    "#### Simple example: ISS data ####\n",
    "A nice service is provided for the ISS (International Space Station)\n",
    "\n"
   ]
  },
  {
   "cell_type": "code",
   "execution_count": null,
   "metadata": {},
   "outputs": [],
   "source": [
    "# Python module requests \n",
    "import requests\n",
    "response = requests.get(\"http://api.open-notify.org/astros.json\")\n",
    "print(response.status_code)"
   ]
  },
  {
   "cell_type": "code",
   "execution_count": null,
   "metadata": {},
   "outputs": [],
   "source": [
    "# in text form\n",
    "response.text"
   ]
  },
  {
   "cell_type": "code",
   "execution_count": null,
   "metadata": {},
   "outputs": [],
   "source": [
    "# in json\n",
    "j=response.json()\n",
    "print(j)"
   ]
  },
  {
   "cell_type": "code",
   "execution_count": null,
   "metadata": {},
   "outputs": [],
   "source": [
    "print(j['people'])"
   ]
  },
  {
   "cell_type": "markdown",
   "metadata": {},
   "source": [
    "#### Query parameters - ISS transition ####\n",
    "In many cases the endpoint also takes parameters for the query to in order to specify what kind of information one wants to get. The above example http://api.open-notify.org/astros.json takes no parameters, but there is also http://api.open-notify.org/iss-pass.json which takes a geographic location as parameters and returns information when the ISS crosses this location. \n"
   ]
  },
  {
   "cell_type": "code",
   "execution_count": null,
   "metadata": {},
   "outputs": [],
   "source": [
    "parameters = {\n",
    "    # coords of Muenchen\n",
    "    \"lat\": 48.13,\n",
    "    \"lon\": 11.58\n",
    "}\n",
    "response = requests.get(\"http://api.open-notify.org/iss-pass.json\", params=parameters)\n",
    "\n",
    "j=response.json()\n",
    "j"
   ]
  },
  {
   "cell_type": "markdown",
   "metadata": {},
   "source": [
    "\n",
    "\n",
    "\n",
    "You can also **directly query web-page**:\n",
    "http://api.open-notify.org/iss-pass.json?lat=48.13&lon=11.58"
   ]
  },
  {
   "cell_type": "code",
   "execution_count": null,
   "metadata": {},
   "outputs": [],
   "source": [
    "# how to transform epoch-times to readable form\n",
    "times=[a['risetime'] for a in j['response']]\n",
    "from datetime import datetime\n",
    "for t in times:\n",
    "    print(datetime.fromtimestamp(t))"
   ]
  },
  {
   "cell_type": "markdown",
   "metadata": {},
   "source": [
    "#### API authentication ####\n",
    "\n",
    "Only few services offer free access without authentication, most services require some form of registration and authentication. \n",
    "\n",
    "Details go beyond the scope of this course. A nice introduction and overview how to proceed is given at \n",
    "https://rapidapi.com/blog/how-to-use-an-api-with-python/\n",
    "\n",
    "##### Get weather data for Munich #####"
   ]
  },
  {
   "cell_type": "code",
   "execution_count": null,
   "metadata": {},
   "outputs": [],
   "source": [
    "import requests\n",
    "\n",
    "url = \"https://community-open-weather-map.p.rapidapi.com/weather\"\n",
    "\n",
    "querystring = {\"callback\":\"test\",\"id\":\"2172797\",\n",
    "               \"units\":\"metric\",\"q\":\"Muenchen,de\"}\n",
    "\n",
    "# needs proper key to work\n",
    "headers = {\n",
    "    'x-rapidapi-host': \"community-open-weather-map.p.rapidapi.com\",\n",
    "    'x-rapidapi-key': \"XXX-insert-key-from-registration-XXX\"\n",
    "    }\n",
    "\n",
    "response = requests.request(\"GET\", url, headers=headers, params=querystring)\n",
    "\n",
    "print(response.text)"
   ]
  }
 ],
 "metadata": {
  "kernelspec": {
   "display_name": "Python 3",
   "language": "python",
   "name": "python3"
  },
  "language_info": {
   "codemirror_mode": {
    "name": "ipython",
    "version": 3
   },
   "file_extension": ".py",
   "mimetype": "text/x-python",
   "name": "python",
   "nbconvert_exporter": "python",
   "pygments_lexer": "ipython3",
   "version": "3.8.5"
  }
 },
 "nbformat": 4,
 "nbformat_minor": 3
}
