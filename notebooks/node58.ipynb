{
 "cells": [
  {
   "cell_type": "markdown",
   "metadata": {},
   "source": [
    "[Node 58: JSON – Lightweight Alternative](http://www-static.etp.physik.uni-muenchen.de/kurs/Computing/python2/node58.html)"
   ]
  },
  {
   "cell_type": "markdown",
   "metadata": {},
   "source": [
    "Navigation:\n",
    "\n",
    "**Next:** [Daten I/O – Summary](node59.ipynb) **Up:** [Datenformate II – XML](node53.ipynb) **Previous:** [SAX Parser](node57.ipynb)"
   ]
  },
  {
   "cell_type": "markdown",
   "metadata": {},
   "source": [
    "##  JSON – Lightweight Alternative\n",
    "Zunehmend populär für Datenaustausch wurde in den letzten Jahren JSON (JavaScript Object Notation). JSON-Dokumente sind im Prinzip JavaScript-Anweisungen. Die Syntax ist sehr ähnlich zu Python und etwas kompakter als XML.  Die Daten werden als Python-Dicts bzw. Listen/Dicts von Dicts behandelt.\n",
    "\n",
    "Beispiel (aus [Wikipedia](https://de.wikipedia.org/wiki/JavaScript_Object_Notation)):"
   ]
  },
  {
   "cell_type": "code",
   "execution_count": null,
   "metadata": {},
   "outputs": [],
   "source": [
    "json_str = \"\"\"\n",
    "{\n",
    "  \"Herausgeber\": \"Xema\",\n",
    "  \"Nummer\": \"1234-5678-9012-3456\",\n",
    "  \"Deckung\": 2e+6,\n",
    "  \"Waehrung\": \"EURO\",\n",
    "  \"Inhaber\": {\n",
    "    \"Name\": \"Mustermann\",\n",
    "    \"Vorname\": \"Max\",\n",
    "    \"maennlich\": true,\n",
    "    \"Hobbys\": [ \"Reiten\", \"Golfen\", \"Lesen\" ],\n",
    "    \"Alter\": 42,\n",
    "    \"Kinder\": [],\n",
    "    \"Partner\": null\n",
    "  }\n",
    "}\n",
    "\"\"\""
   ]
  },
  {
   "cell_type": "markdown",
   "metadata": {},
   "source": [
    " In Python verarbeiten:"
   ]
  },
  {
   "cell_type": "code",
   "execution_count": null,
   "metadata": {},
   "outputs": [],
   "source": [
    "import json\n",
    "a = json.loads(json_str)\n",
    "a"
   ]
  },
  {
   "cell_type": "code",
   "execution_count": null,
   "metadata": {},
   "outputs": [],
   "source": [
    "a['Nummer']"
   ]
  },
  {
   "cell_type": "code",
   "execution_count": null,
   "metadata": {},
   "outputs": [],
   "source": [
    "a['Inhaber']['Alter']"
   ]
  }
 ],
 "metadata": {
  "kernelspec": {
   "display_name": "Python 3",
   "language": "python",
   "name": "python3"
  },
  "language_info": {
   "codemirror_mode": {
    "name": "ipython",
    "version": 3
   },
   "file_extension": ".py",
   "mimetype": "text/x-python",
   "name": "python",
   "nbconvert_exporter": "python",
   "pygments_lexer": "ipython3",
   "version": "3.6.9"
  }
 },
 "nbformat": 4,
 "nbformat_minor": 3
}