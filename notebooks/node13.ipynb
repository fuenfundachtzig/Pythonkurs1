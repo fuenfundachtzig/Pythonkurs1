{
 "cells": [
  {
   "cell_type": "markdown",
   "metadata": {},
   "source": [
    "[Node 13: Python und C/C++](http://www-static.etp.physik.uni-muenchen.de/kurs/Computing/python2/node13.html)"
   ]
  },
  {
   "cell_type": "markdown",
   "metadata": {},
   "source": [
    "Navigation:\n",
    "\n",
    "**Next:** [ctypes](node14.ipynb) **Up:** [PYTHON2 Kurs](node0.ipynb) **Previous:** [Aufgaben](node12.ipynb)"
   ]
  },
  {
   "cell_type": "markdown",
   "metadata": {},
   "source": [
    "#  Python und C/C++\n",
    " In Python bestehen nicht alle Python-Module aus reinem Python-Code.  Vielmehr rufen viele Module im Hintergrund Funktionen eine C- oder  C++-Biliothek auf. So gut wie jede Biliothek ist potentiell von Python aus aufrufbar, wie z.B. GUI-Toolkits. Wie man aus Python C-Biliotheken aufruft, ist in der Python-Dokumentation in folgenden Kapiteln beschrieben:  \n",
    "* [Extending and Embedding the Python Interpreter](http://docs.python.org/extending/index.html)\n",
    "* [Python/C API Reference Manual](http://docs.python.org/c-api/index.html)\n",
    "\n",
    "Hier sollen die zwei Module   <font color=#0000ff> **ctypes**</font>  und   <font color=#0000ff> **SWIG**</font>   besprochen werden, die  Interface-Generatoren zur Verfügung stellen und das Arbeiten erheblich vereinfachen und automatisieren.  \n",
    "\n",
    "Verschiedene Kurzbeispiele sind auch auf folgender Seite diskutiert:    <font color=#0000ff>[Calling C/C++ from python](http://stackoverflow.com/questions/145270/calling-c-c-from-python)</font> \n",
    "\n",
    "\n",
    "## Unterkapitel \n",
    "* [ctypes](node14.ipynb)\n",
    "* [SWIG](node15.ipynb)\n",
    "\n",
    "\n"
   ]
  }
 ],
 "metadata": {
  "kernelspec": {
   "display_name": "Python 3",
   "language": "python",
   "name": "python3"
  },
  "language_info": {
   "codemirror_mode": {
    "name": "ipython",
    "version": 3
   },
   "file_extension": ".py",
   "mimetype": "text/x-python",
   "name": "python",
   "nbconvert_exporter": "python",
   "pygments_lexer": "ipython3",
   "version": "3.6.9"
  }
 },
 "nbformat": 4,
 "nbformat_minor": 3
}