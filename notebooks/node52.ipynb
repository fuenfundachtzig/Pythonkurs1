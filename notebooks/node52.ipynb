{
 "cells": [
  {
   "cell_type": "markdown",
   "metadata": {},
   "source": [
    "[Node 52: Aufgaben](http://www-static.etp.physik.uni-muenchen.de/kurs/Computing/python2/node52.html)"
   ]
  },
  {
   "cell_type": "markdown",
   "metadata": {},
   "source": [
    "Navigation:\n",
    "\n",
    "**Next:** [Datenformate II – XML](node53.ipynb) **Up:** [Datenformate – I](node48.ipynb) **Previous:** [SQLite mit sqlite3](node51.ipynb)"
   ]
  },
  {
   "cell_type": "markdown",
   "metadata": {},
   "source": [
    "##  Aufgaben\n",
    "\n",
    "1. Sie haben folgende Daten vorliegen:\n",
    "<pre>\n",
    "Max Mueller 123498765 1.3\n",
    "Lise Meier 123498764 2.0\n",
    "Heinz Schmitt 123498761 1.0\n",
    "Maria Kunz 123498762 3.0\n",
    "Karl Hinz 12349879 3.3\n",
    "Anna Muster 12349878 1.7\n",
    "</pre>\n",
    "\n",
    " Speichern Sie diese Daten in eine ASCII-Datei, definieren Sie einen geeigneten Datentyp, lesen Sie die Daten aus der ASCII-Datei ein, und  speichern diese Daten im   <font color=#0000e6> ``pickle``</font> -Format ab. Lesen sie diese Daten anschliessend wieder aus der   <font color=#0000e6> ``pickle``</font> -Datei ein und überpruefen Sie die Konsistenz der Daten.  \n",
    "\n",
    " Lösung: [test_pickle.py](source/db_test_pickle.py)\n",
    "1. Erzeugen Sie eine Tabelle in   <font color=#0000e6> ``SQLite3``</font>  mit den vorhergehenden Daten und lesen Sie diese mit der   <font color=#0000e6> ``cursor``</font>  Funktion aus.  \n",
    "\n",
    " Lösung: [studenten.schema](source/db_studenten.schema)\n",
    "\n",
    " Lösung: [test_sqlite3.py](source/db_test_sqlite3.py)\n",
    "1. Machen Sie das SQlite/DB Tutorial auf  [ **Software Carpentry: Databases and SQL** ](http://swcarpentry.github.io/sql-novice-survey/index.html). \n",
    "\n",
    " Hier die SQlite Datei mit den Tabellen: [survey.sqlite](source/survey.sqlite)\n",
    "\n"
   ]
  }
 ],
 "metadata": {
  "kernelspec": {
   "display_name": "Python 3",
   "language": "python",
   "name": "python3"
  },
  "language_info": {
   "codemirror_mode": {
    "name": "ipython",
    "version": 3
   },
   "file_extension": ".py",
   "mimetype": "text/x-python",
   "name": "python",
   "nbconvert_exporter": "python",
   "pygments_lexer": "ipython3",
   "version": "3.6.9"
  }
 },
 "nbformat": 4,
 "nbformat_minor": 3
}