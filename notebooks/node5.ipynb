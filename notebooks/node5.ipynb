{
 "cells": [
  {
   "cell_type": "markdown",
   "metadata": {},
   "source": [
    "[Node 5: Python Features](http://www-static.etp.physik.uni-muenchen.de/kurs/Computing/python2/node5.html)"
   ]
  },
  {
   "cell_type": "markdown",
   "metadata": {},
   "source": [
    "Navigation:\n",
    "\n",
    "**Next:** [Python-Grundlagen](node6.ipynb) **Up:** [PYTHON2-Kurs](node0.ipynb) **Previous:** [Computing-Kenntnisse für Physiker](node4.ipynb)"
   ]
  },
  {
   "cell_type": "markdown",
   "metadata": {},
   "source": [
    "#  Python-Features\n",
    "\n",
    "* Python  ist objekt-orientierte, plattform-unabhängige Programmiersprache. Entwickelt Ende der  90er Jahre. \n",
    "* Python ist Interpreter/Skript Sprache, wie   <font color=#008000>Shell-scripts, Perl, Basic</font> , im Gegensatz zu  Compiler–sprachen   <font color=#0000ff>C/C++, Fortran, Cobol, ...,</font>  (JAVA irgendwo dazwischen) \n",
    "* Traditionell werden Interpreter/Skript–Sprachen v.a. für Systemadministration oder Hilfs–macros  (z.B. MS Excel/VB) verwendet.  \n",
    "* Python zunehmend als eigenständige Sprache für Vielzahl von Anwendungsbereichen. \n",
    "* Insbesondere als   <font color=#ff0000> **glue language**</font>  um unterschiedliche Bereiche zu verknüpfen, z.B.   <font color=#008000> *Datennahme via Sensor in C/C++, Zugriff via Web-interfaces, Abspeichern in Datenbank*</font> $\\Rightarrow$ Python ideal zur Verknüpfung   \n",
    "\n",
    "---\n",
    "\n",
    "**Python vs C++** \n",
    "\n",
    "<font color=#0000ff>Pros:</font> \n",
    "* Wohldefinierter, überschaubarer Sprachumfang \n",
    "* Vielzahl von Hilfspaketen zu   <font color=#0000ff>I/O, Networking, Graphik, Databases, ...</font>  in Standarddistribution integriert. \n",
    "* Viele Features in Sprache integriert, die alltägliche Programmieraufgaben wesentlich erleichtern. \n",
    "* Plattform unabhängig \n",
    "* Flache Lernkurve, hohe Programmiereffizienz  \n",
    "\n",
    "<font color=#0000ff>Cons:</font> \n",
    "* Performance–Nachteile  \n",
    "* Hardwarenahe Programmierung erschwert \n",
    "\n",
    "---\n",
    "\n",
    " Python und C++ nicht wirklich Konkurrenz sondern eher komplementär. In Python viele “einfache” Aufgaben  sehr leicht zu lösen. Für zeit-/speicherkritische Probleme C/C++ um Längen besser.   <font color=#008000> *Allerdings: Bei  heutiger Computer–performance nur selten der Fall. Dann am besten heterogene Lösung*</font> \n",
    "\n",
    "\n",
    "\n",
    "---"
   ]
  },
  {
   "cell_type": "code",
   "execution_count": null,
   "metadata": {},
   "outputs": [],
   "source": []
  }
 ],
 "metadata": {
  "kernelspec": {
   "display_name": "Python 3",
   "language": "python",
   "name": "python3"
  },
  "language_info": {
   "codemirror_mode": {
    "name": "ipython",
    "version": 3
   },
   "file_extension": ".py",
   "mimetype": "text/x-python",
   "name": "python",
   "nbconvert_exporter": "python",
   "pygments_lexer": "ipython3",
   "version": "3.6.9"
  }
 },
 "nbformat": 4,
 "nbformat_minor": 3
}