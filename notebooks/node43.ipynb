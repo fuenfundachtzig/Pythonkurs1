{
 "cells": [
  {
   "cell_type": "markdown",
   "metadata": {},
   "source": [
    "[Node 43: Eingebauter Profiler](http://www-static.etp.physik.uni-muenchen.de/kurs/Computing/python2/node43.html)"
   ]
  },
  {
   "cell_type": "markdown",
   "metadata": {},
   "source": [
    "Navigation:\n",
    "\n",
    "**Next:** [Line Profiler](node44.ipynb) **Up:** [Profiling von Programmen](node40.ipynb) **Previous:** [Einfacher Timer](node42.ipynb)"
   ]
  },
  {
   "cell_type": "markdown",
   "metadata": {},
   "source": [
    "##  Eingebauter Profiler\n",
    "Das eingebaute [profile](https://docs.python.org/3/library/profile.html)-Modul zeichnet alle Funktionsaufrufe und deren Ausführzeit auf. Ein einfaches Beispiel demonstriert die Funktionsweise:"
   ]
  },
  {
   "cell_type": "code",
   "execution_count": null,
   "metadata": {},
   "outputs": [],
   "source": [
    "import cProfile\n",
    "import re\n",
    "cProfile.run('re.compile(\"foo|bar\")')"
   ]
  },
  {
   "cell_type": "markdown",
   "metadata": {},
   "source": [
    "Die Bedeutung der einzelnen Spalten ist in der [Dokumentation](https://docs.python.org/3/library/profile.html#instant-user-s-manual) erklärt. Insbesondere:\n",
    "  * `ncalls`: Anzahl Aufrufe\n",
    "  * `tottime`: gesamte Zeit ohne Unterfunktionen\n",
    "  * `cumtime`: gesamte Zeit inklusive Unterfunktionen\n",
    "\n",
    "(Hinweis: Beim zweiten Aufruf ist die Liste wesentlich kürzer, da `re.compile` ein [eingebautes Caching](https://docs.python.org/3/library/re.html#re.compile) hat.)\n",
    "\n",
    "---"
   ]
  },
  {
   "cell_type": "markdown",
   "metadata": {},
   "source": [
    "Der Profiler kann auch auf der Kommandozeile für ein vollständiges Programm angeschaltet werden:\n",
    "```bash\n",
    "python -m cProfile myscript.py\n",
    "```"
   ]
  },
  {
   "cell_type": "markdown",
   "metadata": {},
   "source": [
    "bzw. die Ausgabe in eine Datei umgeleitet werden, die dann mit Tool `gprof2dot` graphisch aufbereitet werden kann:\n",
    "```bash\n",
    "python -m cProfile -o myscript.profile myscript.py\n",
    "```"
   ]
  },
  {
   "cell_type": "markdown",
   "metadata": {},
   "source": [
    "Zur Visualisierung lädt man das Skript `gprof2dot.py` mit folgendem Befehl herunter:\n",
    "```bash\n",
    "git clone https://github.com/jrfonseca/gprof2dot\n",
    "```"
   ]
  },
  {
   "cell_type": "markdown",
   "metadata": {},
   "source": [
    " und erzeugt ein Ablaufdiagramm in der Datei myscript.pdf mit folgendem Befehl:\n",
    "```bash\n",
    "python gprof2dot/gprof2dot.py -f pstats myscript.profile | dot -Tpdf -o myscript.pdf\n",
    "```"
   ]
  },
  {
   "cell_type": "markdown",
   "metadata": {},
   "source": [
    "Ein Beispieldiagramm für das Skript\n",
    "```python\n",
    "import re\n",
    "re.compile(\"foo|bar\")\n",
    "```\n",
    "sieht folgendermaßen aus:\n",
    "![Image script](figures/myscript.svg \"Image script\")"
   ]
  },
  {
   "cell_type": "markdown",
   "metadata": {},
   "source": [
    "Ein etwas ausführlicheres Beispiel, da Profiling mit Hilfe eines Dekorierers einschaltet und eine formatierte Ausgabe erzeugt, ist in folgendem Programmbeispiel gegeben:"
   ]
  },
  {
   "cell_type": "code",
   "execution_count": null,
   "metadata": {},
   "outputs": [],
   "source": [
    "import cProfile\n",
    "def do_cprofile(func):\n",
    "    def profiled_func(*args, **kwargs):\n",
    "        profile = cProfile.Profile()\n",
    "        try:\n",
    "            profile.enable()\n",
    "            res = func(*args, **kwargs)\n",
    "            profile.disable()\n",
    "            return res\n",
    "        finally:\n",
    "            profile.print_stats()\n",
    "    return profiled_func\n",
    "\n",
    "def get_number():\n",
    "    for x in range(5000000):\n",
    "        yield x\n",
    "\n",
    "@do_cprofile\n",
    "def teure_funktion():\n",
    "    for x in get_number():\n",
    "        i = x ^ x ^ x\n",
    "    return 'Ergebnis'\n",
    "\n",
    "# profiling\n",
    "result = teure_funktion()"
   ]
  },
  {
   "cell_type": "markdown",
   "metadata": {},
   "source": [
    "Man erkennt, welche Funktion langsam ist, aber nicht den eigentlichen Grund.  "
   ]
  }
 ],
 "metadata": {
  "kernelspec": {
   "display_name": "Python 3",
   "language": "python",
   "name": "python3"
  },
  "language_info": {
   "codemirror_mode": {
    "name": "ipython",
    "version": 3
   },
   "file_extension": ".py",
   "mimetype": "text/x-python",
   "name": "python",
   "nbconvert_exporter": "python",
   "pygments_lexer": "ipython3",
   "version": "3.6.9"
  }
 },
 "nbformat": 4,
 "nbformat_minor": 3
}