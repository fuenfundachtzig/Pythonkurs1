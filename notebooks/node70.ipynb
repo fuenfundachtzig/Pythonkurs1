{
 "cells": [
  {
   "cell_type": "markdown",
   "metadata": {},
   "source": [
    "[Node 70: Aufgaben](http://www-static.etp.physik.uni-muenchen.de/kurs/Computing/python2/node70.html)"
   ]
  },
  {
   "cell_type": "markdown",
   "metadata": {},
   "source": [
    "Navigation:\n",
    "\n",
    "**Up:** [Web-Programmierung und Django](node67.ipynb) **Previous:** [Web-Framework Django](node69.ipynb)"
   ]
  },
  {
   "cell_type": "markdown",
   "metadata": {},
   "source": [
    "##  Aufgaben\n",
    "\n",
    "  # TODO: Dateien fehlen\n",
    "  \n",
    "* Machen Sie sich mit dem Programm  [ <font color=#0000e6> ``basehttpcalc.py``</font> ](source/basehttpcalc.py) vertraut und  erweiteren Sie dieses mit weiteren Rechenbefehlen.  \n",
    "* Erweitern Sie das   <font color=#0000e6> ``CGIHTTPServer``</font>  Beispiel, indem Sie  Eingabe-Parameter an das CGI-Skript über die HTML-Adresse übergeben und auf der Webseite wieder ausgeben. \n",
    "  Lösung: Erzeugen Sie ein Verzeichnis cgitest, plazieren folgende Datei darin:  [test_cgiserver.py](source/test_cgiserver.py), dann erzeugen Sie ein Unterverzeichnis cgi-bin im Verzeichnis cgitest und plazieren folgende Datei darin: [cgiprintenv.py](source/cgiprintenv.py). Diese Datei muss ausführbar sein. Starten Sie den CGIServer im Verzeichnis cgitest und rufen Sie in  einem Webbrower folgende Adresse auf:   <font color=#0000e6> ``http://localhost:9090/cgi-bin/cgiprintenv.py?42``</font> \n",
    "\n",
    " \n",
    "* Erzeugen Sie eine Index-Seite für die URL    <font color=#0000e6> ``http://localhost:9090/wikicamp/``</font> , die einen Index mit allen verfügbaren Wiki-Seiten der Datenbank anzeigt.  \n",
    "\n",
    " Lösung: [urls.py](source/solutions/django_wiki_urls.py),  [views.py](source/solutions/django_wiki_views.py),  [index.html](source/solutions/django_wiki_index.html)\n"
   ]
  }
 ],
 "metadata": {
  "kernelspec": {
   "display_name": "Python 2",
   "language": "python",
   "name": "python2"
  },
  "language_info": {
   "codemirror_mode": {
    "name": "ipython",
    "version": 3
   },
   "file_extension": ".py",
   "mimetype": "text/x-python",
   "name": "python",
   "nbconvert_exporter": "python",
   "pygments_lexer": "ipython3",
   "version": "3.6.9"
  }
 },
 "nbformat": 4,
 "nbformat_minor": 3
}