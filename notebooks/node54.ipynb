{
 "cells": [
  {
   "cell_type": "markdown",
   "metadata": {},
   "source": [
    "[Node 54: HTML](http://www-static.etp.physik.uni-muenchen.de/kurs/Computing/python2/node54.html)"
   ]
  },
  {
   "cell_type": "markdown",
   "metadata": {},
   "source": [
    "Navigation:\n",
    "\n",
    "**Next:** [XML Basics](node55.ipynb) **Up:** [Datenformate II – XML](node53.ipynb) **Previous:** [Datenformate II – XML](node53.ipynb)"
   ]
  },
  {
   "cell_type": "markdown",
   "metadata": {},
   "source": [
    "##  HTML\n",
    "\n",
    "HTML (Hyper Text Markup Language) -- die Basis für Webseiten...\n",
    " \n",
    "![Image sz](figures/sz.png \"Image sz\")\n",
    "\n",
    "... ist eine Art XML:\n",
    "\n",
    "```html\n",
    "    <title>Nachrichten aus Politik, Kultur, Wirtschaft und Sport - sueddeutsche.de</title>\n",
    "          <meta http-equiv=\"content-type\" content=\"text/html; charset=iso-8859-1\">\n",
    "          ....  \n",
    "    </head>\n",
    "    <p><span>Wilkommen bei Sueddeutsche.de!  Es ist jetzt </span>14.10.2009 <span>um </span>19:42</p>\n",
    "    <ul class=\"nav\">\n",
    "        <li class=\"login\"><a href=\"#\" onclick=\"ns_onclick (this,”,'onclick_navigation.lbox.login','clickin'); return false;\">Login</a></li>\n",
    "        <li class=\"mobil\"><a href=\"http://www.sueddeutsche.de/service/app/187/81106/\" onclick=\"ns_onclick (this,”,'onclick_navigation.lbox.mobil','clickin'); return false;\" rel=\"nofollow\">Mobil</a></li>\n",
    "    </ul>\n",
    "    ...\n",
    "```\n",
    "...etc.\n",
    "\n",
    "Das Layout wird nicht direkt beim Erstellen des Dokuments festgelegt  (wie in Standard-Büroprogrammen), sondern man spezifiziert (= markiert)  mit sogenannten  <font color=#0000ff> **Tags**</font>  bestimmte Kategorien   <font color=#008000> *Überschrift, Tabelle, Liste, ...*</font>,  die in HTML vordefiniert sind.    \n",
    "\n",
    "Interpretation und Darstellung ist dann Sache des Web–Browsers  (bzw. Einstellungen).\n",
    "\n"
   ]
  }
 ],
 "metadata": {
  "kernelspec": {
   "display_name": "Python 3",
   "language": "python",
   "name": "python3"
  },
  "language_info": {
   "codemirror_mode": {
    "name": "ipython",
    "version": 3
   },
   "file_extension": ".py",
   "mimetype": "text/x-python",
   "name": "python",
   "nbconvert_exporter": "python",
   "pygments_lexer": "ipython3",
   "version": "3.6.9"
  }
 },
 "nbformat": 4,
 "nbformat_minor": 3
}