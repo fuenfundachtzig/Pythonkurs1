{
 "cells": [
  {
   "cell_type": "markdown",
   "metadata": {},
   "source": [
    "[Node 51: SQLite mit sqlite3](http://www-static.etp.physik.uni-muenchen.de/kurs/Computing/python2/node51.html)"
   ]
  },
  {
   "cell_type": "markdown",
   "metadata": {},
   "source": [
    "Navigation:\n",
    "\n",
    "**Next:** [Aufgaben](node52.ipynb) **Up:** [Datenformate – I](node48.ipynb) **Previous:** [DB-API 2.0 SQL-Anbindungen](node50.ipynb)"
   ]
  },
  {
   "cell_type": "markdown",
   "metadata": {},
   "source": [
    "##  SQLite mit sqlite3\n",
    "\n",
    "SQLite ist im Gegensatz zu anderen SQL-Datenbanksystemen kein Server sondern eine in    <font color=#0000ff> **C**</font>  geschriebene Bibliothek. Es werden SQL-Abfragen und -Anweisungen unterstützt. Dabei wird eine normale index-sequentielle Datei benutzt. SQLite hat geringe Anforderungen  an CPU und Speicher.    \n",
    " \n",
    "Zu Anfang müssen wir ein Schema, also die Datenbankstruktur, festlegen:"
   ]
  },
  {
   "cell_type": "markdown",
   "metadata": {},
   "source": [
    "```bash\n",
    "laptop:~/python/kurs09$ sqlite3 /tmp/blogdb.sqlite3\n",
    "SQLite version 3.6.10\n",
    "Enter \".help\" for instructions\n",
    "Enter SQL statements terminated with a \";\"\n",
    "sqlite> CREATE table comments (\n",
    "id INTEGER PRIMARY KEY AUTOINCREMENT,\n",
    "subject TEXT,\n",
    "author TEXT,\n",
    "text TEXT\n",
    ");\n",
    "sqlite> .quit\n",
    "```"
   ]
  },
  {
   "cell_type": "markdown",
   "metadata": {},
   "source": [
    " Wir können sie auch aus einer Datei einlesen:"
   ]
  },
  {
   "cell_type": "markdown",
   "metadata": {},
   "source": [
    "```bash\n",
    "laptop:~/python/kurs09$ rm /tmp/blogdb.sqlite3\n",
    "laptop:~/python/kurs09$ sqlite3 /tmp/blogdb.sqlite3 < blogdb.schema\n",
    "```"
   ]
  },
  {
   "cell_type": "markdown",
   "metadata": {},
   "source": [
    "Nun kann man per   <font color=#0000e6> ``INSERT``</font>-Anweisungen Tabellen manuell füllen oder per   <font color=#0000e6> ``SELECT``</font>  Tabellen abfragen.   Wichtige Befehle im sqlite-Kommandozeileninterpreter:  \n",
    "*  <font color=#0000e6> ``.help``</font> \n",
    "*  <font color=#0000e6> ``.schema``</font> : Zeigt Datenbankschema an \n",
    "*  <font color=#0000e6> ``.dump``</font> : Zeigt Schema und Daten einer Datenbank an (Backup)  \n",
    "\n",
    "Werte in Datenbank einfügen:\n",
    "```bash\n",
    "sqlite> INSERT INTO comments VALUES(\n",
    "1,\n",
    "'The Python Blog',\n",
    "'Max Mustermann',\n",
    "'How are you ?'\n",
    ");\n",
    "```\n",
    "```bash\n",
    "sqlite> INSERT INTO comments VALUES(\n",
    "2,\n",
    "'The Perl Blog',\n",
    "'Marie Mustermann',\n",
    "'How are you ?'\n",
    ");\n",
    "```"
   ]
  },
  {
   "cell_type": "markdown",
   "metadata": {},
   "source": [
    " Werte abfragen:"
   ]
  },
  {
   "cell_type": "markdown",
   "metadata": {},
   "source": [
    "```bash\n",
    "sqlite> SELECT subject FROM comments ORDER by author;\n",
    "The Perl Blog\n",
    "The Python Blog\n",
    "sqlite> SELECT subject,text FROM comments ORDER by author;\n",
    "The Perl Blog|How are you ?\n",
    "The Python Blog|How are you ?\n",
    "```"
   ]
  },
  {
   "cell_type": "markdown",
   "metadata": {},
   "source": [
    "### SQlite in Python\n",
    "\n",
    "Verbinden der SQlite-Datenbank in Python mit   <font color=#0000e6> ``sqlite3``</font>-Modul (nicht autocommit-Modus):"
   ]
  },
  {
   "cell_type": "code",
   "execution_count": null,
   "metadata": {},
   "outputs": [],
   "source": [
    "import sqlite3\n",
    "conn = sqlite3.connect('data/blogdb.sqlite3', isolation_level='DEFERRED')\n",
    "conn"
   ]
  },
  {
   "cell_type": "markdown",
   "metadata": {},
   "source": [
    " Wichtige Methoden:  \n",
    "*  <font color=#0000e6> ``close``</font> : Schließt Datenbank-Verdindung. Ist autocommit  ausgeschaltet, werden Transaktionen ohne   <font color=#0000e6> ``commit``</font>  nicht ausgeführt. \n",
    "*  <font color=#0000e6> ``commit``</font> : schließt offene Transaktionen ab und speichert diese  in der Datenbank \n",
    "*  <font color=#0000e6> ``rollback``</font> : Transaktion abbrechen. \n",
    "*  <font color=#0000e6> ``cursor``</font> :   <font color=#0000e6> ``Cursor``</font> -Objekt zur Datenbankabfrage, Daten eintragen, verändern, löschen."
   ]
  },
  {
   "cell_type": "code",
   "execution_count": null,
   "metadata": {},
   "outputs": [],
   "source": [
    "curs = conn.cursor()"
   ]
  },
  {
   "cell_type": "markdown",
   "metadata": {},
   "source": [
    " Wichtige   <font color=#0000e6> ``cursor``</font>  Methoden:  \n",
    "*  <font color=#0000e6> ``close, execute, executemany, fetchone, fetchall``</font>  \n",
    "\n",
    "Daten in Datenbank eintragen:"
   ]
  },
  {
   "cell_type": "code",
   "execution_count": null,
   "metadata": {},
   "outputs": [],
   "source": [
    "curs.execute('INSERT INTO comments VALUES (? , ?, ?, ?)', (None, 'a subject','an author', 'a text'))"
   ]
  },
  {
   "cell_type": "code",
   "execution_count": null,
   "metadata": {},
   "outputs": [],
   "source": [
    "curs.rowcount"
   ]
  },
  {
   "cell_type": "code",
   "execution_count": null,
   "metadata": {},
   "outputs": [],
   "source": [
    "curs.execute('INSERT INTO comments VALUES (? , ?, ?, ?)', (None, 'another subject','another author', 'another text'))"
   ]
  },
  {
   "cell_type": "code",
   "execution_count": null,
   "metadata": {},
   "outputs": [],
   "source": [
    "curs.rowcount"
   ]
  },
  {
   "cell_type": "code",
   "execution_count": null,
   "metadata": {},
   "outputs": [],
   "source": [
    "conn.commit()"
   ]
  },
  {
   "cell_type": "markdown",
   "metadata": {},
   "source": [
    " Aus Sicherheitsgründen (SQL injection vulnerability) sollte immer mit  Platzhaltern '?' gearbeitet werden."
   ]
  },
  {
   "cell_type": "code",
   "execution_count": null,
   "metadata": {},
   "outputs": [],
   "source": [
    "curs.execute('SELECT * FROM comments ORDER BY id')"
   ]
  },
  {
   "cell_type": "code",
   "execution_count": null,
   "metadata": {},
   "outputs": [],
   "source": [
    "curs.rowcount"
   ]
  },
  {
   "cell_type": "markdown",
   "metadata": {},
   "source": [
    "(`rowcount` liefert bei `SELECT` allerdings [immer -1](https://stackoverflow.com/questions/839069/cursor-rowcount-always-1-in-sqlite3-in-python3k) zurück, lässt sich also nicht verwenden, um die Anzahl der gefundenen Ergebnisse abzufragen.)"
   ]
  },
  {
   "cell_type": "code",
   "execution_count": null,
   "metadata": {},
   "outputs": [],
   "source": [
    "curs.fetchone()"
   ]
  },
  {
   "cell_type": "code",
   "execution_count": null,
   "metadata": {},
   "outputs": [],
   "source": [
    "curs.fetchone()"
   ]
  },
  {
   "cell_type": "code",
   "execution_count": null,
   "metadata": {},
   "outputs": [],
   "source": [
    "curs.fetchone()"
   ]
  },
  {
   "cell_type": "code",
   "execution_count": null,
   "metadata": {},
   "outputs": [],
   "source": [
    "curs.fetchone()"
   ]
  },
  {
   "cell_type": "code",
   "execution_count": null,
   "metadata": {},
   "outputs": [],
   "source": [
    "curs.execute('SELECT * FROM comments ORDER BY id')"
   ]
  },
  {
   "cell_type": "code",
   "execution_count": null,
   "metadata": {},
   "outputs": [],
   "source": [
    "result=curs.fetchone()\n",
    "while result is not None:\n",
    "    print (result)\n",
    "    result = curs.fetchone()"
   ]
  },
  {
   "cell_type": "markdown",
   "metadata": {},
   "source": [
    "### Einschub: SQL Vulnerability\n",
    "\n",
    "SQL-Anweisungen sind anfällig gegen Einschleusen weiterer  (potentiell schädlicher) SQL-Kommandos, wie in diesem [XKCD](https://xkcd.com/)-Comic [demonstriert](https://www.explainxkcd.com/wiki/index.php/327:_Exploits_of_a_Mom):\n",
    "\n",
    "[![Image exploits_of_a_mom](https://imgs.xkcd.com/comics/exploits_of_a_mom.png \"Her daughter is named Help I&#39;m trapped in a driver&#39;s license factory.\")](https://xkcd.com/327/)\n",
    "\n",
    "Verwendung von expliziten Platzhaltern (`?` bei unseren `INSERT`s oben) sichert dagegen ab.\n",
    "\n",
    "Aus Speichergründen ist es besser, <font color=#0000e6> ``fetchone``</font>  oder   <font color=#0000e6> ``fetchmany``</font>  zu  verwenden.   \n",
    " \n",
    "Datensätze verändern oder löschen:"
   ]
  },
  {
   "cell_type": "code",
   "execution_count": null,
   "metadata": {},
   "outputs": [],
   "source": [
    "curs.execute('UPDATE comments SET author=? WHERE id=?', ('me',2))"
   ]
  },
  {
   "cell_type": "code",
   "execution_count": null,
   "metadata": {},
   "outputs": [],
   "source": [
    "curs.rowcount"
   ]
  },
  {
   "cell_type": "code",
   "execution_count": null,
   "metadata": {},
   "outputs": [],
   "source": [
    "conn.commit()\n",
    "curs.execute('SELECT * FROM comments WHERE id=?', (2,))"
   ]
  },
  {
   "cell_type": "code",
   "execution_count": null,
   "metadata": {},
   "outputs": [],
   "source": [
    "curs.fetchone()"
   ]
  },
  {
   "cell_type": "code",
   "execution_count": null,
   "metadata": {},
   "outputs": [],
   "source": [
    "curs.execute('DELETE FROM comments WHERE id<?', (3,))"
   ]
  },
  {
   "cell_type": "code",
   "execution_count": null,
   "metadata": {},
   "outputs": [],
   "source": [
    "curs.rowcount"
   ]
  },
  {
   "cell_type": "code",
   "execution_count": null,
   "metadata": {},
   "outputs": [],
   "source": [
    "conn.rollback()\n",
    "curs.execute('SELECT count(*) FROM comments')"
   ]
  },
  {
   "cell_type": "code",
   "execution_count": null,
   "metadata": {},
   "outputs": [],
   "source": [
    "curs.fetchone()"
   ]
  },
  {
   "cell_type": "code",
   "execution_count": null,
   "metadata": {},
   "outputs": [],
   "source": [
    "curs.execute('SELECT * FROM comments ORDER BY id')"
   ]
  },
  {
   "cell_type": "code",
   "execution_count": null,
   "metadata": {},
   "outputs": [],
   "source": [
    "curs.fetchall()"
   ]
  },
  {
   "cell_type": "code",
   "execution_count": null,
   "metadata": {},
   "outputs": [],
   "source": [
    "conn.close()"
   ]
  },
  {
   "cell_type": "markdown",
   "metadata": {},
   "source": [
    "Soweit nur absolute Grundlagen der Datenbanknutzung. \n",
    "<font color=#0000ff> **Relationale Datenbanken**</font>  bieten viele weitere Features und spielen ihre Stärken insbesondere beim Verknüpfen verschiedener Tabellen an, was aber über den Kurs hier hinausgeht.\n",
    "\n",
    "Gute Einführung:  [**Software Carpentry: Databases and SQL**](http://swcarpentry.github.io/sql-novice-survey/index.html)"
   ]
  }
 ],
 "metadata": {
  "kernelspec": {
   "display_name": "Python 3",
   "language": "python",
   "name": "python3"
  },
  "language_info": {
   "codemirror_mode": {
    "name": "ipython",
    "version": 3
   },
   "file_extension": ".py",
   "mimetype": "text/x-python",
   "name": "python",
   "nbconvert_exporter": "python",
   "pygments_lexer": "ipython3",
   "version": "3.6.9"
  }
 },
 "nbformat": 4,
 "nbformat_minor": 3
}