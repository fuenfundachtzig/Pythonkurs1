{
 "cells": [
  {
   "cell_type": "markdown",
   "metadata": {},
   "source": [
    "[Node 39: Aufgaben](http://www-static.etp.physik.uni-muenchen.de/kurs/Computing/python2/node39.html)"
   ]
  },
  {
   "cell_type": "markdown",
   "metadata": {},
   "source": [
    "Navigation:\n",
    "\n",
    "**Next:** [Profiling von Programmen](node40.ipynb) **Up:** [Entwicklung mit Tests](node36.ipynb) **Previous:** [Mit PDB debuggen](node38.ipynb)"
   ]
  },
  {
   "cell_type": "markdown",
   "metadata": {},
   "source": [
    "##  Aufgaben\n",
    "\n",
    "*  **Primzahlen** \n",
    "\n",
    " Schreiben Sie einen Test für den Algorithmus zur Primzahlenberechnung  aus dem ersten Python-Kurs (Siehe Aufgabe 7 (a): [Python-Kurs](http://www-static.etp.physik.uni-muenchen.de/kurs/Computing/python/node26.html), [prim_simple_lsg.py](source/prim_simple_lsg.py))  \n",
    "\n"
   ]
  }
 ],
 "metadata": {
  "kernelspec": {
   "display_name": "Python 2",
   "language": "python",
   "name": "python3"
  },
  "language_info": {
   "codemirror_mode": {
    "name": "ipython",
    "version": 2
   },
   "file_extension": ".py",
   "mimetype": "text/x-python",
   "name": "python",
   "nbconvert_exporter": "python",
   "pygments_lexer": "ipython3",
   "version": "3.5.2"
  }
 },
 "nbformat": 4,
 "nbformat_minor": 3
}