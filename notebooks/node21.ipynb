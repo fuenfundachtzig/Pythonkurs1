{
 "cells": [
  {
   "cell_type": "markdown",
   "metadata": {},
   "source": [
    "[Node 21: Aufgaben](http://www-static.etp.physik.uni-muenchen.de/kurs/Computing/python2/node21.html)"
   ]
  },
  {
   "cell_type": "markdown",
   "metadata": {},
   "source": [
    "Navigation:\n",
    "\n",
    "**Next:** [Numpy, Scipy und Matplotlib](node22.ipynb) **Up:** [Threads and Multi–Processing](node16.ipynb) **Previous:** [Python Multi-Processing](node20.ipynb)"
   ]
  },
  {
   "cell_type": "markdown",
   "metadata": {},
   "source": [
    "##  Aufgaben\n",
    "\n",
    "1.  **BytePrinter** \n",
    "\n",
    "    a) Testen Sie die   <font color=#008000> *BytePrinter*</font>  Klassen. Lassen Sie es  mehrmals hintereinander laufen, um die Zufälligkeit der Abfolge zu sehen. \n",
    "\n",
    "    b) Studieren Sie die Effekte von   <font color=#008000> *sleep()*</font> \n",
    "<!--    c) Ändern Sie die Prioritäten. [nicht unterstützt in Python threading?] -->\n",
    " \n",
    "1.  **Aufzug-Simulation** \n",
    "\n",
    "    Nehmen Sie ein mehrstöckiges Haus an, in dem mehrere  Personen arbeiten. Die Personen wechseln gelegentlich die Etagen und benutzen dazu einen 1–Personen-Fahrstuhl  (also noch kleiner als in Schellingstraße 4...). Jede Person soll in einem eigenen Thread simuliert werden. Die Arbeit zwischen der Aufzugbenutzung wird durch    <font color=#008000> *sleep(some-random-time)*</font>  simuliert. Aufzugfahren ist eine separate Klasse/Methode. Die Fahrzeit wird wiederum mit   <font color=#008000> *sleep()*</font>  proportional zur Distanz simuliert. Mittels   <font color=#008000> *Locking*</font>  kann sichergestellt werden, dass nur eine Person (=Thread) den Aufzug verwendet. Ausgabe der Aktionen mittels `print()`.   Studieren Sie den Einfluss der Zahl der Stockwerke,  Zahl der Beschäftigten, u.a., auf den Durchsatz.   \n",
    "    Einfaches Beispielprogramm: [<font color=#0000ff>AufzugSim.py</font>](source/AufzugSim.py)\n",
    "\n",
    "1.  **Multi-Threading und Multi-Processing** \n",
    "\n",
    "    Testen Sie die verschiedenen Varianten des Programms zur Berechnung von Pi für  Multi-Threading ([``randpi.py``](source/randpi.py))  und Multi-Processing ([``randpiMP.py``](source/randpiMP.py), [``randpiMP2.py``](source/randpiMP2.py)).   \n",
    "\n",
    "<!-- rausgenommen, weil Beispiel geändert (altes siehe node18orig)\n",
    "1.  **Synchronisation** \n",
    "\n",
    " Gehen Sie das   <font color=#008000> *CounterThread*</font>-Beispiel durch, wie kann es dazu kommen, dass ein Thread in eine Endlosschleife gerät ? \n",
    "\n",
    "Überzeugen Sie sich von der Wirkung des   <font color=#008000> *Locking*</font>  Mechanismus.  \n",
    "-->\n"
   ]
  }
 ],
 "metadata": {
  "kernelspec": {
   "display_name": "Python 3",
   "language": "python",
   "name": "python3"
  },
  "language_info": {
   "codemirror_mode": {
    "name": "ipython",
    "version": 3
   },
   "file_extension": ".py",
   "mimetype": "text/x-python",
   "name": "python",
   "nbconvert_exporter": "python",
   "pygments_lexer": "ipython3",
   "version": "3.6.9"
  }
 },
 "nbformat": 4,
 "nbformat_minor": 3
}