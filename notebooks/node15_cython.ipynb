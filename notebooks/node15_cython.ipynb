{
 "cells": [
  {
   "cell_type": "markdown",
   "metadata": {},
   "source": [
    "## The Cython Project"
   ]
  },
  {
   "cell_type": "markdown",
   "metadata": {},
   "source": [
    "[Cython](https://cython.org/) (\"C extensions for Python\") is intended as a superset of the Python language, embedding it in a C-based framework that allows to increase the performance of the code by compiling it. Here, we will only look at the usage of Cython within a jupyter notebook, as this is particularly easy.\n",
    "\n",
    "We will reuse the same example function, the mean of the difference of two vectors, from the [Numba notebook](node15_numba.ipynb) to later compare the performance, so let us first define the input vectors again:"
   ]
  },
  {
   "cell_type": "code",
   "execution_count": null,
   "metadata": {},
   "outputs": [],
   "source": [
    "# as before: generate two large vectors\n",
    "import numpy as np\n",
    "l = 10000\n",
    "x = np.random.randn(l)\n",
    "y = np.random.randn(l)"
   ]
  },
  {
   "cell_type": "markdown",
   "metadata": {},
   "source": [
    "Using again NumPy arrays as returned by these functions rather than e.g. Python lists has the advantage that they internally use a very low-level (and contiguous) memory representation so that we can later pass them to the Cython function without having to convert them:"
   ]
  },
  {
   "cell_type": "code",
   "execution_count": null,
   "metadata": {},
   "outputs": [],
   "source": [
    "type(x)"
   ]
  },
  {
   "cell_type": "code",
   "execution_count": null,
   "metadata": {},
   "outputs": [],
   "source": [
    "# first compute with numpy to see what result we should expect:\n",
    "(x-y).mean()"
   ]
  },
  {
   "cell_type": "markdown",
   "metadata": {},
   "source": [
    "As before we need to install and load Cython:"
   ]
  },
  {
   "cell_type": "code",
   "execution_count": null,
   "metadata": {},
   "outputs": [],
   "source": [
    "# cython must have been installed\n",
    "%load_ext Cython\n",
    "# also may need to set include path for C compiler before starting jupyter, e.g.\n",
    "#   export CPATH=/usr/include/python3.5m/\n",
    "# the path must include Python.h"
   ]
  },
  {
   "cell_type": "markdown",
   "metadata": {},
   "source": [
    "By adding the `%%cython` magic cell command, we can tell the jupyter notebook to compile the cell content into a standalone Cython module. The `-a` switch gives us an annotated output that is very useful for debugging and optimization. Lines marked in yellow tell us where interaction with Python (the more (and darker) yellow, the slower the code) occurs, and we can click on any line to see the generated C code."
   ]
  },
  {
   "cell_type": "code",
   "execution_count": null,
   "metadata": {},
   "outputs": [],
   "source": [
    "%%cython -a\n",
    "def compute_mean_distance_cython(x, y):\n",
    "    # computes mean distance over 2 vectors\n",
    "    l = len(x)\n",
    "    s = 0\n",
    "    for idx in range(l):\n",
    "        s = s + (x[idx]-y[idx])\n",
    "    return s / l\n"
   ]
  },
  {
   "cell_type": "code",
   "execution_count": null,
   "metadata": {},
   "outputs": [],
   "source": [
    "# does it work?\n",
    "compute_mean_distance_cython(x, y)"
   ]
  },
  {
   "cell_type": "code",
   "execution_count": null,
   "metadata": {},
   "outputs": [],
   "source": [
    "%%timeit\n",
    "compute_mean_distance_cython(x, y)"
   ]
  },
  {
   "cell_type": "markdown",
   "metadata": {},
   "source": [
    "This is already a bit faster -- but not really optimized as we can see from the many yellow lines above. Let's try to improve. For that we use the new command `cdef` to specify the C-types of variables and pass the input vectors as C arrays ([\"typed memory views\"](https://cython.readthedocs.io/en/latest/src/userguide/memoryviews.html)). We will also disable the bounds checking (although the overhead from this is rather small, as you can test for yourself) with the decorator `boundscheck`."
   ]
  },
  {
   "cell_type": "code",
   "execution_count": null,
   "metadata": {},
   "outputs": [],
   "source": [
    "%%cython -a\n",
    "from cython cimport boundscheck\n",
    "@boundscheck(False)\n",
    "def compute_mean_distance_cython(const double[:] x, const double[:] y):\n",
    "    # computes mean distance over 2 vectors\n",
    "    cdef double s = 0\n",
    "    cdef long l = len(x)\n",
    "    for idx in range(l):\n",
    "        s = s + (x[idx]-y[idx])\n",
    "    return s / l"
   ]
  },
  {
   "cell_type": "code",
   "execution_count": null,
   "metadata": {},
   "outputs": [],
   "source": [
    "compute_mean_distance_cython(x, y)"
   ]
  },
  {
   "cell_type": "code",
   "execution_count": null,
   "metadata": {},
   "outputs": [],
   "source": [
    "%%timeit\n",
    "compute_mean_distance_cython(x, y)"
   ]
  },
  {
   "cell_type": "markdown",
   "metadata": {},
   "source": [
    "This is pretty much as fast as Numba, but was certainly somewhat more effort to arrive at. In both cases this is just a very quick glimpse at what the packages can do so that you know they exist and what they can do for you. To get started with a real-life application you will need to dive deeper into the details of the [documentation](https://cython.readthedocs.io/en/latest/)."
   ]
  },
  {
   "cell_type": "code",
   "execution_count": null,
   "metadata": {},
   "outputs": [],
   "source": []
  }
 ],
 "metadata": {
  "@webio": {
   "lastCommId": null,
   "lastKernelId": null
  },
  "kernelspec": {
   "display_name": "Python 3.5",
   "language": "python",
   "name": "python3.5"
  },
  "language_info": {
   "codemirror_mode": {
    "name": "ipython",
    "version": 3
   },
   "file_extension": ".py",
   "mimetype": "text/x-python",
   "name": "python",
   "nbconvert_exporter": "python",
   "pygments_lexer": "ipython3",
   "version": "3.5.2"
  }
 },
 "nbformat": 4,
 "nbformat_minor": 4
}