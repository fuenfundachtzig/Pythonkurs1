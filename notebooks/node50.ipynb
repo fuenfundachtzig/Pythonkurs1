{
 "cells": [
  {
   "cell_type": "markdown",
   "metadata": {},
   "source": [
    "[Node 50: DB-API 2.0 SQL-Anbindungen](http://www-static.etp.physik.uni-muenchen.de/kurs/Computing/python2/node50.html)"
   ]
  },
  {
   "cell_type": "markdown",
   "metadata": {},
   "source": [
    "Navigation:\n",
    "\n",
    "**Next:** [SQLite mit sqlite3](node51.ipynb) **Up:** [Datenformate – I](node48.ipynb) **Previous:** [Serialisieren mit Pickle](node49.ipynb)"
   ]
  },
  {
   "cell_type": "markdown",
   "metadata": {},
   "source": [
    "##  DB-API 2.0 SQL-Anbindungen\n",
    " Relationale Datenbanken werden in der Regel mit SQL angesteuert.   \n",
    "* Relationale Datenbank: Sammlung von Tabellen in denen Datensätze abgespeichert mit eindeutigem Schlüssel.  \n",
    "* SQL: Structured Query Language, Datenbanksprache zur Definition, Abfrage und Manipulation von Daten in relationalen Datenbanken \n",
    "* Bekannte Datenbanken: SQLite, PostgreSQL, MySQL, Oracle,... \n",
    "* Mit DB-API 2.0 können verschiedene DBs mit gleichem look-and-feel angesprochen werden  \n",
    "\n",
    "Code-Fragment, wie man sich mit einer DB verbindet, eine Tabelle erzeugt,  schreibt und wieder liest:  \n"
   ]
  },
  {
   "cell_type": "markdown",
   "metadata": {},
   "source": [
    "```python\n",
    "# nur zur Illustration, code laeuft nicht\n",
    "import dbapi\n",
    "conn = dbapi.connect(dbname='dbase', host='db.example.com',\n",
    "                     user='dbuser', password='pw')\n",
    "curs = conn.cursor()\n",
    "curs.execute('CREATE TABLE atable ( A INT, B VARCHAR(5) )')\n",
    "curs.execute('INSERT INTO atable VALUES (%s, %s)', (42, 'ABCDE'))\n",
    "curs.execute('INSERT INTO atable VALUES (%s, %s)', (4711, 'ZZZZZ'))\n",
    "conn.commit()\n",
    "conn.close()\n",
    "curs.execute('SELECT * FROM atable ORDER BY A')\n",
    "tpl. curs.fetchone()\n",
    "while tpl is not None:\n",
    "    print (\"A\", tpl[0], \"B\", tpl[1])\n",
    "    tpl.curs.fetchone()\n",
    "```"
   ]
  }
 ],
 "metadata": {
  "kernelspec": {
   "display_name": "Python 3",
   "language": "python",
   "name": "python3"
  },
  "language_info": {
   "codemirror_mode": {
    "name": "ipython",
    "version": 3
   },
   "file_extension": ".py",
   "mimetype": "text/x-python",
   "name": "python",
   "nbconvert_exporter": "python",
   "pygments_lexer": "ipython3",
   "version": "3.6.9"
  }
 },
 "nbformat": 4,
 "nbformat_minor": 3
}