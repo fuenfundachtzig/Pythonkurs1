{
 "cells": [
  {
   "cell_type": "markdown",
   "metadata": {},
   "source": [
    "#### exercise SGE statistic xml"
   ]
  },
  {
   "cell_type": "code",
   "execution_count": null,
   "metadata": {},
   "outputs": [],
   "source": [
    "import urllib.request\n",
    "f=urllib.request.urlopen(\"http://www-static.etp.physik.uni-muenchen.de/kurs/Computing/sw/source/SGE-qstat.xml\")\n",
    "tree = ET.parse(f)\n",
    "root = tree.getroot()\n"
   ]
  },
  {
   "cell_type": "code",
   "execution_count": null,
   "metadata": {},
   "outputs": [],
   "source": [
    "# navigate thru nested lists\n",
    "for j in root[0][:10]:\n",
    "    for ji in j:\n",
    "        if ji.tag =='cpu_usage':\n",
    "            print(ji.tag, ji.text)\n"
   ]
  },
  {
   "cell_type": "code",
   "execution_count": null,
   "metadata": {},
   "outputs": [],
   "source": [
    "# find all elements cpu_usage\n",
    "cpu=root.findall(\".//{*}cpu_usage\")\n",
    "print(cpu[0].text)"
   ]
  },
  {
   "cell_type": "markdown",
   "metadata": {},
   "source": [
    "#### exercise GPS data\n"
   ]
  },
  {
   "cell_type": "code",
   "execution_count": null,
   "metadata": {},
   "outputs": [],
   "source": [
    "import urllib.request\n",
    "f=urllib.request.urlopen(\"http://www-static.etp.physik.uni-muenchen.de/kurs/Computing/sw/source/GPS_example.gpx\")\n",
    "tree = ET.parse(f)\n",
    "root = tree.getroot()\n",
    "#track = root[1][-1] # get track element\n",
    "# get all elements trkpt\n",
    "trkpts=root.findall(\".//{*}trkpt\")"
   ]
  },
  {
   "cell_type": "code",
   "execution_count": null,
   "metadata": {},
   "outputs": [],
   "source": [
    "#\n",
    "for x in trkpts[:10]:   \n",
    "    print (x.attrib['lat'], x[0].text) # print latitude (attribute) and elevation (1st sub-ele)\n"
   ]
  },
  {
   "cell_type": "code",
   "execution_count": null,
   "metadata": {},
   "outputs": [],
   "source": []
  }
 ],
 "metadata": {
  "kernelspec": {
   "display_name": "Python 3",
   "language": "python",
   "name": "python3"
  },
  "language_info": {
   "codemirror_mode": {
    "name": "ipython",
    "version": 3
   },
   "file_extension": ".py",
   "mimetype": "text/x-python",
   "name": "python",
   "nbconvert_exporter": "python",
   "pygments_lexer": "ipython3",
   "version": "3.8.5"
  }
 },
 "nbformat": 4,
 "nbformat_minor": 4
}
