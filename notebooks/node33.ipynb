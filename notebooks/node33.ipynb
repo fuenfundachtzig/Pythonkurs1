{
 "cells": [
  {
   "cell_type": "markdown",
   "metadata": {},
   "source": [
    "[Node 33: Code&Fix – ein Beispiel](http://www-static.etp.physik.uni-muenchen.de/kurs/Computing/python2/node33.html)"
   ]
  },
  {
   "cell_type": "markdown",
   "metadata": {},
   "source": [
    "Navigation:\n",
    "\n",
    "**Next:** [Grundlegende (Objekt–Orientierte) Design –](node34.ipynb) **Up:** [Objektorientiertes Programmieren – Allgemeines](node23.ipynb) **Previous:** [Software Engineering Modelle](node32.ipynb)"
   ]
  },
  {
   "cell_type": "markdown",
   "metadata": {},
   "source": [
    "##  Code&Fix – ein Beispiel\n",
    "Eine simple   <font color=#008000> *C-Funktion*</font>  <font color=#0000e6> ``Copy()``</font> , liest von Tastatur und schreibt auf einen Drucker. \n",
    " \n",
    "**Copy – Version 1**\n",
    "\n",
    "![Image Copy1](figures/UML_Copy1.png \"Image Copy1\")\n",
    "\n",
    "---\n",
    "\n",
    "**Copy – Version 2**  \n",
    "\n",
    "Es wäre schön, auch von Dateien lesen zu können.    <font color=#0000ff> **Aber:**</font>  Es soll   <font color=#ff0000> **backward–compatible**</font>  sein, vorhandene Applikationen  müssen nichts ändern.  \n",
    "\n",
    "![Image Copy2](figures/UML_Copy2.png \"Image Copy2\") <font color=#0000ff> **Globale Variable als Flag**</font> \n",
    "\n",
    "---\n",
    "\n",
    "**Copy – Version 3**  \n",
    " \n",
    "Oh je, da hat sich ein Fehler eingeschlichen: Es soll kein   <font color=#0000e6> ``EOF``</font>  ausgegeben werden!  \n",
    " \n",
    "Bug-fix: \n",
    "\n",
    "![Image Copy3](figures/UML_Copy3.png \"Image Copy3\")\n",
    "\n",
    "---\n",
    "\n",
    "**Copy – Version 4**  \n",
    " \n",
    "Ausgabe in Dateien wäre ja auch noch ganz nett.  Natürlich   <font color=#ff0000> **backward–compatible**</font>, also noch eine globale Variable ! \n",
    " \n",
    "![Image Copy4](figures/UML_Copy4.png \"Image Copy4\") \n",
    "\n",
    "Die Funktion wird immer größer und komplexer, die Verwendung komplizierter ...  \n",
    "\n",
    "---\n",
    "\n",
    " **Copy – Version 5**  \n",
    " \n",
    " Zeit für ein ordentliches Re-design. Eine erfahrene C-Programmiererin zeigt uns, wie  man's richtig macht: \n",
    "\n",
    "![Image Copy5](figures/UML_Copy5.png \"Image Copy5\")\n",
    "\n",
    "OO-like in C:   <font color=#0000e6> ``FILE``</font>  wie Klasse für generische Byte–Streams.   \n",
    "\n",
    "<font color=#ff0000> **ABER:**</font>  Alle Stellen, an denen   <font color=#008000> *Copy()*</font>  verwendet wird, müssen entsprechend angepasst werden!  \n",
    "\n",
    "---\n",
    "\n",
    "Typisches Beispiel, wie Code altert und quasi   <font color=#008000> *vergammelt*</font>.   \n",
    "* einfache, klare Funktion zu Beginn \n",
    "* mehr und mehr Features werden dazugepackt \n",
    "* backward–compatibility erzwingt obskure Konstruktionen  \n",
    "\n",
    "OO-Analyse und -Design:   \n",
    "* Flexible, leicht erweiterbare Systeme \n",
    "* Klar-definierte   <font color=#008000> *responsibility*</font>  einer Klasse/Funktion. \n"
   ]
  }
 ],
 "metadata": {
  "kernelspec": {
   "display_name": "Python 3",
   "language": "python",
   "name": "python3"
  },
  "language_info": {
   "codemirror_mode": {
    "name": "ipython",
    "version": 3
   },
   "file_extension": ".py",
   "mimetype": "text/x-python",
   "name": "python",
   "nbconvert_exporter": "python",
   "pygments_lexer": "ipython3",
   "version": "3.6.9"
  }
 },
 "nbformat": 4,
 "nbformat_minor": 3
}