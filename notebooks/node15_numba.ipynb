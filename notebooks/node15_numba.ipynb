{
 "cells": [
  {
   "cell_type": "markdown",
   "metadata": {},
   "source": [
    "## The Numba Project\n",
    "\n",
    "> Numba is an open source JIT compiler that translates a subset of Python and NumPy code into fast machine code. \n",
    "\n",
    "[Numba](http://numba.pydata.org/) can convert (snippets of) Python code to fast [LLVM](https://llvm.org/) bytecode  (optimized machine code) and thus decrease the execution time compared to standard Python code or even `numpy` routines. \n",
    "It runs on CPUs but can also exploit GPU hardware acceleration and offers advanced features like e.g. support for vectorization or automatic parallelization:\n",
    "* using the `vectorize()` decorator, Numba can compile a pure Python function into a ufunc that operates over NumPy arrays as fast as traditional ufuncs written in C.\n",
    "* the \"parallel\" option attempts to automatically parallelize and perform other optimizations on (part of) a function. At the moment, this feature only works on CPUs."
   ]
  },
  {
   "cell_type": "code",
   "execution_count": null,
   "metadata": {},
   "outputs": [],
   "source": [
    "# generate two large vectors\n",
    "import numpy as np\n",
    "l = 10000\n",
    "x = np.random.randn(l)\n",
    "y = np.random.randn(l)\n",
    "x"
   ]
  },
  {
   "cell_type": "markdown",
   "metadata": {},
   "source": [
    "First, we do the standard approach with a simple `for` loop:"
   ]
  },
  {
   "cell_type": "code",
   "execution_count": null,
   "metadata": {},
   "outputs": [],
   "source": [
    "def compute_mean_distance(x, y):\n",
    "    # computes mean distance over 2 vectors\n",
    "    l = len(x)\n",
    "    s = 0\n",
    "    for idx in range(l):\n",
    "        s = s + (x[idx]-y[idx])\n",
    "    return s / l\n",
    "print(compute_mean_distance(x, y))"
   ]
  },
  {
   "cell_type": "markdown",
   "metadata": {},
   "source": [
    "This is, of course, very slow:"
   ]
  },
  {
   "cell_type": "code",
   "execution_count": null,
   "metadata": {},
   "outputs": [],
   "source": [
    "%%timeit\n",
    "compute_mean_distance(x, y)"
   ]
  },
  {
   "cell_type": "markdown",
   "metadata": {},
   "source": [
    "Next, we will use `numpy`'s \"universal functions\" (`ufunc`s):"
   ]
  },
  {
   "cell_type": "code",
   "execution_count": null,
   "metadata": {},
   "outputs": [],
   "source": [
    "def compute_mean_distance_numpy(x, y):\n",
    "    return (x-y).mean()\n",
    "compute_mean_distance_numpy(x, y)"
   ]
  },
  {
   "cell_type": "code",
   "execution_count": null,
   "metadata": {},
   "outputs": [],
   "source": [
    "%%timeit\n",
    "compute_mean_distance_numpy(x, y)"
   ]
  },
  {
   "cell_type": "markdown",
   "metadata": {},
   "source": [
    "This is much faster as the loop is done at a lower level. \n",
    "\n",
    "Next, we will bring Numba into the game. (Numba needs to be installed first as it is not part of Python. The convention is to import this as `nb`.)"
   ]
  },
  {
   "cell_type": "code",
   "execution_count": null,
   "metadata": {},
   "outputs": [],
   "source": [
    "import numba as nb\n",
    "# Note that we apply this on our handmade, slow for-loop implementation.\n",
    "# jit stands for \"just in time [compilation]\".\n",
    "compute_mean_distance_numba = nb.jit(compute_mean_distance, nopython=True)\n",
    "# by calling the function once here, it will later (when we do the timing) be able to retrieve the compiled code from cache\n",
    "print(compute_mean_distance_numba(x, y))"
   ]
  },
  {
   "cell_type": "markdown",
   "metadata": {},
   "source": [
    "We are instructing Numba here to run in \"no-python mode\", meaning that it will compile the function so that it will run entirely without the involvement of the Python interpreter. This is the recommended and best-practice way to use Numba as it leads to the best performance. \n",
    "\n",
    "Let us now whether this is any faster:"
   ]
  },
  {
   "cell_type": "code",
   "execution_count": null,
   "metadata": {},
   "outputs": [],
   "source": [
    "%%timeit\n",
    "compute_mean_distance_numba(x, y)"
   ]
  },
  {
   "cell_type": "markdown",
   "metadata": {},
   "source": [
    "This is now even faster than the `numpy` version! \n",
    "\n",
    "However, running in \"no-python mode\" will not always work: Numba cannot be used to compile arbitrary Python code, as it supports only a (large) subset of Python syntax. Its main use is thus to speed up numerical algorithms that involve long loops with very little additional effort. Note that we did not even have to rewrite our code or do an additional compilation step."
   ]
  },
  {
   "cell_type": "markdown",
   "metadata": {},
   "source": [
    "Combining `numpy` and `numba` does not bring such a large boost, as the `numpy` code is already optimal (and not Python code):"
   ]
  },
  {
   "cell_type": "code",
   "execution_count": null,
   "metadata": {},
   "outputs": [],
   "source": [
    "compute_mean_distance_numby = nb.jit(compute_mean_distance_numpy, nopython=True)\n",
    "print(compute_mean_distance_numby(x, y))"
   ]
  },
  {
   "cell_type": "code",
   "execution_count": null,
   "metadata": {},
   "outputs": [],
   "source": [
    "%%timeit\n",
    "compute_mean_distance_numby(x, y)"
   ]
  },
  {
   "cell_type": "markdown",
   "metadata": {},
   "source": [
    "In addition, there is some internal overhead from the translation and compilation steps that (invisible to us) are done in the background."
   ]
  },
  {
   "cell_type": "code",
   "execution_count": null,
   "metadata": {},
   "outputs": [],
   "source": []
  }
 ],
 "metadata": {
  "@webio": {
   "lastCommId": null,
   "lastKernelId": null
  },
  "kernelspec": {
   "display_name": "Python 3.6",
   "language": "python",
   "name": "python3"
  },
  "language_info": {
   "codemirror_mode": {
    "name": "ipython",
    "version": 3
   },
   "file_extension": ".py",
   "mimetype": "text/x-python",
   "name": "python",
   "nbconvert_exporter": "python",
   "pygments_lexer": "ipython3",
   "version": "3.6.13"
  }
 },
 "nbformat": 4,
 "nbformat_minor": 4
}