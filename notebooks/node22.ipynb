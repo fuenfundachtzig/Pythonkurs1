{
 "cells": [
  {
   "cell_type": "markdown",
   "metadata": {},
   "source": [
    "[Node 22: Numpy,Scipy und Matplotlib](http://www-static.etp.physik.uni-muenchen.de/kurs/Computing/python2/node22.html)"
   ]
  },
  {
   "cell_type": "markdown",
   "metadata": {},
   "source": [
    "Navigation:\n",
    "\n",
    "**Next:** [Objektorientiertes Programmieren – Allgemeines](node23.ipynb) **Up:** [PYTHON2 Kurs](node0.ipynb) **Previous:** [Aufgaben](node21.ipynb)"
   ]
  },
  {
   "cell_type": "markdown",
   "metadata": {},
   "source": [
    "#  Numpy, Scipy und Matplotlib\n",
    " Es gibt zahlreiche wissenschaftliche Programme, Pakete und Biliotheken, die in verschiedenen Sprachen geschrieben worden sind: Mathematica, Maple, Matlab, Root, Numerical Recipes, etc.  Für große wissenschaftliche Anwendungen sind  oft Ausführgeschwindigkeit wichtig. Es existieren zahlreiche externe Biliotheken auf die mit einer Python API zugegriffen werden kann. Im Folgenden werden kurz folgende  Pakete besprochen:  \n",
    "* numpy \n",
    "* scipy  \n",
    "* matplotlib \n",
    "\n",
    "---\n",
    "\n",
    "Für die Nutzung dieser wissenschaftlichen Pakete  bieten   <font color=#0000ff> **Jupyter Notebooks**</font>  eine tolle interaktive Umgebung, die wir auch für die folgende Diskussion und Beispiele direkt verwenden.  \n",
    "*  <font color=#0000ff> **Jupyter Notebook Introduction**</font>  ([html](http://www-static.etp.physik.uni-muenchen.de/kurs/Computing/python2/nb/nb_intro.html),  [ipynb](nb_intro.ipynb))  \n",
    "*  <font color=#0000ff> **Numpy**</font>  ([html](http://www-static.etp.physik.uni-muenchen.de/kurs/Computing/python2/nb/NumpyIntro.html),  [ipynb](nb_NumpyIntro.ipynb))  \n",
    "*  <font color=#0000ff> **Matplotlib**</font>  ([html](http://www-static.etp.physik.uni-muenchen.de/kurs/Computing/python2/nb/MatplotlibIntro.html),  [ipynb](nb_MatplotlibIntro.ipynb))  \n",
    "*  <font color=#0000ff> **SciPy**</font>  ([html](http://www-static.etp.physik.uni-muenchen.de/kurs/Computing/python2/nb/ScipyIntro.html),  [ipynb](nb_ScipyIntro.ipynb))  \n",
    "*  <font color=#0000ff> **Übungen**</font>  ([html](http://www-static.etp.physik.uni-muenchen.de/kurs/Computing/python2/nb/ScipyExercises.html),  [ipynb](nb_ScipyExercises.ipynb))  \n"
   ]
  }
 ],
 "metadata": {
  "kernelspec": {
   "display_name": "Python 3",
   "language": "python",
   "name": "python3"
  },
  "language_info": {
   "codemirror_mode": {
    "name": "ipython",
    "version": 3
   },
   "file_extension": ".py",
   "mimetype": "text/x-python",
   "name": "python",
   "nbconvert_exporter": "python",
   "pygments_lexer": "ipython3",
   "version": "3.6.9"
  }
 },
 "nbformat": 4,
 "nbformat_minor": 3
}